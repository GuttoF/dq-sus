{
 "cells": [
  {
   "cell_type": "code",
   "execution_count": 1,
   "metadata": {},
   "outputs": [],
   "source": [
    "from pysus.ftp.databases.sinan import SINAN\n",
    "from pathlib import Path\n",
    "pysus_path = Path().resolve().parents[0] / \"data\" / \"raw\"\n",
    "\n",
    "sinan = SINAN().load()  # Loads the files from DATASUS"
   ]
  },
  {
   "cell_type": "code",
   "execution_count": 2,
   "metadata": {},
   "outputs": [
    {
     "data": {
      "text/plain": [
       "{'long_name': 'Doenças e Agravos de Notificação',\n",
       " 'source': 'https://portalsinan.saude.gov.br/',\n",
       " 'description': 'The Notifiable Diseases Information System - Sinan is primarilyfed by the notification and investigation of cases of diseases and conditions listed in the national list of compulsorily notifiable diseases (Consolidation Ordinance No. 4, September 28, 2017, Annex).However, states and municipalities are allowed to include other important health problems in their region, such as difilobotriasis in the municipality of São Paulo. Its effective use enables the dynamic diagnosis of the occurrence of an event in the population, providing evidence for causal explanations of compulsorily notifiable diseases and indicating risks to which people are exposed. This contributes to identifying the epidemiological reality of a specific geographical area. Its systematic, decentralized use contributes to the democratization of information, allowing all healthcare professionals to access and make it available to the community. Therefore, it is a relevant tool to assist in health planning, define intervention priorities, and evaluate the impact of interventions.'}"
      ]
     },
     "execution_count": 2,
     "metadata": {},
     "output_type": "execute_result"
    }
   ],
   "source": [
    "sinan.metadata"
   ]
  },
  {
   "cell_type": "code",
   "execution_count": 3,
   "metadata": {},
   "outputs": [
    {
     "data": {
      "text/plain": [
       "[CHIKBR22.dbc, CHIKBR23.dbc, ZIKABR22.dbc, ZIKABR23.dbc]"
      ]
     },
     "execution_count": 3,
     "metadata": {},
     "output_type": "execute_result"
    }
   ],
   "source": [
    "sinan.get_files(dis_code=[\"ZIKA\", \"CHIK\"], year=[2022, 2023])"
   ]
  },
  {
   "cell_type": "code",
   "execution_count": 5,
   "metadata": {},
   "outputs": [
    {
     "name": "stderr",
     "output_type": "stream",
     "text": [
      "  0%|          | 0/4 [00:00<?, ?it/s]"
     ]
    },
    {
     "name": "stderr",
     "output_type": "stream",
     "text": [
      "ZIKABR23.parquet: 100%|██████████| 17.7k/17.7k [00:00<00:00, 37.6kB/s]\n"
     ]
    },
    {
     "data": {
      "text/plain": [
       "[/Users/guttofranca/Repos/dq-sus/data/raw/CHIKBR22.parquet,\n",
       " /Users/guttofranca/Repos/dq-sus/data/raw/CHIKBR23.parquet,\n",
       " /Users/guttofranca/Repos/dq-sus/data/raw/ZIKABR22.parquet,\n",
       " /Users/guttofranca/Repos/dq-sus/data/raw/ZIKABR23.parquet]"
      ]
     },
     "execution_count": 5,
     "metadata": {},
     "output_type": "execute_result"
    }
   ],
   "source": [
    "files = sinan.get_files(dis_code=[\"ZIKA\", \"CHIK\"], year=[2022, 2023])\n",
    "sinan.download(files, local_dir= str(pysus_path))"
   ]
  }
 ],
 "metadata": {
  "kernelspec": {
   "display_name": ".venv",
   "language": "python",
   "name": "python3"
  },
  "language_info": {
   "codemirror_mode": {
    "name": "ipython",
    "version": 3
   },
   "file_extension": ".py",
   "mimetype": "text/x-python",
   "name": "python",
   "nbconvert_exporter": "python",
   "pygments_lexer": "ipython3",
   "version": "3.12.6"
  }
 },
 "nbformat": 4,
 "nbformat_minor": 2
}
