{
 "cells": [
  {
   "cell_type": "code",
   "execution_count": 1,
   "metadata": {},
   "outputs": [],
   "source": [
    "from pathlib import Path\n",
    "\n",
    "import numpy as np\n",
    "import pandas as pd\n",
    "from pysus.ftp.databases.sinan import SINAN\n",
    "from ydata_profiling import ProfileReport\n",
    "\n",
    "pysus_path = Path().resolve().parents[0] / \"data\" / \"raw\"\n",
    "report_path = Path().resolve().parents[0] / \"reports\"\n",
    "sinan = SINAN().load()  # Loads the files from DATASUS"
   ]
  },
  {
   "cell_type": "code",
   "execution_count": 2,
   "metadata": {},
   "outputs": [],
   "source": [
    "def age_decoder(idade, unidade: str = \"Y\"):\n",
    "    fator = {\"Y\": 1.0, \"M\": 12.0, \"D\": 365.0, \"H\": 365 * 24.0}\n",
    "    idade = int(idade)\n",
    "    if idade >= 4000:\n",
    "        idade_anos = idade - 4000\n",
    "    elif idade >= 3000 and idade < 4000:\n",
    "        idade_anos = (idade - 3000) / 12.0\n",
    "    elif idade >= 2000 and idade < 3000:\n",
    "        idade_anos = (idade - 2000) / 365.0\n",
    "    elif idade >= 1000 and idade < 2000:\n",
    "        idade_anos = (idade - 1000) / (365 * 24.0)\n",
    "    else:\n",
    "        idade_anos = np.nan\n",
    "    idade_dec = idade_anos * fator[unidade]\n",
    "    return idade_dec"
   ]
  },
  {
   "cell_type": "code",
   "execution_count": 3,
   "metadata": {},
   "outputs": [
    {
     "name": "stderr",
     "output_type": "stream",
     "text": [
      "100%|██████████| 300M/300M [00:00<00:00, 121GB/s]\n"
     ]
    },
    {
     "data": {
      "text/plain": [
       "[/Users/guttofranca/Repos/dq-sus/data/raw/DENGBR03.parquet,\n",
       " /Users/guttofranca/Repos/dq-sus/data/raw/DENGBR04.parquet,\n",
       " /Users/guttofranca/Repos/dq-sus/data/raw/DENGBR05.parquet,\n",
       " /Users/guttofranca/Repos/dq-sus/data/raw/DENGBR06.parquet,\n",
       " /Users/guttofranca/Repos/dq-sus/data/raw/DENGBR07.parquet,\n",
       " /Users/guttofranca/Repos/dq-sus/data/raw/DENGBR08.parquet,\n",
       " /Users/guttofranca/Repos/dq-sus/data/raw/DENGBR09.parquet,\n",
       " /Users/guttofranca/Repos/dq-sus/data/raw/DENGBR10.parquet,\n",
       " /Users/guttofranca/Repos/dq-sus/data/raw/DENGBR11.parquet,\n",
       " /Users/guttofranca/Repos/dq-sus/data/raw/DENGBR12.parquet,\n",
       " /Users/guttofranca/Repos/dq-sus/data/raw/DENGBR13.parquet,\n",
       " /Users/guttofranca/Repos/dq-sus/data/raw/DENGBR14.parquet,\n",
       " /Users/guttofranca/Repos/dq-sus/data/raw/DENGBR15.parquet,\n",
       " /Users/guttofranca/Repos/dq-sus/data/raw/DENGBR16.parquet,\n",
       " /Users/guttofranca/Repos/dq-sus/data/raw/DENGBR17.parquet,\n",
       " /Users/guttofranca/Repos/dq-sus/data/raw/DENGBR18.parquet,\n",
       " /Users/guttofranca/Repos/dq-sus/data/raw/DENGBR19.parquet,\n",
       " /Users/guttofranca/Repos/dq-sus/data/raw/DENGBR20.parquet,\n",
       " /Users/guttofranca/Repos/dq-sus/data/raw/DENGBR21.parquet,\n",
       " /Users/guttofranca/Repos/dq-sus/data/raw/DENGBR22.parquet,\n",
       " /Users/guttofranca/Repos/dq-sus/data/raw/DENGBR23.parquet,\n",
       " /Users/guttofranca/Repos/dq-sus/data/raw/DENGBR24.parquet]"
      ]
     },
     "execution_count": 3,
     "metadata": {},
     "output_type": "execute_result"
    }
   ],
   "source": [
    "files = sinan.get_files(\n",
    "    dis_code=[\"DENG\"],\n",
    "    year=[\n",
    "        2003,\n",
    "        2004,\n",
    "        2005,\n",
    "        2006,\n",
    "        2007,\n",
    "        2008,\n",
    "        2009,\n",
    "        2010,\n",
    "        2011,\n",
    "        2012,\n",
    "        2013,\n",
    "        2014,\n",
    "        2015,\n",
    "        2016,\n",
    "        2017,\n",
    "        2018,\n",
    "        2019,\n",
    "        2020,\n",
    "        2021,\n",
    "        2022,\n",
    "        2023,\n",
    "        2024,\n",
    "    ],\n",
    ")\n",
    "sinan.download(files, local_dir=str(pysus_path))"
   ]
  },
  {
   "cell_type": "code",
   "execution_count": 4,
   "metadata": {},
   "outputs": [
    {
     "name": "stdout",
     "output_type": "stream",
     "text": [
      "Data for year 3 loaded into df03!\n",
      "Data for year 4 loaded into df04!\n",
      "Data for year 5 loaded into df05!\n",
      "Data for year 6 loaded into df06!\n",
      "Data for year 7 loaded into df07!\n",
      "Data for year 8 loaded into df08!\n",
      "Data for year 9 loaded into df09!\n",
      "Data for year 10 loaded into df10!\n",
      "Data for year 11 loaded into df11!\n",
      "Data for year 12 loaded into df12!\n",
      "Data for year 13 loaded into df13!\n",
      "Data for year 14 loaded into df14!\n",
      "Data for year 15 loaded into df15!\n",
      "Data for year 16 loaded into df16!\n",
      "Data for year 17 loaded into df17!\n",
      "Data for year 18 loaded into df18!\n",
      "Data for year 19 loaded into df19!\n",
      "Data for year 20 loaded into df20!\n",
      "Data for year 21 loaded into df21!\n",
      "Data for year 22 loaded into df22!\n",
      "Data for year 23 loaded into df23!\n"
     ]
    }
   ],
   "source": [
    "years = range(3, 24)\n",
    "data_frames = {}\n",
    "\n",
    "for year in years:\n",
    "    try:\n",
    "        if year < 10:\n",
    "            file_path = pysus_path / f\"DENGBR0{year}.parquet\"\n",
    "        else:\n",
    "            file_path = pysus_path / f\"DENGBR{year}.parquet\"\n",
    "        \n",
    "        # Nome dinâmico para cada dataframe\n",
    "        df_name = f\"df{year:02}\"\n",
    "        globals()[df_name] = pd.read_parquet(file_path)\n",
    "        \n",
    "        print(f\"Data for year {year} loaded into {df_name}!\")\n",
    "    except FileNotFoundError:\n",
    "        print(f\"Data for year {year} not found!\")\n",
    "    except Exception as e:\n",
    "        print(f\"An error occurred while loading data for year {year}: {e}\")"
   ]
  },
  {
   "cell_type": "code",
   "execution_count": 17,
   "metadata": {},
   "outputs": [],
   "source": [
    "dfs = [df03, df04, df05, df06, df07, df08, df09, df10, df11, df12, df13, df14, df15, df16, df17, df18, df19, df20, df21, df22, df23]\n",
    "anos = list(range(2003, 2024))\n",
    "\n",
    "info = []\n",
    "\n",
    "for i, df in enumerate(dfs):\n",
    "    linhas = df.shape[0]\n",
    "    colunas = df.shape[1]\n",
    "    info.append({'Ano': anos[i], 'Linhas': linhas, 'Colunas': colunas})\n",
    "\n",
    "df_info = pd.DataFrame(info)\n",
    "\n",
    "df_info.to_csv(report_path / \"info.csv\", index=False)"
   ]
  },
  {
   "cell_type": "code",
   "execution_count": 15,
   "metadata": {},
   "outputs": [
    {
     "data": {
      "text/plain": [
       "107"
      ]
     },
     "execution_count": 15,
     "metadata": {},
     "output_type": "execute_result"
    }
   ],
   "source": [
    "df03.shape[1]"
   ]
  },
  {
   "cell_type": "code",
   "execution_count": 10,
   "metadata": {},
   "outputs": [
    {
     "data": {
      "image/png": "[encoded data removed]",
      "text/plain": [
       "<Figure size 1000x600 with 1 Axes>"
      ]
     },
     "metadata": {},
     "output_type": "display_data"
    }
   ],
   "source": [
    "import pandas as pd\n",
    "import matplotlib.pyplot as plt\n",
    "\n",
    "# Lista de dataframes e cores fornecidas\n",
    "dfs = [df03, df04, df05, df06, df07, df08, df09, df10, df11, df12, df13, df14, df15, df16, df17, df18, df19, df20, df21, df22, df23]\n",
    "colors = ['#48B281', '#68D6A3', '#F1EEEE']\n",
    "\n",
    "# Nomes dos dataframes para o gráfico\n",
    "df_names = [f\"df{str(i).zfill(2)}\" for i in range(3, 24)]\n",
    "\n",
    "# Contagem de colunas de cada dataframe\n",
    "col_counts = [df.shape[1] for df in dfs]\n",
    "\n",
    "# Definindo cores de acordo com a condição fornecida\n",
    "bar_colors = []\n",
    "for count in col_counts:\n",
    "    if 0 <= count <= 70:\n",
    "        bar_colors.append(colors[0])\n",
    "    elif 71 <= count <= 118:\n",
    "        bar_colors.append(colors[1])\n",
    "    else:\n",
    "        bar_colors.append(colors[2])\n",
    "\n",
    "# Criando o gráfico de barras\n",
    "plt.figure(figsize=(10, 6))\n",
    "bars = plt.bar(df_names, col_counts, color=bar_colors)\n",
    "\n",
    "# Adicionando título e rótulos\n",
    "plt.title('Quantidade de Colunas por DataFrame')\n",
    "plt.xlabel('DataFrames')\n",
    "plt.ylabel('Número de Colunas')\n",
    "\n",
    "# Exibindo o gráfico\n",
    "plt.xticks(rotation=45, ha='right')\n",
    "plt.tight_layout()\n",
    "plt.show()"
   ]
  },
  {
   "cell_type": "code",
   "execution_count": 31,
   "metadata": {},
   "outputs": [
    {
     "name": "stderr",
     "output_type": "stream",
     "text": [
      "/var/folders/kc/y5hh5_bn22j6r537j07tch180000gn/T/ipykernel_7643/491881542.py:28: UserWarning: FigureCanvasAgg is non-interactive, and thus cannot be shown\n",
      "  plt.show()\n"
     ]
    }
   ],
   "source": [
    "from matplotlib import pyplot as plt\n",
    "\n",
    "years_with_data = list(data_frames.keys())\n",
    "num_columns = [len(df.columns) for df in data_frames.values()]\n",
    "\n",
    "colors = ['#48B281', '#68D6A3', '#F1EEEE']\n",
    "\n",
    "plt.figure(figsize=(12, 7))\n",
    "\n",
    "for i, year in enumerate(years_with_data):\n",
    "    if 7 <= num_columns[i] <= 9:\n",
    "        color = colors[0]\n",
    "    elif 10 <= num_columns[i] <= 11:\n",
    "        color = colors[1]\n",
    "    else:\n",
    "        color = colors[2]\n",
    "    plt.bar(year, num_columns[i], color=color, edgecolor=colors[2])\n",
    "\n",
    "plt.xlabel('Ano', fontsize=14)\n",
    "plt.ylabel('Número de Colunas', fontsize=14)\n",
    "plt.title('Número de Colunas em Cada DataFrame por Ano', fontsize=16)\n",
    "plt.xticks(years_with_data, rotation=45)\n",
    "plt.grid(axis='y', linestyle='--', color=colors[2], alpha=0.7)\n",
    "\n",
    "plt.legend(['7-9 Colunas', '10-11 Colunas', 'Acima de 11 Colunas'], loc='upper left', fontsize=12)\n",
    "\n",
    "plt.tight_layout()\n",
    "plt.show()"
   ]
  },
  {
   "cell_type": "code",
   "execution_count": 12,
   "metadata": {},
   "outputs": [
    {
     "data": {
      "text/plain": [
       "107"
      ]
     },
     "execution_count": 12,
     "metadata": {},
     "output_type": "execute_result"
    }
   ],
   "source": [
    "df03.shape[1]"
   ]
  },
  {
   "cell_type": "code",
   "execution_count": null,
   "metadata": {},
   "outputs": [],
   "source": []
  }
 ],
 "metadata": {
  "kernelspec": {
   "display_name": ".venv",
   "language": "python",
   "name": "python3"
  },
  "language_info": {
   "codemirror_mode": {
    "name": "ipython",
    "version": 3
   },
   "file_extension": ".py",
   "mimetype": "text/x-python",
   "name": "python",
   "nbconvert_exporter": "python",
   "pygments_lexer": "ipython3",
   "version": "3.12.6"
  }
 },
 "nbformat": 4,
 "nbformat_minor": 2
}
