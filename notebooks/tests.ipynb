{
 "cells": [
  {
   "cell_type": "code",
   "execution_count": 40,
   "metadata": {},
   "outputs": [],
   "source": [
    "from pathlib import Path\n",
    "\n",
    "import pandas as pd\n",
    "from pysus.online_data import SINAN\n",
    "\n",
    "metadata = SINAN.metadata_df(\"DENG\")"
   ]
  },
  {
   "cell_type": "code",
   "execution_count": 41,
   "metadata": {},
   "outputs": [],
   "source": [
    "path = Path().resolve().parents[0] / \"data\" / \"raw\"\n",
    "path.mkdir(parents=True, exist_ok=True)"
   ]
  },
  {
   "cell_type": "code",
   "execution_count": 42,
   "metadata": {},
   "outputs": [],
   "source": [
    "experiment_path = (\n",
    "    Path().resolve().parents[0] / \"src\" / \"data\" / \"parquet\" / \"CHIKBR23.parquet\"\n",
    ")"
   ]
  },
  {
   "cell_type": "code",
   "execution_count": 43,
   "metadata": {},
   "outputs": [
    {
     "data": {
      "text/html": [
       "<div>\n",
       "<style scoped>\n",
       "    .dataframe tbody tr th:only-of-type {\n",
       "        vertical-align: middle;\n",
       "    }\n",
       "\n",
       "    .dataframe tbody tr th {\n",
       "        vertical-align: top;\n",
       "    }\n",
       "\n",
       "    .dataframe thead th {\n",
       "        text-align: right;\n",
       "    }\n",
       "</style>\n",
       "<table border=\"1\" class=\"dataframe\">\n",
       "  <thead>\n",
       "    <tr style=\"text-align: right;\">\n",
       "      <th></th>\n",
       "      <th>Nome do campo</th>\n",
       "      <th>Campo</th>\n",
       "      <th>Tipo</th>\n",
       "      <th>Categoria</th>\n",
       "      <th>Descrição</th>\n",
       "      <th>Características</th>\n",
       "      <th>DBF</th>\n",
       "    </tr>\n",
       "  </thead>\n",
       "  <tbody>\n",
       "    <tr>\n",
       "      <th>0</th>\n",
       "      <td>2-Agravo/doença</td>\n",
       "      <td>NaN</td>\n",
       "      <td>VARCHAR(1)</td>\n",
       "      <td>1-Dengue\\n2-Chikungunya</td>\n",
       "      <td>Especifica a suspeição do agravo.</td>\n",
       "      <td>Campo Obrigatório\\nPreenchendo o código,\\na de...</td>\n",
       "      <td>ID_AGRAVO</td>\n",
       "    </tr>\n",
       "    <tr>\n",
       "      <th>1</th>\n",
       "      <td>31-Data da Investigação</td>\n",
       "      <td>dt_investigacao</td>\n",
       "      <td>DATE</td>\n",
       "      <td>NaN</td>\n",
       "      <td>Informar a data da investigação</td>\n",
       "      <td>Campo obrigatório\\n- Não aceitar Data da\\ninve...</td>\n",
       "      <td>DT_INVEST</td>\n",
       "    </tr>\n",
       "    <tr>\n",
       "      <th>2</th>\n",
       "      <td>32- Ocupação/ramo de atividade econômica</td>\n",
       "      <td>co_cbo_ocupacao</td>\n",
       "      <td>VARCHAR(6)</td>\n",
       "      <td>NaN</td>\n",
       "      <td>Informar a atividade exercida pelo paciente no...</td>\n",
       "      <td>NaN</td>\n",
       "      <td>ID_OCUPA_N</td>\n",
       "    </tr>\n",
       "    <tr>\n",
       "      <th>3</th>\n",
       "      <td>33- Sinais clínicos (Febre)</td>\n",
       "      <td>NaN</td>\n",
       "      <td>VARCHAR(1)</td>\n",
       "      <td>1 – Sim\\n2 – Não</td>\n",
       "      <td>Informar qual sinal clínico ou achados\\nlabora...</td>\n",
       "      <td>Campo obrigatório</td>\n",
       "      <td>FEBRE</td>\n",
       "    </tr>\n",
       "    <tr>\n",
       "      <th>4</th>\n",
       "      <td>33- Sinais clínicos (Mialgia)</td>\n",
       "      <td>NaN</td>\n",
       "      <td>VARCHAR(1)</td>\n",
       "      <td>1 – Sim\\n2 – Não</td>\n",
       "      <td>Informar qual sinal clínico ou achados\\nlabora...</td>\n",
       "      <td>Campo obrigatório</td>\n",
       "      <td>MIALGIA</td>\n",
       "    </tr>\n",
       "    <tr>\n",
       "      <th>...</th>\n",
       "      <td>...</td>\n",
       "      <td>...</td>\n",
       "      <td>...</td>\n",
       "      <td>...</td>\n",
       "      <td>...</td>\n",
       "      <td>...</td>\n",
       "      <td>...</td>\n",
       "    </tr>\n",
       "    <tr>\n",
       "      <th>83</th>\n",
       "      <td>70- Dengue grave (Alteração da consciência)</td>\n",
       "      <td>NaN</td>\n",
       "      <td>VARCHAR(1)</td>\n",
       "      <td>1 – Sim\\n2 – Não</td>\n",
       "      <td>Informar qual sinal de gravidade foi\\nencontrado</td>\n",
       "      <td>Campo obrigatório\\nSe campo 62-\\nClassificação...</td>\n",
       "      <td>GRAV_CONSC</td>\n",
       "    </tr>\n",
       "    <tr>\n",
       "      <th>84</th>\n",
       "      <td>70- Dengue grave (Outros órgãos)</td>\n",
       "      <td>NaN</td>\n",
       "      <td>NaN</td>\n",
       "      <td>NaN</td>\n",
       "      <td>Informar qual sinal de gravidade foi\\nencontrado</td>\n",
       "      <td>Campo obrigatório\\nSe campo 62-\\nClassificação...</td>\n",
       "      <td>GRAV_ORGAO</td>\n",
       "    </tr>\n",
       "    <tr>\n",
       "      <th>85</th>\n",
       "      <td>71- Dengue grave Data de início dos sintomas</td>\n",
       "      <td>NaN</td>\n",
       "      <td>DATE</td>\n",
       "      <td>NaN</td>\n",
       "      <td>Informar data de início dos sinais de alarme.\\...</td>\n",
       "      <td>Campo obrigatório\\nSe campo 62-\\nClassificação...</td>\n",
       "      <td>DT_GRAV</td>\n",
       "    </tr>\n",
       "    <tr>\n",
       "      <th>86</th>\n",
       "      <td>Informações complementares e observações adici...</td>\n",
       "      <td>ds_observacao</td>\n",
       "      <td>VARCHAR(255)</td>\n",
       "      <td>NaN</td>\n",
       "      <td>Informações complementares e observações\\nadic...</td>\n",
       "      <td>Habilitado para todas\\nnotificações</td>\n",
       "      <td>DS_OBS</td>\n",
       "    </tr>\n",
       "    <tr>\n",
       "      <th>87</th>\n",
       "      <td>NaN</td>\n",
       "      <td>NaN</td>\n",
       "      <td>NaN</td>\n",
       "      <td>NaN</td>\n",
       "      <td>NaN</td>\n",
       "      <td>NaN</td>\n",
       "      <td>NaN</td>\n",
       "    </tr>\n",
       "  </tbody>\n",
       "</table>\n",
       "<p>88 rows × 7 columns</p>\n",
       "</div>"
      ],
      "text/plain": [
       "                                        Nome do campo            Campo  \\\n",
       "0                                     2-Agravo/doença              NaN   \n",
       "1                             31-Data da Investigação  dt_investigacao   \n",
       "2            32- Ocupação/ramo de atividade econômica  co_cbo_ocupacao   \n",
       "3                         33- Sinais clínicos (Febre)              NaN   \n",
       "4                       33- Sinais clínicos (Mialgia)              NaN   \n",
       "..                                                ...              ...   \n",
       "83        70- Dengue grave (Alteração da consciência)              NaN   \n",
       "84                   70- Dengue grave (Outros órgãos)              NaN   \n",
       "85       71- Dengue grave Data de início dos sintomas              NaN   \n",
       "86  Informações complementares e observações adici...    ds_observacao   \n",
       "87                                                NaN              NaN   \n",
       "\n",
       "            Tipo                Categoria  \\\n",
       "0     VARCHAR(1)  1-Dengue\\n2-Chikungunya   \n",
       "1           DATE                      NaN   \n",
       "2     VARCHAR(6)                      NaN   \n",
       "3     VARCHAR(1)         1 – Sim\\n2 – Não   \n",
       "4     VARCHAR(1)         1 – Sim\\n2 – Não   \n",
       "..           ...                      ...   \n",
       "83    VARCHAR(1)         1 – Sim\\n2 – Não   \n",
       "84           NaN                      NaN   \n",
       "85          DATE                      NaN   \n",
       "86  VARCHAR(255)                      NaN   \n",
       "87           NaN                      NaN   \n",
       "\n",
       "                                            Descrição  \\\n",
       "0                   Especifica a suspeição do agravo.   \n",
       "1                     Informar a data da investigação   \n",
       "2   Informar a atividade exercida pelo paciente no...   \n",
       "3   Informar qual sinal clínico ou achados\\nlabora...   \n",
       "4   Informar qual sinal clínico ou achados\\nlabora...   \n",
       "..                                                ...   \n",
       "83   Informar qual sinal de gravidade foi\\nencontrado   \n",
       "84   Informar qual sinal de gravidade foi\\nencontrado   \n",
       "85  Informar data de início dos sinais de alarme.\\...   \n",
       "86  Informações complementares e observações\\nadic...   \n",
       "87                                                NaN   \n",
       "\n",
       "                                      Características         DBF  \n",
       "0   Campo Obrigatório\\nPreenchendo o código,\\na de...   ID_AGRAVO  \n",
       "1   Campo obrigatório\\n- Não aceitar Data da\\ninve...   DT_INVEST  \n",
       "2                                                 NaN  ID_OCUPA_N  \n",
       "3                                   Campo obrigatório       FEBRE  \n",
       "4                                   Campo obrigatório     MIALGIA  \n",
       "..                                                ...         ...  \n",
       "83  Campo obrigatório\\nSe campo 62-\\nClassificação...  GRAV_CONSC  \n",
       "84  Campo obrigatório\\nSe campo 62-\\nClassificação...  GRAV_ORGAO  \n",
       "85  Campo obrigatório\\nSe campo 62-\\nClassificação...     DT_GRAV  \n",
       "86                Habilitado para todas\\nnotificações      DS_OBS  \n",
       "87                                                NaN         NaN  \n",
       "\n",
       "[88 rows x 7 columns]"
      ]
     },
     "execution_count": 43,
     "metadata": {},
     "output_type": "execute_result"
    }
   ],
   "source": [
    "metadata"
   ]
  },
  {
   "cell_type": "code",
   "execution_count": 44,
   "metadata": {},
   "outputs": [
    {
     "data": {
      "text/plain": [
       "Index(['Nome do campo', 'Campo', 'Tipo', 'Categoria', 'Descrição',\n",
       "       'Características', 'DBF'],\n",
       "      dtype='object')"
      ]
     },
     "execution_count": 44,
     "metadata": {},
     "output_type": "execute_result"
    }
   ],
   "source": [
    "metadata.columns"
   ]
  },
  {
   "cell_type": "code",
   "execution_count": 45,
   "metadata": {},
   "outputs": [],
   "source": [
    "data = metadata[[\"DBF\", \"Nome do campo\", \"Descrição\", \"Tipo\"]]"
   ]
  },
  {
   "cell_type": "code",
   "execution_count": 46,
   "metadata": {},
   "outputs": [
    {
     "data": {
      "text/html": [
       "<div>\n",
       "<style scoped>\n",
       "    .dataframe tbody tr th:only-of-type {\n",
       "        vertical-align: middle;\n",
       "    }\n",
       "\n",
       "    .dataframe tbody tr th {\n",
       "        vertical-align: top;\n",
       "    }\n",
       "\n",
       "    .dataframe thead th {\n",
       "        text-align: right;\n",
       "    }\n",
       "</style>\n",
       "<table border=\"1\" class=\"dataframe\">\n",
       "  <thead>\n",
       "    <tr style=\"text-align: right;\">\n",
       "      <th></th>\n",
       "      <th>DBF</th>\n",
       "      <th>Nome do campo</th>\n",
       "      <th>Descrição</th>\n",
       "      <th>Tipo</th>\n",
       "    </tr>\n",
       "  </thead>\n",
       "  <tbody>\n",
       "    <tr>\n",
       "      <th>0</th>\n",
       "      <td>ID_AGRAVO</td>\n",
       "      <td>2-Agravo/doença</td>\n",
       "      <td>Especifica a suspeição do agravo.</td>\n",
       "      <td>VARCHAR(1)</td>\n",
       "    </tr>\n",
       "    <tr>\n",
       "      <th>1</th>\n",
       "      <td>DT_INVEST</td>\n",
       "      <td>31-Data da Investigação</td>\n",
       "      <td>Informar a data da investigação</td>\n",
       "      <td>DATE</td>\n",
       "    </tr>\n",
       "    <tr>\n",
       "      <th>2</th>\n",
       "      <td>ID_OCUPA_N</td>\n",
       "      <td>32- Ocupação/ramo de atividade econômica</td>\n",
       "      <td>Informar a atividade exercida pelo paciente no...</td>\n",
       "      <td>VARCHAR(6)</td>\n",
       "    </tr>\n",
       "    <tr>\n",
       "      <th>3</th>\n",
       "      <td>FEBRE</td>\n",
       "      <td>33- Sinais clínicos (Febre)</td>\n",
       "      <td>Informar qual sinal clínico ou achados\\nlabora...</td>\n",
       "      <td>VARCHAR(1)</td>\n",
       "    </tr>\n",
       "    <tr>\n",
       "      <th>4</th>\n",
       "      <td>MIALGIA</td>\n",
       "      <td>33- Sinais clínicos (Mialgia)</td>\n",
       "      <td>Informar qual sinal clínico ou achados\\nlabora...</td>\n",
       "      <td>VARCHAR(1)</td>\n",
       "    </tr>\n",
       "  </tbody>\n",
       "</table>\n",
       "</div>"
      ],
      "text/plain": [
       "          DBF                             Nome do campo  \\\n",
       "0   ID_AGRAVO                           2-Agravo/doença   \n",
       "1   DT_INVEST                   31-Data da Investigação   \n",
       "2  ID_OCUPA_N  32- Ocupação/ramo de atividade econômica   \n",
       "3       FEBRE               33- Sinais clínicos (Febre)   \n",
       "4     MIALGIA             33- Sinais clínicos (Mialgia)   \n",
       "\n",
       "                                           Descrição        Tipo  \n",
       "0                  Especifica a suspeição do agravo.  VARCHAR(1)  \n",
       "1                    Informar a data da investigação        DATE  \n",
       "2  Informar a atividade exercida pelo paciente no...  VARCHAR(6)  \n",
       "3  Informar qual sinal clínico ou achados\\nlabora...  VARCHAR(1)  \n",
       "4  Informar qual sinal clínico ou achados\\nlabora...  VARCHAR(1)  "
      ]
     },
     "execution_count": 46,
     "metadata": {},
     "output_type": "execute_result"
    }
   ],
   "source": [
    "data.head()"
   ]
  },
  {
   "cell_type": "code",
   "execution_count": 47,
   "metadata": {},
   "outputs": [],
   "source": [
    "data.to_csv(path / \"metadata.csv\", index=False)"
   ]
  },
  {
   "cell_type": "code",
   "execution_count": 48,
   "metadata": {},
   "outputs": [],
   "source": [
    "dbf_data = data[\"DBF\"].tolist()"
   ]
  },
  {
   "cell_type": "code",
   "execution_count": 49,
   "metadata": {},
   "outputs": [],
   "source": [
    "df = pd.read_parquet(experiment_path)"
   ]
  },
  {
   "cell_type": "code",
   "execution_count": 50,
   "metadata": {},
   "outputs": [],
   "source": [
    "columns_data = df.columns.tolist()"
   ]
  },
  {
   "cell_type": "code",
   "execution_count": 51,
   "metadata": {},
   "outputs": [
    {
     "data": {
      "text/plain": [
       "78"
      ]
     },
     "execution_count": 51,
     "metadata": {},
     "output_type": "execute_result"
    }
   ],
   "source": [
    "comparation = [x for x in dbf_data if x in columns_data]\n",
    "len(comparation)"
   ]
  },
  {
   "cell_type": "code",
   "execution_count": 52,
   "metadata": {},
   "outputs": [
    {
     "data": {
      "text/plain": [
       "88"
      ]
     },
     "execution_count": 52,
     "metadata": {},
     "output_type": "execute_result"
    }
   ],
   "source": [
    "len(dbf_data)"
   ]
  },
  {
   "cell_type": "code",
   "execution_count": 53,
   "metadata": {},
   "outputs": [
    {
     "data": {
      "text/plain": [
       "122"
      ]
     },
     "execution_count": 53,
     "metadata": {},
     "output_type": "execute_result"
    }
   ],
   "source": [
    "len(columns_data)"
   ]
  },
  {
   "cell_type": "code",
   "execution_count": 54,
   "metadata": {},
   "outputs": [],
   "source": [
    "missing_columns_dbf_data = [x for x in columns_data if x not in dbf_data]\n",
    "missing_columns_column_data = [x for x in dbf_data if x not in columns_data]"
   ]
  },
  {
   "cell_type": "code",
   "execution_count": 55,
   "metadata": {},
   "outputs": [
    {
     "data": {
      "text/plain": [
       "['PETÉQUIA_N',\n",
       " 'ÁCIDO_PEPT',\n",
       " 'HOSPITAL',\n",
       " 'DDD_HOSP',\n",
       " 'TEL_HOSP',\n",
       " 'CODISINF',\n",
       " 'CO_BAINF\\nNOBAIINF',\n",
       " 'CLINIC_CHIK',\n",
       " 'DS_OBS',\n",
       " nan]"
      ]
     },
     "execution_count": 55,
     "metadata": {},
     "output_type": "execute_result"
    }
   ],
   "source": [
    "missing_columns_column_data"
   ]
  },
  {
   "cell_type": "code",
   "execution_count": 56,
   "metadata": {},
   "outputs": [
    {
     "name": "stdout",
     "output_type": "stream",
     "text": [
      "['TP_NOT', 'DT_NOTIFIC', 'SEM_NOT', 'NU_ANO', 'SG_UF_NOT', 'ID_MUNICIP', 'ID_REGIONA', 'ID_UNIDADE', 'DT_SIN_PRI', 'SEM_PRI', 'ANO_NASC', 'NU_IDADE_N', 'CS_SEXO', 'CS_GESTANT', 'CS_RACA', 'CS_ESCOL_N', 'SG_UF', 'ID_MN_RESI', 'ID_RG_RESI', 'ID_PAIS', 'PETEQUIA_N', 'ACIDO_PEPT', 'DOENCA_TRA', 'CLINC_CHIK', 'MANI_HEMOR', 'EPISTAXE', 'GENGIVO', 'METRO', 'PETEQUIAS', 'HEMATURA', 'SANGRAM', 'LACO_N', 'PLASMATICO', 'EVIDENCIA', 'PLAQ_MENOR', 'CON_FHD', 'COMPLICA', 'NU_LOTE_I', 'TP_SISTEMA', 'NDUPLIC_N', 'DT_DIGITA', 'CS_FLXRET', 'FLXRECEBI', 'MIGRADO_W']\n"
     ]
    }
   ],
   "source": [
    "print(missing_columns_dbf_data)"
   ]
  },
  {
   "cell_type": "code",
   "execution_count": 57,
   "metadata": {},
   "outputs": [],
   "source": [
    "df_cols = pd.DataFrame(columns_data, columns=[\"columns\"])\n",
    "df_cols.to_csv(path / \"columns_data.csv\", index=False)"
   ]
  },
  {
   "cell_type": "code",
   "execution_count": 58,
   "metadata": {},
   "outputs": [
    {
     "data": {
      "text/html": [
       "<div>\n",
       "<style scoped>\n",
       "    .dataframe tbody tr th:only-of-type {\n",
       "        vertical-align: middle;\n",
       "    }\n",
       "\n",
       "    .dataframe tbody tr th {\n",
       "        vertical-align: top;\n",
       "    }\n",
       "\n",
       "    .dataframe thead th {\n",
       "        text-align: right;\n",
       "    }\n",
       "</style>\n",
       "<table border=\"1\" class=\"dataframe\">\n",
       "  <thead>\n",
       "    <tr style=\"text-align: right;\">\n",
       "      <th></th>\n",
       "      <th>TP_NOT</th>\n",
       "      <th>ID_AGRAVO</th>\n",
       "      <th>DT_NOTIFIC</th>\n",
       "      <th>SEM_NOT</th>\n",
       "      <th>NU_ANO</th>\n",
       "      <th>SG_UF_NOT</th>\n",
       "      <th>ID_MUNICIP</th>\n",
       "      <th>ID_REGIONA</th>\n",
       "      <th>ID_UNIDADE</th>\n",
       "      <th>DT_SIN_PRI</th>\n",
       "      <th>...</th>\n",
       "      <th>PLAQ_MENOR</th>\n",
       "      <th>CON_FHD</th>\n",
       "      <th>COMPLICA</th>\n",
       "      <th>NU_LOTE_I</th>\n",
       "      <th>TP_SISTEMA</th>\n",
       "      <th>NDUPLIC_N</th>\n",
       "      <th>DT_DIGITA</th>\n",
       "      <th>CS_FLXRET</th>\n",
       "      <th>FLXRECEBI</th>\n",
       "      <th>MIGRADO_W</th>\n",
       "    </tr>\n",
       "  </thead>\n",
       "  <tbody>\n",
       "    <tr>\n",
       "      <th>0</th>\n",
       "      <td>2</td>\n",
       "      <td>A92.0</td>\n",
       "      <td>20230417</td>\n",
       "      <td>202316</td>\n",
       "      <td>2023</td>\n",
       "      <td>31</td>\n",
       "      <td>314330</td>\n",
       "      <td>1473</td>\n",
       "      <td>6629296</td>\n",
       "      <td>20230417</td>\n",
       "      <td>...</td>\n",
       "      <td></td>\n",
       "      <td></td>\n",
       "      <td></td>\n",
       "      <td></td>\n",
       "      <td>2</td>\n",
       "      <td></td>\n",
       "      <td>20230420</td>\n",
       "      <td>1</td>\n",
       "      <td></td>\n",
       "      <td></td>\n",
       "    </tr>\n",
       "    <tr>\n",
       "      <th>1</th>\n",
       "      <td>2</td>\n",
       "      <td>A92.0</td>\n",
       "      <td>20230417</td>\n",
       "      <td>202316</td>\n",
       "      <td>2023</td>\n",
       "      <td>31</td>\n",
       "      <td>310850</td>\n",
       "      <td>1473</td>\n",
       "      <td>2172461</td>\n",
       "      <td>20230415</td>\n",
       "      <td>...</td>\n",
       "      <td></td>\n",
       "      <td></td>\n",
       "      <td></td>\n",
       "      <td></td>\n",
       "      <td>2</td>\n",
       "      <td></td>\n",
       "      <td>20230424</td>\n",
       "      <td>0</td>\n",
       "      <td></td>\n",
       "      <td></td>\n",
       "    </tr>\n",
       "    <tr>\n",
       "      <th>2</th>\n",
       "      <td>2</td>\n",
       "      <td>A92.0</td>\n",
       "      <td>20230417</td>\n",
       "      <td>202316</td>\n",
       "      <td>2023</td>\n",
       "      <td>31</td>\n",
       "      <td>310620</td>\n",
       "      <td>1449</td>\n",
       "      <td>0023663</td>\n",
       "      <td>20230417</td>\n",
       "      <td>...</td>\n",
       "      <td></td>\n",
       "      <td></td>\n",
       "      <td></td>\n",
       "      <td></td>\n",
       "      <td>2</td>\n",
       "      <td></td>\n",
       "      <td>20230425</td>\n",
       "      <td>1</td>\n",
       "      <td></td>\n",
       "      <td></td>\n",
       "    </tr>\n",
       "    <tr>\n",
       "      <th>3</th>\n",
       "      <td>2</td>\n",
       "      <td>A92.0</td>\n",
       "      <td>20230417</td>\n",
       "      <td>202316</td>\n",
       "      <td>2023</td>\n",
       "      <td>31</td>\n",
       "      <td>314330</td>\n",
       "      <td>1473</td>\n",
       "      <td>2219255</td>\n",
       "      <td>20230410</td>\n",
       "      <td>...</td>\n",
       "      <td></td>\n",
       "      <td></td>\n",
       "      <td></td>\n",
       "      <td></td>\n",
       "      <td>2</td>\n",
       "      <td></td>\n",
       "      <td>20230418</td>\n",
       "      <td>0</td>\n",
       "      <td></td>\n",
       "      <td></td>\n",
       "    </tr>\n",
       "    <tr>\n",
       "      <th>4</th>\n",
       "      <td>2</td>\n",
       "      <td>A92.0</td>\n",
       "      <td>20230417</td>\n",
       "      <td>202316</td>\n",
       "      <td>2023</td>\n",
       "      <td>31</td>\n",
       "      <td>310620</td>\n",
       "      <td>1449</td>\n",
       "      <td>0023442</td>\n",
       "      <td>20230415</td>\n",
       "      <td>...</td>\n",
       "      <td></td>\n",
       "      <td></td>\n",
       "      <td></td>\n",
       "      <td></td>\n",
       "      <td>2</td>\n",
       "      <td></td>\n",
       "      <td>20230417</td>\n",
       "      <td>1</td>\n",
       "      <td></td>\n",
       "      <td></td>\n",
       "    </tr>\n",
       "  </tbody>\n",
       "</table>\n",
       "<p>5 rows × 122 columns</p>\n",
       "</div>"
      ],
      "text/plain": [
       "  TP_NOT ID_AGRAVO DT_NOTIFIC SEM_NOT NU_ANO SG_UF_NOT ID_MUNICIP ID_REGIONA  \\\n",
       "0      2     A92.0   20230417  202316   2023        31     314330   1473       \n",
       "1      2     A92.0   20230417  202316   2023        31     310850   1473       \n",
       "2      2     A92.0   20230417  202316   2023        31     310620   1449       \n",
       "3      2     A92.0   20230417  202316   2023        31     314330   1473       \n",
       "4      2     A92.0   20230417  202316   2023        31     310620   1449       \n",
       "\n",
       "  ID_UNIDADE DT_SIN_PRI  ... PLAQ_MENOR CON_FHD COMPLICA  NU_LOTE_I  \\\n",
       "0    6629296   20230417  ...                                          \n",
       "1    2172461   20230415  ...                                          \n",
       "2    0023663   20230417  ...                                          \n",
       "3    2219255   20230410  ...                                          \n",
       "4    0023442   20230415  ...                                          \n",
       "\n",
       "  TP_SISTEMA NDUPLIC_N DT_DIGITA CS_FLXRET FLXRECEBI MIGRADO_W  \n",
       "0          2            20230420         1                      \n",
       "1          2            20230424         0                      \n",
       "2          2            20230425         1                      \n",
       "3          2            20230418         0                      \n",
       "4          2            20230417         1                      \n",
       "\n",
       "[5 rows x 122 columns]"
      ]
     },
     "execution_count": 58,
     "metadata": {},
     "output_type": "execute_result"
    }
   ],
   "source": [
    "df.head()"
   ]
  },
  {
   "cell_type": "code",
   "execution_count": 59,
   "metadata": {},
   "outputs": [
    {
     "data": {
      "text/plain": [
       "TP_NOT\n",
       "2    248193\n",
       "Name: count, dtype: int64"
      ]
     },
     "execution_count": 59,
     "metadata": {},
     "output_type": "execute_result"
    }
   ],
   "source": [
    "df[\"TP_NOT\"].value_counts()"
   ]
  },
  {
   "cell_type": "code",
   "execution_count": 60,
   "metadata": {},
   "outputs": [
    {
     "data": {
      "text/plain": [
       "0     \n",
       "1     \n",
       "2     \n",
       "3     \n",
       "4     \n",
       "Name: DOENCA_TRA, dtype: object"
      ]
     },
     "execution_count": 60,
     "metadata": {},
     "output_type": "execute_result"
    }
   ],
   "source": [
    "df[\"DOENCA_TRA\"].head(5)"
   ]
  },
  {
   "cell_type": "code",
   "execution_count": 61,
   "metadata": {},
   "outputs": [
    {
     "data": {
      "text/plain": [
       "0     \n",
       "1     \n",
       "2     \n",
       "3     \n",
       "4     \n",
       "Name: CON_FHD, dtype: object"
      ]
     },
     "execution_count": 61,
     "metadata": {},
     "output_type": "execute_result"
    }
   ],
   "source": [
    "df[\"CON_FHD\"].head(5)"
   ]
  },
  {
   "cell_type": "code",
   "execution_count": 62,
   "metadata": {},
   "outputs": [],
   "source": [
    "import duckdb\n",
    "\n",
    "duckdb_path = Path().resolve().parents[0] / \"src\" / \"data\" / \"db\" / \"db.db\"\n",
    "conn = duckdb.connect(str(duckdb_path))\n",
    "\n",
    "# read the data from conn\n",
    "df2 = conn.table(\"sinan\")"
   ]
  },
  {
   "cell_type": "code",
   "execution_count": 63,
   "metadata": {},
   "outputs": [
    {
     "data": {
      "text/plain": [
       "┌─────────┬───────────┬────────────┬─────────┬─────────┬───────────┬────────────┬────────────┬────────────┬────────────┬─────────┬──────────┬────────────┬─────────┬────────────┬─────────┬────────────┬─────────┬────────────┬────────────┬─────────┬───────────┬────────────┬─────────┬─────────┬──────────┬──────────┬─────────┬─────────┬────────────┬────────────┬─────────┬───────────┬────────────┬────────────┬─────────┬───────────┬──────────┬───────────┬───────────┬─────────┬────────────┬────────────┬────────────┬────────────┬────────────┬──────────┬────────────┬────────────┬────────────┬──────────┬────────────┬──────────┬───────────┬──────────┬────────────┬──────────┬────────────┬──────────┬───────────┬──────────┬────────────┬────────────┬─────────┬───────────┬───────────┬─────────┬───────────┬──────────┬────────────┬──────────┬────────────┬────────────┬──────────┬──────────┬────────────┬────────────┬───────────┬──────────┬───────────┬────────────┬────────────┬────────────┬────────────┬──────────┬──────────┬────────────┬───────────┬───────────┬────────────┬────────────┬────────────┬────────────┬────────────┬────────────┬────────────┬───────────┬──────────┬───────────┬────────────┬────────────┬──────────┬────────────┬──────────┬─────────┬─────────┬───────────┬──────────┬─────────┬─────────┬────────────┬───────────┬────────────┬─────────┬──────────┬───────────┬────────────┬───────────┬───────────┬───────────┬───────────┬───────────┐\n",
       "│ TP_NOT  │ ID_AGRAVO │ DT_NOTIFIC │ SEM_NOT │ NU_ANO  │ SG_UF_NOT │ ID_MUNICIP │ ID_REGIONA │ ID_UNIDADE │ DT_SIN_PRI │ SEM_PRI │ ANO_NASC │ NU_IDADE_N │ CS_SEXO │ CS_GESTANT │ CS_RACA │ CS_ESCOL_N │  SG_UF  │ ID_MN_RESI │ ID_RG_RESI │ ID_PAIS │ DT_INVEST │ ID_OCUPA_N │  FEBRE  │ MIALGIA │ CEFALEIA │ EXANTEMA │ VOMITO  │ NAUSEA  │ DOR_COSTAS │ CONJUNTVIT │ ARTRITE │ ARTRALGIA │ PETEQUIA_N │ LEUCOPENIA │  LACO   │ DOR_RETRO │ DIABETES │ HEMATOLOG │ HEPATOPAT │  RENAL  │ HIPERTENSA │ ACIDO_PEPT │ AUTO_IMUNE │ DT_CHIK_S1 │ DT_CHIK_S2 │ DT_PRNT  │ RES_CHIKS1 │ RES_CHIKS2 │ RESUL_PRNT │ DT_SORO  │ RESUL_SORO │  DT_NS1  │ RESUL_NS1 │ DT_VIRAL │ RESUL_VI_N │  DT_PCR  │ RESUL_PCR_ │ SOROTIPO │ HISTOPA_N │ IMUNOH_N │ HOSPITALIZ │ DT_INTERNA │   UF    │ MUNICIPIO │ TPAUTOCTO │ COUFINF │ COPAISINF │ COMUNINF │ CLASSI_FIN │ CRITERIO │ DOENCA_TRA │ CLINC_CHIK │ EVOLUCAO │ DT_OBITO │ DT_ENCERRA │ ALRM_HIPOT │ ALRM_PLAQ │ ALRM_VOM │ ALRM_SANG │ ALRM_HEMAT │ ALRM_ABDOM │ ALRM_LETAR │ ALRM_HEPAT │ ALRM_LIQ │ DT_ALRM  │ GRAV_PULSO │ GRAV_CONV │ GRAV_ENCH │ GRAV_INSUF │ GRAV_TAQUI │ GRAV_EXTRE │ GRAV_HIPOT │ GRAV_HEMAT │ GRAV_MELEN │ GRAV_METRO │ GRAV_SANG │ GRAV_AST │ GRAV_MIOC │ GRAV_CONSC │ GRAV_ORGAO │ DT_GRAV  │ MANI_HEMOR │ EPISTAXE │ GENGIVO │  METRO  │ PETEQUIAS │ HEMATURA │ SANGRAM │ LACO_N  │ PLASMATICO │ EVIDENCIA │ PLAQ_MENOR │ CON_FHD │ COMPLICA │ NU_LOTE_I │ TP_SISTEMA │ NDUPLIC_N │ DT_DIGITA │ CS_FLXRET │ FLXRECEBI │ MIGRADO_W │\n",
       "│ varchar │  varchar  │  varchar   │ varchar │ varchar │  varchar  │  varchar   │  varchar   │  varchar   │  varchar   │ varchar │ varchar  │  varchar   │ varchar │  varchar   │ varchar │  varchar   │ varchar │  varchar   │  varchar   │ varchar │  varchar  │  varchar   │ varchar │ varchar │ varchar  │ varchar  │ varchar │ varchar │  varchar   │  varchar   │ varchar │  varchar  │  varchar   │  varchar   │ varchar │  varchar  │ varchar  │  varchar  │  varchar  │ varchar │  varchar   │  varchar   │  varchar   │  varchar   │  varchar   │ varchar  │  varchar   │  varchar   │  varchar   │ varchar  │  varchar   │ varchar  │  varchar  │ varchar  │  varchar   │ varchar  │  varchar   │ varchar  │  varchar  │ varchar  │  varchar   │  varchar   │ varchar │  varchar  │  varchar  │ varchar │  varchar  │ varchar  │  varchar   │ varchar  │  varchar   │  varchar   │ varchar  │ varchar  │  varchar   │  varchar   │  varchar  │ varchar  │  varchar  │  varchar   │  varchar   │  varchar   │  varchar   │ varchar  │ varchar  │  varchar   │  varchar  │  varchar  │  varchar   │  varchar   │  varchar   │  varchar   │  varchar   │  varchar   │  varchar   │  varchar  │ varchar  │  varchar  │  varchar   │  varchar   │ varchar  │  varchar   │ varchar  │ varchar │ varchar │  varchar  │ varchar  │ varchar │ varchar │  varchar   │  varchar  │  varchar   │ varchar │ varchar  │  varchar  │  varchar   │  varchar  │  varchar  │  varchar  │  varchar  │  varchar  │\n",
       "├─────────┼───────────┼────────────┼─────────┼─────────┼───────────┼────────────┼────────────┼────────────┼────────────┼─────────┼──────────┼────────────┼─────────┼────────────┼─────────┼────────────┼─────────┼────────────┼────────────┼─────────┼───────────┼────────────┼─────────┼─────────┼──────────┼──────────┼─────────┼─────────┼────────────┼────────────┼─────────┼───────────┼────────────┼────────────┼─────────┼───────────┼──────────┼───────────┼───────────┼─────────┼────────────┼────────────┼────────────┼────────────┼────────────┼──────────┼────────────┼────────────┼────────────┼──────────┼────────────┼──────────┼───────────┼──────────┼────────────┼──────────┼────────────┼──────────┼───────────┼──────────┼────────────┼────────────┼─────────┼───────────┼───────────┼─────────┼───────────┼──────────┼────────────┼──────────┼────────────┼────────────┼──────────┼──────────┼────────────┼────────────┼───────────┼──────────┼───────────┼────────────┼────────────┼────────────┼────────────┼──────────┼──────────┼────────────┼───────────┼───────────┼────────────┼────────────┼────────────┼────────────┼────────────┼────────────┼────────────┼───────────┼──────────┼───────────┼────────────┼────────────┼──────────┼────────────┼──────────┼─────────┼─────────┼───────────┼──────────┼─────────┼─────────┼────────────┼───────────┼────────────┼─────────┼──────────┼───────────┼────────────┼───────────┼───────────┼───────────┼───────────┼───────────┤\n",
       "│ 2       │ A92.0     │ 20230417   │ 202316  │ 2023    │ 31        │ 314330     │ 1473       │ 6629296    │ 20230417   │ 202316  │ 1984     │ 4038       │ M       │ 6          │ 1       │ 9          │ 31      │ 314330     │ 1473       │ 1       │ 20230417  │            │ 1       │ 1       │ 1        │ 2        │ 1       │ 1       │ 1          │ 2          │ 2       │ 1         │ 2          │ 2          │ 2       │ 2         │ 2        │ 2         │ 2         │ 2       │ 2          │ 2          │ 2          │            │            │          │            │            │            │          │            │          │           │          │            │          │            │          │           │          │            │            │         │           │           │         │           │          │ 13         │ 2        │            │ 1          │ 1        │          │ 20230627   │            │           │          │           │            │            │            │            │          │          │            │           │           │            │            │            │            │            │            │            │           │          │           │            │            │          │            │          │         │         │           │          │         │         │            │           │            │         │          │           │ 2          │           │ 20230420  │ 1         │           │           │\n",
       "│ 2       │ A92.0     │ 20230417   │ 202316  │ 2023    │ 31        │ 310850     │ 1473       │ 2172461    │ 20230415   │ 202315  │ 1977     │ 4045       │ F       │ 5          │ 4       │ 8          │ 31      │ 310850     │ 1473       │ 1       │           │            │         │         │          │          │         │         │            │            │         │           │            │            │         │           │          │           │           │         │            │            │            │            │            │          │            │            │            │          │            │          │           │          │            │          │            │          │           │          │            │            │         │           │           │         │           │          │            │          │            │            │          │          │            │            │           │          │           │            │            │            │            │          │          │            │           │           │            │            │            │            │            │            │            │           │          │           │            │            │          │            │          │         │         │           │          │         │         │            │           │            │         │          │           │ 2          │           │ 20230424  │ 0         │           │           │\n",
       "│ 2       │ A92.0     │ 20230417   │ 202316  │ 2023    │ 31        │ 310620     │ 1449       │ 0023663    │ 20230417   │ 202316  │ 2005     │ 4017       │ M       │ 6          │ 1       │ 9          │ 31      │ 310620     │ 1449       │ 1       │ 20230417  │            │ 1       │ 1       │ 1        │ 2        │ 1       │ 1       │ 2          │ 2          │ 2       │ 1         │ 2          │ 2          │ 2       │ 1         │ 2        │ 2         │ 2         │ 2       │ 2          │ 2          │ 2          │            │            │          │            │            │            │          │            │          │           │          │            │          │            │          │           │          │            │            │         │           │           │         │           │          │ 13         │ 2        │            │ 1          │ 1        │          │ 20231010   │            │           │          │           │            │            │            │            │          │          │            │           │           │            │            │            │            │            │            │            │           │          │           │            │            │          │            │          │         │         │           │          │         │         │            │           │            │         │          │           │ 2          │           │ 20230425  │ 1         │           │           │\n",
       "│ 2       │ A92.0     │ 20230417   │ 202316  │ 2023    │ 31        │ 314330     │ 1473       │ 2219255    │ 20230410   │ 202315  │ 2015     │ 4007       │ M       │ 6          │ 4       │ 10         │ 31      │ 314330     │ 1473       │ 1       │ 20230417  │            │ 1       │ 1       │ 1        │ 2        │ 1       │ 2       │ 2          │ 2          │ 2       │ 1         │ 2          │ 2          │ 2       │ 2         │ 2        │ 2         │ 2         │ 2       │ 2          │ 2          │ 2          │ 20230417   │            │          │ 1          │            │            │          │            │          │           │          │            │          │            │          │           │          │            │            │         │           │           │         │           │          │ 13         │ 1        │            │ 1          │ 1        │          │ 20230418   │            │           │          │           │            │            │            │            │          │          │            │           │           │            │            │            │            │            │            │            │           │          │           │            │            │          │            │          │         │         │           │          │         │         │            │           │            │         │          │           │ 2          │           │ 20230418  │ 0         │           │           │\n",
       "│ 2       │ A92.0     │ 20230417   │ 202316  │ 2023    │ 31        │ 310620     │ 1449       │ 0023442    │ 20230415   │ 202315  │ 1961     │ 4061       │ M       │ 6          │ 4       │ 9          │ 31      │ 310620     │ 1449       │ 1       │ 20230417  │            │ 2       │ 2       │ 2        │ 2        │ 2       │ 1       │ 2          │ 2          │ 2       │ 1         │ 2          │ 2          │ 2       │ 2         │ 2        │ 2         │ 2         │ 2       │ 2          │ 2          │ 2          │            │            │          │ 4          │ 4          │ 4          │          │            │          │           │          │ 4          │ 20230417 │ 1          │          │           │          │ 9          │            │         │           │ 3         │         │           │          │ 13         │ 1        │            │ 1          │ 1        │          │ 20230515   │            │           │          │           │            │            │            │            │          │          │            │           │           │            │            │            │            │            │            │            │           │          │           │            │            │          │            │          │         │         │           │          │         │         │            │           │            │         │          │           │ 2          │           │ 20230417  │ 1         │           │           │\n",
       "│ 2       │ A92.0     │ 20230417   │ 202316  │ 2023    │ 31        │ 310620     │ 1449       │ 0023663    │ 20230414   │ 202315  │ 1972     │ 4050       │ M       │ 6          │ 1       │ 9          │ 31      │ 310620     │ 1449       │ 1       │ 20230417  │            │ 1       │ 1       │ 1        │ 2        │ 1       │ 1       │ 2          │ 2          │ 2       │ 1         │ 2          │ 2          │ 2       │ 1         │ 2        │ 2         │ 2         │ 2       │ 2          │ 2          │ 2          │            │            │          │            │            │            │          │            │          │           │          │            │          │            │          │           │          │            │            │         │           │           │         │           │          │ 13         │ 2        │            │ 1          │ 1        │          │ 20231010   │            │           │          │           │            │            │            │            │          │          │            │           │           │            │            │            │            │            │            │            │           │          │           │            │            │          │            │          │         │         │           │          │         │         │            │           │            │         │          │           │ 2          │           │ 20230425  │ 1         │           │           │\n",
       "│ 2       │ A92.0     │ 20230417   │ 202316  │ 2023    │ 31        │ 316510     │ 1455       │ 6146791    │ 20230313   │ 202311  │ 1976     │ 4046       │ F       │ 6          │ 1       │ 2          │ 31      │ 316510     │ 1455       │ 1       │ 20230417  │ 621005     │ 1       │ 1       │ 1        │ 2        │ 2       │ 2       │ 1          │ 2          │ 2       │ 2         │ 2          │ 2          │ 2       │ 2         │ 2        │ 2         │ 2         │ 2       │ 2          │ 2          │ 2          │            │            │          │            │            │            │          │            │          │           │          │            │          │ 4          │          │           │          │ 2          │            │         │           │           │         │           │          │            │          │            │            │          │          │            │            │           │          │           │            │            │            │            │          │          │            │           │           │            │            │            │            │            │            │            │           │          │           │            │            │          │            │          │         │         │           │          │         │         │            │           │            │         │          │           │ 2          │           │ 20230417  │ 0         │           │           │\n",
       "│ 2       │ A92.0     │ 20230417   │ 202316  │ 2023    │ 31        │ 314710     │ 1472       │ 2206064    │ 20230411   │ 202315  │ 1971     │ 4051       │ F       │ 5          │ 4       │ 6          │ 31      │ 314710     │ 1472       │ 1       │ 20230417  │ 239410     │ 1       │ 1       │ 2        │ 2        │ 2       │ 2       │ 2          │ 2          │ 2       │ 2         │ 2          │ 2          │ 2       │ 2         │ 2        │ 2         │ 2         │ 2       │ 2          │ 2          │ 2          │            │            │          │ 4          │            │            │          │            │          │           │          │            │          │            │          │           │          │ 2          │            │         │           │           │         │           │          │ 5          │ 2        │            │            │ 1        │          │ 20230530   │            │           │          │           │            │            │            │            │          │          │            │           │           │            │            │            │            │            │            │            │           │          │           │            │            │          │            │          │         │         │           │          │         │         │            │           │            │         │          │           │ 2          │           │ 20230418  │ 1         │           │           │\n",
       "│ 2       │ A92.0     │ 20230417   │ 202316  │ 2023    │ 31        │ 311860     │ 1449       │ 2190834    │ 20230414   │ 202315  │ 1993     │ 4030       │ F       │ 6          │ 9       │ 9          │ 31      │ 311860     │ 1449       │ 1       │ 20230417  │            │ 1       │ 1       │ 2        │ 2        │ 2       │ 2       │ 2          │ 2          │ 2       │ 1         │ 2          │ 2          │ 2       │ 2         │ 2        │ 2         │ 2         │ 2       │ 2          │ 2          │ 2          │            │            │          │            │            │            │          │            │          │           │          │            │ 20230417 │ 1          │          │           │          │            │            │         │           │           │         │           │          │ 13         │ 1        │            │ 1          │ 1        │          │ 20230615   │            │           │          │           │            │            │            │            │          │          │            │           │           │            │            │            │            │            │            │            │           │          │           │            │            │          │            │          │         │         │           │          │         │         │            │           │            │         │          │           │ 2          │           │ 20230426  │ 1         │           │           │\n",
       "│ 2       │ A92.0     │ 20230417   │ 202316  │ 2023    │ 31        │ 310940     │ 1469       │ 2205882    │ 20230415   │ 202315  │ 1975     │ 4047       │ M       │ 6          │ 4       │            │ 31      │ 310940     │ 1469       │ 1       │ 20230417  │ 999994     │ 1       │ 1       │ 1        │ 2        │ 2       │ 2       │ 2          │ 2          │ 2       │ 2         │ 2          │ 2          │ 2       │ 2         │ 2        │ 2         │ 2         │ 2       │ 2          │ 2          │ 2          │            │            │          │            │            │            │          │            │          │           │          │            │          │            │          │           │          │ 2          │            │         │           │ 1         │ 31      │ 1         │ 310940   │ 13         │ 2        │            │ 1          │ 1        │          │ 20230424   │            │           │          │           │            │            │            │            │          │          │            │           │           │            │            │            │            │            │            │            │           │          │           │            │            │          │            │          │         │         │           │          │         │         │            │           │            │         │          │           │ 2          │           │ 20230424  │ 0         │           │           │\n",
       "│ ·       │   ·       │    ·       │   ·     │  ·      │ ·         │   ·        │    ·       │    ·       │    ·       │   ·     │  ·       │  ·         │ ·       │ ·          │ ·       │ ·          │ ·       │   ·        │    ·       │  ·      │    ·      │   ·        │ ·       │ ·       │ ·        │ ·        │ ·       │ ·       │ ·          │ ·          │ ·       │ ·         │ ·          │ ·          │ ·       │ ·         │ ·        │ ·         │ ·         │ ·       │ ·          │ ·          │ ·          │    ·       │    ·       │    ·     │ ·          │ ·          │ ·          │    ·     │ ·          │    ·     │ ·         │    ·     │ ·          │    ·     │ ·          │ ·        │ ·         │ ·        │ ·          │    ·       │ ·       │   ·       │ ·         │ ·       │  ·        │   ·      │ ·          │ ·        │ ·          │ ·          │ ·        │    ·     │    ·       │ ·          │ ·         │ ·        │ ·         │ ·          │ ·          │ ·          │ ·          │ ·        │    ·     │ ·          │ ·         │ ·         │ ·          │ ·          │ ·          │ ·          │ ·          │ ·          │ ·          │ ·         │ ·        │ ·         │ ·          │ ·          │    ·     │ ·          │ ·        │ ·       │ ·       │ ·         │ ·        │ ·       │ ·       │ ·          │ ·         │    ·       │ ·       │ ·        │     ·     │ ·          │ ·         │    ·      │ ·         │    ·      │ ·         │\n",
       "│ ·       │   ·       │    ·       │   ·     │  ·      │ ·         │   ·        │    ·       │    ·       │    ·       │   ·     │  ·       │  ·         │ ·       │ ·          │ ·       │ ·          │ ·       │   ·        │    ·       │  ·      │    ·      │   ·        │ ·       │ ·       │ ·        │ ·        │ ·       │ ·       │ ·          │ ·          │ ·       │ ·         │ ·          │ ·          │ ·       │ ·         │ ·        │ ·         │ ·         │ ·       │ ·          │ ·          │ ·          │    ·       │    ·       │    ·     │ ·          │ ·          │ ·          │    ·     │ ·          │    ·     │ ·         │    ·     │ ·          │    ·     │ ·          │ ·        │ ·         │ ·        │ ·          │    ·       │ ·       │   ·       │ ·         │ ·       │  ·        │   ·      │ ·          │ ·        │ ·          │ ·          │ ·        │    ·     │    ·       │ ·          │ ·         │ ·        │ ·         │ ·          │ ·          │ ·          │ ·          │ ·        │    ·     │ ·          │ ·         │ ·         │ ·          │ ·          │ ·          │ ·          │ ·          │ ·          │ ·          │ ·         │ ·        │ ·         │ ·          │ ·          │    ·     │ ·          │ ·        │ ·       │ ·       │ ·         │ ·        │ ·       │ ·       │ ·          │ ·         │    ·       │ ·       │ ·        │     ·     │ ·          │ ·         │    ·      │ ·         │    ·      │ ·         │\n",
       "│ ·       │   ·       │    ·       │   ·     │  ·      │ ·         │   ·        │    ·       │    ·       │    ·       │   ·     │  ·       │  ·         │ ·       │ ·          │ ·       │ ·          │ ·       │   ·        │    ·       │  ·      │    ·      │   ·        │ ·       │ ·       │ ·        │ ·        │ ·       │ ·       │ ·          │ ·          │ ·       │ ·         │ ·          │ ·          │ ·       │ ·         │ ·        │ ·         │ ·         │ ·       │ ·          │ ·          │ ·          │    ·       │    ·       │    ·     │ ·          │ ·          │ ·          │    ·     │ ·          │    ·     │ ·         │    ·     │ ·          │    ·     │ ·          │ ·        │ ·         │ ·        │ ·          │    ·       │ ·       │   ·       │ ·         │ ·       │  ·        │   ·      │ ·          │ ·        │ ·          │ ·          │ ·        │    ·     │    ·       │ ·          │ ·         │ ·        │ ·         │ ·          │ ·          │ ·          │ ·          │ ·        │    ·     │ ·          │ ·         │ ·         │ ·          │ ·          │ ·          │ ·          │ ·          │ ·          │ ·          │ ·         │ ·        │ ·         │ ·          │ ·          │    ·     │ ·          │ ·        │ ·       │ ·       │ ·         │ ·        │ ·       │ ·       │ ·          │ ·         │    ·       │ ·       │ ·        │     ·     │ ·          │ ·         │    ·      │ ·         │    ·      │ ·         │\n",
       "│ 2       │ A92.0     │ 20230429   │ 202317  │ 2023    │ 31        │ 315780     │ 1449       │ 2164175    │ 20230429   │ 202317  │ 2003     │ 4020       │ F       │ 6          │ 4       │            │ 31      │ 315780     │ 1449       │ 1       │ 20230429  │            │ 1       │ 1       │ 1        │ 2        │ 1       │ 2       │ 2          │ 2          │ 2       │ 1         │ 2          │ 2          │ 2       │ 2         │ 2        │ 2         │ 2         │ 2       │ 2          │ 2          │ 2          │            │            │          │            │            │            │          │            │          │           │          │            │          │            │          │           │          │            │            │         │           │           │         │           │          │            │          │            │            │          │          │            │            │           │          │           │            │            │            │            │          │          │            │           │           │            │            │            │            │            │            │            │           │          │           │            │            │          │            │          │         │         │           │          │         │         │            │           │            │         │          │           │ 2          │           │ 20230527  │ 0         │           │           │\n",
       "│ 2       │ A92.0     │ 20230429   │ 202317  │ 2023    │ 31        │ 316720     │ 1467       │ 2206528    │ 20230428   │ 202317  │ 1993     │ 4030       │ F       │ 2          │ 4       │ 9          │ 31      │ 316720     │ 1467       │ 1       │ 20230429  │ 524105     │ 1       │ 1       │ 1        │ 1        │ 2       │ 1       │ 2          │ 2          │ 1       │ 2         │ 2          │ 2          │ 2       │ 2         │ 2        │ 2         │ 2         │ 2       │ 2          │ 2          │ 2          │            │            │          │            │            │            │          │            │          │           │          │            │          │            │          │           │          │ 2          │            │         │           │ 1         │ 31      │ 1         │ 316720   │ 13         │ 2        │            │ 1          │ 1        │          │ 20230601   │            │           │          │           │            │            │            │            │          │          │            │           │           │            │            │            │            │            │            │            │           │          │           │            │            │          │            │          │         │         │           │          │         │         │            │           │            │         │          │           │ 2          │           │ 20230623  │ 0         │           │           │\n",
       "│ 2       │ A92.0     │ 20230429   │ 202317  │ 2023    │ 31        │ 316720     │ 1467       │ 3296997    │ 20230424   │ 202317  │ 1971     │ 4052       │ M       │ 6          │ 4       │            │ 31      │ 316720     │ 1467       │ 1       │ 20230429  │ 999993     │ 1       │ 1       │ 1        │ 1        │ 2       │ 2       │ 1          │ 1          │ 2       │ 1         │ 1          │ 2          │ 2       │ 2         │ 2        │ 2         │ 2         │ 2       │ 2          │ 2          │ 2          │            │            │          │            │            │            │          │            │          │           │          │            │          │            │          │           │          │ 2          │            │         │           │           │         │           │          │ 13         │ 2        │            │ 1          │ 1        │          │ 20230623   │            │           │          │           │            │            │            │            │          │          │            │           │           │            │            │            │            │            │            │            │           │          │           │            │            │          │            │          │         │         │           │          │         │         │            │           │            │         │          │           │ 2          │           │ 20230623  │ 0         │           │           │\n",
       "│ 2       │ A92.0     │ 20230429   │ 202317  │ 2023    │ 31        │ 316720     │ 1467       │ 3296997    │ 20230428   │ 202317  │ 1994     │ 4028       │ F       │ 5          │ 4       │ 9          │ 31      │ 316720     │ 1467       │ 1       │ 20230429  │ 999994     │ 1       │ 1       │ 1        │ 2        │ 2       │ 1       │ 1          │ 2          │ 2       │ 1         │ 2          │ 2          │ 2       │ 2         │ 2        │ 2         │ 2         │ 2       │ 1          │ 2          │ 2          │            │            │          │            │            │            │          │            │          │           │          │            │          │            │          │           │          │ 2          │            │         │           │ 1         │ 31      │ 1         │ 316720   │ 13         │ 2        │            │ 1          │ 1        │          │ 20230601   │            │           │          │           │            │            │            │            │          │          │            │           │           │            │            │            │            │            │            │            │           │          │           │            │            │          │            │          │         │         │           │          │         │         │            │           │            │         │          │           │ 2          │           │ 20230623  │ 0         │           │           │\n",
       "│ 2       │ A92.0     │ 20230429   │ 202317  │ 2023    │ 31        │ 312710     │ 1461       │ 2098539    │ 20230429   │ 202317  │ 2011     │ 4011       │ M       │ 6          │ 1       │ 4          │ 31      │ 312710     │ 1461       │ 1       │ 20230429  │ 999991     │ 1       │ 2       │ 2        │ 2        │ 2       │ 2       │ 1          │ 2          │ 2       │ 2         │ 2          │ 1          │ 2       │ 2         │ 2        │ 2         │ 2         │ 2       │ 2          │ 1          │ 2          │            │            │          │            │            │            │          │            │          │           │          │            │          │            │          │           │          │            │            │         │           │           │         │           │          │ 13         │ 1        │            │ 1          │          │          │ 20230629   │            │           │          │           │            │            │            │            │          │          │            │           │           │            │            │            │            │            │            │            │           │          │           │            │            │          │            │          │         │         │           │          │         │         │            │           │            │         │          │           │ 2          │           │ 20230629  │ 0         │           │           │\n",
       "│ 2       │ A92.0     │ 20230429   │ 202317  │ 2023    │ 31        │ 312710     │ 1461       │ 2098539    │ 20230428   │ 202317  │ 1976     │ 4047       │ M       │ 6          │ 1       │ 2          │ 31      │ 312710     │ 1461       │ 1       │ 20230429  │ 999994     │ 1       │ 1       │ 1        │ 2        │ 2       │ 2       │ 1          │ 2          │ 2       │ 2         │ 2          │ 2          │ 2       │ 2         │ 2        │ 2         │ 1         │ 2       │ 2          │ 2          │ 2          │            │            │          │            │            │            │          │            │          │           │          │            │          │            │          │           │          │            │            │         │           │           │         │           │          │ 13         │ 1        │            │ 1          │          │          │ 20230629   │            │           │          │           │            │            │            │            │          │          │            │           │           │            │            │            │            │            │            │            │           │          │           │            │            │          │            │          │         │         │           │          │         │         │            │           │            │         │          │           │ 2          │           │ 20230629  │ 0         │           │           │\n",
       "│ 2       │ A92.0     │ 20230429   │ 202317  │ 2023    │ 31        │ 315460     │ 1449       │ 2756749    │ 20230423   │ 202317  │ 2001     │ 4022       │ M       │ 6          │ 4       │ 9          │ 31      │ 315460     │ 1449       │ 1       │ 20230429  │            │ 1       │ 1       │ 1        │ 2        │ 2       │ 2       │ 2          │ 2          │ 2       │ 1         │ 2          │ 2          │ 2       │ 2         │ 2        │ 2         │ 2         │ 2       │ 2          │ 2          │ 2          │            │            │          │ 4          │ 4          │ 4          │          │            │          │           │          │ 4          │ 20230427 │ 1          │          │           │          │ 2          │            │         │           │ 1         │ 31      │ 1         │ 315460   │ 13         │ 1        │            │ 1          │ 1        │          │ 20230901   │            │           │          │           │            │            │            │            │          │          │            │           │           │            │            │            │            │            │            │            │           │          │           │            │            │          │            │          │         │         │           │          │         │         │            │           │            │         │          │           │ 2          │           │ 20230624  │ 1         │           │           │\n",
       "│ 2       │ A92.0     │ 20230429   │ 202317  │ 2023    │ 31        │ 312710     │ 1461       │ 2098539    │ 20230428   │ 202317  │ 1987     │ 4035       │ F       │ 5          │ 4       │ 9          │ 31      │ 312710     │ 1461       │ 1       │ 20230429  │ 999992     │ 1       │ 2       │ 2        │ 2        │ 2       │ 2       │ 1          │ 2          │ 2       │ 2         │ 2          │ 2          │ 2       │ 2         │ 2        │ 2         │ 2         │ 2       │ 2          │ 2          │ 2          │            │            │          │            │            │            │          │            │          │           │          │            │          │            │          │           │          │            │            │         │           │           │         │           │          │ 13         │ 1        │            │ 1          │          │          │ 20230629   │            │           │          │           │            │            │            │            │          │          │            │           │           │            │            │            │            │            │            │            │           │          │           │            │            │          │            │          │         │         │           │          │         │         │            │           │            │         │          │           │ 2          │           │ 20230629  │ 1         │           │           │\n",
       "│ 2       │ A92.0     │ 20230429   │ 202317  │ 2023    │ 31        │ 316720     │ 1467       │ 3296997    │ 20230428   │ 202317  │ 1994     │ 4029       │ F       │ 5          │ 4       │            │ 31      │ 316720     │ 1467       │ 1       │ 20230429  │ 516345     │ 2       │ 1       │ 1        │ 2        │ 1       │ 1       │ 1          │ 1          │ 1       │ 1         │ 2          │ 2          │ 2       │ 2         │ 2        │ 2         │ 2         │ 2       │ 2          │ 2          │ 2          │            │            │          │            │            │            │          │            │          │           │          │            │          │            │          │           │          │ 2          │            │         │           │           │         │           │          │ 5          │ 2        │            │            │ 1        │          │ 20230607   │            │           │          │           │            │            │            │            │          │          │            │           │           │            │            │            │            │            │            │            │           │          │           │            │            │          │            │          │         │         │           │          │         │         │            │           │            │         │          │           │ 2          │           │ 20230607  │ 0         │           │           │\n",
       "│ 2       │ A92.0     │ 20230429   │ 202317  │ 2023    │ 31        │ 313130     │ 1468       │ 2205440    │ 20230429   │ 202317  │ 1964     │ 4058       │ M       │ 6          │ 9       │ 9          │ 31      │ 313130     │ 1468       │ 1       │ 20230429  │            │ 1       │ 1       │ 1        │ 2        │ 2       │ 1       │ 2          │ 2          │ 2       │ 1         │ 2          │ 2          │ 2       │ 2         │ 2        │ 2         │ 2         │ 2       │ 2          │ 2          │ 2          │            │            │          │            │            │            │          │            │          │           │          │            │          │            │          │           │          │ 2          │            │         │           │ 1         │ 31      │ 1         │ 313130   │ 13         │ 2        │            │ 1          │ 1        │          │ 20230705   │            │           │          │           │            │            │            │            │          │          │            │           │           │            │            │            │            │            │            │            │           │          │           │            │            │          │            │          │         │         │           │          │         │         │            │           │            │         │          │           │ 2          │           │ 20230718  │ 0         │           │           │\n",
       "├─────────┴───────────┴────────────┴─────────┴─────────┴───────────┴────────────┴────────────┴────────────┴────────────┴─────────┴──────────┴────────────┴─────────┴────────────┴─────────┴────────────┴─────────┴────────────┴────────────┴─────────┴───────────┴────────────┴─────────┴─────────┴──────────┴──────────┴─────────┴─────────┴────────────┴────────────┴─────────┴───────────┴────────────┴────────────┴─────────┴───────────┴──────────┴───────────┴───────────┴─────────┴────────────┴────────────┴────────────┴────────────┴────────────┴──────────┴────────────┴────────────┴────────────┴──────────┴────────────┴──────────┴───────────┴──────────┴────────────┴──────────┴────────────┴──────────┴───────────┴──────────┴────────────┴────────────┴─────────┴───────────┴───────────┴─────────┴───────────┴──────────┴────────────┴──────────┴────────────┴────────────┴──────────┴──────────┴────────────┴────────────┴───────────┴──────────┴───────────┴────────────┴────────────┴────────────┴────────────┴──────────┴──────────┴────────────┴───────────┴───────────┴────────────┴────────────┴────────────┴────────────┴────────────┴────────────┴────────────┴───────────┴──────────┴───────────┴────────────┴────────────┴──────────┴────────────┴──────────┴─────────┴─────────┴───────────┴──────────┴─────────┴─────────┴────────────┴───────────┴────────────┴─────────┴──────────┴───────────┴────────────┴───────────┴───────────┴───────────┴───────────┴───────────┤\n",
       "│ ? rows (>9999 rows, 20 shown)                                                                                                                                                                                                                                                                                                                                                                                                                                                                                                                                                                                                                                                                                                                                                                                                                                                                                                                                                                                                                                                                                                                                                                                                                                                                                                                                                                                                                                                             122 columns │\n",
       "└───────────────────────────────────────────────────────────────────────────────────────────────────────────────────────────────────────────────────────────────────────────────────────────────────────────────────────────────────────────────────────────────────────────────────────────────────────────────────────────────────────────────────────────────────────────────────────────────────────────────────────────────────────────────────────────────────────────────────────────────────────────────────────────────────────────────────────────────────────────────────────────────────────────────────────────────────────────────────────────────────────────────────────────────────────────────────────────────────────────────────────────────────────────────────────────────────────────────────────────────────────────────────────────────────────────────────────────────────────────────────────────────────────────────────────────────────────────────────────────────────────────────────────────────────────────────────────────────────────────────────────────────────────────────────────────────────────────────────────────────────────────────────────────────────────────────────────────────────────────────────────────────────────────────────────────────────────────────────────────────────────────────────────────────────────────────────────────────────────────────────────────────────────────────────────────────────────────────────────────────────────┘"
      ]
     },
     "execution_count": 63,
     "metadata": {},
     "output_type": "execute_result"
    }
   ],
   "source": [
    "df2"
   ]
  },
  {
   "cell_type": "code",
   "execution_count": 64,
   "metadata": {},
   "outputs": [
    {
     "data": {
      "text/plain": [
       "┌─────────┬───────────┬────────────┬─────────┬─────────┬───────────┬────────────┬────────────┬────────────┬────────────┬─────────┬──────────┬────────────┬─────────┬────────────┬─────────┬────────────┬─────────┬────────────┬────────────┬─────────┬───────────┬────────────┬─────────┬─────────┬──────────┬──────────┬─────────┬─────────┬────────────┬────────────┬─────────┬───────────┬────────────┬────────────┬─────────┬───────────┬──────────┬───────────┬───────────┬─────────┬────────────┬────────────┬────────────┬────────────┬────────────┬──────────┬────────────┬────────────┬────────────┬──────────┬────────────┬──────────┬───────────┬──────────┬────────────┬──────────┬────────────┬──────────┬───────────┬──────────┬────────────┬────────────┬─────────┬───────────┬───────────┬─────────┬───────────┬──────────┬────────────┬──────────┬────────────┬────────────┬──────────┬──────────┬────────────┬────────────┬───────────┬──────────┬───────────┬────────────┬────────────┬────────────┬────────────┬──────────┬──────────┬────────────┬───────────┬───────────┬────────────┬────────────┬────────────┬────────────┬────────────┬────────────┬────────────┬───────────┬──────────┬───────────┬────────────┬────────────┬──────────┬────────────┬──────────┬─────────┬─────────┬───────────┬──────────┬─────────┬─────────┬────────────┬───────────┬────────────┬─────────┬──────────┬───────────┬────────────┬───────────┬───────────┬───────────┬───────────┬───────────┐\n",
       "│ TP_NOT  │ ID_AGRAVO │ DT_NOTIFIC │ SEM_NOT │ NU_ANO  │ SG_UF_NOT │ ID_MUNICIP │ ID_REGIONA │ ID_UNIDADE │ DT_SIN_PRI │ SEM_PRI │ ANO_NASC │ NU_IDADE_N │ CS_SEXO │ CS_GESTANT │ CS_RACA │ CS_ESCOL_N │  SG_UF  │ ID_MN_RESI │ ID_RG_RESI │ ID_PAIS │ DT_INVEST │ ID_OCUPA_N │  FEBRE  │ MIALGIA │ CEFALEIA │ EXANTEMA │ VOMITO  │ NAUSEA  │ DOR_COSTAS │ CONJUNTVIT │ ARTRITE │ ARTRALGIA │ PETEQUIA_N │ LEUCOPENIA │  LACO   │ DOR_RETRO │ DIABETES │ HEMATOLOG │ HEPATOPAT │  RENAL  │ HIPERTENSA │ ACIDO_PEPT │ AUTO_IMUNE │ DT_CHIK_S1 │ DT_CHIK_S2 │ DT_PRNT  │ RES_CHIKS1 │ RES_CHIKS2 │ RESUL_PRNT │ DT_SORO  │ RESUL_SORO │  DT_NS1  │ RESUL_NS1 │ DT_VIRAL │ RESUL_VI_N │  DT_PCR  │ RESUL_PCR_ │ SOROTIPO │ HISTOPA_N │ IMUNOH_N │ HOSPITALIZ │ DT_INTERNA │   UF    │ MUNICIPIO │ TPAUTOCTO │ COUFINF │ COPAISINF │ COMUNINF │ CLASSI_FIN │ CRITERIO │ DOENCA_TRA │ CLINC_CHIK │ EVOLUCAO │ DT_OBITO │ DT_ENCERRA │ ALRM_HIPOT │ ALRM_PLAQ │ ALRM_VOM │ ALRM_SANG │ ALRM_HEMAT │ ALRM_ABDOM │ ALRM_LETAR │ ALRM_HEPAT │ ALRM_LIQ │ DT_ALRM  │ GRAV_PULSO │ GRAV_CONV │ GRAV_ENCH │ GRAV_INSUF │ GRAV_TAQUI │ GRAV_EXTRE │ GRAV_HIPOT │ GRAV_HEMAT │ GRAV_MELEN │ GRAV_METRO │ GRAV_SANG │ GRAV_AST │ GRAV_MIOC │ GRAV_CONSC │ GRAV_ORGAO │ DT_GRAV  │ MANI_HEMOR │ EPISTAXE │ GENGIVO │  METRO  │ PETEQUIAS │ HEMATURA │ SANGRAM │ LACO_N  │ PLASMATICO │ EVIDENCIA │ PLAQ_MENOR │ CON_FHD │ COMPLICA │ NU_LOTE_I │ TP_SISTEMA │ NDUPLIC_N │ DT_DIGITA │ CS_FLXRET │ FLXRECEBI │ MIGRADO_W │\n",
       "│ varchar │  varchar  │  varchar   │ varchar │ varchar │  varchar  │  varchar   │  varchar   │  varchar   │  varchar   │ varchar │ varchar  │  varchar   │ varchar │  varchar   │ varchar │  varchar   │ varchar │  varchar   │  varchar   │ varchar │  varchar  │  varchar   │ varchar │ varchar │ varchar  │ varchar  │ varchar │ varchar │  varchar   │  varchar   │ varchar │  varchar  │  varchar   │  varchar   │ varchar │  varchar  │ varchar  │  varchar  │  varchar  │ varchar │  varchar   │  varchar   │  varchar   │  varchar   │  varchar   │ varchar  │  varchar   │  varchar   │  varchar   │ varchar  │  varchar   │ varchar  │  varchar  │ varchar  │  varchar   │ varchar  │  varchar   │ varchar  │  varchar  │ varchar  │  varchar   │  varchar   │ varchar │  varchar  │  varchar  │ varchar │  varchar  │ varchar  │  varchar   │ varchar  │  varchar   │  varchar   │ varchar  │ varchar  │  varchar   │  varchar   │  varchar  │ varchar  │  varchar  │  varchar   │  varchar   │  varchar   │  varchar   │ varchar  │ varchar  │  varchar   │  varchar  │  varchar  │  varchar   │  varchar   │  varchar   │  varchar   │  varchar   │  varchar   │  varchar   │  varchar  │ varchar  │  varchar  │  varchar   │  varchar   │ varchar  │  varchar   │ varchar  │ varchar │ varchar │  varchar  │ varchar  │ varchar │ varchar │  varchar   │  varchar  │  varchar   │ varchar │ varchar  │  varchar  │  varchar   │  varchar  │  varchar  │  varchar  │  varchar  │  varchar  │\n",
       "├─────────┼───────────┼────────────┼─────────┼─────────┼───────────┼────────────┼────────────┼────────────┼────────────┼─────────┼──────────┼────────────┼─────────┼────────────┼─────────┼────────────┼─────────┼────────────┼────────────┼─────────┼───────────┼────────────┼─────────┼─────────┼──────────┼──────────┼─────────┼─────────┼────────────┼────────────┼─────────┼───────────┼────────────┼────────────┼─────────┼───────────┼──────────┼───────────┼───────────┼─────────┼────────────┼────────────┼────────────┼────────────┼────────────┼──────────┼────────────┼────────────┼────────────┼──────────┼────────────┼──────────┼───────────┼──────────┼────────────┼──────────┼────────────┼──────────┼───────────┼──────────┼────────────┼────────────┼─────────┼───────────┼───────────┼─────────┼───────────┼──────────┼────────────┼──────────┼────────────┼────────────┼──────────┼──────────┼────────────┼────────────┼───────────┼──────────┼───────────┼────────────┼────────────┼────────────┼────────────┼──────────┼──────────┼────────────┼───────────┼───────────┼────────────┼────────────┼────────────┼────────────┼────────────┼────────────┼────────────┼───────────┼──────────┼───────────┼────────────┼────────────┼──────────┼────────────┼──────────┼─────────┼─────────┼───────────┼──────────┼─────────┼─────────┼────────────┼───────────┼────────────┼─────────┼──────────┼───────────┼────────────┼───────────┼───────────┼───────────┼───────────┼───────────┤\n",
       "│ 2       │ A92.0     │ 20230417   │ 202316  │ 2023    │ 31        │ 314330     │ 1473       │ 6629296    │ 20230417   │ 202316  │ 1984     │ 4038       │ M       │ 6          │ 1       │ 9          │ 31      │ 314330     │ 1473       │ 1       │ 20230417  │            │ 1       │ 1       │ 1        │ 2        │ 1       │ 1       │ 1          │ 2          │ 2       │ 1         │ 2          │ 2          │ 2       │ 2         │ 2        │ 2         │ 2         │ 2       │ 2          │ 2          │ 2          │            │            │          │            │            │            │          │            │          │           │          │            │          │            │          │           │          │            │            │         │           │           │         │           │          │ 13         │ 2        │            │ 1          │ 1        │          │ 20230627   │            │           │          │           │            │            │            │            │          │          │            │           │           │            │            │            │            │            │            │            │           │          │           │            │            │          │            │          │         │         │           │          │         │         │            │           │            │         │          │           │ 2          │           │ 20230420  │ 1         │           │           │\n",
       "│ 2       │ A92.0     │ 20230417   │ 202316  │ 2023    │ 31        │ 310850     │ 1473       │ 2172461    │ 20230415   │ 202315  │ 1977     │ 4045       │ F       │ 5          │ 4       │ 8          │ 31      │ 310850     │ 1473       │ 1       │           │            │         │         │          │          │         │         │            │            │         │           │            │            │         │           │          │           │           │         │            │            │            │            │            │          │            │            │            │          │            │          │           │          │            │          │            │          │           │          │            │            │         │           │           │         │           │          │            │          │            │            │          │          │            │            │           │          │           │            │            │            │            │          │          │            │           │           │            │            │            │            │            │            │            │           │          │           │            │            │          │            │          │         │         │           │          │         │         │            │           │            │         │          │           │ 2          │           │ 20230424  │ 0         │           │           │\n",
       "│ 2       │ A92.0     │ 20230417   │ 202316  │ 2023    │ 31        │ 310620     │ 1449       │ 0023663    │ 20230417   │ 202316  │ 2005     │ 4017       │ M       │ 6          │ 1       │ 9          │ 31      │ 310620     │ 1449       │ 1       │ 20230417  │            │ 1       │ 1       │ 1        │ 2        │ 1       │ 1       │ 2          │ 2          │ 2       │ 1         │ 2          │ 2          │ 2       │ 1         │ 2        │ 2         │ 2         │ 2       │ 2          │ 2          │ 2          │            │            │          │            │            │            │          │            │          │           │          │            │          │            │          │           │          │            │            │         │           │           │         │           │          │ 13         │ 2        │            │ 1          │ 1        │          │ 20231010   │            │           │          │           │            │            │            │            │          │          │            │           │           │            │            │            │            │            │            │            │           │          │           │            │            │          │            │          │         │         │           │          │         │         │            │           │            │         │          │           │ 2          │           │ 20230425  │ 1         │           │           │\n",
       "│ 2       │ A92.0     │ 20230417   │ 202316  │ 2023    │ 31        │ 314330     │ 1473       │ 2219255    │ 20230410   │ 202315  │ 2015     │ 4007       │ M       │ 6          │ 4       │ 10         │ 31      │ 314330     │ 1473       │ 1       │ 20230417  │            │ 1       │ 1       │ 1        │ 2        │ 1       │ 2       │ 2          │ 2          │ 2       │ 1         │ 2          │ 2          │ 2       │ 2         │ 2        │ 2         │ 2         │ 2       │ 2          │ 2          │ 2          │ 20230417   │            │          │ 1          │            │            │          │            │          │           │          │            │          │            │          │           │          │            │            │         │           │           │         │           │          │ 13         │ 1        │            │ 1          │ 1        │          │ 20230418   │            │           │          │           │            │            │            │            │          │          │            │           │           │            │            │            │            │            │            │            │           │          │           │            │            │          │            │          │         │         │           │          │         │         │            │           │            │         │          │           │ 2          │           │ 20230418  │ 0         │           │           │\n",
       "│ 2       │ A92.0     │ 20230417   │ 202316  │ 2023    │ 31        │ 310620     │ 1449       │ 0023442    │ 20230415   │ 202315  │ 1961     │ 4061       │ M       │ 6          │ 4       │ 9          │ 31      │ 310620     │ 1449       │ 1       │ 20230417  │            │ 2       │ 2       │ 2        │ 2        │ 2       │ 1       │ 2          │ 2          │ 2       │ 1         │ 2          │ 2          │ 2       │ 2         │ 2        │ 2         │ 2         │ 2       │ 2          │ 2          │ 2          │            │            │          │ 4          │ 4          │ 4          │          │            │          │           │          │ 4          │ 20230417 │ 1          │          │           │          │ 9          │            │         │           │ 3         │         │           │          │ 13         │ 1        │            │ 1          │ 1        │          │ 20230515   │            │           │          │           │            │            │            │            │          │          │            │           │           │            │            │            │            │            │            │            │           │          │           │            │            │          │            │          │         │         │           │          │         │         │            │           │            │         │          │           │ 2          │           │ 20230417  │ 1         │           │           │\n",
       "│ 2       │ A92.0     │ 20230417   │ 202316  │ 2023    │ 31        │ 310620     │ 1449       │ 0023663    │ 20230414   │ 202315  │ 1972     │ 4050       │ M       │ 6          │ 1       │ 9          │ 31      │ 310620     │ 1449       │ 1       │ 20230417  │            │ 1       │ 1       │ 1        │ 2        │ 1       │ 1       │ 2          │ 2          │ 2       │ 1         │ 2          │ 2          │ 2       │ 1         │ 2        │ 2         │ 2         │ 2       │ 2          │ 2          │ 2          │            │            │          │            │            │            │          │            │          │           │          │            │          │            │          │           │          │            │            │         │           │           │         │           │          │ 13         │ 2        │            │ 1          │ 1        │          │ 20231010   │            │           │          │           │            │            │            │            │          │          │            │           │           │            │            │            │            │            │            │            │           │          │           │            │            │          │            │          │         │         │           │          │         │         │            │           │            │         │          │           │ 2          │           │ 20230425  │ 1         │           │           │\n",
       "│ 2       │ A92.0     │ 20230417   │ 202316  │ 2023    │ 31        │ 316510     │ 1455       │ 6146791    │ 20230313   │ 202311  │ 1976     │ 4046       │ F       │ 6          │ 1       │ 2          │ 31      │ 316510     │ 1455       │ 1       │ 20230417  │ 621005     │ 1       │ 1       │ 1        │ 2        │ 2       │ 2       │ 1          │ 2          │ 2       │ 2         │ 2          │ 2          │ 2       │ 2         │ 2        │ 2         │ 2         │ 2       │ 2          │ 2          │ 2          │            │            │          │            │            │            │          │            │          │           │          │            │          │ 4          │          │           │          │ 2          │            │         │           │           │         │           │          │            │          │            │            │          │          │            │            │           │          │           │            │            │            │            │          │          │            │           │           │            │            │            │            │            │            │            │           │          │           │            │            │          │            │          │         │         │           │          │         │         │            │           │            │         │          │           │ 2          │           │ 20230417  │ 0         │           │           │\n",
       "│ 2       │ A92.0     │ 20230417   │ 202316  │ 2023    │ 31        │ 314710     │ 1472       │ 2206064    │ 20230411   │ 202315  │ 1971     │ 4051       │ F       │ 5          │ 4       │ 6          │ 31      │ 314710     │ 1472       │ 1       │ 20230417  │ 239410     │ 1       │ 1       │ 2        │ 2        │ 2       │ 2       │ 2          │ 2          │ 2       │ 2         │ 2          │ 2          │ 2       │ 2         │ 2        │ 2         │ 2         │ 2       │ 2          │ 2          │ 2          │            │            │          │ 4          │            │            │          │            │          │           │          │            │          │            │          │           │          │ 2          │            │         │           │           │         │           │          │ 5          │ 2        │            │            │ 1        │          │ 20230530   │            │           │          │           │            │            │            │            │          │          │            │           │           │            │            │            │            │            │            │            │           │          │           │            │            │          │            │          │         │         │           │          │         │         │            │           │            │         │          │           │ 2          │           │ 20230418  │ 1         │           │           │\n",
       "│ 2       │ A92.0     │ 20230417   │ 202316  │ 2023    │ 31        │ 311860     │ 1449       │ 2190834    │ 20230414   │ 202315  │ 1993     │ 4030       │ F       │ 6          │ 9       │ 9          │ 31      │ 311860     │ 1449       │ 1       │ 20230417  │            │ 1       │ 1       │ 2        │ 2        │ 2       │ 2       │ 2          │ 2          │ 2       │ 1         │ 2          │ 2          │ 2       │ 2         │ 2        │ 2         │ 2         │ 2       │ 2          │ 2          │ 2          │            │            │          │            │            │            │          │            │          │           │          │            │ 20230417 │ 1          │          │           │          │            │            │         │           │           │         │           │          │ 13         │ 1        │            │ 1          │ 1        │          │ 20230615   │            │           │          │           │            │            │            │            │          │          │            │           │           │            │            │            │            │            │            │            │           │          │           │            │            │          │            │          │         │         │           │          │         │         │            │           │            │         │          │           │ 2          │           │ 20230426  │ 1         │           │           │\n",
       "│ 2       │ A92.0     │ 20230417   │ 202316  │ 2023    │ 31        │ 310940     │ 1469       │ 2205882    │ 20230415   │ 202315  │ 1975     │ 4047       │ M       │ 6          │ 4       │            │ 31      │ 310940     │ 1469       │ 1       │ 20230417  │ 999994     │ 1       │ 1       │ 1        │ 2        │ 2       │ 2       │ 2          │ 2          │ 2       │ 2         │ 2          │ 2          │ 2       │ 2         │ 2        │ 2         │ 2         │ 2       │ 2          │ 2          │ 2          │            │            │          │            │            │            │          │            │          │           │          │            │          │            │          │           │          │ 2          │            │         │           │ 1         │ 31      │ 1         │ 310940   │ 13         │ 2        │            │ 1          │ 1        │          │ 20230424   │            │           │          │           │            │            │            │            │          │          │            │           │           │            │            │            │            │            │            │            │           │          │           │            │            │          │            │          │         │         │           │          │         │         │            │           │            │         │          │           │ 2          │           │ 20230424  │ 0         │           │           │\n",
       "│ ·       │   ·       │    ·       │   ·     │  ·      │ ·         │   ·        │    ·       │    ·       │    ·       │   ·     │  ·       │  ·         │ ·       │ ·          │ ·       │ ·          │ ·       │   ·        │    ·       │  ·      │    ·      │   ·        │ ·       │ ·       │ ·        │ ·        │ ·       │ ·       │ ·          │ ·          │ ·       │ ·         │ ·          │ ·          │ ·       │ ·         │ ·        │ ·         │ ·         │ ·       │ ·          │ ·          │ ·          │    ·       │    ·       │    ·     │ ·          │ ·          │ ·          │    ·     │ ·          │    ·     │ ·         │    ·     │ ·          │    ·     │ ·          │ ·        │ ·         │ ·        │ ·          │    ·       │ ·       │   ·       │ ·         │ ·       │  ·        │   ·      │ ·          │ ·        │ ·          │ ·          │ ·        │    ·     │    ·       │ ·          │ ·         │ ·        │ ·         │ ·          │ ·          │ ·          │ ·          │ ·        │    ·     │ ·          │ ·         │ ·         │ ·          │ ·          │ ·          │ ·          │ ·          │ ·          │ ·          │ ·         │ ·        │ ·         │ ·          │ ·          │    ·     │ ·          │ ·        │ ·       │ ·       │ ·         │ ·        │ ·       │ ·       │ ·          │ ·         │    ·       │ ·       │ ·        │     ·     │ ·          │ ·         │    ·      │ ·         │    ·      │ ·         │\n",
       "│ ·       │   ·       │    ·       │   ·     │  ·      │ ·         │   ·        │    ·       │    ·       │    ·       │   ·     │  ·       │  ·         │ ·       │ ·          │ ·       │ ·          │ ·       │   ·        │    ·       │  ·      │    ·      │   ·        │ ·       │ ·       │ ·        │ ·        │ ·       │ ·       │ ·          │ ·          │ ·       │ ·         │ ·          │ ·          │ ·       │ ·         │ ·        │ ·         │ ·         │ ·       │ ·          │ ·          │ ·          │    ·       │    ·       │    ·     │ ·          │ ·          │ ·          │    ·     │ ·          │    ·     │ ·         │    ·     │ ·          │    ·     │ ·          │ ·        │ ·         │ ·        │ ·          │    ·       │ ·       │   ·       │ ·         │ ·       │  ·        │   ·      │ ·          │ ·        │ ·          │ ·          │ ·        │    ·     │    ·       │ ·          │ ·         │ ·        │ ·         │ ·          │ ·          │ ·          │ ·          │ ·        │    ·     │ ·          │ ·         │ ·         │ ·          │ ·          │ ·          │ ·          │ ·          │ ·          │ ·          │ ·         │ ·        │ ·         │ ·          │ ·          │    ·     │ ·          │ ·        │ ·       │ ·       │ ·         │ ·        │ ·       │ ·       │ ·          │ ·         │    ·       │ ·       │ ·        │     ·     │ ·          │ ·         │    ·      │ ·         │    ·      │ ·         │\n",
       "│ ·       │   ·       │    ·       │   ·     │  ·      │ ·         │   ·        │    ·       │    ·       │    ·       │   ·     │  ·       │  ·         │ ·       │ ·          │ ·       │ ·          │ ·       │   ·        │    ·       │  ·      │    ·      │   ·        │ ·       │ ·       │ ·        │ ·        │ ·       │ ·       │ ·          │ ·          │ ·       │ ·         │ ·          │ ·          │ ·       │ ·         │ ·        │ ·         │ ·         │ ·       │ ·          │ ·          │ ·          │    ·       │    ·       │    ·     │ ·          │ ·          │ ·          │    ·     │ ·          │    ·     │ ·         │    ·     │ ·          │    ·     │ ·          │ ·        │ ·         │ ·        │ ·          │    ·       │ ·       │   ·       │ ·         │ ·       │  ·        │   ·      │ ·          │ ·        │ ·          │ ·          │ ·        │    ·     │    ·       │ ·          │ ·         │ ·        │ ·         │ ·          │ ·          │ ·          │ ·          │ ·        │    ·     │ ·          │ ·         │ ·         │ ·          │ ·          │ ·          │ ·          │ ·          │ ·          │ ·          │ ·         │ ·        │ ·         │ ·          │ ·          │    ·     │ ·          │ ·        │ ·       │ ·       │ ·         │ ·        │ ·       │ ·       │ ·          │ ·         │    ·       │ ·       │ ·        │     ·     │ ·          │ ·         │    ·      │ ·         │    ·      │ ·         │\n",
       "│ 2       │ A92.0     │ 20230429   │ 202317  │ 2023    │ 31        │ 315780     │ 1449       │ 2164175    │ 20230429   │ 202317  │ 2003     │ 4020       │ F       │ 6          │ 4       │            │ 31      │ 315780     │ 1449       │ 1       │ 20230429  │            │ 1       │ 1       │ 1        │ 2        │ 1       │ 2       │ 2          │ 2          │ 2       │ 1         │ 2          │ 2          │ 2       │ 2         │ 2        │ 2         │ 2         │ 2       │ 2          │ 2          │ 2          │            │            │          │            │            │            │          │            │          │           │          │            │          │            │          │           │          │            │            │         │           │           │         │           │          │            │          │            │            │          │          │            │            │           │          │           │            │            │            │            │          │          │            │           │           │            │            │            │            │            │            │            │           │          │           │            │            │          │            │          │         │         │           │          │         │         │            │           │            │         │          │           │ 2          │           │ 20230527  │ 0         │           │           │\n",
       "│ 2       │ A92.0     │ 20230429   │ 202317  │ 2023    │ 31        │ 316720     │ 1467       │ 2206528    │ 20230428   │ 202317  │ 1993     │ 4030       │ F       │ 2          │ 4       │ 9          │ 31      │ 316720     │ 1467       │ 1       │ 20230429  │ 524105     │ 1       │ 1       │ 1        │ 1        │ 2       │ 1       │ 2          │ 2          │ 1       │ 2         │ 2          │ 2          │ 2       │ 2         │ 2        │ 2         │ 2         │ 2       │ 2          │ 2          │ 2          │            │            │          │            │            │            │          │            │          │           │          │            │          │            │          │           │          │ 2          │            │         │           │ 1         │ 31      │ 1         │ 316720   │ 13         │ 2        │            │ 1          │ 1        │          │ 20230601   │            │           │          │           │            │            │            │            │          │          │            │           │           │            │            │            │            │            │            │            │           │          │           │            │            │          │            │          │         │         │           │          │         │         │            │           │            │         │          │           │ 2          │           │ 20230623  │ 0         │           │           │\n",
       "│ 2       │ A92.0     │ 20230429   │ 202317  │ 2023    │ 31        │ 316720     │ 1467       │ 3296997    │ 20230424   │ 202317  │ 1971     │ 4052       │ M       │ 6          │ 4       │            │ 31      │ 316720     │ 1467       │ 1       │ 20230429  │ 999993     │ 1       │ 1       │ 1        │ 1        │ 2       │ 2       │ 1          │ 1          │ 2       │ 1         │ 1          │ 2          │ 2       │ 2         │ 2        │ 2         │ 2         │ 2       │ 2          │ 2          │ 2          │            │            │          │            │            │            │          │            │          │           │          │            │          │            │          │           │          │ 2          │            │         │           │           │         │           │          │ 13         │ 2        │            │ 1          │ 1        │          │ 20230623   │            │           │          │           │            │            │            │            │          │          │            │           │           │            │            │            │            │            │            │            │           │          │           │            │            │          │            │          │         │         │           │          │         │         │            │           │            │         │          │           │ 2          │           │ 20230623  │ 0         │           │           │\n",
       "│ 2       │ A92.0     │ 20230429   │ 202317  │ 2023    │ 31        │ 316720     │ 1467       │ 3296997    │ 20230428   │ 202317  │ 1994     │ 4028       │ F       │ 5          │ 4       │ 9          │ 31      │ 316720     │ 1467       │ 1       │ 20230429  │ 999994     │ 1       │ 1       │ 1        │ 2        │ 2       │ 1       │ 1          │ 2          │ 2       │ 1         │ 2          │ 2          │ 2       │ 2         │ 2        │ 2         │ 2         │ 2       │ 1          │ 2          │ 2          │            │            │          │            │            │            │          │            │          │           │          │            │          │            │          │           │          │ 2          │            │         │           │ 1         │ 31      │ 1         │ 316720   │ 13         │ 2        │            │ 1          │ 1        │          │ 20230601   │            │           │          │           │            │            │            │            │          │          │            │           │           │            │            │            │            │            │            │            │           │          │           │            │            │          │            │          │         │         │           │          │         │         │            │           │            │         │          │           │ 2          │           │ 20230623  │ 0         │           │           │\n",
       "│ 2       │ A92.0     │ 20230429   │ 202317  │ 2023    │ 31        │ 312710     │ 1461       │ 2098539    │ 20230429   │ 202317  │ 2011     │ 4011       │ M       │ 6          │ 1       │ 4          │ 31      │ 312710     │ 1461       │ 1       │ 20230429  │ 999991     │ 1       │ 2       │ 2        │ 2        │ 2       │ 2       │ 1          │ 2          │ 2       │ 2         │ 2          │ 1          │ 2       │ 2         │ 2        │ 2         │ 2         │ 2       │ 2          │ 1          │ 2          │            │            │          │            │            │            │          │            │          │           │          │            │          │            │          │           │          │            │            │         │           │           │         │           │          │ 13         │ 1        │            │ 1          │          │          │ 20230629   │            │           │          │           │            │            │            │            │          │          │            │           │           │            │            │            │            │            │            │            │           │          │           │            │            │          │            │          │         │         │           │          │         │         │            │           │            │         │          │           │ 2          │           │ 20230629  │ 0         │           │           │\n",
       "│ 2       │ A92.0     │ 20230429   │ 202317  │ 2023    │ 31        │ 312710     │ 1461       │ 2098539    │ 20230428   │ 202317  │ 1976     │ 4047       │ M       │ 6          │ 1       │ 2          │ 31      │ 312710     │ 1461       │ 1       │ 20230429  │ 999994     │ 1       │ 1       │ 1        │ 2        │ 2       │ 2       │ 1          │ 2          │ 2       │ 2         │ 2          │ 2          │ 2       │ 2         │ 2        │ 2         │ 1         │ 2       │ 2          │ 2          │ 2          │            │            │          │            │            │            │          │            │          │           │          │            │          │            │          │           │          │            │            │         │           │           │         │           │          │ 13         │ 1        │            │ 1          │          │          │ 20230629   │            │           │          │           │            │            │            │            │          │          │            │           │           │            │            │            │            │            │            │            │           │          │           │            │            │          │            │          │         │         │           │          │         │         │            │           │            │         │          │           │ 2          │           │ 20230629  │ 0         │           │           │\n",
       "│ 2       │ A92.0     │ 20230429   │ 202317  │ 2023    │ 31        │ 315460     │ 1449       │ 2756749    │ 20230423   │ 202317  │ 2001     │ 4022       │ M       │ 6          │ 4       │ 9          │ 31      │ 315460     │ 1449       │ 1       │ 20230429  │            │ 1       │ 1       │ 1        │ 2        │ 2       │ 2       │ 2          │ 2          │ 2       │ 1         │ 2          │ 2          │ 2       │ 2         │ 2        │ 2         │ 2         │ 2       │ 2          │ 2          │ 2          │            │            │          │ 4          │ 4          │ 4          │          │            │          │           │          │ 4          │ 20230427 │ 1          │          │           │          │ 2          │            │         │           │ 1         │ 31      │ 1         │ 315460   │ 13         │ 1        │            │ 1          │ 1        │          │ 20230901   │            │           │          │           │            │            │            │            │          │          │            │           │           │            │            │            │            │            │            │            │           │          │           │            │            │          │            │          │         │         │           │          │         │         │            │           │            │         │          │           │ 2          │           │ 20230624  │ 1         │           │           │\n",
       "│ 2       │ A92.0     │ 20230429   │ 202317  │ 2023    │ 31        │ 312710     │ 1461       │ 2098539    │ 20230428   │ 202317  │ 1987     │ 4035       │ F       │ 5          │ 4       │ 9          │ 31      │ 312710     │ 1461       │ 1       │ 20230429  │ 999992     │ 1       │ 2       │ 2        │ 2        │ 2       │ 2       │ 1          │ 2          │ 2       │ 2         │ 2          │ 2          │ 2       │ 2         │ 2        │ 2         │ 2         │ 2       │ 2          │ 2          │ 2          │            │            │          │            │            │            │          │            │          │           │          │            │          │            │          │           │          │            │            │         │           │           │         │           │          │ 13         │ 1        │            │ 1          │          │          │ 20230629   │            │           │          │           │            │            │            │            │          │          │            │           │           │            │            │            │            │            │            │            │           │          │           │            │            │          │            │          │         │         │           │          │         │         │            │           │            │         │          │           │ 2          │           │ 20230629  │ 1         │           │           │\n",
       "│ 2       │ A92.0     │ 20230429   │ 202317  │ 2023    │ 31        │ 316720     │ 1467       │ 3296997    │ 20230428   │ 202317  │ 1994     │ 4029       │ F       │ 5          │ 4       │            │ 31      │ 316720     │ 1467       │ 1       │ 20230429  │ 516345     │ 2       │ 1       │ 1        │ 2        │ 1       │ 1       │ 1          │ 1          │ 1       │ 1         │ 2          │ 2          │ 2       │ 2         │ 2        │ 2         │ 2         │ 2       │ 2          │ 2          │ 2          │            │            │          │            │            │            │          │            │          │           │          │            │          │            │          │           │          │ 2          │            │         │           │           │         │           │          │ 5          │ 2        │            │            │ 1        │          │ 20230607   │            │           │          │           │            │            │            │            │          │          │            │           │           │            │            │            │            │            │            │            │           │          │           │            │            │          │            │          │         │         │           │          │         │         │            │           │            │         │          │           │ 2          │           │ 20230607  │ 0         │           │           │\n",
       "│ 2       │ A92.0     │ 20230429   │ 202317  │ 2023    │ 31        │ 313130     │ 1468       │ 2205440    │ 20230429   │ 202317  │ 1964     │ 4058       │ M       │ 6          │ 9       │ 9          │ 31      │ 313130     │ 1468       │ 1       │ 20230429  │            │ 1       │ 1       │ 1        │ 2        │ 2       │ 1       │ 2          │ 2          │ 2       │ 1         │ 2          │ 2          │ 2       │ 2         │ 2        │ 2         │ 2         │ 2       │ 2          │ 2          │ 2          │            │            │          │            │            │            │          │            │          │           │          │            │          │            │          │           │          │ 2          │            │         │           │ 1         │ 31      │ 1         │ 313130   │ 13         │ 2        │            │ 1          │ 1        │          │ 20230705   │            │           │          │           │            │            │            │            │          │          │            │           │           │            │            │            │            │            │            │            │           │          │           │            │            │          │            │          │         │         │           │          │         │         │            │           │            │         │          │           │ 2          │           │ 20230718  │ 0         │           │           │\n",
       "├─────────┴───────────┴────────────┴─────────┴─────────┴───────────┴────────────┴────────────┴────────────┴────────────┴─────────┴──────────┴────────────┴─────────┴────────────┴─────────┴────────────┴─────────┴────────────┴────────────┴─────────┴───────────┴────────────┴─────────┴─────────┴──────────┴──────────┴─────────┴─────────┴────────────┴────────────┴─────────┴───────────┴────────────┴────────────┴─────────┴───────────┴──────────┴───────────┴───────────┴─────────┴────────────┴────────────┴────────────┴────────────┴────────────┴──────────┴────────────┴────────────┴────────────┴──────────┴────────────┴──────────┴───────────┴──────────┴────────────┴──────────┴────────────┴──────────┴───────────┴──────────┴────────────┴────────────┴─────────┴───────────┴───────────┴─────────┴───────────┴──────────┴────────────┴──────────┴────────────┴────────────┴──────────┴──────────┴────────────┴────────────┴───────────┴──────────┴───────────┴────────────┴────────────┴────────────┴────────────┴──────────┴──────────┴────────────┴───────────┴───────────┴────────────┴────────────┴────────────┴────────────┴────────────┴────────────┴────────────┴───────────┴──────────┴───────────┴────────────┴────────────┴──────────┴────────────┴──────────┴─────────┴─────────┴───────────┴──────────┴─────────┴─────────┴────────────┴───────────┴────────────┴─────────┴──────────┴───────────┴────────────┴───────────┴───────────┴───────────┴───────────┴───────────┤\n",
       "│ ? rows (>9999 rows, 20 shown)                                                                                                                                                                                                                                                                                                                                                                                                                                                                                                                                                                                                                                                                                                                                                                                                                                                                                                                                                                                                                                                                                                                                                                                                                                                                                                                                                                                                                                                             122 columns │\n",
       "└───────────────────────────────────────────────────────────────────────────────────────────────────────────────────────────────────────────────────────────────────────────────────────────────────────────────────────────────────────────────────────────────────────────────────────────────────────────────────────────────────────────────────────────────────────────────────────────────────────────────────────────────────────────────────────────────────────────────────────────────────────────────────────────────────────────────────────────────────────────────────────────────────────────────────────────────────────────────────────────────────────────────────────────────────────────────────────────────────────────────────────────────────────────────────────────────────────────────────────────────────────────────────────────────────────────────────────────────────────────────────────────────────────────────────────────────────────────────────────────────────────────────────────────────────────────────────────────────────────────────────────────────────────────────────────────────────────────────────────────────────────────────────────────────────────────────────────────────────────────────────────────────────────────────────────────────────────────────────────────────────────────────────────────────────────────────────────────────────────────────────────────────────────────────────────────────────────────────────────────────────────┘"
      ]
     },
     "execution_count": 64,
     "metadata": {},
     "output_type": "execute_result"
    }
   ],
   "source": [
    "df2"
   ]
  },
  {
   "cell_type": "code",
   "execution_count": 65,
   "metadata": {},
   "outputs": [],
   "source": [
    "df3 = df2.df()"
   ]
  },
  {
   "cell_type": "code",
   "execution_count": 66,
   "metadata": {},
   "outputs": [],
   "source": [
    "df3_alt = conn.execute(\"SELECT * FROM sinan\").fetchdf()"
   ]
  },
  {
   "cell_type": "code",
   "execution_count": 67,
   "metadata": {},
   "outputs": [],
   "source": [
    "parquet_path = (\n",
    "    Path().resolve().parents[0] / \"src\" / \"data\" / \"parquet\" / \"CHIKBR23.parquet\"\n",
    ")\n",
    "df3_alt2 = pd.read_parquet(parquet_path)"
   ]
  },
  {
   "cell_type": "code",
   "execution_count": null,
   "metadata": {},
   "outputs": [],
   "source": []
  }
 ],
 "metadata": {
  "kernelspec": {
   "display_name": ".venv",
   "language": "python",
   "name": "python3"
  },
  "language_info": {
   "codemirror_mode": {
    "name": "ipython",
    "version": 3
   },
   "file_extension": ".py",
   "mimetype": "text/x-python",
   "name": "python",
   "nbconvert_exporter": "python",
   "pygments_lexer": "ipython3",
   "version": "3.12.7"
  }
 },
 "nbformat": 4,
 "nbformat_minor": 2
}
