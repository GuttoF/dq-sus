{
 "cells": [
  {
   "cell_type": "code",
   "execution_count": 1,
   "metadata": {},
   "outputs": [],
   "source": [
    "from pathlib import Path\n",
    "\n",
    "import pandas as pd\n",
    "from pysus.online_data import SINAN\n",
    "\n",
    "metadata = SINAN.metadata_df(\"DENG\")"
   ]
  },
  {
   "cell_type": "code",
   "execution_count": 2,
   "metadata": {},
   "outputs": [],
   "source": [
    "path = Path().resolve().parents[0] / \"data\" / \"raw\"\n",
    "path.mkdir(parents=True, exist_ok=True)"
   ]
  },
  {
   "cell_type": "code",
   "execution_count": 3,
   "metadata": {},
   "outputs": [],
   "source": [
    "experiment_path = (\n",
    "    Path().resolve().parents[0] / \"src\" / \"data\" / \"parquet\" / \"CHIKBR23.parquet\"\n",
    ")"
   ]
  },
  {
   "cell_type": "code",
   "execution_count": 4,
   "metadata": {},
   "outputs": [
    {
     "data": {
      "text/html": [
       "<div>\n",
       "<style scoped>\n",
       "    .dataframe tbody tr th:only-of-type {\n",
       "        vertical-align: middle;\n",
       "    }\n",
       "\n",
       "    .dataframe tbody tr th {\n",
       "        vertical-align: top;\n",
       "    }\n",
       "\n",
       "    .dataframe thead th {\n",
       "        text-align: right;\n",
       "    }\n",
       "</style>\n",
       "<table border=\"1\" class=\"dataframe\">\n",
       "  <thead>\n",
       "    <tr style=\"text-align: right;\">\n",
       "      <th></th>\n",
       "      <th>Nome do campo</th>\n",
       "      <th>Campo</th>\n",
       "      <th>Tipo</th>\n",
       "      <th>Categoria</th>\n",
       "      <th>Descrição</th>\n",
       "      <th>Características</th>\n",
       "      <th>DBF</th>\n",
       "    </tr>\n",
       "  </thead>\n",
       "  <tbody>\n",
       "    <tr>\n",
       "      <th>0</th>\n",
       "      <td>2-Agravo/doença</td>\n",
       "      <td>NaN</td>\n",
       "      <td>VARCHAR(1)</td>\n",
       "      <td>1-Dengue\\n2-Chikungunya</td>\n",
       "      <td>Especifica a suspeição do agravo.</td>\n",
       "      <td>Campo Obrigatório\\nPreenchendo o código,\\na de...</td>\n",
       "      <td>ID_AGRAVO</td>\n",
       "    </tr>\n",
       "    <tr>\n",
       "      <th>1</th>\n",
       "      <td>31-Data da Investigação</td>\n",
       "      <td>dt_investigacao</td>\n",
       "      <td>DATE</td>\n",
       "      <td>NaN</td>\n",
       "      <td>Informar a data da investigação</td>\n",
       "      <td>Campo obrigatório\\n- Não aceitar Data da\\ninve...</td>\n",
       "      <td>DT_INVEST</td>\n",
       "    </tr>\n",
       "    <tr>\n",
       "      <th>2</th>\n",
       "      <td>32- Ocupação/ramo de atividade econômica</td>\n",
       "      <td>co_cbo_ocupacao</td>\n",
       "      <td>VARCHAR(6)</td>\n",
       "      <td>NaN</td>\n",
       "      <td>Informar a atividade exercida pelo paciente no...</td>\n",
       "      <td>NaN</td>\n",
       "      <td>ID_OCUPA_N</td>\n",
       "    </tr>\n",
       "    <tr>\n",
       "      <th>3</th>\n",
       "      <td>33- Sinais clínicos (Febre)</td>\n",
       "      <td>NaN</td>\n",
       "      <td>VARCHAR(1)</td>\n",
       "      <td>1 – Sim\\n2 – Não</td>\n",
       "      <td>Informar qual sinal clínico ou achados\\nlabora...</td>\n",
       "      <td>Campo obrigatório</td>\n",
       "      <td>FEBRE</td>\n",
       "    </tr>\n",
       "    <tr>\n",
       "      <th>4</th>\n",
       "      <td>33- Sinais clínicos (Mialgia)</td>\n",
       "      <td>NaN</td>\n",
       "      <td>VARCHAR(1)</td>\n",
       "      <td>1 – Sim\\n2 – Não</td>\n",
       "      <td>Informar qual sinal clínico ou achados\\nlabora...</td>\n",
       "      <td>Campo obrigatório</td>\n",
       "      <td>MIALGIA</td>\n",
       "    </tr>\n",
       "    <tr>\n",
       "      <th>...</th>\n",
       "      <td>...</td>\n",
       "      <td>...</td>\n",
       "      <td>...</td>\n",
       "      <td>...</td>\n",
       "      <td>...</td>\n",
       "      <td>...</td>\n",
       "      <td>...</td>\n",
       "    </tr>\n",
       "    <tr>\n",
       "      <th>83</th>\n",
       "      <td>70- Dengue grave (Alteração da consciência)</td>\n",
       "      <td>NaN</td>\n",
       "      <td>VARCHAR(1)</td>\n",
       "      <td>1 – Sim\\n2 – Não</td>\n",
       "      <td>Informar qual sinal de gravidade foi\\nencontrado</td>\n",
       "      <td>Campo obrigatório\\nSe campo 62-\\nClassificação...</td>\n",
       "      <td>GRAV_CONSC</td>\n",
       "    </tr>\n",
       "    <tr>\n",
       "      <th>84</th>\n",
       "      <td>70- Dengue grave (Outros órgãos)</td>\n",
       "      <td>NaN</td>\n",
       "      <td>NaN</td>\n",
       "      <td>NaN</td>\n",
       "      <td>Informar qual sinal de gravidade foi\\nencontrado</td>\n",
       "      <td>Campo obrigatório\\nSe campo 62-\\nClassificação...</td>\n",
       "      <td>GRAV_ORGAO</td>\n",
       "    </tr>\n",
       "    <tr>\n",
       "      <th>85</th>\n",
       "      <td>71- Dengue grave Data de início dos sintomas</td>\n",
       "      <td>NaN</td>\n",
       "      <td>DATE</td>\n",
       "      <td>NaN</td>\n",
       "      <td>Informar data de início dos sinais de alarme.\\...</td>\n",
       "      <td>Campo obrigatório\\nSe campo 62-\\nClassificação...</td>\n",
       "      <td>DT_GRAV</td>\n",
       "    </tr>\n",
       "    <tr>\n",
       "      <th>86</th>\n",
       "      <td>Informações complementares e observações adici...</td>\n",
       "      <td>ds_observacao</td>\n",
       "      <td>VARCHAR(255)</td>\n",
       "      <td>NaN</td>\n",
       "      <td>Informações complementares e observações\\nadic...</td>\n",
       "      <td>Habilitado para todas\\nnotificações</td>\n",
       "      <td>DS_OBS</td>\n",
       "    </tr>\n",
       "    <tr>\n",
       "      <th>87</th>\n",
       "      <td>NaN</td>\n",
       "      <td>NaN</td>\n",
       "      <td>NaN</td>\n",
       "      <td>NaN</td>\n",
       "      <td>NaN</td>\n",
       "      <td>NaN</td>\n",
       "      <td>NaN</td>\n",
       "    </tr>\n",
       "  </tbody>\n",
       "</table>\n",
       "<p>88 rows × 7 columns</p>\n",
       "</div>"
      ],
      "text/plain": [
       "                                        Nome do campo            Campo  \\\n",
       "0                                     2-Agravo/doença              NaN   \n",
       "1                             31-Data da Investigação  dt_investigacao   \n",
       "2            32- Ocupação/ramo de atividade econômica  co_cbo_ocupacao   \n",
       "3                         33- Sinais clínicos (Febre)              NaN   \n",
       "4                       33- Sinais clínicos (Mialgia)              NaN   \n",
       "..                                                ...              ...   \n",
       "83        70- Dengue grave (Alteração da consciência)              NaN   \n",
       "84                   70- Dengue grave (Outros órgãos)              NaN   \n",
       "85       71- Dengue grave Data de início dos sintomas              NaN   \n",
       "86  Informações complementares e observações adici...    ds_observacao   \n",
       "87                                                NaN              NaN   \n",
       "\n",
       "            Tipo                Categoria  \\\n",
       "0     VARCHAR(1)  1-Dengue\\n2-Chikungunya   \n",
       "1           DATE                      NaN   \n",
       "2     VARCHAR(6)                      NaN   \n",
       "3     VARCHAR(1)         1 – Sim\\n2 – Não   \n",
       "4     VARCHAR(1)         1 – Sim\\n2 – Não   \n",
       "..           ...                      ...   \n",
       "83    VARCHAR(1)         1 – Sim\\n2 – Não   \n",
       "84           NaN                      NaN   \n",
       "85          DATE                      NaN   \n",
       "86  VARCHAR(255)                      NaN   \n",
       "87           NaN                      NaN   \n",
       "\n",
       "                                            Descrição  \\\n",
       "0                   Especifica a suspeição do agravo.   \n",
       "1                     Informar a data da investigação   \n",
       "2   Informar a atividade exercida pelo paciente no...   \n",
       "3   Informar qual sinal clínico ou achados\\nlabora...   \n",
       "4   Informar qual sinal clínico ou achados\\nlabora...   \n",
       "..                                                ...   \n",
       "83   Informar qual sinal de gravidade foi\\nencontrado   \n",
       "84   Informar qual sinal de gravidade foi\\nencontrado   \n",
       "85  Informar data de início dos sinais de alarme.\\...   \n",
       "86  Informações complementares e observações\\nadic...   \n",
       "87                                                NaN   \n",
       "\n",
       "                                      Características         DBF  \n",
       "0   Campo Obrigatório\\nPreenchendo o código,\\na de...   ID_AGRAVO  \n",
       "1   Campo obrigatório\\n- Não aceitar Data da\\ninve...   DT_INVEST  \n",
       "2                                                 NaN  ID_OCUPA_N  \n",
       "3                                   Campo obrigatório       FEBRE  \n",
       "4                                   Campo obrigatório     MIALGIA  \n",
       "..                                                ...         ...  \n",
       "83  Campo obrigatório\\nSe campo 62-\\nClassificação...  GRAV_CONSC  \n",
       "84  Campo obrigatório\\nSe campo 62-\\nClassificação...  GRAV_ORGAO  \n",
       "85  Campo obrigatório\\nSe campo 62-\\nClassificação...     DT_GRAV  \n",
       "86                Habilitado para todas\\nnotificações      DS_OBS  \n",
       "87                                                NaN         NaN  \n",
       "\n",
       "[88 rows x 7 columns]"
      ]
     },
     "execution_count": 4,
     "metadata": {},
     "output_type": "execute_result"
    }
   ],
   "source": [
    "metadata"
   ]
  },
  {
   "cell_type": "code",
   "execution_count": 5,
   "metadata": {},
   "outputs": [
    {
     "data": {
      "text/plain": [
       "Index(['Nome do campo', 'Campo', 'Tipo', 'Categoria', 'Descrição',\n",
       "       'Características', 'DBF'],\n",
       "      dtype='object')"
      ]
     },
     "execution_count": 5,
     "metadata": {},
     "output_type": "execute_result"
    }
   ],
   "source": [
    "metadata.columns"
   ]
  },
  {
   "cell_type": "code",
   "execution_count": 6,
   "metadata": {},
   "outputs": [],
   "source": [
    "data = metadata[[\"DBF\", \"Nome do campo\", \"Descrição\", \"Tipo\"]]"
   ]
  },
  {
   "cell_type": "code",
   "execution_count": 7,
   "metadata": {},
   "outputs": [
    {
     "data": {
      "text/html": [
       "<div>\n",
       "<style scoped>\n",
       "    .dataframe tbody tr th:only-of-type {\n",
       "        vertical-align: middle;\n",
       "    }\n",
       "\n",
       "    .dataframe tbody tr th {\n",
       "        vertical-align: top;\n",
       "    }\n",
       "\n",
       "    .dataframe thead th {\n",
       "        text-align: right;\n",
       "    }\n",
       "</style>\n",
       "<table border=\"1\" class=\"dataframe\">\n",
       "  <thead>\n",
       "    <tr style=\"text-align: right;\">\n",
       "      <th></th>\n",
       "      <th>DBF</th>\n",
       "      <th>Nome do campo</th>\n",
       "      <th>Descrição</th>\n",
       "      <th>Tipo</th>\n",
       "    </tr>\n",
       "  </thead>\n",
       "  <tbody>\n",
       "    <tr>\n",
       "      <th>0</th>\n",
       "      <td>ID_AGRAVO</td>\n",
       "      <td>2-Agravo/doença</td>\n",
       "      <td>Especifica a suspeição do agravo.</td>\n",
       "      <td>VARCHAR(1)</td>\n",
       "    </tr>\n",
       "    <tr>\n",
       "      <th>1</th>\n",
       "      <td>DT_INVEST</td>\n",
       "      <td>31-Data da Investigação</td>\n",
       "      <td>Informar a data da investigação</td>\n",
       "      <td>DATE</td>\n",
       "    </tr>\n",
       "    <tr>\n",
       "      <th>2</th>\n",
       "      <td>ID_OCUPA_N</td>\n",
       "      <td>32- Ocupação/ramo de atividade econômica</td>\n",
       "      <td>Informar a atividade exercida pelo paciente no...</td>\n",
       "      <td>VARCHAR(6)</td>\n",
       "    </tr>\n",
       "    <tr>\n",
       "      <th>3</th>\n",
       "      <td>FEBRE</td>\n",
       "      <td>33- Sinais clínicos (Febre)</td>\n",
       "      <td>Informar qual sinal clínico ou achados\\nlabora...</td>\n",
       "      <td>VARCHAR(1)</td>\n",
       "    </tr>\n",
       "    <tr>\n",
       "      <th>4</th>\n",
       "      <td>MIALGIA</td>\n",
       "      <td>33- Sinais clínicos (Mialgia)</td>\n",
       "      <td>Informar qual sinal clínico ou achados\\nlabora...</td>\n",
       "      <td>VARCHAR(1)</td>\n",
       "    </tr>\n",
       "  </tbody>\n",
       "</table>\n",
       "</div>"
      ],
      "text/plain": [
       "          DBF                             Nome do campo  \\\n",
       "0   ID_AGRAVO                           2-Agravo/doença   \n",
       "1   DT_INVEST                   31-Data da Investigação   \n",
       "2  ID_OCUPA_N  32- Ocupação/ramo de atividade econômica   \n",
       "3       FEBRE               33- Sinais clínicos (Febre)   \n",
       "4     MIALGIA             33- Sinais clínicos (Mialgia)   \n",
       "\n",
       "                                           Descrição        Tipo  \n",
       "0                  Especifica a suspeição do agravo.  VARCHAR(1)  \n",
       "1                    Informar a data da investigação        DATE  \n",
       "2  Informar a atividade exercida pelo paciente no...  VARCHAR(6)  \n",
       "3  Informar qual sinal clínico ou achados\\nlabora...  VARCHAR(1)  \n",
       "4  Informar qual sinal clínico ou achados\\nlabora...  VARCHAR(1)  "
      ]
     },
     "execution_count": 7,
     "metadata": {},
     "output_type": "execute_result"
    }
   ],
   "source": [
    "data.head()"
   ]
  },
  {
   "cell_type": "code",
   "execution_count": 8,
   "metadata": {},
   "outputs": [],
   "source": [
    "data.to_csv(path / \"metadata.csv\", index=False)"
   ]
  },
  {
   "cell_type": "code",
   "execution_count": 9,
   "metadata": {},
   "outputs": [],
   "source": [
    "dbf_data = data[\"DBF\"].tolist()"
   ]
  },
  {
   "cell_type": "code",
   "execution_count": 21,
   "metadata": {},
   "outputs": [],
   "source": [
    "df = pd.read_parquet(experiment_path)"
   ]
  },
  {
   "cell_type": "code",
   "execution_count": 11,
   "metadata": {},
   "outputs": [],
   "source": [
    "columns_data = df.columns.tolist()"
   ]
  },
  {
   "cell_type": "code",
   "execution_count": 12,
   "metadata": {},
   "outputs": [
    {
     "data": {
      "text/plain": [
       "78"
      ]
     },
     "execution_count": 12,
     "metadata": {},
     "output_type": "execute_result"
    }
   ],
   "source": [
    "comparation = [x for x in dbf_data if x in columns_data]\n",
    "len(comparation)"
   ]
  },
  {
   "cell_type": "code",
   "execution_count": 13,
   "metadata": {},
   "outputs": [
    {
     "data": {
      "text/plain": [
       "88"
      ]
     },
     "execution_count": 13,
     "metadata": {},
     "output_type": "execute_result"
    }
   ],
   "source": [
    "len(dbf_data)"
   ]
  },
  {
   "cell_type": "code",
   "execution_count": 14,
   "metadata": {},
   "outputs": [
    {
     "data": {
      "text/plain": [
       "122"
      ]
     },
     "execution_count": 14,
     "metadata": {},
     "output_type": "execute_result"
    }
   ],
   "source": [
    "len(columns_data)"
   ]
  },
  {
   "cell_type": "code",
   "execution_count": 15,
   "metadata": {},
   "outputs": [],
   "source": [
    "missing_columns_dbf_data = [x for x in columns_data if x not in dbf_data]\n",
    "missing_columns_column_data = [x for x in dbf_data if x not in columns_data]"
   ]
  },
  {
   "cell_type": "code",
   "execution_count": 16,
   "metadata": {},
   "outputs": [
    {
     "data": {
      "text/plain": [
       "['PETÉQUIA_N',\n",
       " 'ÁCIDO_PEPT',\n",
       " 'HOSPITAL',\n",
       " 'DDD_HOSP',\n",
       " 'TEL_HOSP',\n",
       " 'CODISINF',\n",
       " 'CO_BAINF\\nNOBAIINF',\n",
       " 'CLINIC_CHIK',\n",
       " 'DS_OBS',\n",
       " nan]"
      ]
     },
     "execution_count": 16,
     "metadata": {},
     "output_type": "execute_result"
    }
   ],
   "source": [
    "missing_columns_column_data"
   ]
  },
  {
   "cell_type": "code",
   "execution_count": 17,
   "metadata": {},
   "outputs": [
    {
     "name": "stdout",
     "output_type": "stream",
     "text": [
      "['TP_NOT', 'DT_NOTIFIC', 'SEM_NOT', 'NU_ANO', 'SG_UF_NOT', 'ID_MUNICIP', 'ID_REGIONA', 'ID_UNIDADE', 'DT_SIN_PRI', 'SEM_PRI', 'ANO_NASC', 'NU_IDADE_N', 'CS_SEXO', 'CS_GESTANT', 'CS_RACA', 'CS_ESCOL_N', 'SG_UF', 'ID_MN_RESI', 'ID_RG_RESI', 'ID_PAIS', 'PETEQUIA_N', 'ACIDO_PEPT', 'DOENCA_TRA', 'CLINC_CHIK', 'MANI_HEMOR', 'EPISTAXE', 'GENGIVO', 'METRO', 'PETEQUIAS', 'HEMATURA', 'SANGRAM', 'LACO_N', 'PLASMATICO', 'EVIDENCIA', 'PLAQ_MENOR', 'CON_FHD', 'COMPLICA', 'NU_LOTE_I', 'TP_SISTEMA', 'NDUPLIC_N', 'DT_DIGITA', 'CS_FLXRET', 'FLXRECEBI', 'MIGRADO_W']\n"
     ]
    }
   ],
   "source": [
    "print(missing_columns_dbf_data)"
   ]
  },
  {
   "cell_type": "code",
   "execution_count": 18,
   "metadata": {},
   "outputs": [],
   "source": [
    "df_cols = pd.DataFrame(columns_data, columns=[\"columns\"])\n",
    "df_cols.to_csv(path / \"columns_data.csv\", index=False)"
   ]
  },
  {
   "cell_type": "code",
   "execution_count": 22,
   "metadata": {},
   "outputs": [
    {
     "data": {
      "text/html": [
       "<div>\n",
       "<style scoped>\n",
       "    .dataframe tbody tr th:only-of-type {\n",
       "        vertical-align: middle;\n",
       "    }\n",
       "\n",
       "    .dataframe tbody tr th {\n",
       "        vertical-align: top;\n",
       "    }\n",
       "\n",
       "    .dataframe thead th {\n",
       "        text-align: right;\n",
       "    }\n",
       "</style>\n",
       "<table border=\"1\" class=\"dataframe\">\n",
       "  <thead>\n",
       "    <tr style=\"text-align: right;\">\n",
       "      <th></th>\n",
       "      <th>TP_NOT</th>\n",
       "      <th>ID_AGRAVO</th>\n",
       "      <th>DT_NOTIFIC</th>\n",
       "      <th>SEM_NOT</th>\n",
       "      <th>NU_ANO</th>\n",
       "      <th>SG_UF_NOT</th>\n",
       "      <th>ID_MUNICIP</th>\n",
       "      <th>ID_REGIONA</th>\n",
       "      <th>ID_UNIDADE</th>\n",
       "      <th>DT_SIN_PRI</th>\n",
       "      <th>...</th>\n",
       "      <th>PLAQ_MENOR</th>\n",
       "      <th>CON_FHD</th>\n",
       "      <th>COMPLICA</th>\n",
       "      <th>NU_LOTE_I</th>\n",
       "      <th>TP_SISTEMA</th>\n",
       "      <th>NDUPLIC_N</th>\n",
       "      <th>DT_DIGITA</th>\n",
       "      <th>CS_FLXRET</th>\n",
       "      <th>FLXRECEBI</th>\n",
       "      <th>MIGRADO_W</th>\n",
       "    </tr>\n",
       "  </thead>\n",
       "  <tbody>\n",
       "    <tr>\n",
       "      <th>0</th>\n",
       "      <td>2</td>\n",
       "      <td>A92.0</td>\n",
       "      <td>20230417</td>\n",
       "      <td>202316</td>\n",
       "      <td>2023</td>\n",
       "      <td>31</td>\n",
       "      <td>314330</td>\n",
       "      <td>1473</td>\n",
       "      <td>6629296</td>\n",
       "      <td>20230417</td>\n",
       "      <td>...</td>\n",
       "      <td></td>\n",
       "      <td></td>\n",
       "      <td></td>\n",
       "      <td></td>\n",
       "      <td>2</td>\n",
       "      <td></td>\n",
       "      <td>20230420</td>\n",
       "      <td>1</td>\n",
       "      <td></td>\n",
       "      <td></td>\n",
       "    </tr>\n",
       "    <tr>\n",
       "      <th>1</th>\n",
       "      <td>2</td>\n",
       "      <td>A92.0</td>\n",
       "      <td>20230417</td>\n",
       "      <td>202316</td>\n",
       "      <td>2023</td>\n",
       "      <td>31</td>\n",
       "      <td>310850</td>\n",
       "      <td>1473</td>\n",
       "      <td>2172461</td>\n",
       "      <td>20230415</td>\n",
       "      <td>...</td>\n",
       "      <td></td>\n",
       "      <td></td>\n",
       "      <td></td>\n",
       "      <td></td>\n",
       "      <td>2</td>\n",
       "      <td></td>\n",
       "      <td>20230424</td>\n",
       "      <td>0</td>\n",
       "      <td></td>\n",
       "      <td></td>\n",
       "    </tr>\n",
       "    <tr>\n",
       "      <th>2</th>\n",
       "      <td>2</td>\n",
       "      <td>A92.0</td>\n",
       "      <td>20230417</td>\n",
       "      <td>202316</td>\n",
       "      <td>2023</td>\n",
       "      <td>31</td>\n",
       "      <td>310620</td>\n",
       "      <td>1449</td>\n",
       "      <td>0023663</td>\n",
       "      <td>20230417</td>\n",
       "      <td>...</td>\n",
       "      <td></td>\n",
       "      <td></td>\n",
       "      <td></td>\n",
       "      <td></td>\n",
       "      <td>2</td>\n",
       "      <td></td>\n",
       "      <td>20230425</td>\n",
       "      <td>1</td>\n",
       "      <td></td>\n",
       "      <td></td>\n",
       "    </tr>\n",
       "    <tr>\n",
       "      <th>3</th>\n",
       "      <td>2</td>\n",
       "      <td>A92.0</td>\n",
       "      <td>20230417</td>\n",
       "      <td>202316</td>\n",
       "      <td>2023</td>\n",
       "      <td>31</td>\n",
       "      <td>314330</td>\n",
       "      <td>1473</td>\n",
       "      <td>2219255</td>\n",
       "      <td>20230410</td>\n",
       "      <td>...</td>\n",
       "      <td></td>\n",
       "      <td></td>\n",
       "      <td></td>\n",
       "      <td></td>\n",
       "      <td>2</td>\n",
       "      <td></td>\n",
       "      <td>20230418</td>\n",
       "      <td>0</td>\n",
       "      <td></td>\n",
       "      <td></td>\n",
       "    </tr>\n",
       "    <tr>\n",
       "      <th>4</th>\n",
       "      <td>2</td>\n",
       "      <td>A92.0</td>\n",
       "      <td>20230417</td>\n",
       "      <td>202316</td>\n",
       "      <td>2023</td>\n",
       "      <td>31</td>\n",
       "      <td>310620</td>\n",
       "      <td>1449</td>\n",
       "      <td>0023442</td>\n",
       "      <td>20230415</td>\n",
       "      <td>...</td>\n",
       "      <td></td>\n",
       "      <td></td>\n",
       "      <td></td>\n",
       "      <td></td>\n",
       "      <td>2</td>\n",
       "      <td></td>\n",
       "      <td>20230417</td>\n",
       "      <td>1</td>\n",
       "      <td></td>\n",
       "      <td></td>\n",
       "    </tr>\n",
       "  </tbody>\n",
       "</table>\n",
       "<p>5 rows × 122 columns</p>\n",
       "</div>"
      ],
      "text/plain": [
       "  TP_NOT ID_AGRAVO DT_NOTIFIC SEM_NOT NU_ANO SG_UF_NOT ID_MUNICIP ID_REGIONA  \\\n",
       "0      2     A92.0   20230417  202316   2023        31     314330   1473       \n",
       "1      2     A92.0   20230417  202316   2023        31     310850   1473       \n",
       "2      2     A92.0   20230417  202316   2023        31     310620   1449       \n",
       "3      2     A92.0   20230417  202316   2023        31     314330   1473       \n",
       "4      2     A92.0   20230417  202316   2023        31     310620   1449       \n",
       "\n",
       "  ID_UNIDADE DT_SIN_PRI  ... PLAQ_MENOR CON_FHD COMPLICA  NU_LOTE_I  \\\n",
       "0    6629296   20230417  ...                                          \n",
       "1    2172461   20230415  ...                                          \n",
       "2    0023663   20230417  ...                                          \n",
       "3    2219255   20230410  ...                                          \n",
       "4    0023442   20230415  ...                                          \n",
       "\n",
       "  TP_SISTEMA NDUPLIC_N DT_DIGITA CS_FLXRET FLXRECEBI MIGRADO_W  \n",
       "0          2            20230420         1                      \n",
       "1          2            20230424         0                      \n",
       "2          2            20230425         1                      \n",
       "3          2            20230418         0                      \n",
       "4          2            20230417         1                      \n",
       "\n",
       "[5 rows x 122 columns]"
      ]
     },
     "execution_count": 22,
     "metadata": {},
     "output_type": "execute_result"
    }
   ],
   "source": [
    "df.head()"
   ]
  },
  {
   "cell_type": "code",
   "execution_count": 23,
   "metadata": {},
   "outputs": [
    {
     "data": {
      "text/plain": [
       "TP_NOT\n",
       "2    248193\n",
       "Name: count, dtype: int64"
      ]
     },
     "execution_count": 23,
     "metadata": {},
     "output_type": "execute_result"
    }
   ],
   "source": [
    "df[\"TP_NOT\"].value_counts()"
   ]
  },
  {
   "cell_type": "code",
   "execution_count": 25,
   "metadata": {},
   "outputs": [
    {
     "data": {
      "text/plain": [
       "0     \n",
       "1     \n",
       "2     \n",
       "3     \n",
       "4     \n",
       "Name: DOENCA_TRA, dtype: object"
      ]
     },
     "execution_count": 25,
     "metadata": {},
     "output_type": "execute_result"
    }
   ],
   "source": [
    "df[\"DOENCA_TRA\"].head(5)"
   ]
  },
  {
   "cell_type": "code",
   "execution_count": 26,
   "metadata": {},
   "outputs": [
    {
     "data": {
      "text/plain": [
       "0     \n",
       "1     \n",
       "2     \n",
       "3     \n",
       "4     \n",
       "Name: CON_FHD, dtype: object"
      ]
     },
     "execution_count": 26,
     "metadata": {},
     "output_type": "execute_result"
    }
   ],
   "source": [
    "df[\"CON_FHD\"].head(5)"
   ]
  },
  {
   "cell_type": "code",
   "execution_count": null,
   "metadata": {},
   "outputs": [],
   "source": []
  }
 ],
 "metadata": {
  "kernelspec": {
   "display_name": ".venv",
   "language": "python",
   "name": "python3"
  },
  "language_info": {
   "codemirror_mode": {
    "name": "ipython",
    "version": 3
   },
   "file_extension": ".py",
   "mimetype": "text/x-python",
   "name": "python",
   "nbconvert_exporter": "python",
   "pygments_lexer": "ipython3",
   "version": "3.12.7"
  }
 },
 "nbformat": 4,
 "nbformat_minor": 2
}
