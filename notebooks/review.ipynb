{
 "cells": [
  {
   "cell_type": "markdown",
   "metadata": {},
   "source": [
    "# Main"
   ]
  },
  {
   "cell_type": "code",
   "execution_count": 1,
   "metadata": {},
   "outputs": [],
   "source": [
    "from pathlib import Path\n",
    "\n",
    "import sys\n",
    "\n",
    "sys.path.append(str(Path().resolve().parent))"
   ]
  },
  {
   "cell_type": "markdown",
   "metadata": {},
   "source": [
    "## Pysus"
   ]
  },
  {
   "cell_type": "code",
   "execution_count": 2,
   "metadata": {},
   "outputs": [],
   "source": [
    "from pysus.ftp.databases.sinan import SINAN  # type: ignore\n",
    "import pandas as pd  # type: ignore\n",
    "\n",
    "sinan = SINAN().load()\n",
    "# file = sinan.get_files(\"CHIK\", [2022, 2023])\n",
    "# sinan.download(file)"
   ]
  },
  {
   "cell_type": "code",
   "execution_count": 3,
   "metadata": {},
   "outputs": [
    {
     "data": {
      "text/plain": [
       "[CHIKBR15.dbc,\n",
       " CHIKBR16.dbc,\n",
       " CHIKBR17.dbc,\n",
       " CHIKBR18.dbc,\n",
       " CHIKBR19.dbc,\n",
       " CHIKBR20.dbc,\n",
       " CHIKBR21.dbc,\n",
       " CHIKBR22.dbc,\n",
       " CHIKBR23.dbc,\n",
       " CHIKBR24.dbc,\n",
       " CHIKBR25.dbc]"
      ]
     },
     "execution_count": 3,
     "metadata": {},
     "output_type": "execute_result"
    }
   ],
   "source": [
    "sinan.get_files(dis_code=[\"CHIK\"])"
   ]
  },
  {
   "cell_type": "code",
   "execution_count": 4,
   "metadata": {},
   "outputs": [],
   "source": [
    "# path_2022 = (\"/Users/gutto/pysus/CHIKBR22.parquet\")\n",
    "# path_2023 = (\"/Users/gutto/pysus/CHIKBR23.parquet\")\n",
    "\n",
    "# df_2022 = pd.read_parquet(path_2022)\n",
    "# df_2023 = pd.read_parquet(path_2023)"
   ]
  },
  {
   "cell_type": "code",
   "execution_count": 5,
   "metadata": {},
   "outputs": [],
   "source": [
    "# df_2022.head()"
   ]
  },
  {
   "cell_type": "code",
   "execution_count": 6,
   "metadata": {},
   "outputs": [],
   "source": [
    "# df_2022.shape"
   ]
  },
  {
   "cell_type": "code",
   "execution_count": 7,
   "metadata": {},
   "outputs": [],
   "source": [
    "# df_2023.shape"
   ]
  },
  {
   "cell_type": "markdown",
   "metadata": {},
   "source": [
    "## Package"
   ]
  },
  {
   "cell_type": "code",
   "execution_count": 8,
   "metadata": {},
   "outputs": [],
   "source": [
    "from dq_sus.get_info import (\n",
    "    get_notifications,\n",
    "    get_personal_data,\n",
    "    get_clinical_signs,\n",
    "    get_patient_diseases,\n",
    "    get_exams,\n",
    "    get_hospital_info,\n",
    "    get_alarm_severities,\n",
    "    get_sinan_info,\n",
    "    get_years,\n",
    ")\n"
   ]
  },
  {
   "cell_type": "code",
   "execution_count": 9,
   "metadata": {},
   "outputs": [
    {
     "name": "stdout",
     "output_type": "stream",
     "text": [
      "The available data for chikungunya is from 2015 to 2025.\n"
     ]
    }
   ],
   "source": [
    "get_years(\"CHIK\")"
   ]
  },
  {
   "cell_type": "code",
   "execution_count": 10,
   "metadata": {},
   "outputs": [
    {
     "name": "stderr",
     "output_type": "stream",
     "text": [
      "CHIKBR22.parquet: 100%|██████████| 459k/459k [00:13<00:00, 34.5kB/s]\n"
     ]
    },
    {
     "data": {
      "application/vnd.jupyter.widget-view+json": {
       "model_id": "21615829ef444c24b56bf033202ddfbc",
       "version_major": 2,
       "version_minor": 0
      },
      "text/plain": [
       "FloatProgress(value=0.0, layout=Layout(width='auto'), style=ProgressStyle(bar_color='black'))"
      ]
     },
     "metadata": {},
     "output_type": "display_data"
    }
   ],
   "source": [
    "df1 = get_notifications(years=[2022])"
   ]
  },
  {
   "cell_type": "code",
   "execution_count": 11,
   "metadata": {},
   "outputs": [
    {
     "data": {
      "text/plain": [
       "Index(['notification_id', 'notification_type', 'disease_condition_id',\n",
       "       'notification_date', 'notification_week', 'notification_year',\n",
       "       'notification_state_id', 'notification_city_id',\n",
       "       'notification_region_id', 'notification_health_unit_id'],\n",
       "      dtype='object')"
      ]
     },
     "execution_count": 11,
     "metadata": {},
     "output_type": "execute_result"
    }
   ],
   "source": [
    "df1.columns"
   ]
  },
  {
   "cell_type": "code",
   "execution_count": 12,
   "metadata": {},
   "outputs": [
    {
     "data": {
      "text/html": [
       "<div>\n",
       "<style scoped>\n",
       "    .dataframe tbody tr th:only-of-type {\n",
       "        vertical-align: middle;\n",
       "    }\n",
       "\n",
       "    .dataframe tbody tr th {\n",
       "        vertical-align: top;\n",
       "    }\n",
       "\n",
       "    .dataframe thead th {\n",
       "        text-align: right;\n",
       "    }\n",
       "</style>\n",
       "<table border=\"1\" class=\"dataframe\">\n",
       "  <thead>\n",
       "    <tr style=\"text-align: right;\">\n",
       "      <th></th>\n",
       "      <th>notification_id</th>\n",
       "      <th>notification_type</th>\n",
       "      <th>disease_condition_id</th>\n",
       "      <th>notification_date</th>\n",
       "      <th>notification_week</th>\n",
       "      <th>notification_year</th>\n",
       "      <th>notification_state_id</th>\n",
       "      <th>notification_city_id</th>\n",
       "      <th>notification_region_id</th>\n",
       "      <th>notification_health_unit_id</th>\n",
       "    </tr>\n",
       "  </thead>\n",
       "  <tbody>\n",
       "    <tr>\n",
       "      <th>0</th>\n",
       "      <td>1</td>\n",
       "      <td>2</td>\n",
       "      <td>A92.0</td>\n",
       "      <td>20220504</td>\n",
       "      <td>202218</td>\n",
       "      <td>2022</td>\n",
       "      <td>23</td>\n",
       "      <td>230440</td>\n",
       "      <td>1519</td>\n",
       "      <td>2528983</td>\n",
       "    </tr>\n",
       "    <tr>\n",
       "      <th>1</th>\n",
       "      <td>2</td>\n",
       "      <td>2</td>\n",
       "      <td>A92.0</td>\n",
       "      <td>20220512</td>\n",
       "      <td>202219</td>\n",
       "      <td>2022</td>\n",
       "      <td>23</td>\n",
       "      <td>230260</td>\n",
       "      <td>1526</td>\n",
       "      <td>2427052</td>\n",
       "    </tr>\n",
       "    <tr>\n",
       "      <th>2</th>\n",
       "      <td>3</td>\n",
       "      <td>2</td>\n",
       "      <td>A92.0</td>\n",
       "      <td>20220513</td>\n",
       "      <td>202219</td>\n",
       "      <td>2022</td>\n",
       "      <td>23</td>\n",
       "      <td>231110</td>\n",
       "      <td>1529</td>\n",
       "      <td>2426749</td>\n",
       "    </tr>\n",
       "    <tr>\n",
       "      <th>3</th>\n",
       "      <td>4</td>\n",
       "      <td>2</td>\n",
       "      <td>A92.0</td>\n",
       "      <td>20220423</td>\n",
       "      <td>202216</td>\n",
       "      <td>2022</td>\n",
       "      <td>23</td>\n",
       "      <td>230535</td>\n",
       "      <td>1516</td>\n",
       "      <td>2561042</td>\n",
       "    </tr>\n",
       "    <tr>\n",
       "      <th>4</th>\n",
       "      <td>5</td>\n",
       "      <td>2</td>\n",
       "      <td>A92.0</td>\n",
       "      <td>20220513</td>\n",
       "      <td>202219</td>\n",
       "      <td>2022</td>\n",
       "      <td>23</td>\n",
       "      <td>230440</td>\n",
       "      <td>1519</td>\n",
       "      <td>2561166</td>\n",
       "    </tr>\n",
       "  </tbody>\n",
       "</table>\n",
       "</div>"
      ],
      "text/plain": [
       "   notification_id notification_type disease_condition_id notification_date  \\\n",
       "0                1                 2                A92.0          20220504   \n",
       "1                2                 2                A92.0          20220512   \n",
       "2                3                 2                A92.0          20220513   \n",
       "3                4                 2                A92.0          20220423   \n",
       "4                5                 2                A92.0          20220513   \n",
       "\n",
       "  notification_week notification_year notification_state_id  \\\n",
       "0            202218              2022                    23   \n",
       "1            202219              2022                    23   \n",
       "2            202219              2022                    23   \n",
       "3            202216              2022                    23   \n",
       "4            202219              2022                    23   \n",
       "\n",
       "  notification_city_id notification_region_id notification_health_unit_id  \n",
       "0               230440               1519                         2528983  \n",
       "1               230260               1526                         2427052  \n",
       "2               231110               1529                         2426749  \n",
       "3               230535               1516                         2561042  \n",
       "4               230440               1519                         2561166  "
      ]
     },
     "execution_count": 12,
     "metadata": {},
     "output_type": "execute_result"
    }
   ],
   "source": [
    "df1.head()"
   ]
  },
  {
   "cell_type": "code",
   "execution_count": 13,
   "metadata": {},
   "outputs": [
    {
     "data": {
      "text/plain": [
       "notification_id                0\n",
       "notification_type              0\n",
       "disease_condition_id           0\n",
       "notification_date              0\n",
       "notification_week              0\n",
       "notification_year              0\n",
       "notification_state_id          0\n",
       "notification_city_id           0\n",
       "notification_region_id         0\n",
       "notification_health_unit_id    0\n",
       "dtype: int64"
      ]
     },
     "execution_count": 13,
     "metadata": {},
     "output_type": "execute_result"
    }
   ],
   "source": [
    "# total de valores nulos\n",
    "df1.isnull().sum()"
   ]
  },
  {
   "cell_type": "code",
   "execution_count": 14,
   "metadata": {},
   "outputs": [
    {
     "data": {
      "text/plain": [
       "notification_id                 int64\n",
       "notification_type              object\n",
       "disease_condition_id           object\n",
       "notification_date              object\n",
       "notification_week              object\n",
       "notification_year              object\n",
       "notification_state_id          object\n",
       "notification_city_id           object\n",
       "notification_region_id         object\n",
       "notification_health_unit_id    object\n",
       "dtype: object"
      ]
     },
     "execution_count": 14,
     "metadata": {},
     "output_type": "execute_result"
    }
   ],
   "source": [
    "df1.dtypes"
   ]
  },
  {
   "cell_type": "code",
   "execution_count": 15,
   "metadata": {},
   "outputs": [
    {
     "name": "stderr",
     "output_type": "stream",
     "text": [
      "CHIKBR22.parquet: 100%|██████████| 459k/459k [00:14<00:00, 68.5kB/s]"
     ]
    },
    {
     "ename": "FileNotFoundError",
     "evalue": "[Errno 2] No such file or directory: '/Users/gutto/Workspace/pyzdc/dq_sus/data/parquet/CHIKBR22.dbf'",
     "output_type": "error",
     "traceback": [
      "\u001b[0;31m---------------------------------------------------------------------------\u001b[0m",
      "\u001b[0;31mFileNotFoundError\u001b[0m                         Traceback (most recent call last)",
      "Cell \u001b[0;32mIn[15], line 1\u001b[0m\n\u001b[0;32m----> 1\u001b[0m df2 \u001b[38;5;241m=\u001b[39m \u001b[43mget_personal_data\u001b[49m\u001b[43m(\u001b[49m\u001b[43m)\u001b[49m\n\u001b[1;32m      2\u001b[0m df3 \u001b[38;5;241m=\u001b[39m get_clinical_signs()\n\u001b[1;32m      3\u001b[0m df4 \u001b[38;5;241m=\u001b[39m get_patient_diseases()\n",
      "File \u001b[0;32m~/Workspace/pyzdc/dq_sus/get_info/get_info.py:162\u001b[0m, in \u001b[0;36mget_personal_data\u001b[0;34m(years, disease, limit, verbose)\u001b[0m\n\u001b[1;32m    141\u001b[0m \u001b[38;5;28;01mdef\u001b[39;00m \u001b[38;5;21mget_personal_data\u001b[39m(\n\u001b[1;32m    142\u001b[0m     years: \u001b[38;5;28mlist\u001b[39m[\u001b[38;5;28mint\u001b[39m] \u001b[38;5;241m=\u001b[39m [\u001b[38;5;241m2022\u001b[39m, \u001b[38;5;241m2023\u001b[39m],\n\u001b[1;32m    143\u001b[0m     disease: \u001b[38;5;28mstr\u001b[39m \u001b[38;5;241m=\u001b[39m \u001b[38;5;124m\"\u001b[39m\u001b[38;5;124mCHIK\u001b[39m\u001b[38;5;124m\"\u001b[39m,\n\u001b[1;32m    144\u001b[0m     limit: \u001b[38;5;28mint\u001b[39m \u001b[38;5;241m|\u001b[39m \u001b[38;5;28;01mNone\u001b[39;00m \u001b[38;5;241m=\u001b[39m \u001b[38;5;28;01mNone\u001b[39;00m,\n\u001b[1;32m    145\u001b[0m     verbose: \u001b[38;5;28mbool\u001b[39m \u001b[38;5;241m=\u001b[39m \u001b[38;5;28;01mFalse\u001b[39;00m,\n\u001b[1;32m    146\u001b[0m ) \u001b[38;5;241m-\u001b[39m\u001b[38;5;241m>\u001b[39m pd\u001b[38;5;241m.\u001b[39mDataFrame:\n\u001b[1;32m    147\u001b[0m \u001b[38;5;250m    \u001b[39m\u001b[38;5;124;03m\"\"\"\u001b[39;00m\n\u001b[1;32m    148\u001b[0m \u001b[38;5;124;03m    Retrieve patients personal data for a specified disease and years.\u001b[39;00m\n\u001b[1;32m    149\u001b[0m \n\u001b[0;32m   (...)\u001b[0m\n\u001b[1;32m    160\u001b[0m \u001b[38;5;124;03m        pd.DataFrame: DataFrame containing the notification data.\u001b[39;00m\n\u001b[1;32m    161\u001b[0m \u001b[38;5;124;03m    \"\"\"\u001b[39;00m\n\u001b[0;32m--> 162\u001b[0m     \u001b[38;5;28;01mreturn\u001b[39;00m \u001b[43mget_data_from_table\u001b[49m\u001b[43m(\u001b[49m\u001b[38;5;124;43m\"\u001b[39;49m\u001b[38;5;124;43mpersonal_data\u001b[39;49m\u001b[38;5;124;43m\"\u001b[39;49m\u001b[43m,\u001b[49m\u001b[43m \u001b[49m\u001b[43myears\u001b[49m\u001b[43m,\u001b[49m\u001b[43m \u001b[49m\u001b[43mdisease\u001b[49m\u001b[43m,\u001b[49m\u001b[43m \u001b[49m\u001b[43mlimit\u001b[49m\u001b[43m,\u001b[49m\u001b[43m \u001b[49m\u001b[43mverbose\u001b[49m\u001b[43m)\u001b[49m\n",
      "File \u001b[0;32m~/Workspace/pyzdc/dq_sus/get_info/get_info.py:90\u001b[0m, in \u001b[0;36mget_data_from_table\u001b[0;34m(table_name, years, disease, limit, verbose)\u001b[0m\n\u001b[1;32m     87\u001b[0m db_refresher \u001b[38;5;241m=\u001b[39m Refresher()\n\u001b[1;32m     89\u001b[0m db_refresher\u001b[38;5;241m.\u001b[39mdelete_database()\n\u001b[0;32m---> 90\u001b[0m files \u001b[38;5;241m=\u001b[39m \u001b[43mextractor\u001b[49m\u001b[38;5;241;43m.\u001b[39;49m\u001b[43mextract_parquet\u001b[49m\u001b[43m(\u001b[49m\u001b[43mdisease\u001b[49m\u001b[43m,\u001b[49m\u001b[43m \u001b[49m\u001b[43myears\u001b[49m\u001b[43m)\u001b[49m\n\u001b[1;32m     91\u001b[0m extractor\u001b[38;5;241m.\u001b[39minsert_parquet_to_duck(files)\n\u001b[1;32m     92\u001b[0m column_transformer\u001b[38;5;241m.\u001b[39mrename_db_columns()\n",
      "File \u001b[0;32m~/Workspace/pyzdc/dq_sus/extract/get_raw.py:86\u001b[0m, in \u001b[0;36mExtractor.extract_parquet\u001b[0;34m(self, disease, years)\u001b[0m\n\u001b[1;32m     84\u001b[0m     sinan \u001b[38;5;241m=\u001b[39m SINAN()\u001b[38;5;241m.\u001b[39mload()\n\u001b[1;32m     85\u001b[0m     file \u001b[38;5;241m=\u001b[39m sinan\u001b[38;5;241m.\u001b[39mget_files(disease, year)\n\u001b[0;32m---> 86\u001b[0m     \u001b[43msinan\u001b[49m\u001b[38;5;241;43m.\u001b[39;49m\u001b[43mdownload\u001b[49m\u001b[43m(\u001b[49m\u001b[43mfile\u001b[49m\u001b[43m,\u001b[49m\u001b[43m \u001b[49m\u001b[43mlocal_dir\u001b[49m\u001b[38;5;241;43m=\u001b[39;49m\u001b[38;5;28;43mstr\u001b[39;49m\u001b[43m(\u001b[49m\u001b[38;5;28;43mself\u001b[39;49m\u001b[38;5;241;43m.\u001b[39;49m\u001b[43mparquet_path\u001b[49m\u001b[43m)\u001b[49m\u001b[43m)\u001b[49m\n\u001b[1;32m     87\u001b[0m     logging\u001b[38;5;241m.\u001b[39minfo(\u001b[38;5;124mf\u001b[39m\u001b[38;5;124m\"\u001b[39m\u001b[38;5;124mFile saved in \u001b[39m\u001b[38;5;132;01m{\u001b[39;00mfile_name\u001b[38;5;132;01m}\u001b[39;00m\u001b[38;5;124m\"\u001b[39m)\n\u001b[1;32m     89\u001b[0m file_paths\u001b[38;5;241m.\u001b[39mappend(file_name)\n",
      "File \u001b[0;32m~/Workspace/pyzdc/.venv/lib/python3.12/site-packages/pysus/ftp/__init__.py:563\u001b[0m, in \u001b[0;36mDatabase.download\u001b[0;34m(self, files, local_dir)\u001b[0m\n\u001b[1;32m    561\u001b[0m \u001b[38;5;28;01mfor\u001b[39;00m file \u001b[38;5;129;01min\u001b[39;00m files:\n\u001b[1;32m    562\u001b[0m     \u001b[38;5;28;01mif\u001b[39;00m \u001b[38;5;28misinstance\u001b[39m(file, File):\n\u001b[0;32m--> 563\u001b[0m         dfiles\u001b[38;5;241m.\u001b[39mappend(\u001b[43mfile\u001b[49m\u001b[38;5;241;43m.\u001b[39;49m\u001b[43mdownload\u001b[49m\u001b[43m(\u001b[49m\u001b[43mlocal_dir\u001b[49m\u001b[38;5;241;43m=\u001b[39;49m\u001b[43mlocal_dir\u001b[49m\u001b[43m,\u001b[49m\u001b[43m \u001b[49m\u001b[43m_pbar\u001b[49m\u001b[38;5;241;43m=\u001b[39;49m\u001b[43mpbar\u001b[49m\u001b[43m)\u001b[49m)\n\u001b[1;32m    564\u001b[0m pbar\u001b[38;5;241m.\u001b[39mclose()\n\u001b[1;32m    565\u001b[0m \u001b[38;5;28;01mif\u001b[39;00m \u001b[38;5;28mlen\u001b[39m(dfiles) \u001b[38;5;241m==\u001b[39m \u001b[38;5;241m1\u001b[39m:\n",
      "File \u001b[0;32m~/Workspace/pyzdc/.venv/lib/python3.12/site-packages/pysus/ftp/__init__.py:154\u001b[0m, in \u001b[0;36mFile.download\u001b[0;34m(self, local_dir, _pbar)\u001b[0m\n\u001b[1;32m    152\u001b[0m \u001b[38;5;28;01mif\u001b[39;00m _pbar:\n\u001b[1;32m    153\u001b[0m     _pbar\u001b[38;5;241m.\u001b[39mupdate(filesize \u001b[38;5;241m-\u001b[39m _pbar\u001b[38;5;241m.\u001b[39mn)\n\u001b[0;32m--> 154\u001b[0m \u001b[38;5;28;01mreturn\u001b[39;00m \u001b[43mData\u001b[49m\u001b[43m(\u001b[49m\u001b[38;5;28;43mstr\u001b[39;49m\u001b[43m(\u001b[49m\u001b[43mfilepath\u001b[49m\u001b[43m)\u001b[49m\u001b[43m,\u001b[49m\u001b[43m \u001b[49m\u001b[43m_pbar\u001b[49m\u001b[38;5;241;43m=\u001b[39;49m\u001b[43m_pbar\u001b[49m\u001b[43m)\u001b[49m\n",
      "File \u001b[0;32m~/Workspace/pyzdc/.venv/lib/python3.12/site-packages/pysus/data/local.py:106\u001b[0m, in \u001b[0;36mData.__new__\u001b[0;34m(cls, path, _pbar)\u001b[0m\n\u001b[1;32m    103\u001b[0m \u001b[38;5;28;01mdef\u001b[39;00m \u001b[38;5;21m__new__\u001b[39m(\n\u001b[1;32m    104\u001b[0m     \u001b[38;5;28mcls\u001b[39m, path: Union[List[\u001b[38;5;28mstr\u001b[39m], \u001b[38;5;28mstr\u001b[39m], _pbar\u001b[38;5;241m=\u001b[39m\u001b[38;5;28;01mNone\u001b[39;00m\n\u001b[1;32m    105\u001b[0m ) \u001b[38;5;241m-\u001b[39m\u001b[38;5;241m>\u001b[39m Union[ParquetSet, List[ParquetSet]]:\n\u001b[0;32m--> 106\u001b[0m     \u001b[38;5;28;01mreturn\u001b[39;00m \u001b[43mparse_data_content\u001b[49m\u001b[43m(\u001b[49m\u001b[43mpath\u001b[49m\u001b[43m,\u001b[49m\u001b[43m \u001b[49m\u001b[43m_pbar\u001b[49m\u001b[38;5;241;43m=\u001b[39;49m\u001b[43m_pbar\u001b[49m\u001b[43m)\u001b[49m\n",
      "File \u001b[0;32m~/Workspace/pyzdc/.venv/lib/python3.12/site-packages/pysus/data/local.py:83\u001b[0m, in \u001b[0;36mparse_data_content\u001b[0;34m(path, _pbar)\u001b[0m\n\u001b[1;32m     80\u001b[0m     \u001b[38;5;28;01mcontinue\u001b[39;00m\n\u001b[1;32m     82\u001b[0m \u001b[38;5;28;01mif\u001b[39;00m data_path\u001b[38;5;241m.\u001b[39msuffix\u001b[38;5;241m.\u001b[39mlower() \u001b[38;5;129;01min\u001b[39;00m [\u001b[38;5;124m\"\u001b[39m\u001b[38;5;124m.dbc\u001b[39m\u001b[38;5;124m\"\u001b[39m, \u001b[38;5;124m\"\u001b[39m\u001b[38;5;124m.dbf\u001b[39m\u001b[38;5;124m\"\u001b[39m, \u001b[38;5;124m\"\u001b[39m\u001b[38;5;124m.parquet\u001b[39m\u001b[38;5;124m\"\u001b[39m]:\n\u001b[0;32m---> 83\u001b[0m     content\u001b[38;5;241m.\u001b[39mappend(\u001b[43mParquetSet\u001b[49m\u001b[43m(\u001b[49m\u001b[38;5;28;43mstr\u001b[39;49m\u001b[43m(\u001b[49m\u001b[43mdata_path\u001b[49m\u001b[43m)\u001b[49m\u001b[43m,\u001b[49m\u001b[43m \u001b[49m\u001b[43m_pbar\u001b[49m\u001b[38;5;241;43m=\u001b[39;49m\u001b[43m_pbar\u001b[49m\u001b[43m)\u001b[49m)\n\u001b[1;32m     84\u001b[0m \u001b[38;5;28;01melif\u001b[39;00m data_path\u001b[38;5;241m.\u001b[39msuffix\u001b[38;5;241m.\u001b[39mlower() \u001b[38;5;241m==\u001b[39m \u001b[38;5;124m\"\u001b[39m\u001b[38;5;124m.zip\u001b[39m\u001b[38;5;124m\"\u001b[39m:\n\u001b[1;32m     85\u001b[0m     content\u001b[38;5;241m.\u001b[39mappend(\u001b[38;5;28mstr\u001b[39m(data_path))\n",
      "File \u001b[0;32m~/Workspace/pyzdc/.venv/lib/python3.12/site-packages/pysus/data/local.py:29\u001b[0m, in \u001b[0;36mParquetSet.__init__\u001b[0;34m(self, path, _pbar)\u001b[0m\n\u001b[1;32m     26\u001b[0m     path \u001b[38;5;241m=\u001b[39m Path(dbc_to_dbf(path, _pbar\u001b[38;5;241m=\u001b[39m_pbar))\n\u001b[1;32m     28\u001b[0m \u001b[38;5;28;01mif\u001b[39;00m path\u001b[38;5;241m.\u001b[39msuffix\u001b[38;5;241m.\u001b[39mlower() \u001b[38;5;241m==\u001b[39m \u001b[38;5;124m\"\u001b[39m\u001b[38;5;124m.dbf\u001b[39m\u001b[38;5;124m\"\u001b[39m:\n\u001b[0;32m---> 29\u001b[0m     path \u001b[38;5;241m=\u001b[39m Path(\u001b[43mdbf_to_parquet\u001b[49m\u001b[43m(\u001b[49m\u001b[43mpath\u001b[49m\u001b[43m,\u001b[49m\u001b[43m \u001b[49m\u001b[43m_pbar\u001b[49m\u001b[38;5;241;43m=\u001b[39;49m\u001b[43m_pbar\u001b[49m\u001b[43m)\u001b[49m)\n\u001b[1;32m     31\u001b[0m \u001b[38;5;28;01mif\u001b[39;00m path\u001b[38;5;241m.\u001b[39mis_dir():\n\u001b[1;32m     32\u001b[0m     info[\u001b[38;5;124m\"\u001b[39m\u001b[38;5;124msize\u001b[39m\u001b[38;5;124m\"\u001b[39m] \u001b[38;5;241m=\u001b[39m \u001b[38;5;28msum\u001b[39m(\n\u001b[1;32m     33\u001b[0m         f\u001b[38;5;241m.\u001b[39mstat()\u001b[38;5;241m.\u001b[39mst_size \u001b[38;5;28;01mfor\u001b[39;00m f \u001b[38;5;129;01min\u001b[39;00m path\u001b[38;5;241m.\u001b[39mglob(\u001b[38;5;124m\"\u001b[39m\u001b[38;5;124m**/*\u001b[39m\u001b[38;5;124m\"\u001b[39m) \u001b[38;5;28;01mif\u001b[39;00m f\u001b[38;5;241m.\u001b[39mis_file()\n\u001b[1;32m     34\u001b[0m     )\n",
      "File \u001b[0;32m~/Workspace/pyzdc/.venv/lib/python3.12/site-packages/pysus/data/__init__.py:124\u001b[0m, in \u001b[0;36mdbf_to_parquet\u001b[0;34m(dbf, _pbar)\u001b[0m\n\u001b[1;32m    121\u001b[0m \u001b[38;5;28;01mif\u001b[39;00m _pbar:\n\u001b[1;32m    122\u001b[0m     _pbar\u001b[38;5;241m.\u001b[39mupdate(approx_final_size \u001b[38;5;241m-\u001b[39m _pbar\u001b[38;5;241m.\u001b[39mn)\n\u001b[0;32m--> 124\u001b[0m \u001b[43mpath\u001b[49m\u001b[38;5;241;43m.\u001b[39;49m\u001b[43munlink\u001b[49m\u001b[43m(\u001b[49m\u001b[43m)\u001b[49m\n\u001b[1;32m    126\u001b[0m \u001b[38;5;28;01mreturn\u001b[39;00m \u001b[38;5;28mstr\u001b[39m(parquet)\n",
      "File \u001b[0;32m~/.local/share/uv/python/cpython-3.12.7-macos-aarch64-none/lib/python3.12/pathlib.py:1342\u001b[0m, in \u001b[0;36mPath.unlink\u001b[0;34m(self, missing_ok)\u001b[0m\n\u001b[1;32m   1337\u001b[0m \u001b[38;5;250m\u001b[39m\u001b[38;5;124;03m\"\"\"\u001b[39;00m\n\u001b[1;32m   1338\u001b[0m \u001b[38;5;124;03mRemove this file or link.\u001b[39;00m\n\u001b[1;32m   1339\u001b[0m \u001b[38;5;124;03mIf the path is a directory, use rmdir() instead.\u001b[39;00m\n\u001b[1;32m   1340\u001b[0m \u001b[38;5;124;03m\"\"\"\u001b[39;00m\n\u001b[1;32m   1341\u001b[0m \u001b[38;5;28;01mtry\u001b[39;00m:\n\u001b[0;32m-> 1342\u001b[0m     \u001b[43mos\u001b[49m\u001b[38;5;241;43m.\u001b[39;49m\u001b[43munlink\u001b[49m\u001b[43m(\u001b[49m\u001b[38;5;28;43mself\u001b[39;49m\u001b[43m)\u001b[49m\n\u001b[1;32m   1343\u001b[0m \u001b[38;5;28;01mexcept\u001b[39;00m \u001b[38;5;167;01mFileNotFoundError\u001b[39;00m:\n\u001b[1;32m   1344\u001b[0m     \u001b[38;5;28;01mif\u001b[39;00m \u001b[38;5;129;01mnot\u001b[39;00m missing_ok:\n",
      "\u001b[0;31mFileNotFoundError\u001b[0m: [Errno 2] No such file or directory: '/Users/gutto/Workspace/pyzdc/dq_sus/data/parquet/CHIKBR22.dbf'"
     ]
    }
   ],
   "source": [
    "df2 = get_personal_data()\n",
    "df3 = get_clinical_signs()\n",
    "df4 = get_patient_diseases()\n",
    "df5 = get_exams()\n",
    "df6 = get_hospital_info()\n",
    "df7 = get_alarm_severities()\n",
    "df8 = get_sinan_info()"
   ]
  },
  {
   "cell_type": "code",
   "execution_count": null,
   "metadata": {},
   "outputs": [],
   "source": [
    "dfs = [df1, df2, df3, df4, df5, df6, df7, df8]\n",
    "df_old = [df_2022, df_2023]\n",
    "\n",
    "for i, df in enumerate(dfs, start=1):\n",
    "    print(f\"df{i}: {df.shape}\")\n",
    "    sum([df.shape[1] for df in dfs])\n",
    "\n",
    "print(f\"Cols count new: {sum([df.shape[1] for df in dfs])}\")\n",
    "print(f\"Cols count old: {df_2023.shape[1]}\")\n",
    "print(f\"Rows count old: {df_2023.shape[0] + df_2022.shape[0]}\")\n"
   ]
  },
  {
   "cell_type": "code",
   "execution_count": null,
   "metadata": {},
   "outputs": [],
   "source": [
    "df7.isnull().sum()"
   ]
  },
  {
   "cell_type": "code",
   "execution_count": null,
   "metadata": {},
   "outputs": [],
   "source": [
    "df1.columns"
   ]
  },
  {
   "cell_type": "code",
   "execution_count": null,
   "metadata": {},
   "outputs": [],
   "source": [
    "df8.columns"
   ]
  },
  {
   "cell_type": "code",
   "execution_count": null,
   "metadata": {},
   "outputs": [],
   "source": []
  }
 ],
 "metadata": {
  "kernelspec": {
   "display_name": ".venv",
   "language": "python",
   "name": "python3"
  },
  "language_info": {
   "codemirror_mode": {
    "name": "ipython",
    "version": 3
   },
   "file_extension": ".py",
   "mimetype": "text/x-python",
   "name": "python",
   "nbconvert_exporter": "python",
   "pygments_lexer": "ipython3",
   "version": "3.12.7"
  }
 },
 "nbformat": 4,
 "nbformat_minor": 2
}
