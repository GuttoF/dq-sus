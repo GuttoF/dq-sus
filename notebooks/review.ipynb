{
 "cells": [
  {
   "cell_type": "markdown",
   "metadata": {},
   "source": [
    "# Main"
   ]
  },
  {
   "cell_type": "code",
   "execution_count": 1,
   "metadata": {},
   "outputs": [],
   "source": [
    "from pathlib import Path\n",
    "\n",
    "import sys\n",
    "\n",
    "sys.path.append(str(Path().resolve().parent))"
   ]
  },
  {
   "cell_type": "markdown",
   "metadata": {},
   "source": [
    "## Pysus"
   ]
  },
  {
   "cell_type": "code",
   "execution_count": 2,
   "metadata": {},
   "outputs": [
    {
     "name": "stderr",
     "output_type": "stream",
     "text": [
      "CHIKBR23.parquet: 100%|██████████| 416k/416k [00:13<00:00, 30.7kB/s]\n"
     ]
    },
    {
     "data": {
      "text/plain": [
       "[/Users/guttofranca/pysus/CHIKBR22.parquet,\n",
       " /Users/guttofranca/pysus/CHIKBR23.parquet]"
      ]
     },
     "execution_count": 2,
     "metadata": {},
     "output_type": "execute_result"
    }
   ],
   "source": [
    "from pysus.ftp.databases.sinan import SINAN # type: ignore\n",
    "import pandas as pd # type: ignore\n",
    "\n",
    "sinan = SINAN().load()\n",
    "file = sinan.get_files(\"CHIK\", [2022, 2023])\n",
    "sinan.download(file)"
   ]
  },
  {
   "cell_type": "code",
   "execution_count": 3,
   "metadata": {},
   "outputs": [],
   "source": [
    "path_2022 = (\"/Users/guttofranca/pysus/CHIKBR22.parquet\")\n",
    "path_2023 = (\"/Users/guttofranca/pysus/CHIKBR23.parquet\")\n",
    "\n",
    "df_2022 = pd.read_parquet(path_2022)\n",
    "df_2023 = pd.read_parquet(path_2023)"
   ]
  },
  {
   "cell_type": "code",
   "execution_count": 4,
   "metadata": {},
   "outputs": [
    {
     "data": {
      "text/html": [
       "<div>\n",
       "<style scoped>\n",
       "    .dataframe tbody tr th:only-of-type {\n",
       "        vertical-align: middle;\n",
       "    }\n",
       "\n",
       "    .dataframe tbody tr th {\n",
       "        vertical-align: top;\n",
       "    }\n",
       "\n",
       "    .dataframe thead th {\n",
       "        text-align: right;\n",
       "    }\n",
       "</style>\n",
       "<table border=\"1\" class=\"dataframe\">\n",
       "  <thead>\n",
       "    <tr style=\"text-align: right;\">\n",
       "      <th></th>\n",
       "      <th>TP_NOT</th>\n",
       "      <th>ID_AGRAVO</th>\n",
       "      <th>DT_NOTIFIC</th>\n",
       "      <th>SEM_NOT</th>\n",
       "      <th>NU_ANO</th>\n",
       "      <th>SG_UF_NOT</th>\n",
       "      <th>ID_MUNICIP</th>\n",
       "      <th>ID_REGIONA</th>\n",
       "      <th>ID_UNIDADE</th>\n",
       "      <th>DT_SIN_PRI</th>\n",
       "      <th>...</th>\n",
       "      <th>PLAQ_MENOR</th>\n",
       "      <th>CON_FHD</th>\n",
       "      <th>COMPLICA</th>\n",
       "      <th>NU_LOTE_I</th>\n",
       "      <th>TP_SISTEMA</th>\n",
       "      <th>NDUPLIC_N</th>\n",
       "      <th>DT_DIGITA</th>\n",
       "      <th>CS_FLXRET</th>\n",
       "      <th>FLXRECEBI</th>\n",
       "      <th>MIGRADO_W</th>\n",
       "    </tr>\n",
       "  </thead>\n",
       "  <tbody>\n",
       "    <tr>\n",
       "      <th>0</th>\n",
       "      <td>2</td>\n",
       "      <td>A92.0</td>\n",
       "      <td>20220511</td>\n",
       "      <td>202219</td>\n",
       "      <td>2022</td>\n",
       "      <td>26</td>\n",
       "      <td>261220</td>\n",
       "      <td>1502</td>\n",
       "      <td>2356287</td>\n",
       "      <td>20220510</td>\n",
       "      <td>...</td>\n",
       "      <td></td>\n",
       "      <td></td>\n",
       "      <td></td>\n",
       "      <td></td>\n",
       "      <td>2</td>\n",
       "      <td></td>\n",
       "      <td>20220618</td>\n",
       "      <td></td>\n",
       "      <td></td>\n",
       "      <td></td>\n",
       "    </tr>\n",
       "    <tr>\n",
       "      <th>1</th>\n",
       "      <td>2</td>\n",
       "      <td>A92.0</td>\n",
       "      <td>20220524</td>\n",
       "      <td>202221</td>\n",
       "      <td>2022</td>\n",
       "      <td>26</td>\n",
       "      <td>260410</td>\n",
       "      <td>1499</td>\n",
       "      <td>7819587</td>\n",
       "      <td>20220522</td>\n",
       "      <td>...</td>\n",
       "      <td></td>\n",
       "      <td></td>\n",
       "      <td></td>\n",
       "      <td></td>\n",
       "      <td>2</td>\n",
       "      <td></td>\n",
       "      <td>20220526</td>\n",
       "      <td></td>\n",
       "      <td></td>\n",
       "      <td></td>\n",
       "    </tr>\n",
       "    <tr>\n",
       "      <th>2</th>\n",
       "      <td>2</td>\n",
       "      <td>A92.0</td>\n",
       "      <td>20220509</td>\n",
       "      <td>202219</td>\n",
       "      <td>2022</td>\n",
       "      <td>26</td>\n",
       "      <td>261220</td>\n",
       "      <td>1502</td>\n",
       "      <td>2356287</td>\n",
       "      <td>20220509</td>\n",
       "      <td>...</td>\n",
       "      <td></td>\n",
       "      <td></td>\n",
       "      <td></td>\n",
       "      <td></td>\n",
       "      <td>2</td>\n",
       "      <td></td>\n",
       "      <td>20220510</td>\n",
       "      <td></td>\n",
       "      <td></td>\n",
       "      <td></td>\n",
       "    </tr>\n",
       "    <tr>\n",
       "      <th>3</th>\n",
       "      <td>2</td>\n",
       "      <td>A92.0</td>\n",
       "      <td>20220519</td>\n",
       "      <td>202220</td>\n",
       "      <td>2022</td>\n",
       "      <td>26</td>\n",
       "      <td>260410</td>\n",
       "      <td>1499</td>\n",
       "      <td>9070419</td>\n",
       "      <td>20220518</td>\n",
       "      <td>...</td>\n",
       "      <td></td>\n",
       "      <td></td>\n",
       "      <td></td>\n",
       "      <td></td>\n",
       "      <td>2</td>\n",
       "      <td></td>\n",
       "      <td>20220613</td>\n",
       "      <td></td>\n",
       "      <td></td>\n",
       "      <td></td>\n",
       "    </tr>\n",
       "    <tr>\n",
       "      <th>4</th>\n",
       "      <td>2</td>\n",
       "      <td>A92.0</td>\n",
       "      <td>20220607</td>\n",
       "      <td>202223</td>\n",
       "      <td>2022</td>\n",
       "      <td>26</td>\n",
       "      <td>261160</td>\n",
       "      <td>1497</td>\n",
       "      <td>2802783</td>\n",
       "      <td>20220516</td>\n",
       "      <td>...</td>\n",
       "      <td></td>\n",
       "      <td></td>\n",
       "      <td></td>\n",
       "      <td></td>\n",
       "      <td>2</td>\n",
       "      <td></td>\n",
       "      <td>20220608</td>\n",
       "      <td></td>\n",
       "      <td></td>\n",
       "      <td></td>\n",
       "    </tr>\n",
       "  </tbody>\n",
       "</table>\n",
       "<p>5 rows × 122 columns</p>\n",
       "</div>"
      ],
      "text/plain": [
       "  TP_NOT ID_AGRAVO DT_NOTIFIC SEM_NOT NU_ANO SG_UF_NOT ID_MUNICIP ID_REGIONA  \\\n",
       "0      2     A92.0   20220511  202219   2022        26     261220   1502       \n",
       "1      2     A92.0   20220524  202221   2022        26     260410   1499       \n",
       "2      2     A92.0   20220509  202219   2022        26     261220   1502       \n",
       "3      2     A92.0   20220519  202220   2022        26     260410   1499       \n",
       "4      2     A92.0   20220607  202223   2022        26     261160   1497       \n",
       "\n",
       "  ID_UNIDADE DT_SIN_PRI  ... PLAQ_MENOR CON_FHD COMPLICA  NU_LOTE_I  \\\n",
       "0    2356287   20220510  ...                                          \n",
       "1    7819587   20220522  ...                                          \n",
       "2    2356287   20220509  ...                                          \n",
       "3    9070419   20220518  ...                                          \n",
       "4    2802783   20220516  ...                                          \n",
       "\n",
       "  TP_SISTEMA NDUPLIC_N DT_DIGITA CS_FLXRET FLXRECEBI MIGRADO_W  \n",
       "0          2            20220618                                \n",
       "1          2            20220526                                \n",
       "2          2            20220510                                \n",
       "3          2            20220613                                \n",
       "4          2            20220608                                \n",
       "\n",
       "[5 rows x 122 columns]"
      ]
     },
     "execution_count": 4,
     "metadata": {},
     "output_type": "execute_result"
    }
   ],
   "source": [
    "df_2022.head()"
   ]
  },
  {
   "cell_type": "code",
   "execution_count": 5,
   "metadata": {},
   "outputs": [
    {
     "data": {
      "text/plain": [
       "(273874, 122)"
      ]
     },
     "execution_count": 5,
     "metadata": {},
     "output_type": "execute_result"
    }
   ],
   "source": [
    "df_2022.shape"
   ]
  },
  {
   "cell_type": "code",
   "execution_count": 6,
   "metadata": {},
   "outputs": [
    {
     "data": {
      "text/plain": [
       "(248193, 122)"
      ]
     },
     "execution_count": 6,
     "metadata": {},
     "output_type": "execute_result"
    }
   ],
   "source": [
    "df_2023.shape"
   ]
  },
  {
   "cell_type": "code",
   "execution_count": 7,
   "metadata": {},
   "outputs": [
    {
     "data": {
      "text/plain": [
       "TP_NOT        0\n",
       "ID_AGRAVO     0\n",
       "DT_NOTIFIC    0\n",
       "SEM_NOT       0\n",
       "NU_ANO        0\n",
       "             ..\n",
       "NDUPLIC_N     0\n",
       "DT_DIGITA     0\n",
       "CS_FLXRET     0\n",
       "FLXRECEBI     0\n",
       "MIGRADO_W     0\n",
       "Length: 122, dtype: int64"
      ]
     },
     "execution_count": 7,
     "metadata": {},
     "output_type": "execute_result"
    }
   ],
   "source": [
    "df_2022.isnull().sum()"
   ]
  },
  {
   "cell_type": "code",
   "execution_count": 8,
   "metadata": {},
   "outputs": [],
   "source": [
    "from dq_sus.get_info import (\n",
    "    get_notifications,\n",
    "    get_personal_data,\n",
    "    get_clinical_signs,\n",
    "    get_patient_diseases,\n",
    "    get_exams,\n",
    "    get_hospital_info,\n",
    "    get_alarm_severities,\n",
    "    get_sinan_info,\n",
    ")\n"
   ]
  },
  {
   "cell_type": "code",
   "execution_count": 9,
   "metadata": {},
   "outputs": [
    {
     "data": {
      "application/vnd.jupyter.widget-view+json": {
       "model_id": "981a2c5ea17e4b6d8636b9fa5be10354",
       "version_major": 2,
       "version_minor": 0
      },
      "text/plain": [
       "FloatProgress(value=0.0, layout=Layout(width='auto'), style=ProgressStyle(bar_color='black'))"
      ]
     },
     "metadata": {},
     "output_type": "display_data"
    },
    {
     "data": {
      "application/vnd.jupyter.widget-view+json": {
       "model_id": "6cace81e9e19423aaf7c9046639cc6cf",
       "version_major": 2,
       "version_minor": 0
      },
      "text/plain": [
       "FloatProgress(value=0.0, layout=Layout(width='auto'), style=ProgressStyle(bar_color='black'))"
      ]
     },
     "metadata": {},
     "output_type": "display_data"
    },
    {
     "data": {
      "application/vnd.jupyter.widget-view+json": {
       "model_id": "bcddb17116b2484aa5445260d69f8871",
       "version_major": 2,
       "version_minor": 0
      },
      "text/plain": [
       "FloatProgress(value=0.0, layout=Layout(width='auto'), style=ProgressStyle(bar_color='black'))"
      ]
     },
     "metadata": {},
     "output_type": "display_data"
    },
    {
     "data": {
      "application/vnd.jupyter.widget-view+json": {
       "model_id": "f0ff9a1e17984ba0ac944f33a6d48aa6",
       "version_major": 2,
       "version_minor": 0
      },
      "text/plain": [
       "FloatProgress(value=0.0, layout=Layout(width='auto'), style=ProgressStyle(bar_color='black'))"
      ]
     },
     "metadata": {},
     "output_type": "display_data"
    },
    {
     "data": {
      "application/vnd.jupyter.widget-view+json": {
       "model_id": "e3c2228c06f14082a0a4ac305aaa0c5d",
       "version_major": 2,
       "version_minor": 0
      },
      "text/plain": [
       "FloatProgress(value=0.0, layout=Layout(width='auto'), style=ProgressStyle(bar_color='black'))"
      ]
     },
     "metadata": {},
     "output_type": "display_data"
    },
    {
     "data": {
      "application/vnd.jupyter.widget-view+json": {
       "model_id": "592e573c4bef4df6988ee957034b71dc",
       "version_major": 2,
       "version_minor": 0
      },
      "text/plain": [
       "FloatProgress(value=0.0, layout=Layout(width='auto'), style=ProgressStyle(bar_color='black'))"
      ]
     },
     "metadata": {},
     "output_type": "display_data"
    },
    {
     "data": {
      "application/vnd.jupyter.widget-view+json": {
       "model_id": "4454bdc1dc8f45cab20bb7fb69d0e709",
       "version_major": 2,
       "version_minor": 0
      },
      "text/plain": [
       "FloatProgress(value=0.0, layout=Layout(width='auto'), style=ProgressStyle(bar_color='black'))"
      ]
     },
     "metadata": {},
     "output_type": "display_data"
    },
    {
     "data": {
      "application/vnd.jupyter.widget-view+json": {
       "model_id": "9ca2ab31a6664ce1a51fa8c2d3de8574",
       "version_major": 2,
       "version_minor": 0
      },
      "text/plain": [
       "FloatProgress(value=0.0, layout=Layout(width='auto'), style=ProgressStyle(bar_color='black'))"
      ]
     },
     "metadata": {},
     "output_type": "display_data"
    },
    {
     "data": {
      "application/vnd.jupyter.widget-view+json": {
       "model_id": "fab791b765f64245acc567bde42fabfd",
       "version_major": 2,
       "version_minor": 0
      },
      "text/plain": [
       "FloatProgress(value=0.0, layout=Layout(width='auto'), style=ProgressStyle(bar_color='black'))"
      ]
     },
     "metadata": {},
     "output_type": "display_data"
    },
    {
     "data": {
      "application/vnd.jupyter.widget-view+json": {
       "model_id": "19f28bcf0d7e47cc9776551553d68180",
       "version_major": 2,
       "version_minor": 0
      },
      "text/plain": [
       "FloatProgress(value=0.0, layout=Layout(width='auto'), style=ProgressStyle(bar_color='black'))"
      ]
     },
     "metadata": {},
     "output_type": "display_data"
    },
    {
     "data": {
      "application/vnd.jupyter.widget-view+json": {
       "model_id": "f2c3380a809f4bd192ee03ffbd383099",
       "version_major": 2,
       "version_minor": 0
      },
      "text/plain": [
       "FloatProgress(value=0.0, layout=Layout(width='auto'), style=ProgressStyle(bar_color='black'))"
      ]
     },
     "metadata": {},
     "output_type": "display_data"
    },
    {
     "data": {
      "application/vnd.jupyter.widget-view+json": {
       "model_id": "27c063584ea04cb2bff042dc46c085fb",
       "version_major": 2,
       "version_minor": 0
      },
      "text/plain": [
       "FloatProgress(value=0.0, layout=Layout(width='auto'), style=ProgressStyle(bar_color='black'))"
      ]
     },
     "metadata": {},
     "output_type": "display_data"
    },
    {
     "data": {
      "application/vnd.jupyter.widget-view+json": {
       "model_id": "df2d5a6587d44316b01d6d1dd632f17e",
       "version_major": 2,
       "version_minor": 0
      },
      "text/plain": [
       "FloatProgress(value=0.0, layout=Layout(width='auto'), style=ProgressStyle(bar_color='black'))"
      ]
     },
     "metadata": {},
     "output_type": "display_data"
    },
    {
     "data": {
      "application/vnd.jupyter.widget-view+json": {
       "model_id": "bdb49214f4484a009fbb0c7dbafabed7",
       "version_major": 2,
       "version_minor": 0
      },
      "text/plain": [
       "FloatProgress(value=0.0, layout=Layout(width='auto'), style=ProgressStyle(bar_color='black'))"
      ]
     },
     "metadata": {},
     "output_type": "display_data"
    },
    {
     "data": {
      "application/vnd.jupyter.widget-view+json": {
       "model_id": "97899c0f79624b3b803b52bb169c6ce1",
       "version_major": 2,
       "version_minor": 0
      },
      "text/plain": [
       "FloatProgress(value=0.0, layout=Layout(width='auto'), style=ProgressStyle(bar_color='black'))"
      ]
     },
     "metadata": {},
     "output_type": "display_data"
    },
    {
     "data": {
      "application/vnd.jupyter.widget-view+json": {
       "model_id": "e5547cd11daf4fcb8ee34e6d238d71ec",
       "version_major": 2,
       "version_minor": 0
      },
      "text/plain": [
       "FloatProgress(value=0.0, layout=Layout(width='auto'), style=ProgressStyle(bar_color='black'))"
      ]
     },
     "metadata": {},
     "output_type": "display_data"
    },
    {
     "data": {
      "application/vnd.jupyter.widget-view+json": {
       "model_id": "737a185c08864251a15dd5a0a044173b",
       "version_major": 2,
       "version_minor": 0
      },
      "text/plain": [
       "FloatProgress(value=0.0, layout=Layout(width='auto'), style=ProgressStyle(bar_color='black'))"
      ]
     },
     "metadata": {},
     "output_type": "display_data"
    },
    {
     "data": {
      "application/vnd.jupyter.widget-view+json": {
       "model_id": "2c6f58afbd054f8db83ebc9cd84dd019",
       "version_major": 2,
       "version_minor": 0
      },
      "text/plain": [
       "FloatProgress(value=0.0, layout=Layout(width='auto'), style=ProgressStyle(bar_color='black'))"
      ]
     },
     "metadata": {},
     "output_type": "display_data"
    },
    {
     "data": {
      "application/vnd.jupyter.widget-view+json": {
       "model_id": "ea8fc6b6c2ac45c48ba0667b2592853a",
       "version_major": 2,
       "version_minor": 0
      },
      "text/plain": [
       "FloatProgress(value=0.0, layout=Layout(width='auto'), style=ProgressStyle(bar_color='black'))"
      ]
     },
     "metadata": {},
     "output_type": "display_data"
    },
    {
     "data": {
      "application/vnd.jupyter.widget-view+json": {
       "model_id": "71233458660f46e4a8c2fa40dca481bb",
       "version_major": 2,
       "version_minor": 0
      },
      "text/plain": [
       "FloatProgress(value=0.0, layout=Layout(width='auto'), style=ProgressStyle(bar_color='black'))"
      ]
     },
     "metadata": {},
     "output_type": "display_data"
    },
    {
     "data": {
      "application/vnd.jupyter.widget-view+json": {
       "model_id": "d8996b3525534337b6f776ce02226d40",
       "version_major": 2,
       "version_minor": 0
      },
      "text/plain": [
       "FloatProgress(value=0.0, layout=Layout(width='auto'), style=ProgressStyle(bar_color='black'))"
      ]
     },
     "metadata": {},
     "output_type": "display_data"
    },
    {
     "data": {
      "application/vnd.jupyter.widget-view+json": {
       "model_id": "e4f1389f7e5643048146e4aaef277b70",
       "version_major": 2,
       "version_minor": 0
      },
      "text/plain": [
       "FloatProgress(value=0.0, layout=Layout(width='auto'), style=ProgressStyle(bar_color='black'))"
      ]
     },
     "metadata": {},
     "output_type": "display_data"
    },
    {
     "data": {
      "application/vnd.jupyter.widget-view+json": {
       "model_id": "a2d58ed9b2564313a580683901bd2295",
       "version_major": 2,
       "version_minor": 0
      },
      "text/plain": [
       "FloatProgress(value=0.0, layout=Layout(width='auto'), style=ProgressStyle(bar_color='black'))"
      ]
     },
     "metadata": {},
     "output_type": "display_data"
    }
   ],
   "source": [
    "df1 = get_notifications()\n",
    "df2 = get_personal_data()\n",
    "df3 = get_clinical_signs()\n",
    "df4 = get_patient_diseases()\n",
    "df5 = get_exams()\n",
    "df6 = get_hospital_info()\n",
    "df7 = get_alarm_severities()\n",
    "df8 = get_sinan_info()"
   ]
  },
  {
   "cell_type": "code",
   "execution_count": 10,
   "metadata": {},
   "outputs": [
    {
     "data": {
      "text/plain": [
       "Index(['notification_id', 'hypotension_alarm', 'platelet_alarm',\n",
       "       'vomiting_alarm', 'bleeding_alarm', 'lethargy_alarm',\n",
       "       'hematocrit_alarm', 'abdominal_pain_alarm', 'lethargy_alarm_1',\n",
       "       'hepatomegaly_alarm', 'liquid_alarm', 'alarm_dengue_date',\n",
       "       'pulse_severity', 'convergence_pressure_severity',\n",
       "       'capilar_enchiment_severity',\n",
       "       'respiratory_insufficiency_liquid_severity', 'tachycardia_severity',\n",
       "       'extremity_coldness_severity', 'hypotension_severity',\n",
       "       'hematemesis_severity', 'melena_severity', 'metrorrhagia_severity',\n",
       "       'bleeding_severity', 'higher_ast_alt_severity', 'myocarditis_severity',\n",
       "       'consciousness_severity', 'other_organs_severity', 'severity_date',\n",
       "       'hemorrhaegic_manifestations', 'epistaxis', 'gengival_bleeding',\n",
       "       'metrorrhagia', 'petechiae', 'hematuria', 'bleeding', 'complications'],\n",
       "      dtype='object')"
      ]
     },
     "execution_count": 10,
     "metadata": {},
     "output_type": "execute_result"
    }
   ],
   "source": [
    "df7.columns"
   ]
  },
  {
   "cell_type": "code",
   "execution_count": 11,
   "metadata": {},
   "outputs": [
    {
     "data": {
      "text/html": [
       "<div>\n",
       "<style scoped>\n",
       "    .dataframe tbody tr th:only-of-type {\n",
       "        vertical-align: middle;\n",
       "    }\n",
       "\n",
       "    .dataframe tbody tr th {\n",
       "        vertical-align: top;\n",
       "    }\n",
       "\n",
       "    .dataframe thead th {\n",
       "        text-align: right;\n",
       "    }\n",
       "</style>\n",
       "<table border=\"1\" class=\"dataframe\">\n",
       "  <thead>\n",
       "    <tr style=\"text-align: right;\">\n",
       "      <th></th>\n",
       "      <th>notification_id</th>\n",
       "      <th>notification_type</th>\n",
       "      <th>disease_condition_id</th>\n",
       "      <th>notification_date</th>\n",
       "      <th>notification_week</th>\n",
       "      <th>notification_year</th>\n",
       "      <th>notification_state_id</th>\n",
       "      <th>notification_city_id</th>\n",
       "      <th>notification_region_id</th>\n",
       "      <th>notification_health_unit_id</th>\n",
       "    </tr>\n",
       "  </thead>\n",
       "  <tbody>\n",
       "    <tr>\n",
       "      <th>0</th>\n",
       "      <td>1</td>\n",
       "      <td>2</td>\n",
       "      <td>A92.0</td>\n",
       "      <td>20220218</td>\n",
       "      <td>202207</td>\n",
       "      <td>2022</td>\n",
       "      <td>26</td>\n",
       "      <td>261070</td>\n",
       "      <td>1497</td>\n",
       "      <td>6443419</td>\n",
       "    </tr>\n",
       "    <tr>\n",
       "      <th>1</th>\n",
       "      <td>2</td>\n",
       "      <td>2</td>\n",
       "      <td>A92.0</td>\n",
       "      <td>20220125</td>\n",
       "      <td>202204</td>\n",
       "      <td>2022</td>\n",
       "      <td>26</td>\n",
       "      <td>260410</td>\n",
       "      <td>1499</td>\n",
       "      <td>6855881</td>\n",
       "    </tr>\n",
       "    <tr>\n",
       "      <th>2</th>\n",
       "      <td>3</td>\n",
       "      <td>2</td>\n",
       "      <td>A92.0</td>\n",
       "      <td>20220207</td>\n",
       "      <td>202206</td>\n",
       "      <td>2022</td>\n",
       "      <td>26</td>\n",
       "      <td>260515</td>\n",
       "      <td>1503</td>\n",
       "      <td>2350289</td>\n",
       "    </tr>\n",
       "    <tr>\n",
       "      <th>3</th>\n",
       "      <td>4</td>\n",
       "      <td>2</td>\n",
       "      <td>A92.0</td>\n",
       "      <td>20220121</td>\n",
       "      <td>202203</td>\n",
       "      <td>2022</td>\n",
       "      <td>26</td>\n",
       "      <td>261110</td>\n",
       "      <td>1503</td>\n",
       "      <td>5455197</td>\n",
       "    </tr>\n",
       "    <tr>\n",
       "      <th>4</th>\n",
       "      <td>5</td>\n",
       "      <td>2</td>\n",
       "      <td>A92.0</td>\n",
       "      <td>20220125</td>\n",
       "      <td>202204</td>\n",
       "      <td>2022</td>\n",
       "      <td>26</td>\n",
       "      <td>261110</td>\n",
       "      <td>1503</td>\n",
       "      <td>5455197</td>\n",
       "    </tr>\n",
       "  </tbody>\n",
       "</table>\n",
       "</div>"
      ],
      "text/plain": [
       "   notification_id notification_type disease_condition_id notification_date  \\\n",
       "0                1                 2                A92.0          20220218   \n",
       "1                2                 2                A92.0          20220125   \n",
       "2                3                 2                A92.0          20220207   \n",
       "3                4                 2                A92.0          20220121   \n",
       "4                5                 2                A92.0          20220125   \n",
       "\n",
       "  notification_week notification_year notification_state_id  \\\n",
       "0            202207              2022                    26   \n",
       "1            202204              2022                    26   \n",
       "2            202206              2022                    26   \n",
       "3            202203              2022                    26   \n",
       "4            202204              2022                    26   \n",
       "\n",
       "  notification_city_id notification_region_id notification_health_unit_id  \n",
       "0               261070               1497                         6443419  \n",
       "1               260410               1499                         6855881  \n",
       "2               260515               1503                         2350289  \n",
       "3               261110               1503                         5455197  \n",
       "4               261110               1503                         5455197  "
      ]
     },
     "execution_count": 11,
     "metadata": {},
     "output_type": "execute_result"
    }
   ],
   "source": [
    "df1.head()"
   ]
  },
  {
   "cell_type": "code",
   "execution_count": 12,
   "metadata": {},
   "outputs": [
    {
     "data": {
      "text/plain": [
       "notification_id                0\n",
       "notification_type              0\n",
       "disease_condition_id           0\n",
       "notification_date              0\n",
       "notification_week              0\n",
       "notification_year              0\n",
       "notification_state_id          0\n",
       "notification_city_id           0\n",
       "notification_region_id         0\n",
       "notification_health_unit_id    0\n",
       "dtype: int64"
      ]
     },
     "execution_count": 12,
     "metadata": {},
     "output_type": "execute_result"
    }
   ],
   "source": [
    "# total de valores nulos\n",
    "df1.isnull().sum()"
   ]
  },
  {
   "cell_type": "code",
   "execution_count": 13,
   "metadata": {},
   "outputs": [
    {
     "data": {
      "text/plain": [
       "notification_id                 int64\n",
       "notification_type              object\n",
       "disease_condition_id           object\n",
       "notification_date              object\n",
       "notification_week              object\n",
       "notification_year              object\n",
       "notification_state_id          object\n",
       "notification_city_id           object\n",
       "notification_region_id         object\n",
       "notification_health_unit_id    object\n",
       "dtype: object"
      ]
     },
     "execution_count": 13,
     "metadata": {},
     "output_type": "execute_result"
    }
   ],
   "source": [
    "df1.dtypes"
   ]
  },
  {
   "cell_type": "code",
   "execution_count": 14,
   "metadata": {},
   "outputs": [
    {
     "name": "stdout",
     "output_type": "stream",
     "text": [
      "df1: (522067, 10)\n",
      "df2: (522067, 15)\n",
      "df3: (522067, 14)\n",
      "df4: (522067, 8)\n",
      "df5: (522067, 24)\n",
      "df6: (522067, 16)\n",
      "df7: (522067, 36)\n",
      "df8: (522067, 8)\n",
      "Cols count new: 131\n",
      "Cols count old: 122\n",
      "Rows count old: 522067\n"
     ]
    }
   ],
   "source": [
    "dfs = [df1, df2, df3, df4, df5, df6, df7, df8]\n",
    "df_old = [df_2022, df_2023]\n",
    "\n",
    "for i, df in enumerate(dfs, start=1):\n",
    "    print(f\"df{i}: {df.shape}\")\n",
    "    sum([df.shape[1] for df in dfs])\n",
    "\n",
    "print(f\"Cols count new: {sum([df.shape[1] for df in dfs])}\")\n",
    "print(f\"Cols count old: {df_2023.shape[1]}\")\n",
    "print(f\"Rows count old: {df_2023.shape[0] + df_2022.shape[0]}\")\n"
   ]
  },
  {
   "cell_type": "code",
   "execution_count": 15,
   "metadata": {},
   "outputs": [
    {
     "data": {
      "text/plain": [
       "notification_id                              0\n",
       "hypotension_alarm                            0\n",
       "platelet_alarm                               0\n",
       "vomiting_alarm                               0\n",
       "bleeding_alarm                               0\n",
       "lethargy_alarm                               0\n",
       "hematocrit_alarm                             0\n",
       "abdominal_pain_alarm                         0\n",
       "lethargy_alarm_1                             0\n",
       "hepatomegaly_alarm                           0\n",
       "liquid_alarm                                 0\n",
       "alarm_dengue_date                            0\n",
       "pulse_severity                               0\n",
       "convergence_pressure_severity                0\n",
       "capilar_enchiment_severity                   0\n",
       "respiratory_insufficiency_liquid_severity    0\n",
       "tachycardia_severity                         0\n",
       "extremity_coldness_severity                  0\n",
       "hypotension_severity                         0\n",
       "hematemesis_severity                         0\n",
       "melena_severity                              0\n",
       "metrorrhagia_severity                        0\n",
       "bleeding_severity                            0\n",
       "higher_ast_alt_severity                      0\n",
       "myocarditis_severity                         0\n",
       "consciousness_severity                       0\n",
       "other_organs_severity                        0\n",
       "severity_date                                0\n",
       "hemorrhaegic_manifestations                  0\n",
       "epistaxis                                    0\n",
       "gengival_bleeding                            0\n",
       "metrorrhagia                                 0\n",
       "petechiae                                    0\n",
       "hematuria                                    0\n",
       "bleeding                                     0\n",
       "complications                                0\n",
       "dtype: int64"
      ]
     },
     "execution_count": 15,
     "metadata": {},
     "output_type": "execute_result"
    }
   ],
   "source": [
    "df7.isnull().sum()"
   ]
  },
  {
   "cell_type": "code",
   "execution_count": 16,
   "metadata": {},
   "outputs": [
    {
     "data": {
      "text/plain": [
       "Index(['notification_id', 'notification_type', 'disease_condition_id',\n",
       "       'notification_date', 'notification_week', 'notification_year',\n",
       "       'notification_state_id', 'notification_city_id',\n",
       "       'notification_region_id', 'notification_health_unit_id'],\n",
       "      dtype='object')"
      ]
     },
     "execution_count": 16,
     "metadata": {},
     "output_type": "execute_result"
    }
   ],
   "source": [
    "df1.columns"
   ]
  },
  {
   "cell_type": "code",
   "execution_count": 17,
   "metadata": {},
   "outputs": [
    {
     "data": {
      "text/plain": [
       "Index(['notification_id', 'lot_number', 'system_type', 'duplicated_number',\n",
       "       'typing_date', 'record_enabled_send', 'computer_id',\n",
       "       'windows_migration'],\n",
       "      dtype='object')"
      ]
     },
     "execution_count": 17,
     "metadata": {},
     "output_type": "execute_result"
    }
   ],
   "source": [
    "df8.columns"
   ]
  },
  {
   "cell_type": "code",
   "execution_count": null,
   "metadata": {},
   "outputs": [],
   "source": []
  }
 ],
 "metadata": {
  "kernelspec": {
   "display_name": ".venv",
   "language": "python",
   "name": "python3"
  },
  "language_info": {
   "codemirror_mode": {
    "name": "ipython",
    "version": 3
   },
   "file_extension": ".py",
   "mimetype": "text/x-python",
   "name": "python",
   "nbconvert_exporter": "python",
   "pygments_lexer": "ipython3",
   "version": "3.12.7"
  }
 },
 "nbformat": 4,
 "nbformat_minor": 2
}
