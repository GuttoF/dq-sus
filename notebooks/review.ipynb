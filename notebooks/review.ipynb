{
 "cells": [
  {
   "cell_type": "markdown",
   "metadata": {},
   "source": [
    "# Main"
   ]
  },
  {
   "cell_type": "code",
   "execution_count": 1,
   "metadata": {},
   "outputs": [],
   "source": [
    "from pathlib import Path\n",
    "\n",
    "import sys\n",
    "\n",
    "sys.path.append(str(Path().resolve().parent))"
   ]
  },
  {
   "cell_type": "markdown",
   "metadata": {},
   "source": [
    "## Pysus"
   ]
  },
  {
   "cell_type": "code",
   "execution_count": 2,
   "metadata": {},
   "outputs": [
    {
     "name": "stderr",
     "output_type": "stream",
     "text": [
      "CHIKBR23.parquet: 100%|██████████| 416k/416k [00:14<00:00, 29.2kB/s]\n"
     ]
    },
    {
     "data": {
      "text/plain": [
       "[/Users/guttofranca/pysus/CHIKBR22.parquet,\n",
       " /Users/guttofranca/pysus/CHIKBR23.parquet]"
      ]
     },
     "execution_count": 2,
     "metadata": {},
     "output_type": "execute_result"
    }
   ],
   "source": [
    "from pysus.ftp.databases.sinan import SINAN\n",
    "import pandas as pd\n",
    "\n",
    "sinan = SINAN().load()\n",
    "file = sinan.get_files(\"CHIK\", [2022, 2023])\n",
    "sinan.download(file)"
   ]
  },
  {
   "cell_type": "code",
   "execution_count": 3,
   "metadata": {},
   "outputs": [],
   "source": [
    "path_2022 = (\"/Users/guttofranca/pysus/CHIKBR22.parquet\")\n",
    "path_2023 = (\"/Users/guttofranca/pysus/CHIKBR23.parquet\")\n",
    "\n",
    "df_2022 = pd.read_parquet(path_2022)\n",
    "df_2023 = pd.read_parquet(path_2023)"
   ]
  },
  {
   "cell_type": "code",
   "execution_count": 4,
   "metadata": {},
   "outputs": [
    {
     "data": {
      "text/html": [
       "<div>\n",
       "<style scoped>\n",
       "    .dataframe tbody tr th:only-of-type {\n",
       "        vertical-align: middle;\n",
       "    }\n",
       "\n",
       "    .dataframe tbody tr th {\n",
       "        vertical-align: top;\n",
       "    }\n",
       "\n",
       "    .dataframe thead th {\n",
       "        text-align: right;\n",
       "    }\n",
       "</style>\n",
       "<table border=\"1\" class=\"dataframe\">\n",
       "  <thead>\n",
       "    <tr style=\"text-align: right;\">\n",
       "      <th></th>\n",
       "      <th>TP_NOT</th>\n",
       "      <th>ID_AGRAVO</th>\n",
       "      <th>DT_NOTIFIC</th>\n",
       "      <th>SEM_NOT</th>\n",
       "      <th>NU_ANO</th>\n",
       "      <th>SG_UF_NOT</th>\n",
       "      <th>ID_MUNICIP</th>\n",
       "      <th>ID_REGIONA</th>\n",
       "      <th>ID_UNIDADE</th>\n",
       "      <th>DT_SIN_PRI</th>\n",
       "      <th>...</th>\n",
       "      <th>PLAQ_MENOR</th>\n",
       "      <th>CON_FHD</th>\n",
       "      <th>COMPLICA</th>\n",
       "      <th>NU_LOTE_I</th>\n",
       "      <th>TP_SISTEMA</th>\n",
       "      <th>NDUPLIC_N</th>\n",
       "      <th>DT_DIGITA</th>\n",
       "      <th>CS_FLXRET</th>\n",
       "      <th>FLXRECEBI</th>\n",
       "      <th>MIGRADO_W</th>\n",
       "    </tr>\n",
       "  </thead>\n",
       "  <tbody>\n",
       "    <tr>\n",
       "      <th>0</th>\n",
       "      <td>2</td>\n",
       "      <td>A92.0</td>\n",
       "      <td>20220504</td>\n",
       "      <td>202218</td>\n",
       "      <td>2022</td>\n",
       "      <td>23</td>\n",
       "      <td>230440</td>\n",
       "      <td>1519</td>\n",
       "      <td>2528983</td>\n",
       "      <td>20220428</td>\n",
       "      <td>...</td>\n",
       "      <td></td>\n",
       "      <td></td>\n",
       "      <td></td>\n",
       "      <td></td>\n",
       "      <td>2</td>\n",
       "      <td></td>\n",
       "      <td>20220505</td>\n",
       "      <td></td>\n",
       "      <td></td>\n",
       "      <td></td>\n",
       "    </tr>\n",
       "    <tr>\n",
       "      <th>1</th>\n",
       "      <td>2</td>\n",
       "      <td>A92.0</td>\n",
       "      <td>20220512</td>\n",
       "      <td>202219</td>\n",
       "      <td>2022</td>\n",
       "      <td>23</td>\n",
       "      <td>230260</td>\n",
       "      <td>1526</td>\n",
       "      <td>2427052</td>\n",
       "      <td>20220506</td>\n",
       "      <td>...</td>\n",
       "      <td></td>\n",
       "      <td></td>\n",
       "      <td></td>\n",
       "      <td></td>\n",
       "      <td>2</td>\n",
       "      <td></td>\n",
       "      <td>20220517</td>\n",
       "      <td></td>\n",
       "      <td></td>\n",
       "      <td></td>\n",
       "    </tr>\n",
       "    <tr>\n",
       "      <th>2</th>\n",
       "      <td>2</td>\n",
       "      <td>A92.0</td>\n",
       "      <td>20220513</td>\n",
       "      <td>202219</td>\n",
       "      <td>2022</td>\n",
       "      <td>23</td>\n",
       "      <td>231110</td>\n",
       "      <td>1529</td>\n",
       "      <td>2426749</td>\n",
       "      <td>20220505</td>\n",
       "      <td>...</td>\n",
       "      <td></td>\n",
       "      <td></td>\n",
       "      <td></td>\n",
       "      <td></td>\n",
       "      <td>2</td>\n",
       "      <td></td>\n",
       "      <td>20220524</td>\n",
       "      <td></td>\n",
       "      <td></td>\n",
       "      <td></td>\n",
       "    </tr>\n",
       "    <tr>\n",
       "      <th>3</th>\n",
       "      <td>2</td>\n",
       "      <td>A92.0</td>\n",
       "      <td>20220423</td>\n",
       "      <td>202216</td>\n",
       "      <td>2022</td>\n",
       "      <td>23</td>\n",
       "      <td>230535</td>\n",
       "      <td>1516</td>\n",
       "      <td>2561042</td>\n",
       "      <td>20220422</td>\n",
       "      <td>...</td>\n",
       "      <td></td>\n",
       "      <td></td>\n",
       "      <td></td>\n",
       "      <td></td>\n",
       "      <td>2</td>\n",
       "      <td></td>\n",
       "      <td>20220524</td>\n",
       "      <td></td>\n",
       "      <td></td>\n",
       "      <td></td>\n",
       "    </tr>\n",
       "    <tr>\n",
       "      <th>4</th>\n",
       "      <td>2</td>\n",
       "      <td>A92.0</td>\n",
       "      <td>20220513</td>\n",
       "      <td>202219</td>\n",
       "      <td>2022</td>\n",
       "      <td>23</td>\n",
       "      <td>230440</td>\n",
       "      <td>1519</td>\n",
       "      <td>2561166</td>\n",
       "      <td>20220512</td>\n",
       "      <td>...</td>\n",
       "      <td></td>\n",
       "      <td></td>\n",
       "      <td></td>\n",
       "      <td></td>\n",
       "      <td>2</td>\n",
       "      <td></td>\n",
       "      <td>20220520</td>\n",
       "      <td></td>\n",
       "      <td></td>\n",
       "      <td></td>\n",
       "    </tr>\n",
       "  </tbody>\n",
       "</table>\n",
       "<p>5 rows × 122 columns</p>\n",
       "</div>"
      ],
      "text/plain": [
       "  TP_NOT ID_AGRAVO DT_NOTIFIC SEM_NOT NU_ANO SG_UF_NOT ID_MUNICIP ID_REGIONA  \\\n",
       "0      2     A92.0   20220504  202218   2022        23     230440   1519       \n",
       "1      2     A92.0   20220512  202219   2022        23     230260   1526       \n",
       "2      2     A92.0   20220513  202219   2022        23     231110   1529       \n",
       "3      2     A92.0   20220423  202216   2022        23     230535   1516       \n",
       "4      2     A92.0   20220513  202219   2022        23     230440   1519       \n",
       "\n",
       "  ID_UNIDADE DT_SIN_PRI  ... PLAQ_MENOR CON_FHD COMPLICA  NU_LOTE_I  \\\n",
       "0    2528983   20220428  ...                                          \n",
       "1    2427052   20220506  ...                                          \n",
       "2    2426749   20220505  ...                                          \n",
       "3    2561042   20220422  ...                                          \n",
       "4    2561166   20220512  ...                                          \n",
       "\n",
       "  TP_SISTEMA NDUPLIC_N DT_DIGITA CS_FLXRET FLXRECEBI MIGRADO_W  \n",
       "0          2            20220505                                \n",
       "1          2            20220517                                \n",
       "2          2            20220524                                \n",
       "3          2            20220524                                \n",
       "4          2            20220520                                \n",
       "\n",
       "[5 rows x 122 columns]"
      ]
     },
     "execution_count": 4,
     "metadata": {},
     "output_type": "execute_result"
    }
   ],
   "source": [
    "df_2022.head()"
   ]
  },
  {
   "cell_type": "code",
   "execution_count": 5,
   "metadata": {},
   "outputs": [
    {
     "data": {
      "text/plain": [
       "(273874, 122)"
      ]
     },
     "execution_count": 5,
     "metadata": {},
     "output_type": "execute_result"
    }
   ],
   "source": [
    "df_2022.shape"
   ]
  },
  {
   "cell_type": "code",
   "execution_count": 6,
   "metadata": {},
   "outputs": [
    {
     "data": {
      "text/plain": [
       "(248193, 122)"
      ]
     },
     "execution_count": 6,
     "metadata": {},
     "output_type": "execute_result"
    }
   ],
   "source": [
    "df_2023.shape"
   ]
  },
  {
   "cell_type": "code",
   "execution_count": 7,
   "metadata": {},
   "outputs": [
    {
     "data": {
      "text/plain": [
       "TP_NOT        0\n",
       "ID_AGRAVO     0\n",
       "DT_NOTIFIC    0\n",
       "SEM_NOT       0\n",
       "NU_ANO        0\n",
       "             ..\n",
       "NDUPLIC_N     0\n",
       "DT_DIGITA     0\n",
       "CS_FLXRET     0\n",
       "FLXRECEBI     0\n",
       "MIGRADO_W     0\n",
       "Length: 122, dtype: int64"
      ]
     },
     "execution_count": 7,
     "metadata": {},
     "output_type": "execute_result"
    }
   ],
   "source": [
    "df_2022.isnull().sum()"
   ]
  },
  {
   "cell_type": "code",
   "execution_count": 8,
   "metadata": {},
   "outputs": [],
   "source": [
    "from dq_sus.get_info import (\n",
    "    get_notifications,\n",
    "    get_personal_data,\n",
    "    get_clinical_signs,\n",
    "    get_patient_diseases,\n",
    "    get_exams,\n",
    "    get_hospital_info,\n",
    "    get_alarm_severities,\n",
    "    get_sinan_info,\n",
    ")\n"
   ]
  },
  {
   "cell_type": "code",
   "execution_count": null,
   "metadata": {},
   "outputs": [
    {
     "data": {
      "application/vnd.jupyter.widget-view+json": {
       "model_id": "f938861aeacb4094ae25a006a3b0f0e0",
       "version_major": 2,
       "version_minor": 0
      },
      "text/plain": [
       "FloatProgress(value=0.0, layout=Layout(width='auto'), style=ProgressStyle(bar_color='black'))"
      ]
     },
     "metadata": {},
     "output_type": "display_data"
    },
    {
     "data": {
      "application/vnd.jupyter.widget-view+json": {
       "model_id": "603dd6dc402c4d07a4dc9d328e8a559c",
       "version_major": 2,
       "version_minor": 0
      },
      "text/plain": [
       "FloatProgress(value=0.0, layout=Layout(width='auto'), style=ProgressStyle(bar_color='black'))"
      ]
     },
     "metadata": {},
     "output_type": "display_data"
    },
    {
     "data": {
      "application/vnd.jupyter.widget-view+json": {
       "model_id": "0ca914cac963487fbd5ff99d8721606e",
       "version_major": 2,
       "version_minor": 0
      },
      "text/plain": [
       "FloatProgress(value=0.0, layout=Layout(width='auto'), style=ProgressStyle(bar_color='black'))"
      ]
     },
     "metadata": {},
     "output_type": "display_data"
    },
    {
     "data": {
      "application/vnd.jupyter.widget-view+json": {
       "model_id": "d8e0634dc6a940bfb9a4b32de4d1b337",
       "version_major": 2,
       "version_minor": 0
      },
      "text/plain": [
       "FloatProgress(value=0.0, layout=Layout(width='auto'), style=ProgressStyle(bar_color='black'))"
      ]
     },
     "metadata": {},
     "output_type": "display_data"
    },
    {
     "data": {
      "application/vnd.jupyter.widget-view+json": {
       "model_id": "0dbee7390947412b9766916f9322c45c",
       "version_major": 2,
       "version_minor": 0
      },
      "text/plain": [
       "FloatProgress(value=0.0, layout=Layout(width='auto'), style=ProgressStyle(bar_color='black'))"
      ]
     },
     "metadata": {},
     "output_type": "display_data"
    },
    {
     "data": {
      "application/vnd.jupyter.widget-view+json": {
       "model_id": "0d6efc4e11494f9bae18232bb0852fd0",
       "version_major": 2,
       "version_minor": 0
      },
      "text/plain": [
       "FloatProgress(value=0.0, layout=Layout(width='auto'), style=ProgressStyle(bar_color='black'))"
      ]
     },
     "metadata": {},
     "output_type": "display_data"
    },
    {
     "data": {
      "application/vnd.jupyter.widget-view+json": {
       "model_id": "eb2ec281107b4fdaa1f2a2c8f123e6e7",
       "version_major": 2,
       "version_minor": 0
      },
      "text/plain": [
       "FloatProgress(value=0.0, layout=Layout(width='auto'), style=ProgressStyle(bar_color='black'))"
      ]
     },
     "metadata": {},
     "output_type": "display_data"
    },
    {
     "data": {
      "application/vnd.jupyter.widget-view+json": {
       "model_id": "79dc1babf9e74d2188827e7d7d6ce6e7",
       "version_major": 2,
       "version_minor": 0
      },
      "text/plain": [
       "FloatProgress(value=0.0, layout=Layout(width='auto'), style=ProgressStyle(bar_color='black'))"
      ]
     },
     "metadata": {},
     "output_type": "display_data"
    },
    {
     "data": {
      "application/vnd.jupyter.widget-view+json": {
       "model_id": "81713648a55d4faeae6f92932be12a4b",
       "version_major": 2,
       "version_minor": 0
      },
      "text/plain": [
       "FloatProgress(value=0.0, layout=Layout(width='auto'), style=ProgressStyle(bar_color='black'))"
      ]
     },
     "metadata": {},
     "output_type": "display_data"
    },
    {
     "data": {
      "application/vnd.jupyter.widget-view+json": {
       "model_id": "658e790c17574f5cba0d9eb21523b65f",
       "version_major": 2,
       "version_minor": 0
      },
      "text/plain": [
       "FloatProgress(value=0.0, layout=Layout(width='auto'), style=ProgressStyle(bar_color='black'))"
      ]
     },
     "metadata": {},
     "output_type": "display_data"
    },
    {
     "data": {
      "application/vnd.jupyter.widget-view+json": {
       "model_id": "68c4371dfa7c4d2884c8347b87be0b40",
       "version_major": 2,
       "version_minor": 0
      },
      "text/plain": [
       "FloatProgress(value=0.0, layout=Layout(width='auto'), style=ProgressStyle(bar_color='black'))"
      ]
     },
     "metadata": {},
     "output_type": "display_data"
    },
    {
     "data": {
      "application/vnd.jupyter.widget-view+json": {
       "model_id": "da896625403a4ea0abd49d676983998a",
       "version_major": 2,
       "version_minor": 0
      },
      "text/plain": [
       "FloatProgress(value=0.0, layout=Layout(width='auto'), style=ProgressStyle(bar_color='black'))"
      ]
     },
     "metadata": {},
     "output_type": "display_data"
    },
    {
     "data": {
      "application/vnd.jupyter.widget-view+json": {
       "model_id": "cb3af3b46ee5484c95dfa456f52b5c1f",
       "version_major": 2,
       "version_minor": 0
      },
      "text/plain": [
       "FloatProgress(value=0.0, layout=Layout(width='auto'), style=ProgressStyle(bar_color='black'))"
      ]
     },
     "metadata": {},
     "output_type": "display_data"
    },
    {
     "data": {
      "application/vnd.jupyter.widget-view+json": {
       "model_id": "cc5763ce5c344d31803d1b27199d8f7c",
       "version_major": 2,
       "version_minor": 0
      },
      "text/plain": [
       "FloatProgress(value=0.0, layout=Layout(width='auto'), style=ProgressStyle(bar_color='black'))"
      ]
     },
     "metadata": {},
     "output_type": "display_data"
    },
    {
     "data": {
      "application/vnd.jupyter.widget-view+json": {
       "model_id": "0d534a2d57864b3f8bce1880931128ee",
       "version_major": 2,
       "version_minor": 0
      },
      "text/plain": [
       "FloatProgress(value=0.0, layout=Layout(width='auto'), style=ProgressStyle(bar_color='black'))"
      ]
     },
     "metadata": {},
     "output_type": "display_data"
    },
    {
     "data": {
      "application/vnd.jupyter.widget-view+json": {
       "model_id": "7e7dd42174ad482da4de9ac46f353129",
       "version_major": 2,
       "version_minor": 0
      },
      "text/plain": [
       "FloatProgress(value=0.0, layout=Layout(width='auto'), style=ProgressStyle(bar_color='black'))"
      ]
     },
     "metadata": {},
     "output_type": "display_data"
    },
    {
     "data": {
      "application/vnd.jupyter.widget-view+json": {
       "model_id": "5aaf7bc5a1e646f99d7962fa966410cc",
       "version_major": 2,
       "version_minor": 0
      },
      "text/plain": [
       "FloatProgress(value=0.0, layout=Layout(width='auto'), style=ProgressStyle(bar_color='black'))"
      ]
     },
     "metadata": {},
     "output_type": "display_data"
    },
    {
     "data": {
      "application/vnd.jupyter.widget-view+json": {
       "model_id": "85b70aff2c5543b6a7737701b5ae0b6c",
       "version_major": 2,
       "version_minor": 0
      },
      "text/plain": [
       "FloatProgress(value=0.0, layout=Layout(width='auto'), style=ProgressStyle(bar_color='black'))"
      ]
     },
     "metadata": {},
     "output_type": "display_data"
    },
    {
     "data": {
      "application/vnd.jupyter.widget-view+json": {
       "model_id": "2d9ee97fedf748aa829c7315f74d520c",
       "version_major": 2,
       "version_minor": 0
      },
      "text/plain": [
       "FloatProgress(value=0.0, layout=Layout(width='auto'), style=ProgressStyle(bar_color='black'))"
      ]
     },
     "metadata": {},
     "output_type": "display_data"
    },
    {
     "data": {
      "application/vnd.jupyter.widget-view+json": {
       "model_id": "48af4134547c4ffbbe80cd6d754db329",
       "version_major": 2,
       "version_minor": 0
      },
      "text/plain": [
       "FloatProgress(value=0.0, layout=Layout(width='auto'), style=ProgressStyle(bar_color='black'))"
      ]
     },
     "metadata": {},
     "output_type": "display_data"
    },
    {
     "data": {
      "application/vnd.jupyter.widget-view+json": {
       "model_id": "5bab1a183c6c415ab6b3590c4960efce",
       "version_major": 2,
       "version_minor": 0
      },
      "text/plain": [
       "FloatProgress(value=0.0, layout=Layout(width='auto'), style=ProgressStyle(bar_color='black'))"
      ]
     },
     "metadata": {},
     "output_type": "display_data"
    },
    {
     "data": {
      "application/vnd.jupyter.widget-view+json": {
       "model_id": "b7f0648e3eea4dd59f43a15cb59460fc",
       "version_major": 2,
       "version_minor": 0
      },
      "text/plain": [
       "FloatProgress(value=0.0, layout=Layout(width='auto'), style=ProgressStyle(bar_color='black'))"
      ]
     },
     "metadata": {},
     "output_type": "display_data"
    },
    {
     "data": {
      "application/vnd.jupyter.widget-view+json": {
       "model_id": "9966a9d075334cd2be74dec300f72fde",
       "version_major": 2,
       "version_minor": 0
      },
      "text/plain": [
       "FloatProgress(value=0.0, layout=Layout(width='auto'), style=ProgressStyle(bar_color='black'))"
      ]
     },
     "metadata": {},
     "output_type": "display_data"
    },
    {
     "data": {
      "application/vnd.jupyter.widget-view+json": {
       "model_id": "27441a419e8e45929326f6be565a7b02",
       "version_major": 2,
       "version_minor": 0
      },
      "text/plain": [
       "FloatProgress(value=0.0, layout=Layout(width='auto'), style=ProgressStyle(bar_color='black'))"
      ]
     },
     "metadata": {},
     "output_type": "display_data"
    }
   ],
   "source": [
    "from dq_sus.get_info import (\n",
    "    get_notifications,\n",
    "    get_personal_data,\n",
    "    get_clinical_signs,\n",
    "    get_patient_diseases,\n",
    "    get_exams,\n",
    "    get_hospital_info,\n",
    "    get_alarm_severities,\n",
    "    get_sinan_info,\n",
    ")\n",
    "\n",
    "\n",
    "\n",
    "df1 = get_notifications()\n",
    "df2 = get_personal_data()\n",
    "df3 = get_clinical_signs()\n",
    "df4 = get_patient_diseases()\n",
    "df5 = get_exams()\n",
    "df6 = get_hospital_info()\n",
    "df7 = get_alarm_severities()\n",
    "df8 = get_sinan_info()"
   ]
  },
  {
   "cell_type": "code",
   "execution_count": 18,
   "metadata": {},
   "outputs": [
    {
     "data": {
      "text/plain": [
       "Index(['notification_id', 'hypotension_alarm', 'platelet_alarm',\n",
       "       'vomiting_alarm', 'bleeding_alarm', 'lethargy_alarm',\n",
       "       'hematocrit_alarm', 'abdominal_pain_alarm', 'lethargy_alarm_1',\n",
       "       'hepatomegaly_alarm', 'liquid_alarm', 'alarm_dengue_date',\n",
       "       'pulse_severity', 'convergence_pressure_severity',\n",
       "       'capilar_enchiment_severity',\n",
       "       'respiratory_insufficiency_liquid_severity', 'tachycardia_severity',\n",
       "       'extremity_coldness_severity', 'hypotension_severity',\n",
       "       'hematemesis_severity', 'melena_severity', 'metrorrhagia_severity',\n",
       "       'bleeding_severity', 'higher_ast_alt_severity', 'myocarditis_severity',\n",
       "       'consciousness_severity', 'other_organs_severity', 'severity_date',\n",
       "       'hemorrhaegic_manifestations', 'epistaxis', 'gengival_bleeding',\n",
       "       'metrorrhagia', 'petechiae', 'hematuria', 'bleeding', 'complications'],\n",
       "      dtype='object')"
      ]
     },
     "execution_count": 18,
     "metadata": {},
     "output_type": "execute_result"
    }
   ],
   "source": [
    "df7.columns"
   ]
  },
  {
   "cell_type": "code",
   "execution_count": 11,
   "metadata": {},
   "outputs": [
    {
     "data": {
      "text/html": [
       "<div>\n",
       "<style scoped>\n",
       "    .dataframe tbody tr th:only-of-type {\n",
       "        vertical-align: middle;\n",
       "    }\n",
       "\n",
       "    .dataframe tbody tr th {\n",
       "        vertical-align: top;\n",
       "    }\n",
       "\n",
       "    .dataframe thead th {\n",
       "        text-align: right;\n",
       "    }\n",
       "</style>\n",
       "<table border=\"1\" class=\"dataframe\">\n",
       "  <thead>\n",
       "    <tr style=\"text-align: right;\">\n",
       "      <th></th>\n",
       "      <th>notification_id</th>\n",
       "      <th>notification_type</th>\n",
       "      <th>disease_condition_id</th>\n",
       "      <th>notification_date</th>\n",
       "      <th>notification_week</th>\n",
       "      <th>notification_year</th>\n",
       "      <th>notification_state_id</th>\n",
       "      <th>notification_city_id</th>\n",
       "      <th>notification_region_id</th>\n",
       "      <th>notification_health_unit_id</th>\n",
       "    </tr>\n",
       "  </thead>\n",
       "  <tbody>\n",
       "    <tr>\n",
       "      <th>0</th>\n",
       "      <td>1</td>\n",
       "      <td>2</td>\n",
       "      <td>A92.0</td>\n",
       "      <td>20220218</td>\n",
       "      <td>202207</td>\n",
       "      <td>2022</td>\n",
       "      <td>26</td>\n",
       "      <td>261070</td>\n",
       "      <td>1497</td>\n",
       "      <td>6443419</td>\n",
       "    </tr>\n",
       "    <tr>\n",
       "      <th>1</th>\n",
       "      <td>2</td>\n",
       "      <td>2</td>\n",
       "      <td>A92.0</td>\n",
       "      <td>20220125</td>\n",
       "      <td>202204</td>\n",
       "      <td>2022</td>\n",
       "      <td>26</td>\n",
       "      <td>260410</td>\n",
       "      <td>1499</td>\n",
       "      <td>6855881</td>\n",
       "    </tr>\n",
       "    <tr>\n",
       "      <th>2</th>\n",
       "      <td>3</td>\n",
       "      <td>2</td>\n",
       "      <td>A92.0</td>\n",
       "      <td>20220207</td>\n",
       "      <td>202206</td>\n",
       "      <td>2022</td>\n",
       "      <td>26</td>\n",
       "      <td>260515</td>\n",
       "      <td>1503</td>\n",
       "      <td>2350289</td>\n",
       "    </tr>\n",
       "    <tr>\n",
       "      <th>3</th>\n",
       "      <td>4</td>\n",
       "      <td>2</td>\n",
       "      <td>A92.0</td>\n",
       "      <td>20220121</td>\n",
       "      <td>202203</td>\n",
       "      <td>2022</td>\n",
       "      <td>26</td>\n",
       "      <td>261110</td>\n",
       "      <td>1503</td>\n",
       "      <td>5455197</td>\n",
       "    </tr>\n",
       "    <tr>\n",
       "      <th>4</th>\n",
       "      <td>5</td>\n",
       "      <td>2</td>\n",
       "      <td>A92.0</td>\n",
       "      <td>20220125</td>\n",
       "      <td>202204</td>\n",
       "      <td>2022</td>\n",
       "      <td>26</td>\n",
       "      <td>261110</td>\n",
       "      <td>1503</td>\n",
       "      <td>5455197</td>\n",
       "    </tr>\n",
       "  </tbody>\n",
       "</table>\n",
       "</div>"
      ],
      "text/plain": [
       "   notification_id notification_type disease_condition_id notification_date  \\\n",
       "0                1                 2                A92.0          20220218   \n",
       "1                2                 2                A92.0          20220125   \n",
       "2                3                 2                A92.0          20220207   \n",
       "3                4                 2                A92.0          20220121   \n",
       "4                5                 2                A92.0          20220125   \n",
       "\n",
       "  notification_week notification_year notification_state_id  \\\n",
       "0            202207              2022                    26   \n",
       "1            202204              2022                    26   \n",
       "2            202206              2022                    26   \n",
       "3            202203              2022                    26   \n",
       "4            202204              2022                    26   \n",
       "\n",
       "  notification_city_id notification_region_id notification_health_unit_id  \n",
       "0               261070               1497                         6443419  \n",
       "1               260410               1499                         6855881  \n",
       "2               260515               1503                         2350289  \n",
       "3               261110               1503                         5455197  \n",
       "4               261110               1503                         5455197  "
      ]
     },
     "execution_count": 11,
     "metadata": {},
     "output_type": "execute_result"
    }
   ],
   "source": [
    "df1.head()"
   ]
  },
  {
   "cell_type": "code",
   "execution_count": 12,
   "metadata": {},
   "outputs": [
    {
     "data": {
      "text/plain": [
       "notification_id                0\n",
       "notification_type              0\n",
       "disease_condition_id           0\n",
       "notification_date              0\n",
       "notification_week              0\n",
       "notification_year              0\n",
       "notification_state_id          0\n",
       "notification_city_id           0\n",
       "notification_region_id         0\n",
       "notification_health_unit_id    0\n",
       "dtype: int64"
      ]
     },
     "execution_count": 12,
     "metadata": {},
     "output_type": "execute_result"
    }
   ],
   "source": [
    "# total de valores nulos\n",
    "df1.isnull().sum()"
   ]
  },
  {
   "cell_type": "code",
   "execution_count": 13,
   "metadata": {},
   "outputs": [
    {
     "data": {
      "text/plain": [
       "notification_id                 int64\n",
       "notification_type              object\n",
       "disease_condition_id           object\n",
       "notification_date              object\n",
       "notification_week              object\n",
       "notification_year              object\n",
       "notification_state_id          object\n",
       "notification_city_id           object\n",
       "notification_region_id         object\n",
       "notification_health_unit_id    object\n",
       "dtype: object"
      ]
     },
     "execution_count": 13,
     "metadata": {},
     "output_type": "execute_result"
    }
   ],
   "source": [
    "df1.dtypes"
   ]
  },
  {
   "cell_type": "code",
   "execution_count": 14,
   "metadata": {},
   "outputs": [
    {
     "name": "stdout",
     "output_type": "stream",
     "text": [
      "df1: (522067, 10)\n",
      "df2: (522067, 15)\n",
      "df3: (522067, 14)\n",
      "df4: (522067, 8)\n",
      "df5: (522067, 24)\n",
      "df6: (522067, 16)\n",
      "df7: (522067, 36)\n",
      "df8: (522067, 8)\n",
      "Cols count new: 131\n",
      "Cols count old: 122\n",
      "Rows count old: 522067\n"
     ]
    }
   ],
   "source": [
    "dfs = [df1, df2, df3, df4, df5, df6, df7, df8]\n",
    "df_old = [df_2022, df_2023]\n",
    "\n",
    "for i, df in enumerate(dfs, start=1):\n",
    "    print(f\"df{i}: {df.shape}\")\n",
    "    sum([df.shape[1] for df in dfs])\n",
    "\n",
    "print(f\"Cols count new: {sum([df.shape[1] for df in dfs])}\")\n",
    "print(f\"Cols count old: {df_2023.shape[1]}\")\n",
    "print(f\"Rows count old: {df_2023.shape[0] + df_2022.shape[0]}\")\n"
   ]
  },
  {
   "cell_type": "code",
   "execution_count": 15,
   "metadata": {},
   "outputs": [
    {
     "data": {
      "text/plain": [
       "notification_id                              0\n",
       "hypotension_alarm                            0\n",
       "platelet_alarm                               0\n",
       "vomiting_alarm                               0\n",
       "bleeding_alarm                               0\n",
       "lethargy_alarm                               0\n",
       "hematocrit_alarm                             0\n",
       "abdominal_pain_alarm                         0\n",
       "lethargy_alarm_1                             0\n",
       "hepatomegaly_alarm                           0\n",
       "liquid_alarm                                 0\n",
       "alarm_dengue_date                            0\n",
       "pulse_severity                               0\n",
       "convergence_pressure_severity                0\n",
       "capilar_enchiment_severity                   0\n",
       "respiratory_insufficiency_liquid_severity    0\n",
       "tachycardia_severity                         0\n",
       "extremity_coldness_severity                  0\n",
       "hypotension_severity                         0\n",
       "hematemesis_severity                         0\n",
       "melena_severity                              0\n",
       "metrorrhagia_severity                        0\n",
       "bleeding_severity                            0\n",
       "higher_ast_alt_severity                      0\n",
       "myocarditis_severity                         0\n",
       "consciousness_severity                       0\n",
       "other_organs_severity                        0\n",
       "severity_date                                0\n",
       "hemorrhaegic_manifestations                  0\n",
       "epistaxis                                    0\n",
       "gengival_bleeding                            0\n",
       "metrorrhagia                                 0\n",
       "petechiae                                    0\n",
       "hematuria                                    0\n",
       "bleeding                                     0\n",
       "complications                                0\n",
       "dtype: int64"
      ]
     },
     "execution_count": 15,
     "metadata": {},
     "output_type": "execute_result"
    }
   ],
   "source": [
    "df7.isnull().sum()"
   ]
  },
  {
   "cell_type": "code",
   "execution_count": 16,
   "metadata": {},
   "outputs": [
    {
     "data": {
      "text/plain": [
       "Index(['notification_id', 'notification_type', 'disease_condition_id',\n",
       "       'notification_date', 'notification_week', 'notification_year',\n",
       "       'notification_state_id', 'notification_city_id',\n",
       "       'notification_region_id', 'notification_health_unit_id'],\n",
       "      dtype='object')"
      ]
     },
     "execution_count": 16,
     "metadata": {},
     "output_type": "execute_result"
    }
   ],
   "source": [
    "df1.columns"
   ]
  },
  {
   "cell_type": "code",
   "execution_count": 17,
   "metadata": {},
   "outputs": [
    {
     "data": {
      "text/plain": [
       "Index(['notification_id', 'lot_number', 'system_type', 'duplicated_number',\n",
       "       'typing_date', 'record_enabled_send', 'computer_id',\n",
       "       'windows_migration'],\n",
       "      dtype='object')"
      ]
     },
     "execution_count": 17,
     "metadata": {},
     "output_type": "execute_result"
    }
   ],
   "source": [
    "df8.columns"
   ]
  },
  {
   "cell_type": "code",
   "execution_count": null,
   "metadata": {},
   "outputs": [],
   "source": []
  }
 ],
 "metadata": {
  "kernelspec": {
   "display_name": ".venv",
   "language": "python",
   "name": "python3"
  },
  "language_info": {
   "codemirror_mode": {
    "name": "ipython",
    "version": 3
   },
   "file_extension": ".py",
   "mimetype": "text/x-python",
   "name": "python",
   "nbconvert_exporter": "python",
   "pygments_lexer": "ipython3",
   "version": "3.12.7"
  }
 },
 "nbformat": 4,
 "nbformat_minor": 2
}
