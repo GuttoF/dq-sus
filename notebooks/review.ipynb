{
 "cells": [
  {
   "cell_type": "markdown",
   "metadata": {},
   "source": [
    "# Main"
   ]
  },
  {
   "cell_type": "code",
   "execution_count": 1,
   "metadata": {},
   "outputs": [],
   "source": [
    "from pathlib import Path\n",
    "\n",
    "import sys\n",
    "\n",
    "sys.path.append(str(Path().resolve().parent))"
   ]
  },
  {
   "cell_type": "markdown",
   "metadata": {},
   "source": [
    "## Pysus"
   ]
  },
  {
   "cell_type": "code",
   "execution_count": 2,
   "metadata": {},
   "outputs": [
    {
     "name": "stderr",
     "output_type": "stream",
     "text": [
      "100%|██████████| 9.23M/9.23M [00:00<00:00, 4.90GB/s]\n"
     ]
    },
    {
     "data": {
      "text/plain": [
       "[/Users/gutto/pysus/CHIKBR22.parquet, /Users/gutto/pysus/CHIKBR23.parquet]"
      ]
     },
     "execution_count": 2,
     "metadata": {},
     "output_type": "execute_result"
    }
   ],
   "source": [
    "from pysus.ftp.databases.sinan import SINAN # type: ignore\n",
    "import pandas as pd # type: ignore\n",
    "\n",
    "sinan = SINAN().load()\n",
    "file = sinan.get_files(\"CHIK\", [2022, 2023])\n",
    "sinan.download(file)"
   ]
  },
  {
   "cell_type": "code",
   "execution_count": 3,
   "metadata": {},
   "outputs": [],
   "source": [
    "path_2022 = (\"/Users/gutto/pysus/CHIKBR22.parquet\")\n",
    "path_2023 = (\"/Users/gutto/pysus/CHIKBR23.parquet\")\n",
    "\n",
    "df_2022 = pd.read_parquet(path_2022)\n",
    "df_2023 = pd.read_parquet(path_2023)"
   ]
  },
  {
   "cell_type": "code",
   "execution_count": 4,
   "metadata": {},
   "outputs": [
    {
     "data": {
      "text/html": [
       "<div>\n",
       "<style scoped>\n",
       "    .dataframe tbody tr th:only-of-type {\n",
       "        vertical-align: middle;\n",
       "    }\n",
       "\n",
       "    .dataframe tbody tr th {\n",
       "        vertical-align: top;\n",
       "    }\n",
       "\n",
       "    .dataframe thead th {\n",
       "        text-align: right;\n",
       "    }\n",
       "</style>\n",
       "<table border=\"1\" class=\"dataframe\">\n",
       "  <thead>\n",
       "    <tr style=\"text-align: right;\">\n",
       "      <th></th>\n",
       "      <th>TP_NOT</th>\n",
       "      <th>ID_AGRAVO</th>\n",
       "      <th>DT_NOTIFIC</th>\n",
       "      <th>SEM_NOT</th>\n",
       "      <th>NU_ANO</th>\n",
       "      <th>SG_UF_NOT</th>\n",
       "      <th>ID_MUNICIP</th>\n",
       "      <th>ID_REGIONA</th>\n",
       "      <th>ID_UNIDADE</th>\n",
       "      <th>DT_SIN_PRI</th>\n",
       "      <th>...</th>\n",
       "      <th>PLAQ_MENOR</th>\n",
       "      <th>CON_FHD</th>\n",
       "      <th>COMPLICA</th>\n",
       "      <th>NU_LOTE_I</th>\n",
       "      <th>TP_SISTEMA</th>\n",
       "      <th>NDUPLIC_N</th>\n",
       "      <th>DT_DIGITA</th>\n",
       "      <th>CS_FLXRET</th>\n",
       "      <th>FLXRECEBI</th>\n",
       "      <th>MIGRADO_W</th>\n",
       "    </tr>\n",
       "  </thead>\n",
       "  <tbody>\n",
       "    <tr>\n",
       "      <th>0</th>\n",
       "      <td>2</td>\n",
       "      <td>A92.0</td>\n",
       "      <td>20220504</td>\n",
       "      <td>202218</td>\n",
       "      <td>2022</td>\n",
       "      <td>23</td>\n",
       "      <td>230440</td>\n",
       "      <td>1519</td>\n",
       "      <td>2528983</td>\n",
       "      <td>20220428</td>\n",
       "      <td>...</td>\n",
       "      <td></td>\n",
       "      <td></td>\n",
       "      <td></td>\n",
       "      <td></td>\n",
       "      <td>2</td>\n",
       "      <td></td>\n",
       "      <td>20220505</td>\n",
       "      <td></td>\n",
       "      <td></td>\n",
       "      <td></td>\n",
       "    </tr>\n",
       "    <tr>\n",
       "      <th>1</th>\n",
       "      <td>2</td>\n",
       "      <td>A92.0</td>\n",
       "      <td>20220512</td>\n",
       "      <td>202219</td>\n",
       "      <td>2022</td>\n",
       "      <td>23</td>\n",
       "      <td>230260</td>\n",
       "      <td>1526</td>\n",
       "      <td>2427052</td>\n",
       "      <td>20220506</td>\n",
       "      <td>...</td>\n",
       "      <td></td>\n",
       "      <td></td>\n",
       "      <td></td>\n",
       "      <td></td>\n",
       "      <td>2</td>\n",
       "      <td></td>\n",
       "      <td>20220517</td>\n",
       "      <td></td>\n",
       "      <td></td>\n",
       "      <td></td>\n",
       "    </tr>\n",
       "    <tr>\n",
       "      <th>2</th>\n",
       "      <td>2</td>\n",
       "      <td>A92.0</td>\n",
       "      <td>20220513</td>\n",
       "      <td>202219</td>\n",
       "      <td>2022</td>\n",
       "      <td>23</td>\n",
       "      <td>231110</td>\n",
       "      <td>1529</td>\n",
       "      <td>2426749</td>\n",
       "      <td>20220505</td>\n",
       "      <td>...</td>\n",
       "      <td></td>\n",
       "      <td></td>\n",
       "      <td></td>\n",
       "      <td></td>\n",
       "      <td>2</td>\n",
       "      <td></td>\n",
       "      <td>20220524</td>\n",
       "      <td></td>\n",
       "      <td></td>\n",
       "      <td></td>\n",
       "    </tr>\n",
       "    <tr>\n",
       "      <th>3</th>\n",
       "      <td>2</td>\n",
       "      <td>A92.0</td>\n",
       "      <td>20220423</td>\n",
       "      <td>202216</td>\n",
       "      <td>2022</td>\n",
       "      <td>23</td>\n",
       "      <td>230535</td>\n",
       "      <td>1516</td>\n",
       "      <td>2561042</td>\n",
       "      <td>20220422</td>\n",
       "      <td>...</td>\n",
       "      <td></td>\n",
       "      <td></td>\n",
       "      <td></td>\n",
       "      <td></td>\n",
       "      <td>2</td>\n",
       "      <td></td>\n",
       "      <td>20220524</td>\n",
       "      <td></td>\n",
       "      <td></td>\n",
       "      <td></td>\n",
       "    </tr>\n",
       "    <tr>\n",
       "      <th>4</th>\n",
       "      <td>2</td>\n",
       "      <td>A92.0</td>\n",
       "      <td>20220513</td>\n",
       "      <td>202219</td>\n",
       "      <td>2022</td>\n",
       "      <td>23</td>\n",
       "      <td>230440</td>\n",
       "      <td>1519</td>\n",
       "      <td>2561166</td>\n",
       "      <td>20220512</td>\n",
       "      <td>...</td>\n",
       "      <td></td>\n",
       "      <td></td>\n",
       "      <td></td>\n",
       "      <td></td>\n",
       "      <td>2</td>\n",
       "      <td></td>\n",
       "      <td>20220520</td>\n",
       "      <td></td>\n",
       "      <td></td>\n",
       "      <td></td>\n",
       "    </tr>\n",
       "  </tbody>\n",
       "</table>\n",
       "<p>5 rows × 122 columns</p>\n",
       "</div>"
      ],
      "text/plain": [
       "  TP_NOT ID_AGRAVO DT_NOTIFIC SEM_NOT NU_ANO SG_UF_NOT ID_MUNICIP ID_REGIONA  \\\n",
       "0      2     A92.0   20220504  202218   2022        23     230440   1519       \n",
       "1      2     A92.0   20220512  202219   2022        23     230260   1526       \n",
       "2      2     A92.0   20220513  202219   2022        23     231110   1529       \n",
       "3      2     A92.0   20220423  202216   2022        23     230535   1516       \n",
       "4      2     A92.0   20220513  202219   2022        23     230440   1519       \n",
       "\n",
       "  ID_UNIDADE DT_SIN_PRI  ... PLAQ_MENOR CON_FHD COMPLICA  NU_LOTE_I  \\\n",
       "0    2528983   20220428  ...                                          \n",
       "1    2427052   20220506  ...                                          \n",
       "2    2426749   20220505  ...                                          \n",
       "3    2561042   20220422  ...                                          \n",
       "4    2561166   20220512  ...                                          \n",
       "\n",
       "  TP_SISTEMA NDUPLIC_N DT_DIGITA CS_FLXRET FLXRECEBI MIGRADO_W  \n",
       "0          2            20220505                                \n",
       "1          2            20220517                                \n",
       "2          2            20220524                                \n",
       "3          2            20220524                                \n",
       "4          2            20220520                                \n",
       "\n",
       "[5 rows x 122 columns]"
      ]
     },
     "execution_count": 4,
     "metadata": {},
     "output_type": "execute_result"
    }
   ],
   "source": [
    "df_2022.head()"
   ]
  },
  {
   "cell_type": "code",
   "execution_count": 5,
   "metadata": {},
   "outputs": [
    {
     "data": {
      "text/plain": [
       "(273874, 122)"
      ]
     },
     "execution_count": 5,
     "metadata": {},
     "output_type": "execute_result"
    }
   ],
   "source": [
    "df_2022.shape"
   ]
  },
  {
   "cell_type": "code",
   "execution_count": 6,
   "metadata": {},
   "outputs": [
    {
     "data": {
      "text/plain": [
       "(248193, 122)"
      ]
     },
     "execution_count": 6,
     "metadata": {},
     "output_type": "execute_result"
    }
   ],
   "source": [
    "df_2023.shape"
   ]
  },
  {
   "cell_type": "markdown",
   "metadata": {},
   "source": [
    "## Package"
   ]
  },
  {
   "cell_type": "code",
   "execution_count": 7,
   "metadata": {},
   "outputs": [],
   "source": [
    "from dq_sus.get_info import (\n",
    "    get_notifications,\n",
    "    get_personal_data,\n",
    "    get_clinical_signs,\n",
    "    get_patient_diseases,\n",
    "    get_exams,\n",
    "    get_hospital_info,\n",
    "    get_alarm_severities,\n",
    "    get_sinan_info,\n",
    ")\n"
   ]
  },
  {
   "cell_type": "code",
   "execution_count": 8,
   "metadata": {},
   "outputs": [
    {
     "data": {
      "application/vnd.jupyter.widget-view+json": {
       "model_id": "12cccf879e0c4a1f99a9388cee5e8753",
       "version_major": 2,
       "version_minor": 0
      },
      "text/plain": [
       "FloatProgress(value=0.0, layout=Layout(width='auto'), style=ProgressStyle(bar_color='black'))"
      ]
     },
     "metadata": {},
     "output_type": "display_data"
    },
    {
     "data": {
      "application/vnd.jupyter.widget-view+json": {
       "model_id": "8254d65ee0c34e5eac73093f226d3fd6",
       "version_major": 2,
       "version_minor": 0
      },
      "text/plain": [
       "FloatProgress(value=0.0, layout=Layout(width='auto'), style=ProgressStyle(bar_color='black'))"
      ]
     },
     "metadata": {},
     "output_type": "display_data"
    }
   ],
   "source": [
    "df1 = get_notifications()"
   ]
  },
  {
   "cell_type": "code",
   "execution_count": 9,
   "metadata": {},
   "outputs": [
    {
     "data": {
      "text/plain": [
       "Index(['notification_id', 'notification_type', 'disease_condition_id',\n",
       "       'notification_date', 'notification_week', 'notification_year',\n",
       "       'notification_state_id', 'notification_city_id',\n",
       "       'notification_region_id', 'notification_health_unit_id'],\n",
       "      dtype='object')"
      ]
     },
     "execution_count": 9,
     "metadata": {},
     "output_type": "execute_result"
    }
   ],
   "source": [
    "df1.columns"
   ]
  },
  {
   "cell_type": "code",
   "execution_count": 10,
   "metadata": {},
   "outputs": [
    {
     "data": {
      "text/html": [
       "<div>\n",
       "<style scoped>\n",
       "    .dataframe tbody tr th:only-of-type {\n",
       "        vertical-align: middle;\n",
       "    }\n",
       "\n",
       "    .dataframe tbody tr th {\n",
       "        vertical-align: top;\n",
       "    }\n",
       "\n",
       "    .dataframe thead th {\n",
       "        text-align: right;\n",
       "    }\n",
       "</style>\n",
       "<table border=\"1\" class=\"dataframe\">\n",
       "  <thead>\n",
       "    <tr style=\"text-align: right;\">\n",
       "      <th></th>\n",
       "      <th>notification_id</th>\n",
       "      <th>notification_type</th>\n",
       "      <th>disease_condition_id</th>\n",
       "      <th>notification_date</th>\n",
       "      <th>notification_week</th>\n",
       "      <th>notification_year</th>\n",
       "      <th>notification_state_id</th>\n",
       "      <th>notification_city_id</th>\n",
       "      <th>notification_region_id</th>\n",
       "      <th>notification_health_unit_id</th>\n",
       "    </tr>\n",
       "  </thead>\n",
       "  <tbody>\n",
       "    <tr>\n",
       "      <th>0</th>\n",
       "      <td>1</td>\n",
       "      <td>2</td>\n",
       "      <td>A92.0</td>\n",
       "      <td>20220108</td>\n",
       "      <td>202201</td>\n",
       "      <td>2022</td>\n",
       "      <td>12</td>\n",
       "      <td>120033</td>\n",
       "      <td>1941</td>\n",
       "      <td>9542566</td>\n",
       "    </tr>\n",
       "    <tr>\n",
       "      <th>1</th>\n",
       "      <td>2</td>\n",
       "      <td>2</td>\n",
       "      <td>A92.0</td>\n",
       "      <td>20220216</td>\n",
       "      <td>202207</td>\n",
       "      <td>2022</td>\n",
       "      <td>12</td>\n",
       "      <td>120033</td>\n",
       "      <td>1941</td>\n",
       "      <td>9542566</td>\n",
       "    </tr>\n",
       "    <tr>\n",
       "      <th>2</th>\n",
       "      <td>3</td>\n",
       "      <td>2</td>\n",
       "      <td>A92.0</td>\n",
       "      <td>20220126</td>\n",
       "      <td>202204</td>\n",
       "      <td>2022</td>\n",
       "      <td>12</td>\n",
       "      <td>120033</td>\n",
       "      <td>1941</td>\n",
       "      <td>9542566</td>\n",
       "    </tr>\n",
       "    <tr>\n",
       "      <th>3</th>\n",
       "      <td>4</td>\n",
       "      <td>2</td>\n",
       "      <td>A92.0</td>\n",
       "      <td>20220108</td>\n",
       "      <td>202201</td>\n",
       "      <td>2022</td>\n",
       "      <td>12</td>\n",
       "      <td>120033</td>\n",
       "      <td>1941</td>\n",
       "      <td>9542566</td>\n",
       "    </tr>\n",
       "    <tr>\n",
       "      <th>4</th>\n",
       "      <td>5</td>\n",
       "      <td>2</td>\n",
       "      <td>A92.0</td>\n",
       "      <td>20220126</td>\n",
       "      <td>202204</td>\n",
       "      <td>2022</td>\n",
       "      <td>12</td>\n",
       "      <td>120033</td>\n",
       "      <td>1941</td>\n",
       "      <td>2000083</td>\n",
       "    </tr>\n",
       "  </tbody>\n",
       "</table>\n",
       "</div>"
      ],
      "text/plain": [
       "   notification_id notification_type disease_condition_id notification_date  \\\n",
       "0                1                 2                A92.0          20220108   \n",
       "1                2                 2                A92.0          20220216   \n",
       "2                3                 2                A92.0          20220126   \n",
       "3                4                 2                A92.0          20220108   \n",
       "4                5                 2                A92.0          20220126   \n",
       "\n",
       "  notification_week notification_year notification_state_id  \\\n",
       "0            202201              2022                    12   \n",
       "1            202207              2022                    12   \n",
       "2            202204              2022                    12   \n",
       "3            202201              2022                    12   \n",
       "4            202204              2022                    12   \n",
       "\n",
       "  notification_city_id notification_region_id notification_health_unit_id  \n",
       "0               120033               1941                         9542566  \n",
       "1               120033               1941                         9542566  \n",
       "2               120033               1941                         9542566  \n",
       "3               120033               1941                         9542566  \n",
       "4               120033               1941                         2000083  "
      ]
     },
     "execution_count": 10,
     "metadata": {},
     "output_type": "execute_result"
    }
   ],
   "source": [
    "df1.head()"
   ]
  },
  {
   "cell_type": "code",
   "execution_count": 11,
   "metadata": {},
   "outputs": [
    {
     "data": {
      "text/plain": [
       "notification_id                0\n",
       "notification_type              0\n",
       "disease_condition_id           0\n",
       "notification_date              0\n",
       "notification_week              0\n",
       "notification_year              0\n",
       "notification_state_id          0\n",
       "notification_city_id           0\n",
       "notification_region_id         0\n",
       "notification_health_unit_id    0\n",
       "dtype: int64"
      ]
     },
     "execution_count": 11,
     "metadata": {},
     "output_type": "execute_result"
    }
   ],
   "source": [
    "# total de valores nulos\n",
    "df1.isnull().sum()"
   ]
  },
  {
   "cell_type": "code",
   "execution_count": 12,
   "metadata": {},
   "outputs": [
    {
     "data": {
      "text/plain": [
       "notification_id                 int64\n",
       "notification_type              object\n",
       "disease_condition_id           object\n",
       "notification_date              object\n",
       "notification_week              object\n",
       "notification_year              object\n",
       "notification_state_id          object\n",
       "notification_city_id           object\n",
       "notification_region_id         object\n",
       "notification_health_unit_id    object\n",
       "dtype: object"
      ]
     },
     "execution_count": 12,
     "metadata": {},
     "output_type": "execute_result"
    }
   ],
   "source": [
    "df1.dtypes"
   ]
  },
  {
   "cell_type": "code",
   "execution_count": null,
   "metadata": {},
   "outputs": [
    {
     "data": {
      "application/vnd.jupyter.widget-view+json": {
       "model_id": "9e4a91cbd6bc49f4b15fd85677829a34",
       "version_major": 2,
       "version_minor": 0
      },
      "text/plain": [
       "FloatProgress(value=0.0, layout=Layout(width='auto'), style=ProgressStyle(bar_color='black'))"
      ]
     },
     "metadata": {},
     "output_type": "display_data"
    },
    {
     "data": {
      "application/vnd.jupyter.widget-view+json": {
       "model_id": "f46d3bff809f468fbabbdbbf30448df7",
       "version_major": 2,
       "version_minor": 0
      },
      "text/plain": [
       "FloatProgress(value=0.0, layout=Layout(width='auto'), style=ProgressStyle(bar_color='black'))"
      ]
     },
     "metadata": {},
     "output_type": "display_data"
    },
    {
     "data": {
      "application/vnd.jupyter.widget-view+json": {
       "model_id": "215caf7ff3354900a09621fc39119ba7",
       "version_major": 2,
       "version_minor": 0
      },
      "text/plain": [
       "FloatProgress(value=0.0, layout=Layout(width='auto'), style=ProgressStyle(bar_color='black'))"
      ]
     },
     "metadata": {},
     "output_type": "display_data"
    },
    {
     "data": {
      "application/vnd.jupyter.widget-view+json": {
       "model_id": "8e60977a7c2649e1b4acbd8d2c9f6db1",
       "version_major": 2,
       "version_minor": 0
      },
      "text/plain": [
       "FloatProgress(value=0.0, layout=Layout(width='auto'), style=ProgressStyle(bar_color='black'))"
      ]
     },
     "metadata": {},
     "output_type": "display_data"
    },
    {
     "data": {
      "application/vnd.jupyter.widget-view+json": {
       "model_id": "c63c5daaf1d746a2afba8c96f57b95bd",
       "version_major": 2,
       "version_minor": 0
      },
      "text/plain": [
       "FloatProgress(value=0.0, layout=Layout(width='auto'), style=ProgressStyle(bar_color='black'))"
      ]
     },
     "metadata": {},
     "output_type": "display_data"
    },
    {
     "data": {
      "application/vnd.jupyter.widget-view+json": {
       "model_id": "a96224d2305645f5a1efff500f51b8ad",
       "version_major": 2,
       "version_minor": 0
      },
      "text/plain": [
       "FloatProgress(value=0.0, layout=Layout(width='auto'), style=ProgressStyle(bar_color='black'))"
      ]
     },
     "metadata": {},
     "output_type": "display_data"
    },
    {
     "data": {
      "application/vnd.jupyter.widget-view+json": {
       "model_id": "5a5bbe809782440c819f17e5c2379b72",
       "version_major": 2,
       "version_minor": 0
      },
      "text/plain": [
       "FloatProgress(value=0.0, layout=Layout(width='auto'), style=ProgressStyle(bar_color='black'))"
      ]
     },
     "metadata": {},
     "output_type": "display_data"
    }
   ],
   "source": [
    "df2 = get_personal_data()\n",
    "df3 = get_clinical_signs()\n",
    "df4 = get_patient_diseases()\n",
    "df5 = get_exams()\n",
    "df6 = get_hospital_info()\n",
    "df7 = get_alarm_severities()\n",
    "df8 = get_sinan_info()"
   ]
  },
  {
   "cell_type": "code",
   "execution_count": null,
   "metadata": {},
   "outputs": [
    {
     "ename": "NameError",
     "evalue": "name 'df2' is not defined",
     "output_type": "error",
     "traceback": [
      "\u001b[0;31m---------------------------------------------------------------------------\u001b[0m",
      "\u001b[0;31mNameError\u001b[0m                                 Traceback (most recent call last)",
      "Cell \u001b[0;32mIn[14], line 1\u001b[0m\n\u001b[0;32m----> 1\u001b[0m dfs \u001b[38;5;241m=\u001b[39m [df1, \u001b[43mdf2\u001b[49m, df3, df4, df5, df6, df7, df8]\n\u001b[1;32m      2\u001b[0m df_old \u001b[38;5;241m=\u001b[39m [df_2022, df_2023]\n\u001b[1;32m      4\u001b[0m \u001b[38;5;28;01mfor\u001b[39;00m i, df \u001b[38;5;129;01min\u001b[39;00m \u001b[38;5;28menumerate\u001b[39m(dfs, start\u001b[38;5;241m=\u001b[39m\u001b[38;5;241m1\u001b[39m):\n",
      "\u001b[0;31mNameError\u001b[0m: name 'df2' is not defined"
     ]
    }
   ],
   "source": [
    "dfs = [df1, df2, df3, df4, df5, df6, df7, df8]\n",
    "df_old = [df_2022, df_2023]\n",
    "\n",
    "for i, df in enumerate(dfs, start=1):\n",
    "    print(f\"df{i}: {df.shape}\")\n",
    "    sum([df.shape[1] for df in dfs])\n",
    "\n",
    "print(f\"Cols count new: {sum([df.shape[1] for df in dfs])}\")\n",
    "print(f\"Cols count old: {df_2023.shape[1]}\")\n",
    "print(f\"Rows count old: {df_2023.shape[0] + df_2022.shape[0]}\")\n"
   ]
  },
  {
   "cell_type": "code",
   "execution_count": 15,
   "metadata": {},
   "outputs": [
    {
     "data": {
      "text/plain": [
       "notification_id                              0\n",
       "hypotension_alarm                            0\n",
       "platelet_alarm                               0\n",
       "vomiting_alarm                               0\n",
       "bleeding_alarm                               0\n",
       "lethargy_alarm                               0\n",
       "hematocrit_alarm                             0\n",
       "abdominal_pain_alarm                         0\n",
       "lethargy_alarm_1                             0\n",
       "hepatomegaly_alarm                           0\n",
       "liquid_alarm                                 0\n",
       "alarm_dengue_date                            0\n",
       "pulse_severity                               0\n",
       "convergence_pressure_severity                0\n",
       "capilar_enchiment_severity                   0\n",
       "respiratory_insufficiency_liquid_severity    0\n",
       "tachycardia_severity                         0\n",
       "extremity_coldness_severity                  0\n",
       "hypotension_severity                         0\n",
       "hematemesis_severity                         0\n",
       "melena_severity                              0\n",
       "metrorrhagia_severity                        0\n",
       "bleeding_severity                            0\n",
       "higher_ast_alt_severity                      0\n",
       "myocarditis_severity                         0\n",
       "consciousness_severity                       0\n",
       "other_organs_severity                        0\n",
       "severity_date                                0\n",
       "hemorrhaegic_manifestations                  0\n",
       "epistaxis                                    0\n",
       "gengival_bleeding                            0\n",
       "metrorrhagia                                 0\n",
       "petechiae                                    0\n",
       "hematuria                                    0\n",
       "bleeding                                     0\n",
       "complications                                0\n",
       "dtype: int64"
      ]
     },
     "execution_count": 15,
     "metadata": {},
     "output_type": "execute_result"
    }
   ],
   "source": [
    "df7.isnull().sum()"
   ]
  },
  {
   "cell_type": "code",
   "execution_count": 16,
   "metadata": {},
   "outputs": [
    {
     "data": {
      "text/plain": [
       "Index(['notification_id', 'notification_type', 'disease_condition_id',\n",
       "       'notification_date', 'notification_week', 'notification_year',\n",
       "       'notification_state_id', 'notification_city_id',\n",
       "       'notification_region_id', 'notification_health_unit_id'],\n",
       "      dtype='object')"
      ]
     },
     "execution_count": 16,
     "metadata": {},
     "output_type": "execute_result"
    }
   ],
   "source": [
    "df1.columns"
   ]
  },
  {
   "cell_type": "code",
   "execution_count": 17,
   "metadata": {},
   "outputs": [
    {
     "data": {
      "text/plain": [
       "Index(['notification_id', 'lot_number', 'system_type', 'duplicated_number',\n",
       "       'typing_date', 'record_enabled_send', 'computer_id',\n",
       "       'windows_migration'],\n",
       "      dtype='object')"
      ]
     },
     "execution_count": 17,
     "metadata": {},
     "output_type": "execute_result"
    }
   ],
   "source": [
    "df8.columns"
   ]
  },
  {
   "cell_type": "code",
   "execution_count": null,
   "metadata": {},
   "outputs": [],
   "source": []
  }
 ],
 "metadata": {
  "kernelspec": {
   "display_name": ".venv",
   "language": "python",
   "name": "python3"
  },
  "language_info": {
   "codemirror_mode": {
    "name": "ipython",
    "version": 3
   },
   "file_extension": ".py",
   "mimetype": "text/x-python",
   "name": "python",
   "nbconvert_exporter": "python",
   "pygments_lexer": "ipython3",
   "version": "3.12.7"
  }
 },
 "nbformat": 4,
 "nbformat_minor": 2
}
