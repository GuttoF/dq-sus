{
 "cells": [
  {
   "cell_type": "markdown",
   "metadata": {},
   "source": [
    "# Main"
   ]
  },
  {
   "cell_type": "code",
   "execution_count": 4,
   "metadata": {},
   "outputs": [],
   "source": [
    "from pathlib import Path\n",
    "\n",
    "import pandas as pd\n",
    "import sys\n",
    "sys.path.append(str(Path().resolve().parent))"
   ]
  },
  {
   "cell_type": "code",
   "execution_count": null,
   "metadata": {},
   "outputs": [],
   "source": [
    "from dq_sus.extract import Extractor\n",
    "from dq_sus.transform import ColumnTransformer, DBTransformer\n",
    "from dq_sus.load import Loader\n",
    "\n",
    "def main() -> pd.DataFrame:\n",
    "    extractor = Extractor()\n",
    "    column_transformer = ColumnTransformer()\n",
    "    db_transformer = DBTransformer()\n",
    "    db_loader = Loader()\n",
    "\n",
    "    years = [2022, 2023]\n",
    "    files = extractor.extract_parquet(\"CHIK\", years)\n",
    "    extractor.insert_parquet_to_duck(files)\n",
    "    column_transformer.rename_db_columns()\n",
    "    db_transformer.transform_db()\n",
    "    data = db_loader.load_data(table_name=\"alarm_severities\", limit=100)\n",
    "\n",
    "    return data"
   ]
  },
  {
   "cell_type": "code",
   "execution_count": 14,
   "metadata": {},
   "outputs": [
    {
     "name": "stderr",
     "output_type": "stream",
     "text": [
      "2024-11-25 21:30:57,902 - INFO - Database already exists at /Users/guttofranca/Repos/dq-sus/dq_sus/data/db/db.db, it will be overwritten.\n",
      "2024-11-25 21:30:57,908 - INFO - Inserting data from /Users/guttofranca/Repos/dq-sus/dq_sus/data/parquet/CHIKBR22.parquet into the database.\n"
     ]
    },
    {
     "data": {
      "application/vnd.jupyter.widget-view+json": {
       "model_id": "3cb0f02f3bb9425c8327ab0ff7960076",
       "version_major": 2,
       "version_minor": 0
      },
      "text/plain": [
       "FloatProgress(value=0.0, layout=Layout(width='auto'), style=ProgressStyle(bar_color='black'))"
      ]
     },
     "metadata": {},
     "output_type": "display_data"
    },
    {
     "name": "stderr",
     "output_type": "stream",
     "text": [
      "2024-11-25 21:31:00,866 - INFO - Inserting data from /Users/guttofranca/Repos/dq-sus/dq_sus/data/parquet/CHIKBR23.parquet into the database.\n"
     ]
    },
    {
     "data": {
      "application/vnd.jupyter.widget-view+json": {
       "model_id": "5312fb2bbf6f483aa0c42c18d756356b",
       "version_major": 2,
       "version_minor": 0
      },
      "text/plain": [
       "FloatProgress(value=0.0, layout=Layout(width='auto'), style=ProgressStyle(bar_color='black'))"
      ]
     },
     "metadata": {},
     "output_type": "display_data"
    },
    {
     "name": "stderr",
     "output_type": "stream",
     "text": [
      "2024-11-25 21:31:05,869 - INFO - All data inserted into the database successfully.\n",
      "2024-11-25 21:31:05,874 - INFO - Loading data from table 'sinan' in DuckDB database.\n",
      "2024-11-25 21:31:05,902 - INFO - Data loaded successfully.\n"
     ]
    }
   ],
   "source": [
    "df = main()"
   ]
  },
  {
   "cell_type": "code",
   "execution_count": 17,
   "metadata": {},
   "outputs": [
    {
     "data": {
      "text/html": [
       "<div>\n",
       "<style scoped>\n",
       "    .dataframe tbody tr th:only-of-type {\n",
       "        vertical-align: middle;\n",
       "    }\n",
       "\n",
       "    .dataframe tbody tr th {\n",
       "        vertical-align: top;\n",
       "    }\n",
       "\n",
       "    .dataframe thead th {\n",
       "        text-align: right;\n",
       "    }\n",
       "</style>\n",
       "<table border=\"1\" class=\"dataframe\">\n",
       "  <thead>\n",
       "    <tr style=\"text-align: right;\">\n",
       "      <th></th>\n",
       "      <th>NDUPLIC_N</th>\n",
       "      <th>CS_FLXRET</th>\n",
       "    </tr>\n",
       "  </thead>\n",
       "  <tbody>\n",
       "    <tr>\n",
       "      <th>45</th>\n",
       "      <td></td>\n",
       "      <td></td>\n",
       "    </tr>\n",
       "  </tbody>\n",
       "</table>\n",
       "</div>"
      ],
      "text/plain": [
       "   NDUPLIC_N CS_FLXRET\n",
       "45                    "
      ]
     },
     "execution_count": 17,
     "metadata": {},
     "output_type": "execute_result"
    }
   ],
   "source": [
    "df2 = df.copy()\n",
    "df2 = df2[[\"NDUPLIC_N\", \"CS_FLXRET\"]]\n",
    "df2.sample()"
   ]
  },
  {
   "cell_type": "code",
   "execution_count": null,
   "metadata": {},
   "outputs": [],
   "source": []
  }
 ],
 "metadata": {
  "kernelspec": {
   "display_name": ".venv",
   "language": "python",
   "name": "python3"
  },
  "language_info": {
   "codemirror_mode": {
    "name": "ipython",
    "version": 3
   },
   "file_extension": ".py",
   "mimetype": "text/x-python",
   "name": "python",
   "nbconvert_exporter": "python",
   "pygments_lexer": "ipython3",
   "version": "3.12.7"
  }
 },
 "nbformat": 4,
 "nbformat_minor": 2
}
