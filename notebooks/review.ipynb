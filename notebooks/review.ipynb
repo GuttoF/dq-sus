{
 "cells": [
  {
   "cell_type": "markdown",
   "metadata": {},
   "source": [
    "# Main"
   ]
  },
  {
   "cell_type": "code",
   "execution_count": 1,
   "metadata": {},
   "outputs": [],
   "source": [
    "from pathlib import Path\n",
    "\n",
    "import sys\n",
    "\n",
    "sys.path.append(str(Path().resolve().parent))"
   ]
  },
  {
   "cell_type": "markdown",
   "metadata": {},
   "source": [
    "## Pysus"
   ]
  },
  {
   "cell_type": "code",
   "execution_count": 2,
   "metadata": {},
   "outputs": [],
   "source": [
    "#from pysus.ftp.databases.sinan import SINAN # type: ignore\n",
    "#import pandas as pd # type: ignore\n",
    "\n",
    "#sinan = SINAN().load()\n",
    "#file = sinan.get_files(\"CHIK\", [2022, 2023])\n",
    "#sinan.download(file)"
   ]
  },
  {
   "cell_type": "code",
   "execution_count": 3,
   "metadata": {},
   "outputs": [],
   "source": [
    "#path_2022 = (\"/Users/guttofranca/pysus/CHIKBR22.parquet\")\n",
    "#path_2023 = (\"/Users/guttofranca/pysus/CHIKBR23.parquet\")\n",
    "\n",
    "#df_2022 = pd.read_parquet(path_2022)\n",
    "#df_2023 = pd.read_parquet(path_2023)"
   ]
  },
  {
   "cell_type": "code",
   "execution_count": 4,
   "metadata": {},
   "outputs": [],
   "source": [
    "#df_2022.head()"
   ]
  },
  {
   "cell_type": "code",
   "execution_count": 5,
   "metadata": {},
   "outputs": [],
   "source": [
    "#df_2022.shape"
   ]
  },
  {
   "cell_type": "code",
   "execution_count": 6,
   "metadata": {},
   "outputs": [],
   "source": [
    "#df_2023.shape"
   ]
  },
  {
   "cell_type": "code",
   "execution_count": 7,
   "metadata": {},
   "outputs": [],
   "source": [
    "#df_2022.isnull().sum()"
   ]
  },
  {
   "cell_type": "code",
   "execution_count": 8,
   "metadata": {},
   "outputs": [],
   "source": [
    "from dq_sus.get_info import (\n",
    "    get_notifications,\n",
    "    get_personal_data,\n",
    "    get_clinical_signs,\n",
    "    get_patient_diseases,\n",
    "    get_exams,\n",
    "    get_hospital_info,\n",
    "    get_alarm_severities,\n",
    "    get_sinan_info,\n",
    ")\n"
   ]
  },
  {
   "cell_type": "code",
   "execution_count": 9,
   "metadata": {},
   "outputs": [
    {
     "name": "stderr",
     "output_type": "stream",
     "text": [
      "CHIKBR22.parquet: 100%|██████████| 459k/459k [00:15<00:00, 29.4kB/s]\n",
      "CHIKBR23.parquet: 100%|██████████| 416k/416k [00:12<00:00, 32.1kB/s]\n"
     ]
    },
    {
     "data": {
      "application/vnd.jupyter.widget-view+json": {
       "model_id": "c470998859e841769ebdac8db8ff80bf",
       "version_major": 2,
       "version_minor": 0
      },
      "text/plain": [
       "FloatProgress(value=0.0, layout=Layout(width='auto'), style=ProgressStyle(bar_color='black'))"
      ]
     },
     "metadata": {},
     "output_type": "display_data"
    },
    {
     "data": {
      "application/vnd.jupyter.widget-view+json": {
       "model_id": "cff96e7ac75d4ec3ac6b69fa71dc0d86",
       "version_major": 2,
       "version_minor": 0
      },
      "text/plain": [
       "FloatProgress(value=0.0, layout=Layout(width='auto'), style=ProgressStyle(bar_color='black'))"
      ]
     },
     "metadata": {},
     "output_type": "display_data"
    },
    {
     "data": {
      "application/vnd.jupyter.widget-view+json": {
       "model_id": "5c2359744bad437382c151ff7437ea87",
       "version_major": 2,
       "version_minor": 0
      },
      "text/plain": [
       "FloatProgress(value=0.0, layout=Layout(width='auto'), style=ProgressStyle(bar_color='black'))"
      ]
     },
     "metadata": {},
     "output_type": "display_data"
    }
   ],
   "source": [
    "df1 = get_notifications()\n",
    "#df2 = get_personal_data()\n",
    "#df3 = get_clinical_signs()\n",
    "#df4 = get_patient_diseases()\n",
    "#df5 = get_exams()\n",
    "#df6 = get_hospital_info()\n",
    "#df7 = get_alarm_severities()\n",
    "#df8 = get_sinan_info()"
   ]
  },
  {
   "cell_type": "code",
   "execution_count": 11,
   "metadata": {},
   "outputs": [
    {
     "data": {
      "text/plain": [
       "Index(['notification_id', 'notification_type', 'disease_condition_id',\n",
       "       'notification_date', 'notification_week', 'notification_year',\n",
       "       'notification_state_id', 'notification_city_id',\n",
       "       'notification_region_id', 'notification_health_unit_id'],\n",
       "      dtype='object')"
      ]
     },
     "execution_count": 11,
     "metadata": {},
     "output_type": "execute_result"
    }
   ],
   "source": [
    "df1.columns"
   ]
  },
  {
   "cell_type": "code",
   "execution_count": 11,
   "metadata": {},
   "outputs": [
    {
     "data": {
      "text/html": [
       "<div>\n",
       "<style scoped>\n",
       "    .dataframe tbody tr th:only-of-type {\n",
       "        vertical-align: middle;\n",
       "    }\n",
       "\n",
       "    .dataframe tbody tr th {\n",
       "        vertical-align: top;\n",
       "    }\n",
       "\n",
       "    .dataframe thead th {\n",
       "        text-align: right;\n",
       "    }\n",
       "</style>\n",
       "<table border=\"1\" class=\"dataframe\">\n",
       "  <thead>\n",
       "    <tr style=\"text-align: right;\">\n",
       "      <th></th>\n",
       "      <th>notification_id</th>\n",
       "      <th>notification_type</th>\n",
       "      <th>disease_condition_id</th>\n",
       "      <th>notification_date</th>\n",
       "      <th>notification_week</th>\n",
       "      <th>notification_year</th>\n",
       "      <th>notification_state_id</th>\n",
       "      <th>notification_city_id</th>\n",
       "      <th>notification_region_id</th>\n",
       "      <th>notification_health_unit_id</th>\n",
       "    </tr>\n",
       "  </thead>\n",
       "  <tbody>\n",
       "    <tr>\n",
       "      <th>0</th>\n",
       "      <td>1</td>\n",
       "      <td>2</td>\n",
       "      <td>A92.0</td>\n",
       "      <td>20220218</td>\n",
       "      <td>202207</td>\n",
       "      <td>2022</td>\n",
       "      <td>26</td>\n",
       "      <td>261070</td>\n",
       "      <td>1497</td>\n",
       "      <td>6443419</td>\n",
       "    </tr>\n",
       "    <tr>\n",
       "      <th>1</th>\n",
       "      <td>2</td>\n",
       "      <td>2</td>\n",
       "      <td>A92.0</td>\n",
       "      <td>20220125</td>\n",
       "      <td>202204</td>\n",
       "      <td>2022</td>\n",
       "      <td>26</td>\n",
       "      <td>260410</td>\n",
       "      <td>1499</td>\n",
       "      <td>6855881</td>\n",
       "    </tr>\n",
       "    <tr>\n",
       "      <th>2</th>\n",
       "      <td>3</td>\n",
       "      <td>2</td>\n",
       "      <td>A92.0</td>\n",
       "      <td>20220207</td>\n",
       "      <td>202206</td>\n",
       "      <td>2022</td>\n",
       "      <td>26</td>\n",
       "      <td>260515</td>\n",
       "      <td>1503</td>\n",
       "      <td>2350289</td>\n",
       "    </tr>\n",
       "    <tr>\n",
       "      <th>3</th>\n",
       "      <td>4</td>\n",
       "      <td>2</td>\n",
       "      <td>A92.0</td>\n",
       "      <td>20220121</td>\n",
       "      <td>202203</td>\n",
       "      <td>2022</td>\n",
       "      <td>26</td>\n",
       "      <td>261110</td>\n",
       "      <td>1503</td>\n",
       "      <td>5455197</td>\n",
       "    </tr>\n",
       "    <tr>\n",
       "      <th>4</th>\n",
       "      <td>5</td>\n",
       "      <td>2</td>\n",
       "      <td>A92.0</td>\n",
       "      <td>20220125</td>\n",
       "      <td>202204</td>\n",
       "      <td>2022</td>\n",
       "      <td>26</td>\n",
       "      <td>261110</td>\n",
       "      <td>1503</td>\n",
       "      <td>5455197</td>\n",
       "    </tr>\n",
       "  </tbody>\n",
       "</table>\n",
       "</div>"
      ],
      "text/plain": [
       "   notification_id notification_type disease_condition_id notification_date  \\\n",
       "0                1                 2                A92.0          20220218   \n",
       "1                2                 2                A92.0          20220125   \n",
       "2                3                 2                A92.0          20220207   \n",
       "3                4                 2                A92.0          20220121   \n",
       "4                5                 2                A92.0          20220125   \n",
       "\n",
       "  notification_week notification_year notification_state_id  \\\n",
       "0            202207              2022                    26   \n",
       "1            202204              2022                    26   \n",
       "2            202206              2022                    26   \n",
       "3            202203              2022                    26   \n",
       "4            202204              2022                    26   \n",
       "\n",
       "  notification_city_id notification_region_id notification_health_unit_id  \n",
       "0               261070               1497                         6443419  \n",
       "1               260410               1499                         6855881  \n",
       "2               260515               1503                         2350289  \n",
       "3               261110               1503                         5455197  \n",
       "4               261110               1503                         5455197  "
      ]
     },
     "execution_count": 11,
     "metadata": {},
     "output_type": "execute_result"
    }
   ],
   "source": [
    "df1.head()"
   ]
  },
  {
   "cell_type": "code",
   "execution_count": 12,
   "metadata": {},
   "outputs": [
    {
     "data": {
      "text/plain": [
       "notification_id                0\n",
       "notification_type              0\n",
       "disease_condition_id           0\n",
       "notification_date              0\n",
       "notification_week              0\n",
       "notification_year              0\n",
       "notification_state_id          0\n",
       "notification_city_id           0\n",
       "notification_region_id         0\n",
       "notification_health_unit_id    0\n",
       "dtype: int64"
      ]
     },
     "execution_count": 12,
     "metadata": {},
     "output_type": "execute_result"
    }
   ],
   "source": [
    "# total de valores nulos\n",
    "df1.isnull().sum()"
   ]
  },
  {
   "cell_type": "code",
   "execution_count": 13,
   "metadata": {},
   "outputs": [
    {
     "data": {
      "text/plain": [
       "notification_id                 int64\n",
       "notification_type              object\n",
       "disease_condition_id           object\n",
       "notification_date              object\n",
       "notification_week              object\n",
       "notification_year              object\n",
       "notification_state_id          object\n",
       "notification_city_id           object\n",
       "notification_region_id         object\n",
       "notification_health_unit_id    object\n",
       "dtype: object"
      ]
     },
     "execution_count": 13,
     "metadata": {},
     "output_type": "execute_result"
    }
   ],
   "source": [
    "df1.dtypes"
   ]
  },
  {
   "cell_type": "code",
   "execution_count": 14,
   "metadata": {},
   "outputs": [
    {
     "name": "stdout",
     "output_type": "stream",
     "text": [
      "df1: (522067, 10)\n",
      "df2: (522067, 15)\n",
      "df3: (522067, 14)\n",
      "df4: (522067, 8)\n",
      "df5: (522067, 24)\n",
      "df6: (522067, 16)\n",
      "df7: (522067, 36)\n",
      "df8: (522067, 8)\n",
      "Cols count new: 131\n",
      "Cols count old: 122\n",
      "Rows count old: 522067\n"
     ]
    }
   ],
   "source": [
    "dfs = [df1, df2, df3, df4, df5, df6, df7, df8]\n",
    "df_old = [df_2022, df_2023]\n",
    "\n",
    "for i, df in enumerate(dfs, start=1):\n",
    "    print(f\"df{i}: {df.shape}\")\n",
    "    sum([df.shape[1] for df in dfs])\n",
    "\n",
    "print(f\"Cols count new: {sum([df.shape[1] for df in dfs])}\")\n",
    "print(f\"Cols count old: {df_2023.shape[1]}\")\n",
    "print(f\"Rows count old: {df_2023.shape[0] + df_2022.shape[0]}\")\n"
   ]
  },
  {
   "cell_type": "code",
   "execution_count": 15,
   "metadata": {},
   "outputs": [
    {
     "data": {
      "text/plain": [
       "notification_id                              0\n",
       "hypotension_alarm                            0\n",
       "platelet_alarm                               0\n",
       "vomiting_alarm                               0\n",
       "bleeding_alarm                               0\n",
       "lethargy_alarm                               0\n",
       "hematocrit_alarm                             0\n",
       "abdominal_pain_alarm                         0\n",
       "lethargy_alarm_1                             0\n",
       "hepatomegaly_alarm                           0\n",
       "liquid_alarm                                 0\n",
       "alarm_dengue_date                            0\n",
       "pulse_severity                               0\n",
       "convergence_pressure_severity                0\n",
       "capilar_enchiment_severity                   0\n",
       "respiratory_insufficiency_liquid_severity    0\n",
       "tachycardia_severity                         0\n",
       "extremity_coldness_severity                  0\n",
       "hypotension_severity                         0\n",
       "hematemesis_severity                         0\n",
       "melena_severity                              0\n",
       "metrorrhagia_severity                        0\n",
       "bleeding_severity                            0\n",
       "higher_ast_alt_severity                      0\n",
       "myocarditis_severity                         0\n",
       "consciousness_severity                       0\n",
       "other_organs_severity                        0\n",
       "severity_date                                0\n",
       "hemorrhaegic_manifestations                  0\n",
       "epistaxis                                    0\n",
       "gengival_bleeding                            0\n",
       "metrorrhagia                                 0\n",
       "petechiae                                    0\n",
       "hematuria                                    0\n",
       "bleeding                                     0\n",
       "complications                                0\n",
       "dtype: int64"
      ]
     },
     "execution_count": 15,
     "metadata": {},
     "output_type": "execute_result"
    }
   ],
   "source": [
    "df7.isnull().sum()"
   ]
  },
  {
   "cell_type": "code",
   "execution_count": 16,
   "metadata": {},
   "outputs": [
    {
     "data": {
      "text/plain": [
       "Index(['notification_id', 'notification_type', 'disease_condition_id',\n",
       "       'notification_date', 'notification_week', 'notification_year',\n",
       "       'notification_state_id', 'notification_city_id',\n",
       "       'notification_region_id', 'notification_health_unit_id'],\n",
       "      dtype='object')"
      ]
     },
     "execution_count": 16,
     "metadata": {},
     "output_type": "execute_result"
    }
   ],
   "source": [
    "df1.columns"
   ]
  },
  {
   "cell_type": "code",
   "execution_count": 17,
   "metadata": {},
   "outputs": [
    {
     "data": {
      "text/plain": [
       "Index(['notification_id', 'lot_number', 'system_type', 'duplicated_number',\n",
       "       'typing_date', 'record_enabled_send', 'computer_id',\n",
       "       'windows_migration'],\n",
       "      dtype='object')"
      ]
     },
     "execution_count": 17,
     "metadata": {},
     "output_type": "execute_result"
    }
   ],
   "source": [
    "df8.columns"
   ]
  },
  {
   "cell_type": "code",
   "execution_count": null,
   "metadata": {},
   "outputs": [],
   "source": []
  }
 ],
 "metadata": {
  "kernelspec": {
   "display_name": ".venv",
   "language": "python",
   "name": "python3"
  },
  "language_info": {
   "codemirror_mode": {
    "name": "ipython",
    "version": 3
   },
   "file_extension": ".py",
   "mimetype": "text/x-python",
   "name": "python",
   "nbconvert_exporter": "python",
   "pygments_lexer": "ipython3",
   "version": "3.12.7"
  }
 },
 "nbformat": 4,
 "nbformat_minor": 2
}
