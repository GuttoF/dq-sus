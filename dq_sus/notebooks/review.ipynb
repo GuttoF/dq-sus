{
 "cells": [
  {
   "cell_type": "code",
   "execution_count": 7,
   "metadata": {},
   "outputs": [],
   "source": [
    "import sys\n",
    "from pathlib import Path\n",
    "\n",
    "import pandas as pd\n",
    "\n",
    "sys.path.append(str(Path().resolve().parent))"
   ]
  },
  {
   "cell_type": "code",
   "execution_count": 8,
   "metadata": {},
   "outputs": [],
   "source": [
    "from extract.get_raw import extract_parquet, insert_parquet_to_duck\n",
    "from load.show_data import load_duckdb_data\n",
    "from transform.transform_columns import rename_db_columns\n",
    "from transform.transform_db import transform_db\n",
    "db_path = Path().resolve().parents[0] / \"data\" / \"db\" / \"db.db\""
   ]
  },
  {
   "cell_type": "code",
   "execution_count": 9,
   "metadata": {},
   "outputs": [
    {
     "data": {
      "text/plain": [
       "PosixPath('/home/gutto/Repos/dq-sus/src/data/db/db.db')"
      ]
     },
     "execution_count": 9,
     "metadata": {},
     "output_type": "execute_result"
    }
   ],
   "source": [
    "db_path"
   ]
  },
  {
   "cell_type": "code",
   "execution_count": 10,
   "metadata": {},
   "outputs": [
    {
     "name": "stderr",
     "output_type": "stream",
     "text": [
      "2024-11-14 21:11:27,865 - INFO - Database already exists, it will be overwritten.\n",
      "2024-11-14 21:11:27,876 - INFO - Inserting data from /home/gutto/Repos/dq-sus/src/data/parquet/CHIKBR21.parquet into the database.\n",
      "2024-11-14 21:11:29,926 - INFO - Inserting data from /home/gutto/Repos/dq-sus/src/data/parquet/CHIKBR22.parquet into the database.\n"
     ]
    },
    {
     "data": {
      "application/vnd.jupyter.widget-view+json": {
       "model_id": "29d86f7bef60472a873bec373642007e",
       "version_major": 2,
       "version_minor": 0
      },
      "text/plain": [
       "FloatProgress(value=0.0, layout=Layout(width='auto'), style=ProgressStyle(bar_color='black'))"
      ]
     },
     "metadata": {},
     "output_type": "display_data"
    },
    {
     "name": "stderr",
     "output_type": "stream",
     "text": [
      "2024-11-14 21:11:37,985 - INFO - Inserting data from /home/gutto/Repos/dq-sus/src/data/parquet/CHIKBR23.parquet into the database.\n"
     ]
    },
    {
     "data": {
      "application/vnd.jupyter.widget-view+json": {
       "model_id": "7aff8657d8584ef3a5f798199f05ec6d",
       "version_major": 2,
       "version_minor": 0
      },
      "text/plain": [
       "FloatProgress(value=0.0, layout=Layout(width='auto'), style=ProgressStyle(bar_color='black'))"
      ]
     },
     "metadata": {},
     "output_type": "display_data"
    },
    {
     "name": "stderr",
     "output_type": "stream",
     "text": [
      "2024-11-14 21:11:45,643 - INFO - All data inserted into the database successfully.\n",
      "2024-11-14 21:11:45,644 - INFO - Column mapping for 'english' loaded successfully.\n",
      "2024-11-14 21:11:45,698 - INFO - All columns renamed successfully.\n"
     ]
    },
    {
     "data": {
      "application/vnd.jupyter.widget-view+json": {
       "model_id": "6d5ac9babb014af59511fb1ade8472f5",
       "version_major": 2,
       "version_minor": 0
      },
      "text/plain": [
       "FloatProgress(value=0.0, layout=Layout(width='auto'), style=ProgressStyle(bar_color='black'))"
      ]
     },
     "metadata": {},
     "output_type": "display_data"
    },
    {
     "name": "stderr",
     "output_type": "stream",
     "text": [
      "2024-11-14 21:11:59,170 - INFO - Loading data from table 'alarms_severities' in DuckDB database.\n"
     ]
    },
    {
     "name": "stdout",
     "output_type": "stream",
     "text": [
      "Database transformed successfully!\n"
     ]
    },
    {
     "name": "stderr",
     "output_type": "stream",
     "text": [
      "2024-11-14 21:11:59,699 - INFO - Data loaded successfully.\n"
     ]
    }
   ],
   "source": [
    "def main_function(disease: str = \"CHIK\", db_path: Path = db_path) -> pd.DataFrame:\n",
    "    \"\"\"\n",
    "    Main function to process disease data and load it into a DataFrame.\n",
    "\n",
    "    Args:\n",
    "        disease (str): The disease to process data for. Default is \"CHIK\".\n",
    "        db_path (Path): The path to the database. Default is db_path.\n",
    "\n",
    "    Returns:\n",
    "        pd.DataFrame: The processed data loaded into a DataFrame.\n",
    "    \"\"\"\n",
    "    years = [2021, 2022, 2023]\n",
    "    raw_data = extract_parquet(disease, years)\n",
    "    insert_parquet_to_duck(raw_data)\n",
    "    rename_db_columns(db_path, \"sinan\")\n",
    "    transform_db(db_path)\n",
    "    data = load_duckdb_data(\"alarms_severities\")\n",
    "    return data\n",
    "\n",
    "\n",
    "df = main_function()"
   ]
  },
  {
   "cell_type": "code",
   "execution_count": 11,
   "metadata": {},
   "outputs": [
    {
     "data": {
      "text/plain": [
       "pandas.core.frame.DataFrame"
      ]
     },
     "execution_count": 11,
     "metadata": {},
     "output_type": "execute_result"
    }
   ],
   "source": [
    "type(df)"
   ]
  },
  {
   "cell_type": "code",
   "execution_count": 12,
   "metadata": {},
   "outputs": [
    {
     "data": {
      "text/html": [
       "<div>\n",
       "<style scoped>\n",
       "    .dataframe tbody tr th:only-of-type {\n",
       "        vertical-align: middle;\n",
       "    }\n",
       "\n",
       "    .dataframe tbody tr th {\n",
       "        vertical-align: top;\n",
       "    }\n",
       "\n",
       "    .dataframe thead th {\n",
       "        text-align: right;\n",
       "    }\n",
       "</style>\n",
       "<table border=\"1\" class=\"dataframe\">\n",
       "  <thead>\n",
       "    <tr style=\"text-align: right;\">\n",
       "      <th></th>\n",
       "      <th>notification_id</th>\n",
       "      <th>hypotension_alarm</th>\n",
       "      <th>platelet_alarm</th>\n",
       "      <th>vomiting_alarm</th>\n",
       "      <th>bleeding_alarm</th>\n",
       "      <th>lethargy_alarm</th>\n",
       "      <th>hematocrit_alarm</th>\n",
       "      <th>abdominal_pain_alarm</th>\n",
       "      <th>lethargy_alarm_1</th>\n",
       "      <th>hepatomegaly_alarm</th>\n",
       "      <th>...</th>\n",
       "      <th>other_organs_severity</th>\n",
       "      <th>severity_date</th>\n",
       "      <th>hemorrhaegic_manifestations</th>\n",
       "      <th>epistaxis</th>\n",
       "      <th>gengival_bleeding</th>\n",
       "      <th>metrorrhagia</th>\n",
       "      <th>petechiae</th>\n",
       "      <th>hematuria</th>\n",
       "      <th>bleeding</th>\n",
       "      <th>complications</th>\n",
       "    </tr>\n",
       "  </thead>\n",
       "  <tbody>\n",
       "    <tr>\n",
       "      <th>0</th>\n",
       "      <td>1</td>\n",
       "      <td></td>\n",
       "      <td></td>\n",
       "      <td></td>\n",
       "      <td></td>\n",
       "      <td></td>\n",
       "      <td></td>\n",
       "      <td></td>\n",
       "      <td></td>\n",
       "      <td></td>\n",
       "      <td>...</td>\n",
       "      <td></td>\n",
       "      <td></td>\n",
       "      <td></td>\n",
       "      <td></td>\n",
       "      <td></td>\n",
       "      <td></td>\n",
       "      <td></td>\n",
       "      <td></td>\n",
       "      <td></td>\n",
       "      <td></td>\n",
       "    </tr>\n",
       "    <tr>\n",
       "      <th>1</th>\n",
       "      <td>2</td>\n",
       "      <td></td>\n",
       "      <td></td>\n",
       "      <td></td>\n",
       "      <td></td>\n",
       "      <td></td>\n",
       "      <td></td>\n",
       "      <td></td>\n",
       "      <td></td>\n",
       "      <td></td>\n",
       "      <td>...</td>\n",
       "      <td></td>\n",
       "      <td></td>\n",
       "      <td></td>\n",
       "      <td></td>\n",
       "      <td></td>\n",
       "      <td></td>\n",
       "      <td></td>\n",
       "      <td></td>\n",
       "      <td></td>\n",
       "      <td></td>\n",
       "    </tr>\n",
       "    <tr>\n",
       "      <th>2</th>\n",
       "      <td>3</td>\n",
       "      <td></td>\n",
       "      <td></td>\n",
       "      <td></td>\n",
       "      <td></td>\n",
       "      <td></td>\n",
       "      <td></td>\n",
       "      <td></td>\n",
       "      <td></td>\n",
       "      <td></td>\n",
       "      <td>...</td>\n",
       "      <td></td>\n",
       "      <td></td>\n",
       "      <td></td>\n",
       "      <td></td>\n",
       "      <td></td>\n",
       "      <td></td>\n",
       "      <td></td>\n",
       "      <td></td>\n",
       "      <td></td>\n",
       "      <td></td>\n",
       "    </tr>\n",
       "    <tr>\n",
       "      <th>3</th>\n",
       "      <td>4</td>\n",
       "      <td></td>\n",
       "      <td></td>\n",
       "      <td></td>\n",
       "      <td></td>\n",
       "      <td></td>\n",
       "      <td></td>\n",
       "      <td></td>\n",
       "      <td></td>\n",
       "      <td></td>\n",
       "      <td>...</td>\n",
       "      <td></td>\n",
       "      <td></td>\n",
       "      <td></td>\n",
       "      <td></td>\n",
       "      <td></td>\n",
       "      <td></td>\n",
       "      <td></td>\n",
       "      <td></td>\n",
       "      <td></td>\n",
       "      <td></td>\n",
       "    </tr>\n",
       "    <tr>\n",
       "      <th>4</th>\n",
       "      <td>5</td>\n",
       "      <td></td>\n",
       "      <td></td>\n",
       "      <td></td>\n",
       "      <td></td>\n",
       "      <td></td>\n",
       "      <td></td>\n",
       "      <td></td>\n",
       "      <td></td>\n",
       "      <td></td>\n",
       "      <td>...</td>\n",
       "      <td></td>\n",
       "      <td></td>\n",
       "      <td></td>\n",
       "      <td></td>\n",
       "      <td></td>\n",
       "      <td></td>\n",
       "      <td></td>\n",
       "      <td></td>\n",
       "      <td></td>\n",
       "      <td></td>\n",
       "    </tr>\n",
       "  </tbody>\n",
       "</table>\n",
       "<p>5 rows × 36 columns</p>\n",
       "</div>"
      ],
      "text/plain": [
       "   notification_id hypotension_alarm platelet_alarm vomiting_alarm  \\\n",
       "0                1                                                   \n",
       "1                2                                                   \n",
       "2                3                                                   \n",
       "3                4                                                   \n",
       "4                5                                                   \n",
       "\n",
       "  bleeding_alarm lethargy_alarm hematocrit_alarm abdominal_pain_alarm  \\\n",
       "0                                                                       \n",
       "1                                                                       \n",
       "2                                                                       \n",
       "3                                                                       \n",
       "4                                                                       \n",
       "\n",
       "  lethargy_alarm_1 hepatomegaly_alarm  ... other_organs_severity  \\\n",
       "0                                      ...                         \n",
       "1                                      ...                         \n",
       "2                                      ...                         \n",
       "3                                      ...                         \n",
       "4                                      ...                         \n",
       "\n",
       "  severity_date hemorrhaegic_manifestations epistaxis gengival_bleeding  \\\n",
       "0                                                                         \n",
       "1                                                                         \n",
       "2                                                                         \n",
       "3                                                                         \n",
       "4                                                                         \n",
       "\n",
       "  metrorrhagia petechiae hematuria bleeding complications  \n",
       "0                                                          \n",
       "1                                                          \n",
       "2                                                          \n",
       "3                                                          \n",
       "4                                                          \n",
       "\n",
       "[5 rows x 36 columns]"
      ]
     },
     "execution_count": 12,
     "metadata": {},
     "output_type": "execute_result"
    }
   ],
   "source": [
    "df.head()"
   ]
  },
  {
   "cell_type": "code",
   "execution_count": null,
   "metadata": {},
   "outputs": [],
   "source": []
  }
 ],
 "metadata": {
  "kernelspec": {
   "display_name": ".venv",
   "language": "python",
   "name": "python3"
  },
  "language_info": {
   "codemirror_mode": {
    "name": "ipython",
    "version": 3
   },
   "file_extension": ".py",
   "mimetype": "text/x-python",
   "name": "python",
   "nbconvert_exporter": "python",
   "pygments_lexer": "ipython3",
   "version": "3.12.7"
  }
 },
 "nbformat": 4,
 "nbformat_minor": 2
}
