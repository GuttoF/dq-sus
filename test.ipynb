{
 "cells": [
  {
   "cell_type": "code",
   "execution_count": 1,
   "metadata": {},
   "outputs": [],
   "source": [
    "import sys\n",
    "sys.path.append('pyzdc')\n",
    "from pyzdc import *"
   ]
  },
  {
   "cell_type": "code",
   "execution_count": 23,
   "metadata": {},
   "outputs": [
    {
     "name": "stdout",
     "output_type": "stream",
     "text": [
      "The available data for dengue is from 2000 to 2025.\n"
     ]
    }
   ],
   "source": [
    "get_years(\"DENG\")"
   ]
  },
  {
   "cell_type": "code",
   "execution_count": 24,
   "metadata": {},
   "outputs": [
    {
     "name": "stdout",
     "output_type": "stream",
     "text": [
      "The available data for chikungunya is from 2015 to 2025.\n"
     ]
    }
   ],
   "source": [
    "get_years(\"CHIK\")"
   ]
  },
  {
   "cell_type": "code",
   "execution_count": 25,
   "metadata": {},
   "outputs": [
    {
     "name": "stdout",
     "output_type": "stream",
     "text": [
      "The available data for zika is from 2016 to 2025.\n"
     ]
    }
   ],
   "source": [
    "get_years(\"ZIKA\")"
   ]
  },
  {
   "cell_type": "code",
   "execution_count": 26,
   "metadata": {},
   "outputs": [
    {
     "name": "stdout",
     "output_type": "stream",
     "text": [
      "[2022, 2023]\n"
     ]
    }
   ],
   "source": [
    "years = list(range(2022, 2024))\n",
    "print(years)"
   ]
  },
  {
   "cell_type": "code",
   "execution_count": 27,
   "metadata": {},
   "outputs": [
    {
     "name": "stderr",
     "output_type": "stream",
     "text": [
      "CHIKBR22.parquet: 100%|██████████| 459k/459k [00:13<00:00, 32.9kB/s]\n",
      "CHIKBR23.parquet: 100%|██████████| 416k/416k [00:12<00:00, 32.6kB/s] \n"
     ]
    },
    {
     "data": {
      "application/vnd.jupyter.widget-view+json": {
       "model_id": "ae132220fc3c43689af706e65dc0ff30",
       "version_major": 2,
       "version_minor": 0
      },
      "text/plain": [
       "FloatProgress(value=0.0, layout=Layout(width='auto'), style=ProgressStyle(bar_color='black'))"
      ]
     },
     "metadata": {},
     "output_type": "display_data"
    },
    {
     "data": {
      "application/vnd.jupyter.widget-view+json": {
       "model_id": "19962901a893415ba38155ba4f907b81",
       "version_major": 2,
       "version_minor": 0
      },
      "text/plain": [
       "FloatProgress(value=0.0, layout=Layout(width='auto'), style=ProgressStyle(bar_color='black'))"
      ]
     },
     "metadata": {},
     "output_type": "display_data"
    },
    {
     "data": {
      "application/vnd.jupyter.widget-view+json": {
       "model_id": "170e607fe5c941829e55e7bc945b2e86",
       "version_major": 2,
       "version_minor": 0
      },
      "text/plain": [
       "FloatProgress(value=0.0, layout=Layout(width='auto'), style=ProgressStyle(bar_color='black'))"
      ]
     },
     "metadata": {},
     "output_type": "display_data"
    }
   ],
   "source": [
    "df1 = get_notifications(years=years, disease=\"CHIK\")"
   ]
  },
  {
   "cell_type": "code",
   "execution_count": 28,
   "metadata": {},
   "outputs": [
    {
     "data": {
      "application/vnd.microsoft.datawrangler.viewer.v0+json": {
       "columns": [
        {
         "name": "index",
         "rawType": "int64",
         "type": "integer"
        },
        {
         "name": "notification_id",
         "rawType": "int64",
         "type": "integer"
        },
        {
         "name": "notification_type",
         "rawType": "object",
         "type": "string"
        },
        {
         "name": "disease_condition_id",
         "rawType": "object",
         "type": "string"
        },
        {
         "name": "notification_date",
         "rawType": "object",
         "type": "string"
        },
        {
         "name": "notification_week",
         "rawType": "object",
         "type": "string"
        },
        {
         "name": "notification_year",
         "rawType": "object",
         "type": "string"
        },
        {
         "name": "notification_state_id",
         "rawType": "object",
         "type": "string"
        },
        {
         "name": "notification_city_id",
         "rawType": "object",
         "type": "string"
        },
        {
         "name": "notification_region_id",
         "rawType": "object",
         "type": "string"
        },
        {
         "name": "notification_health_unit_id",
         "rawType": "object",
         "type": "string"
        }
       ],
       "conversionMethod": "pd.DataFrame",
       "ref": "f17c0f47-3eb5-46b6-b914-e353fe5b3d2c",
       "rows": [
        [
         "0",
         "1",
         "2",
         "A92.0",
         "20220608",
         "202223",
         "2022",
         "50",
         "500230",
         "6255    ",
         "2371065"
        ],
        [
         "1",
         "2",
         "2",
         "A92.0",
         "20220712",
         "202228",
         "2022",
         "50",
         "500580",
         "1964    ",
         "2676869"
        ],
        [
         "2",
         "3",
         "2",
         "A92.0",
         "20220406",
         "202214",
         "2022",
         "50",
         "500295",
         "1975    ",
         "2536293"
        ],
        [
         "3",
         "4",
         "2",
         "A92.0",
         "20220428",
         "202217",
         "2022",
         "50",
         "500580",
         "1964    ",
         "2676869"
        ],
        [
         "4",
         "5",
         "2",
         "A92.0",
         "20220302",
         "202209",
         "2022",
         "50",
         "500230",
         "6255    ",
         "2371065"
        ]
       ],
       "shape": {
        "columns": 10,
        "rows": 5
       }
      },
      "text/html": [
       "<div>\n",
       "<style scoped>\n",
       "    .dataframe tbody tr th:only-of-type {\n",
       "        vertical-align: middle;\n",
       "    }\n",
       "\n",
       "    .dataframe tbody tr th {\n",
       "        vertical-align: top;\n",
       "    }\n",
       "\n",
       "    .dataframe thead th {\n",
       "        text-align: right;\n",
       "    }\n",
       "</style>\n",
       "<table border=\"1\" class=\"dataframe\">\n",
       "  <thead>\n",
       "    <tr style=\"text-align: right;\">\n",
       "      <th></th>\n",
       "      <th>notification_id</th>\n",
       "      <th>notification_type</th>\n",
       "      <th>disease_condition_id</th>\n",
       "      <th>notification_date</th>\n",
       "      <th>notification_week</th>\n",
       "      <th>notification_year</th>\n",
       "      <th>notification_state_id</th>\n",
       "      <th>notification_city_id</th>\n",
       "      <th>notification_region_id</th>\n",
       "      <th>notification_health_unit_id</th>\n",
       "    </tr>\n",
       "  </thead>\n",
       "  <tbody>\n",
       "    <tr>\n",
       "      <th>0</th>\n",
       "      <td>1</td>\n",
       "      <td>2</td>\n",
       "      <td>A92.0</td>\n",
       "      <td>20220608</td>\n",
       "      <td>202223</td>\n",
       "      <td>2022</td>\n",
       "      <td>50</td>\n",
       "      <td>500230</td>\n",
       "      <td>6255</td>\n",
       "      <td>2371065</td>\n",
       "    </tr>\n",
       "    <tr>\n",
       "      <th>1</th>\n",
       "      <td>2</td>\n",
       "      <td>2</td>\n",
       "      <td>A92.0</td>\n",
       "      <td>20220712</td>\n",
       "      <td>202228</td>\n",
       "      <td>2022</td>\n",
       "      <td>50</td>\n",
       "      <td>500580</td>\n",
       "      <td>1964</td>\n",
       "      <td>2676869</td>\n",
       "    </tr>\n",
       "    <tr>\n",
       "      <th>2</th>\n",
       "      <td>3</td>\n",
       "      <td>2</td>\n",
       "      <td>A92.0</td>\n",
       "      <td>20220406</td>\n",
       "      <td>202214</td>\n",
       "      <td>2022</td>\n",
       "      <td>50</td>\n",
       "      <td>500295</td>\n",
       "      <td>1975</td>\n",
       "      <td>2536293</td>\n",
       "    </tr>\n",
       "    <tr>\n",
       "      <th>3</th>\n",
       "      <td>4</td>\n",
       "      <td>2</td>\n",
       "      <td>A92.0</td>\n",
       "      <td>20220428</td>\n",
       "      <td>202217</td>\n",
       "      <td>2022</td>\n",
       "      <td>50</td>\n",
       "      <td>500580</td>\n",
       "      <td>1964</td>\n",
       "      <td>2676869</td>\n",
       "    </tr>\n",
       "    <tr>\n",
       "      <th>4</th>\n",
       "      <td>5</td>\n",
       "      <td>2</td>\n",
       "      <td>A92.0</td>\n",
       "      <td>20220302</td>\n",
       "      <td>202209</td>\n",
       "      <td>2022</td>\n",
       "      <td>50</td>\n",
       "      <td>500230</td>\n",
       "      <td>6255</td>\n",
       "      <td>2371065</td>\n",
       "    </tr>\n",
       "  </tbody>\n",
       "</table>\n",
       "</div>"
      ],
      "text/plain": [
       "   notification_id notification_type disease_condition_id notification_date  \\\n",
       "0                1                 2                A92.0          20220608   \n",
       "1                2                 2                A92.0          20220712   \n",
       "2                3                 2                A92.0          20220406   \n",
       "3                4                 2                A92.0          20220428   \n",
       "4                5                 2                A92.0          20220302   \n",
       "\n",
       "  notification_week notification_year notification_state_id  \\\n",
       "0            202223              2022                    50   \n",
       "1            202228              2022                    50   \n",
       "2            202214              2022                    50   \n",
       "3            202217              2022                    50   \n",
       "4            202209              2022                    50   \n",
       "\n",
       "  notification_city_id notification_region_id notification_health_unit_id  \n",
       "0               500230               6255                         2371065  \n",
       "1               500580               1964                         2676869  \n",
       "2               500295               1975                         2536293  \n",
       "3               500580               1964                         2676869  \n",
       "4               500230               6255                         2371065  "
      ]
     },
     "execution_count": 28,
     "metadata": {},
     "output_type": "execute_result"
    }
   ],
   "source": [
    "df1.head()"
   ]
  },
  {
   "cell_type": "code",
   "execution_count": 29,
   "metadata": {},
   "outputs": [
    {
     "data": {
      "text/plain": [
       "Index(['notification_id', 'notification_type', 'disease_condition_id',\n",
       "       'notification_date', 'notification_week', 'notification_year',\n",
       "       'notification_state_id', 'notification_city_id',\n",
       "       'notification_region_id', 'notification_health_unit_id'],\n",
       "      dtype='object')"
      ]
     },
     "execution_count": 29,
     "metadata": {},
     "output_type": "execute_result"
    }
   ],
   "source": [
    "df1.columns"
   ]
  },
  {
   "cell_type": "code",
   "execution_count": 30,
   "metadata": {},
   "outputs": [
    {
     "data": {
      "text/plain": [
       "(522067, 10)"
      ]
     },
     "execution_count": 30,
     "metadata": {},
     "output_type": "execute_result"
    }
   ],
   "source": [
    "df1.shape"
   ]
  },
  {
   "cell_type": "code",
   "execution_count": 31,
   "metadata": {},
   "outputs": [
    {
     "name": "stderr",
     "output_type": "stream",
     "text": [
      "CHIKBR22.parquet: 100%|██████████| 459k/459k [00:14<00:00, 32.3kB/s] \n",
      "CHIKBR23.parquet: 100%|██████████| 416k/416k [00:12<00:00, 32.1kB/s]\n"
     ]
    },
    {
     "data": {
      "application/vnd.jupyter.widget-view+json": {
       "model_id": "caf3ff8f7fb6425e94a7583668955b16",
       "version_major": 2,
       "version_minor": 0
      },
      "text/plain": [
       "FloatProgress(value=0.0, layout=Layout(width='auto'), style=ProgressStyle(bar_color='black'))"
      ]
     },
     "metadata": {},
     "output_type": "display_data"
    },
    {
     "data": {
      "application/vnd.jupyter.widget-view+json": {
       "model_id": "868ddfa241cb479987dff53fe761ad11",
       "version_major": 2,
       "version_minor": 0
      },
      "text/plain": [
       "FloatProgress(value=0.0, layout=Layout(width='auto'), style=ProgressStyle(bar_color='black'))"
      ]
     },
     "metadata": {},
     "output_type": "display_data"
    },
    {
     "data": {
      "application/vnd.jupyter.widget-view+json": {
       "model_id": "fd3cddf5fefc4e8b9470c29e86fced17",
       "version_major": 2,
       "version_minor": 0
      },
      "text/plain": [
       "FloatProgress(value=0.0, layout=Layout(width='auto'), style=ProgressStyle(bar_color='black'))"
      ]
     },
     "metadata": {},
     "output_type": "display_data"
    }
   ],
   "source": [
    "df2 = get_personal_data(years=[2022, 2023], disease=\"CHIK\", limit = 2)"
   ]
  },
  {
   "cell_type": "code",
   "execution_count": 32,
   "metadata": {},
   "outputs": [
    {
     "data": {
      "application/vnd.microsoft.datawrangler.viewer.v0+json": {
       "columns": [
        {
         "name": "index",
         "rawType": "int64",
         "type": "integer"
        },
        {
         "name": "notification_id",
         "rawType": "int64",
         "type": "integer"
        },
        {
         "name": "symptom_onset_date",
         "rawType": "object",
         "type": "string"
        },
        {
         "name": "symptom_onset_week",
         "rawType": "object",
         "type": "string"
        },
        {
         "name": "year_of_birth",
         "rawType": "object",
         "type": "string"
        },
        {
         "name": "age",
         "rawType": "object",
         "type": "string"
        },
        {
         "name": "gender",
         "rawType": "object",
         "type": "string"
        },
        {
         "name": "pregnancy_status",
         "rawType": "object",
         "type": "string"
        },
        {
         "name": "ethnicity",
         "rawType": "object",
         "type": "string"
        },
        {
         "name": "education_level",
         "rawType": "object",
         "type": "string"
        },
        {
         "name": "state_of_residence",
         "rawType": "object",
         "type": "string"
        },
        {
         "name": "city_of_residence",
         "rawType": "object",
         "type": "string"
        },
        {
         "name": "region_of_residence",
         "rawType": "object",
         "type": "string"
        },
        {
         "name": "country_of_residence",
         "rawType": "object",
         "type": "string"
        },
        {
         "name": "investigation_date",
         "rawType": "object",
         "type": "string"
        },
        {
         "name": "occupation_or_activity_field",
         "rawType": "object",
         "type": "string"
        }
       ],
       "conversionMethod": "pd.DataFrame",
       "ref": "388bffbc-1eb6-47de-b4c7-2708eb7e1d83",
       "rows": [
        [
         "0",
         "1",
         "20220428",
         "202217",
         "2001",
         "4020",
         "M",
         "6",
         "9",
         "9 ",
         "23",
         "230440",
         "1519    ",
         "1   ",
         "20220504",
         "      "
        ],
        [
         "1",
         "2",
         "20220506",
         "202218",
         "1992",
         "4029",
         "M",
         "6",
         "4",
         "6 ",
         "23",
         "230260",
         "1526    ",
         "1   ",
         "20220512",
         "      "
        ]
       ],
       "shape": {
        "columns": 15,
        "rows": 2
       }
      },
      "text/html": [
       "<div>\n",
       "<style scoped>\n",
       "    .dataframe tbody tr th:only-of-type {\n",
       "        vertical-align: middle;\n",
       "    }\n",
       "\n",
       "    .dataframe tbody tr th {\n",
       "        vertical-align: top;\n",
       "    }\n",
       "\n",
       "    .dataframe thead th {\n",
       "        text-align: right;\n",
       "    }\n",
       "</style>\n",
       "<table border=\"1\" class=\"dataframe\">\n",
       "  <thead>\n",
       "    <tr style=\"text-align: right;\">\n",
       "      <th></th>\n",
       "      <th>notification_id</th>\n",
       "      <th>symptom_onset_date</th>\n",
       "      <th>symptom_onset_week</th>\n",
       "      <th>year_of_birth</th>\n",
       "      <th>age</th>\n",
       "      <th>gender</th>\n",
       "      <th>pregnancy_status</th>\n",
       "      <th>ethnicity</th>\n",
       "      <th>education_level</th>\n",
       "      <th>state_of_residence</th>\n",
       "      <th>city_of_residence</th>\n",
       "      <th>region_of_residence</th>\n",
       "      <th>country_of_residence</th>\n",
       "      <th>investigation_date</th>\n",
       "      <th>occupation_or_activity_field</th>\n",
       "    </tr>\n",
       "  </thead>\n",
       "  <tbody>\n",
       "    <tr>\n",
       "      <th>0</th>\n",
       "      <td>1</td>\n",
       "      <td>20220428</td>\n",
       "      <td>202217</td>\n",
       "      <td>2001</td>\n",
       "      <td>4020</td>\n",
       "      <td>M</td>\n",
       "      <td>6</td>\n",
       "      <td>9</td>\n",
       "      <td>9</td>\n",
       "      <td>23</td>\n",
       "      <td>230440</td>\n",
       "      <td>1519</td>\n",
       "      <td>1</td>\n",
       "      <td>20220504</td>\n",
       "      <td></td>\n",
       "    </tr>\n",
       "    <tr>\n",
       "      <th>1</th>\n",
       "      <td>2</td>\n",
       "      <td>20220506</td>\n",
       "      <td>202218</td>\n",
       "      <td>1992</td>\n",
       "      <td>4029</td>\n",
       "      <td>M</td>\n",
       "      <td>6</td>\n",
       "      <td>4</td>\n",
       "      <td>6</td>\n",
       "      <td>23</td>\n",
       "      <td>230260</td>\n",
       "      <td>1526</td>\n",
       "      <td>1</td>\n",
       "      <td>20220512</td>\n",
       "      <td></td>\n",
       "    </tr>\n",
       "  </tbody>\n",
       "</table>\n",
       "</div>"
      ],
      "text/plain": [
       "   notification_id symptom_onset_date symptom_onset_week year_of_birth   age  \\\n",
       "0                1           20220428             202217          2001  4020   \n",
       "1                2           20220506             202218          1992  4029   \n",
       "\n",
       "  gender pregnancy_status ethnicity education_level state_of_residence  \\\n",
       "0      M                6         9              9                  23   \n",
       "1      M                6         4              6                  23   \n",
       "\n",
       "  city_of_residence region_of_residence country_of_residence  \\\n",
       "0            230440            1519                     1      \n",
       "1            230260            1526                     1      \n",
       "\n",
       "  investigation_date occupation_or_activity_field  \n",
       "0           20220504                               \n",
       "1           20220512                               "
      ]
     },
     "execution_count": 32,
     "metadata": {},
     "output_type": "execute_result"
    }
   ],
   "source": [
    "df2.head()"
   ]
  },
  {
   "cell_type": "code",
   "execution_count": 33,
   "metadata": {},
   "outputs": [
    {
     "data": {
      "text/plain": [
       "Index(['notification_id', 'symptom_onset_date', 'symptom_onset_week',\n",
       "       'year_of_birth', 'age', 'gender', 'pregnancy_status', 'ethnicity',\n",
       "       'education_level', 'state_of_residence', 'city_of_residence',\n",
       "       'region_of_residence', 'country_of_residence', 'investigation_date',\n",
       "       'occupation_or_activity_field'],\n",
       "      dtype='object')"
      ]
     },
     "execution_count": 33,
     "metadata": {},
     "output_type": "execute_result"
    }
   ],
   "source": [
    "df2.columns"
   ]
  },
  {
   "cell_type": "code",
   "execution_count": 34,
   "metadata": {},
   "outputs": [
    {
     "name": "stderr",
     "output_type": "stream",
     "text": [
      "CHIKBR22.parquet: 100%|██████████| 459k/459k [00:14<00:00, 32.0kB/s]\n"
     ]
    },
    {
     "data": {
      "application/vnd.jupyter.widget-view+json": {
       "model_id": "ab69835e77ab4237bb04e179b2d89a2a",
       "version_major": 2,
       "version_minor": 0
      },
      "text/plain": [
       "FloatProgress(value=0.0, layout=Layout(width='auto'), style=ProgressStyle(bar_color='black'))"
      ]
     },
     "metadata": {},
     "output_type": "display_data"
    }
   ],
   "source": [
    "df3 = get_clinical_signs(years=[2022], disease=\"CHIK\")"
   ]
  },
  {
   "cell_type": "code",
   "execution_count": 35,
   "metadata": {},
   "outputs": [
    {
     "data": {
      "application/vnd.microsoft.datawrangler.viewer.v0+json": {
       "columns": [
        {
         "name": "index",
         "rawType": "int64",
         "type": "integer"
        },
        {
         "name": "notification_id",
         "rawType": "int64",
         "type": "integer"
        },
        {
         "name": "clinical_signs_fever",
         "rawType": "object",
         "type": "string"
        },
        {
         "name": "clinical_signs_myalgia",
         "rawType": "object",
         "type": "string"
        },
        {
         "name": "clinical_signs_headache",
         "rawType": "object",
         "type": "string"
        },
        {
         "name": "clinical_signs_rash",
         "rawType": "object",
         "type": "string"
        },
        {
         "name": "clinical_signs_vomiting",
         "rawType": "object",
         "type": "string"
        },
        {
         "name": "clinical_signs_nausea",
         "rawType": "object",
         "type": "string"
        },
        {
         "name": "clinical_signs_back_pain",
         "rawType": "object",
         "type": "string"
        },
        {
         "name": "clinical_signs_conjunctivitis",
         "rawType": "object",
         "type": "string"
        },
        {
         "name": "clinical_signs_arthritis",
         "rawType": "object",
         "type": "string"
        },
        {
         "name": "clinical_signs_arthralgia",
         "rawType": "object",
         "type": "string"
        },
        {
         "name": "clinical_signs_petechiae",
         "rawType": "object",
         "type": "string"
        },
        {
         "name": "clinical_signs_leukopenia",
         "rawType": "object",
         "type": "string"
        },
        {
         "name": "retro_orbital_pain",
         "rawType": "object",
         "type": "string"
        }
       ],
       "conversionMethod": "pd.DataFrame",
       "ref": "86668bc4-4994-47d4-8a49-eddaaefd7766",
       "rows": [
        [
         "0",
         "1",
         "1",
         "2",
         "1",
         "2",
         "1",
         "1",
         "1",
         "2",
         "2",
         "2",
         "2",
         "2",
         "2"
        ],
        [
         "1",
         "2",
         "1",
         "2",
         "1",
         "2",
         "2",
         "1",
         "1",
         "2",
         "2",
         "2",
         "2",
         "2",
         "2"
        ],
        [
         "2",
         "3",
         "1",
         "2",
         "1",
         "2",
         "2",
         "2",
         "1",
         "2",
         "2",
         "2",
         "2",
         "2",
         "2"
        ],
        [
         "3",
         "4",
         "1",
         "2",
         "1",
         "2",
         "2",
         "2",
         "2",
         "2",
         "2",
         "2",
         "2",
         "2",
         "2"
        ],
        [
         "4",
         "5",
         "1",
         "2",
         "1",
         "2",
         "2",
         "1",
         "1",
         "2",
         "2",
         "2",
         "2",
         "2",
         "2"
        ]
       ],
       "shape": {
        "columns": 14,
        "rows": 5
       }
      },
      "text/html": [
       "<div>\n",
       "<style scoped>\n",
       "    .dataframe tbody tr th:only-of-type {\n",
       "        vertical-align: middle;\n",
       "    }\n",
       "\n",
       "    .dataframe tbody tr th {\n",
       "        vertical-align: top;\n",
       "    }\n",
       "\n",
       "    .dataframe thead th {\n",
       "        text-align: right;\n",
       "    }\n",
       "</style>\n",
       "<table border=\"1\" class=\"dataframe\">\n",
       "  <thead>\n",
       "    <tr style=\"text-align: right;\">\n",
       "      <th></th>\n",
       "      <th>notification_id</th>\n",
       "      <th>clinical_signs_fever</th>\n",
       "      <th>clinical_signs_myalgia</th>\n",
       "      <th>clinical_signs_headache</th>\n",
       "      <th>clinical_signs_rash</th>\n",
       "      <th>clinical_signs_vomiting</th>\n",
       "      <th>clinical_signs_nausea</th>\n",
       "      <th>clinical_signs_back_pain</th>\n",
       "      <th>clinical_signs_conjunctivitis</th>\n",
       "      <th>clinical_signs_arthritis</th>\n",
       "      <th>clinical_signs_arthralgia</th>\n",
       "      <th>clinical_signs_petechiae</th>\n",
       "      <th>clinical_signs_leukopenia</th>\n",
       "      <th>retro_orbital_pain</th>\n",
       "    </tr>\n",
       "  </thead>\n",
       "  <tbody>\n",
       "    <tr>\n",
       "      <th>0</th>\n",
       "      <td>1</td>\n",
       "      <td>1</td>\n",
       "      <td>2</td>\n",
       "      <td>1</td>\n",
       "      <td>2</td>\n",
       "      <td>1</td>\n",
       "      <td>1</td>\n",
       "      <td>1</td>\n",
       "      <td>2</td>\n",
       "      <td>2</td>\n",
       "      <td>2</td>\n",
       "      <td>2</td>\n",
       "      <td>2</td>\n",
       "      <td>2</td>\n",
       "    </tr>\n",
       "    <tr>\n",
       "      <th>1</th>\n",
       "      <td>2</td>\n",
       "      <td>1</td>\n",
       "      <td>2</td>\n",
       "      <td>1</td>\n",
       "      <td>2</td>\n",
       "      <td>2</td>\n",
       "      <td>1</td>\n",
       "      <td>1</td>\n",
       "      <td>2</td>\n",
       "      <td>2</td>\n",
       "      <td>2</td>\n",
       "      <td>2</td>\n",
       "      <td>2</td>\n",
       "      <td>2</td>\n",
       "    </tr>\n",
       "    <tr>\n",
       "      <th>2</th>\n",
       "      <td>3</td>\n",
       "      <td>1</td>\n",
       "      <td>2</td>\n",
       "      <td>1</td>\n",
       "      <td>2</td>\n",
       "      <td>2</td>\n",
       "      <td>2</td>\n",
       "      <td>1</td>\n",
       "      <td>2</td>\n",
       "      <td>2</td>\n",
       "      <td>2</td>\n",
       "      <td>2</td>\n",
       "      <td>2</td>\n",
       "      <td>2</td>\n",
       "    </tr>\n",
       "    <tr>\n",
       "      <th>3</th>\n",
       "      <td>4</td>\n",
       "      <td>1</td>\n",
       "      <td>2</td>\n",
       "      <td>1</td>\n",
       "      <td>2</td>\n",
       "      <td>2</td>\n",
       "      <td>2</td>\n",
       "      <td>2</td>\n",
       "      <td>2</td>\n",
       "      <td>2</td>\n",
       "      <td>2</td>\n",
       "      <td>2</td>\n",
       "      <td>2</td>\n",
       "      <td>2</td>\n",
       "    </tr>\n",
       "    <tr>\n",
       "      <th>4</th>\n",
       "      <td>5</td>\n",
       "      <td>1</td>\n",
       "      <td>2</td>\n",
       "      <td>1</td>\n",
       "      <td>2</td>\n",
       "      <td>2</td>\n",
       "      <td>1</td>\n",
       "      <td>1</td>\n",
       "      <td>2</td>\n",
       "      <td>2</td>\n",
       "      <td>2</td>\n",
       "      <td>2</td>\n",
       "      <td>2</td>\n",
       "      <td>2</td>\n",
       "    </tr>\n",
       "  </tbody>\n",
       "</table>\n",
       "</div>"
      ],
      "text/plain": [
       "   notification_id clinical_signs_fever clinical_signs_myalgia  \\\n",
       "0                1                    1                      2   \n",
       "1                2                    1                      2   \n",
       "2                3                    1                      2   \n",
       "3                4                    1                      2   \n",
       "4                5                    1                      2   \n",
       "\n",
       "  clinical_signs_headache clinical_signs_rash clinical_signs_vomiting  \\\n",
       "0                       1                   2                       1   \n",
       "1                       1                   2                       2   \n",
       "2                       1                   2                       2   \n",
       "3                       1                   2                       2   \n",
       "4                       1                   2                       2   \n",
       "\n",
       "  clinical_signs_nausea clinical_signs_back_pain  \\\n",
       "0                     1                        1   \n",
       "1                     1                        1   \n",
       "2                     2                        1   \n",
       "3                     2                        2   \n",
       "4                     1                        1   \n",
       "\n",
       "  clinical_signs_conjunctivitis clinical_signs_arthritis  \\\n",
       "0                             2                        2   \n",
       "1                             2                        2   \n",
       "2                             2                        2   \n",
       "3                             2                        2   \n",
       "4                             2                        2   \n",
       "\n",
       "  clinical_signs_arthralgia clinical_signs_petechiae  \\\n",
       "0                         2                        2   \n",
       "1                         2                        2   \n",
       "2                         2                        2   \n",
       "3                         2                        2   \n",
       "4                         2                        2   \n",
       "\n",
       "  clinical_signs_leukopenia retro_orbital_pain  \n",
       "0                         2                  2  \n",
       "1                         2                  2  \n",
       "2                         2                  2  \n",
       "3                         2                  2  \n",
       "4                         2                  2  "
      ]
     },
     "execution_count": 35,
     "metadata": {},
     "output_type": "execute_result"
    }
   ],
   "source": [
    "df3.head()"
   ]
  },
  {
   "cell_type": "code",
   "execution_count": 36,
   "metadata": {},
   "outputs": [
    {
     "name": "stderr",
     "output_type": "stream",
     "text": [
      "2025-02-25 12:50:00,016 - INFO - Ensuring the database path exists: /Users/gutto/Workspace/pyzdc/pyzdc/data/db/db.db\n",
      "2025-02-25 12:50:00,024 - INFO - Database file created at /Users/gutto/Workspace/pyzdc/pyzdc/data/db/db.db\n",
      "2025-02-25 12:50:00,028 - INFO - Deleted database: /Users/gutto/Workspace/pyzdc/pyzdc/data/db/db.db\n",
      "CHIKBR23.parquet: 100%|██████████| 416k/416k [00:12<00:00, 32.7kB/s]\n",
      "2025-02-25 12:50:23,136 - INFO - File saved in /Users/gutto/Workspace/pyzdc/pyzdc/data/parquet/CHIKBR23.parquet\n",
      "2025-02-25 12:50:23,141 - INFO - Inserting data from /Users/gutto/Workspace/pyzdc/pyzdc/data/parquet/CHIKBR23.parquet into the database.\n",
      "2025-02-25 12:50:25,582 - INFO - All data inserted into the database successfully.\n",
      "2025-02-25 12:50:25,583 - INFO - Column mapping loaded successfully from /Users/gutto/Workspace/pyzdc/pyzdc/data/json/columns_translated_english.json.\n",
      "2025-02-25 12:50:25,588 - INFO - Renamed column 'TP_NOT' to 'notification_type'.\n",
      "2025-02-25 12:50:25,589 - INFO - Renamed column 'ID_AGRAVO' to 'disease_condition_id'.\n",
      "2025-02-25 12:50:25,589 - INFO - Renamed column 'DT_NOTIFIC' to 'notification_date'.\n",
      "2025-02-25 12:50:25,590 - INFO - Renamed column 'SEM_NOT' to 'notification_week'.\n",
      "2025-02-25 12:50:25,590 - INFO - Renamed column 'NU_ANO' to 'notification_year'.\n",
      "2025-02-25 12:50:25,591 - INFO - Renamed column 'SG_UF_NOT' to 'notification_state_id'.\n",
      "2025-02-25 12:50:25,591 - INFO - Renamed column 'ID_MUNICIP' to 'notification_city_id'.\n",
      "2025-02-25 12:50:25,592 - INFO - Renamed column 'ID_REGIONA' to 'notification_region_id'.\n",
      "2025-02-25 12:50:25,592 - INFO - Renamed column 'ID_UNIDADE' to 'notification_health_unit_id'.\n",
      "2025-02-25 12:50:25,593 - INFO - Renamed column 'DT_SIN_PRI' to 'symptom_onset_date'.\n",
      "2025-02-25 12:50:25,593 - INFO - Renamed column 'SEM_PRI' to 'symptom_onset_week'.\n",
      "2025-02-25 12:50:25,593 - INFO - Renamed column 'ANO_NASC' to 'year_of_birth'.\n",
      "2025-02-25 12:50:25,594 - INFO - Renamed column 'NU_IDADE_N' to 'age'.\n",
      "2025-02-25 12:50:25,594 - INFO - Renamed column 'CS_SEXO' to 'gender'.\n",
      "2025-02-25 12:50:25,595 - INFO - Renamed column 'CS_GESTANT' to 'pregnancy_status'.\n",
      "2025-02-25 12:50:25,595 - INFO - Renamed column 'CS_RACA' to 'ethnicity'.\n",
      "2025-02-25 12:50:25,596 - INFO - Renamed column 'CS_ESCOL_N' to 'education_level'.\n",
      "2025-02-25 12:50:25,596 - INFO - Renamed column 'SG_UF' to 'state_of_residence'.\n",
      "2025-02-25 12:50:25,597 - INFO - Renamed column 'ID_MN_RESI' to 'city_of_residence'.\n",
      "2025-02-25 12:50:25,598 - INFO - Renamed column 'ID_RG_RESI' to 'region_of_residence'.\n",
      "2025-02-25 12:50:25,598 - INFO - Renamed column 'ID_PAIS' to 'country_of_residence'.\n",
      "2025-02-25 12:50:25,599 - INFO - Renamed column 'DT_INVEST' to 'investigation_date'.\n",
      "2025-02-25 12:50:25,599 - INFO - Renamed column 'ID_OCUPA_N' to 'occupation_or_activity_field'.\n",
      "2025-02-25 12:50:25,600 - INFO - Renamed column 'FEBRE' to 'clinical_signs_fever'.\n",
      "2025-02-25 12:50:25,601 - INFO - Renamed column 'MIALGIA' to 'clinical_signs_myalgia'.\n",
      "2025-02-25 12:50:25,601 - INFO - Renamed column 'CEFALEIA' to 'clinical_signs_headache'.\n",
      "2025-02-25 12:50:25,601 - INFO - Renamed column 'EXANTEMA' to 'clinical_signs_rash'.\n",
      "2025-02-25 12:50:25,602 - INFO - Renamed column 'VOMITO' to 'clinical_signs_vomiting'.\n",
      "2025-02-25 12:50:25,603 - INFO - Renamed column 'NAUSEA' to 'clinical_signs_nausea'.\n",
      "2025-02-25 12:50:25,604 - INFO - Renamed column 'DOR_COSTAS' to 'clinical_signs_back_pain'.\n",
      "2025-02-25 12:50:25,604 - INFO - Renamed column 'CONJUNTVIT' to 'clinical_signs_conjunctivitis'.\n",
      "2025-02-25 12:50:25,605 - INFO - Renamed column 'ARTRITE' to 'clinical_signs_arthritis'.\n",
      "2025-02-25 12:50:25,605 - INFO - Renamed column 'ARTRALGIA' to 'clinical_signs_arthralgia'.\n",
      "2025-02-25 12:50:25,606 - INFO - Renamed column 'PETEQUIA_N' to 'clinical_signs_petechiae'.\n",
      "2025-02-25 12:50:25,606 - INFO - Renamed column 'LEUCOPENIA' to 'clinical_signs_leukopenia'.\n",
      "2025-02-25 12:50:25,607 - INFO - Renamed column 'LACO' to 'laco_test'.\n",
      "2025-02-25 12:50:25,607 - INFO - Renamed column 'DOR_RETRO' to 'retro_orbital_pain'.\n",
      "2025-02-25 12:50:25,608 - INFO - Renamed column 'DIABETES' to 'diabetes'.\n",
      "2025-02-25 12:50:25,608 - INFO - Renamed column 'HEMATOLOG' to 'hematological_diseases'.\n",
      "2025-02-25 12:50:25,609 - INFO - Renamed column 'HEPATOPAT' to 'hepatopathies'.\n",
      "2025-02-25 12:50:25,610 - INFO - Renamed column 'RENAL' to 'renal_diseases'.\n",
      "2025-02-25 12:50:25,611 - INFO - Renamed column 'HIPERTENSA' to 'hypertension'.\n",
      "2025-02-25 12:50:25,611 - INFO - Renamed column 'ACIDO_PEPT' to 'peptic_ulcer'.\n",
      "2025-02-25 12:50:25,612 - INFO - Renamed column 'AUTO_IMUNE' to 'autoimmune_diseases'.\n",
      "2025-02-25 12:50:25,612 - INFO - Renamed column 'DT_CHIK_S1' to 'igm_chikungunya_serum_1_date'.\n",
      "2025-02-25 12:50:25,613 - INFO - Renamed column 'DT_CHIK_S2' to 'igm_chikungunya_serum_2_date'.\n",
      "2025-02-25 12:50:25,613 - INFO - Renamed column 'DT_PRNT' to 'prnt_test_date'.\n",
      "2025-02-25 12:50:25,614 - INFO - Renamed column 'RES_CHIKS1' to 'igm_chikungunya_serum_1_result'.\n",
      "2025-02-25 12:50:25,614 - INFO - Renamed column 'RES_CHIKS2' to 'igm_chikungunya_serum_2_result'.\n",
      "2025-02-25 12:50:25,615 - INFO - Renamed column 'RESUL_PRNT' to 'prnt_test_result'.\n",
      "2025-02-25 12:50:25,615 - INFO - Renamed column 'DT_SORO' to 'serological_test_igm_dengue_date'.\n",
      "2025-02-25 12:50:25,616 - INFO - Renamed column 'RESUL_SORO' to 'serological_test_igm_dengue_result'.\n",
      "2025-02-25 12:50:25,616 - INFO - Renamed column 'DT_NS1' to 'ns1_test_date'.\n",
      "2025-02-25 12:50:25,617 - INFO - Renamed column 'RESUL_NS1' to 'ns1_test_result'.\n",
      "2025-02-25 12:50:25,617 - INFO - Renamed column 'DT_VIRAL' to 'viral_isolation_date'.\n",
      "2025-02-25 12:50:25,618 - INFO - Renamed column 'RESUL_VI_N' to 'viral_isolation_result'.\n",
      "2025-02-25 12:50:25,618 - INFO - Renamed column 'DT_PCR' to 'rt_pcr_date'.\n",
      "2025-02-25 12:50:25,619 - INFO - Renamed column 'RESUL_PCR_' to 'rt_pcr_result'.\n",
      "2025-02-25 12:50:25,619 - INFO - Renamed column 'SOROTIPO' to 'serotype'.\n",
      "2025-02-25 12:50:25,619 - INFO - Renamed column 'HISTOPA_N' to 'histopathology_result'.\n",
      "2025-02-25 12:50:25,620 - INFO - Renamed column 'IMUNOH_N' to 'immunohistochemistry_result'.\n",
      "2025-02-25 12:50:25,620 - INFO - Renamed column 'HOSPITALIZ' to 'hospitalization'.\n",
      "2025-02-25 12:50:25,621 - INFO - Renamed column 'DT_INTERNA' to 'hospitalization_date'.\n",
      "2025-02-25 12:50:25,621 - INFO - Renamed column 'UF' to 'state_of_the_hospital'.\n",
      "2025-02-25 12:50:25,622 - INFO - Renamed column 'MUNICIPIO' to 'city_of_the_hospital'.\n",
      "2025-02-25 12:50:25,622 - INFO - Renamed column 'TPAUTOCTO' to 'autochthonous_case_of_residence'.\n",
      "2025-02-25 12:50:25,623 - INFO - Renamed column 'COUFINF' to 'country_of_the_infection'.\n",
      "2025-02-25 12:50:25,624 - INFO - Renamed column 'COPAISINF' to 'country_of_the_infection_id'.\n",
      "2025-02-25 12:50:25,625 - INFO - Renamed column 'COMUNINF' to 'infection_city_id'.\n",
      "2025-02-25 12:50:25,625 - INFO - Renamed column 'CLASSI_FIN' to 'final_classification'.\n",
      "2025-02-25 12:50:25,626 - INFO - Renamed column 'CRITERIO' to 'classification_criteria'.\n",
      "2025-02-25 12:50:25,626 - INFO - Renamed column 'DOENCA_TRA' to 'work_related_case'.\n",
      "2025-02-25 12:50:25,626 - INFO - Renamed column 'CLINC_CHIK' to 'clinical_classification_chikungunya'.\n",
      "2025-02-25 12:50:25,627 - INFO - Renamed column 'EVOLUCAO' to 'evolution_case'.\n",
      "2025-02-25 12:50:25,627 - INFO - Renamed column 'DT_OBITO' to 'death_date'.\n",
      "2025-02-25 12:50:25,628 - INFO - Renamed column 'DT_ENCERRA' to 'case_closure_date'.\n",
      "2025-02-25 12:50:25,629 - INFO - Renamed column 'ALRM_HIPOT' to 'hypotension_alarm'.\n",
      "2025-02-25 12:50:25,629 - INFO - Renamed column 'ALRM_PLAQ' to 'platelet_alarm'.\n",
      "2025-02-25 12:50:25,630 - INFO - Renamed column 'ALRM_VOM' to 'vomiting_alarm'.\n",
      "2025-02-25 12:50:25,630 - INFO - Renamed column 'ALRM_SANG' to 'bleeding_alarm'.\n",
      "2025-02-25 12:50:25,631 - INFO - Renamed column 'ALRM_HEMAT' to 'hematocrit_alarm'.\n",
      "2025-02-25 12:50:25,631 - INFO - Renamed column 'ALRM_ABDOM' to 'abdominal_pain_alarm'.\n",
      "2025-02-25 12:50:25,632 - INFO - Renamed column 'ALRM_LETAR' to 'lethargy_alarm'.\n",
      "2025-02-25 12:50:25,632 - INFO - Renamed column 'ALRM_HEPAT' to 'hepatomegaly_alarm'.\n",
      "2025-02-25 12:50:25,632 - INFO - Renamed column 'ALRM_LIQ' to 'liquid_alarm'.\n",
      "2025-02-25 12:50:25,633 - INFO - Renamed column 'DT_ALRM' to 'alarm_dengue_date'.\n",
      "2025-02-25 12:50:25,633 - INFO - Renamed column 'GRAV_PULSO' to 'pulse_severity'.\n",
      "2025-02-25 12:50:25,634 - INFO - Renamed column 'GRAV_CONV' to 'convergence_pressure_severity'.\n",
      "2025-02-25 12:50:25,634 - INFO - Renamed column 'GRAV_ENCH' to 'capilar_enchiment_severity'.\n",
      "2025-02-25 12:50:25,635 - INFO - Renamed column 'GRAV_INSUF' to 'respiratory_insufficiency_liquid_severity'.\n",
      "2025-02-25 12:50:25,635 - INFO - Renamed column 'GRAV_TAQUI' to 'tachycardia_severity'.\n",
      "2025-02-25 12:50:25,636 - INFO - Renamed column 'GRAV_EXTRE' to 'extremity_coldness_severity'.\n",
      "2025-02-25 12:50:25,677 - INFO - Renamed column 'GRAV_HIPOT' to 'hypotension_severity'.\n",
      "2025-02-25 12:50:25,678 - INFO - Renamed column 'GRAV_HEMAT' to 'hematemesis_severity'.\n",
      "2025-02-25 12:50:25,678 - INFO - Renamed column 'GRAV_MELEN' to 'melena_severity'.\n",
      "2025-02-25 12:50:25,679 - INFO - Renamed column 'GRAV_METRO' to 'metrorrhagia_severity'.\n",
      "2025-02-25 12:50:25,679 - INFO - Renamed column 'GRAV_SANG' to 'bleeding_severity'.\n",
      "2025-02-25 12:50:25,680 - INFO - Renamed column 'GRAV_AST' to 'higher_ast_alt_severity'.\n",
      "2025-02-25 12:50:25,680 - INFO - Renamed column 'GRAV_MIOC' to 'myocarditis_severity'.\n",
      "2025-02-25 12:50:25,684 - INFO - Renamed column 'GRAV_CONSC' to 'consciousness_severity'.\n",
      "2025-02-25 12:50:25,686 - INFO - Renamed column 'GRAV_ORGAO' to 'other_organs_severity'.\n",
      "2025-02-25 12:50:25,687 - INFO - Renamed column 'DT_GRAV' to 'severity_date'.\n",
      "2025-02-25 12:50:25,688 - INFO - Renamed column 'MANI_HEMOR' to 'hemorrhaegic_manifestations'.\n",
      "2025-02-25 12:50:25,689 - INFO - Renamed column 'EPISTAXE' to 'epistaxis'.\n",
      "2025-02-25 12:50:25,689 - INFO - Renamed column 'GENGIVO' to 'gengival_bleeding'.\n",
      "2025-02-25 12:50:25,690 - INFO - Renamed column 'METRO' to 'metrorrhagia'.\n",
      "2025-02-25 12:50:25,691 - INFO - Renamed column 'PETEQUIAS' to 'petechiae'.\n",
      "2025-02-25 12:50:25,692 - INFO - Renamed column 'HEMATURA' to 'hematuria'.\n",
      "2025-02-25 12:50:25,692 - INFO - Renamed column 'SANGRAM' to 'bleeding'.\n",
      "2025-02-25 12:50:25,693 - INFO - Renamed column 'LACO_N' to 'if_patient_did_laco_test'.\n",
      "2025-02-25 12:50:25,693 - INFO - Renamed column 'PLASMATICO' to 'plasmatic_value'.\n",
      "2025-02-25 12:50:25,694 - INFO - Renamed column 'EVIDENCIA' to 'evidence'.\n",
      "2025-02-25 12:50:25,694 - INFO - Renamed column 'PLAQ_MENOR' to 'platelet_count'.\n",
      "2025-02-25 12:50:25,694 - INFO - Renamed column 'CON_FHD' to 'fdh_scd_degree'.\n",
      "2025-02-25 12:50:25,695 - INFO - Renamed column 'COMPLICA' to 'complications'.\n",
      "2025-02-25 12:50:25,695 - INFO - Renamed column 'NU_LOTE_I' to 'lot_number'.\n",
      "2025-02-25 12:50:25,696 - INFO - Renamed column 'TP_SISTEMA' to 'system_type'.\n",
      "2025-02-25 12:50:25,696 - INFO - Renamed column 'NDUPLIC_N' to 'duplicated_number'.\n",
      "2025-02-25 12:50:25,697 - INFO - Renamed column 'DT_DIGITA' to 'typing_date'.\n",
      "2025-02-25 12:50:25,697 - INFO - Renamed column 'CS_FLXRET' to 'record_enabled_send'.\n",
      "2025-02-25 12:50:25,697 - INFO - Renamed column 'FLXRECEBI' to 'computer_id'.\n",
      "2025-02-25 12:50:25,698 - INFO - Renamed column 'MIGRADO_W' to 'windows_migration'.\n",
      "2025-02-25 12:50:25,708 - INFO - All columns renamed successfully.\n",
      "2025-02-25 12:50:28,738 - INFO - Database transformed successfully!\n",
      "2025-02-25 12:50:28,742 - INFO - Loading data from table 'patient_diseases' in DuckDB database.\n",
      "2025-02-25 12:50:28,768 - INFO - Data loaded successfully.\n",
      "2025-02-25 12:50:28,771 - INFO - Deleted database: /Users/gutto/Workspace/pyzdc/pyzdc/data/db/db.db\n",
      "2025-02-25 12:50:28,772 - INFO - Deleted directory: /Users/gutto/Workspace/pyzdc/pyzdc/data/parquet\n"
     ]
    }
   ],
   "source": [
    "df4 = get_patient_diseases(years=[2023], disease=\"CHIK\", verbose=True)"
   ]
  },
  {
   "cell_type": "code",
   "execution_count": 37,
   "metadata": {},
   "outputs": [
    {
     "data": {
      "application/vnd.microsoft.datawrangler.viewer.v0+json": {
       "columns": [
        {
         "name": "index",
         "rawType": "int64",
         "type": "integer"
        },
        {
         "name": "notification_id",
         "rawType": "int64",
         "type": "integer"
        },
        {
         "name": "diabetes",
         "rawType": "object",
         "type": "string"
        },
        {
         "name": "hematological_diseases",
         "rawType": "object",
         "type": "string"
        },
        {
         "name": "hepatopathies",
         "rawType": "object",
         "type": "string"
        },
        {
         "name": "renal_diseases",
         "rawType": "object",
         "type": "string"
        },
        {
         "name": "hypertension",
         "rawType": "object",
         "type": "string"
        },
        {
         "name": "peptic_ulcer",
         "rawType": "object",
         "type": "string"
        },
        {
         "name": "autoimmune_diseases",
         "rawType": "object",
         "type": "string"
        }
       ],
       "conversionMethod": "pd.DataFrame",
       "ref": "0740c34c-6d64-4255-8172-94cca33f0bae",
       "rows": [
        [
         "120754",
         "120755",
         "2",
         "2",
         "2",
         "2",
         "2",
         "2",
         "2"
        ],
        [
         "130776",
         "130777",
         "2",
         "2",
         "2",
         "2",
         "2",
         "2",
         "2"
        ],
        [
         "19305",
         "19306",
         "2",
         "2",
         "2",
         "2",
         "2",
         "2",
         "2"
        ],
        [
         "144174",
         "144175",
         "2",
         "2",
         "2",
         "2",
         "2",
         "2",
         "2"
        ],
        [
         "180010",
         "180011",
         "2",
         "2",
         "2",
         "2",
         "1",
         "2",
         "2"
        ],
        [
         "245376",
         "245377",
         "2",
         "2",
         "2",
         "2",
         "2",
         "2",
         "2"
        ],
        [
         "85564",
         "85565",
         "2",
         "2",
         "2",
         "2",
         "1",
         "2",
         "2"
        ],
        [
         "109188",
         "109189",
         "2",
         "2",
         "2",
         "2",
         "2",
         "2",
         "2"
        ],
        [
         "211494",
         "211495",
         "2",
         "2",
         "2",
         "2",
         "2",
         "2",
         "2"
        ],
        [
         "21712",
         "21713",
         "2",
         "2",
         "2",
         "2",
         "2",
         "2",
         "2"
        ],
        [
         "121686",
         "121687",
         "2",
         "2",
         "2",
         "2",
         "2",
         "2",
         "2"
        ],
        [
         "49112",
         "49113",
         "2",
         "2",
         "2",
         "2",
         "2",
         "2",
         "2"
        ],
        [
         "13202",
         "13203",
         "2",
         "2",
         "2",
         "2",
         "2",
         "2",
         "2"
        ],
        [
         "217565",
         "217566",
         "2",
         "2",
         "2",
         "2",
         "2",
         "1",
         "2"
        ],
        [
         "131238",
         "131239",
         "2",
         "2",
         "2",
         "2",
         "2",
         "2",
         "2"
        ],
        [
         "74118",
         "74119",
         "2",
         "2",
         "2",
         "2",
         "2",
         "2",
         "2"
        ],
        [
         "169870",
         "169871",
         "2",
         "2",
         "2",
         "2",
         "2",
         "2",
         "2"
        ],
        [
         "193399",
         "193400",
         "2",
         "2",
         "2",
         "2",
         "2",
         "2",
         "2"
        ],
        [
         "213329",
         "213330",
         "2",
         "2",
         "2",
         "2",
         "2",
         "2",
         "2"
        ],
        [
         "64532",
         "64533",
         "2",
         "2",
         "2",
         "2",
         "1",
         "2",
         "2"
        ]
       ],
       "shape": {
        "columns": 8,
        "rows": 20
       }
      },
      "text/html": [
       "<div>\n",
       "<style scoped>\n",
       "    .dataframe tbody tr th:only-of-type {\n",
       "        vertical-align: middle;\n",
       "    }\n",
       "\n",
       "    .dataframe tbody tr th {\n",
       "        vertical-align: top;\n",
       "    }\n",
       "\n",
       "    .dataframe thead th {\n",
       "        text-align: right;\n",
       "    }\n",
       "</style>\n",
       "<table border=\"1\" class=\"dataframe\">\n",
       "  <thead>\n",
       "    <tr style=\"text-align: right;\">\n",
       "      <th></th>\n",
       "      <th>notification_id</th>\n",
       "      <th>diabetes</th>\n",
       "      <th>hematological_diseases</th>\n",
       "      <th>hepatopathies</th>\n",
       "      <th>renal_diseases</th>\n",
       "      <th>hypertension</th>\n",
       "      <th>peptic_ulcer</th>\n",
       "      <th>autoimmune_diseases</th>\n",
       "    </tr>\n",
       "  </thead>\n",
       "  <tbody>\n",
       "    <tr>\n",
       "      <th>120754</th>\n",
       "      <td>120755</td>\n",
       "      <td>2</td>\n",
       "      <td>2</td>\n",
       "      <td>2</td>\n",
       "      <td>2</td>\n",
       "      <td>2</td>\n",
       "      <td>2</td>\n",
       "      <td>2</td>\n",
       "    </tr>\n",
       "    <tr>\n",
       "      <th>130776</th>\n",
       "      <td>130777</td>\n",
       "      <td>2</td>\n",
       "      <td>2</td>\n",
       "      <td>2</td>\n",
       "      <td>2</td>\n",
       "      <td>2</td>\n",
       "      <td>2</td>\n",
       "      <td>2</td>\n",
       "    </tr>\n",
       "    <tr>\n",
       "      <th>19305</th>\n",
       "      <td>19306</td>\n",
       "      <td>2</td>\n",
       "      <td>2</td>\n",
       "      <td>2</td>\n",
       "      <td>2</td>\n",
       "      <td>2</td>\n",
       "      <td>2</td>\n",
       "      <td>2</td>\n",
       "    </tr>\n",
       "    <tr>\n",
       "      <th>144174</th>\n",
       "      <td>144175</td>\n",
       "      <td>2</td>\n",
       "      <td>2</td>\n",
       "      <td>2</td>\n",
       "      <td>2</td>\n",
       "      <td>2</td>\n",
       "      <td>2</td>\n",
       "      <td>2</td>\n",
       "    </tr>\n",
       "    <tr>\n",
       "      <th>180010</th>\n",
       "      <td>180011</td>\n",
       "      <td>2</td>\n",
       "      <td>2</td>\n",
       "      <td>2</td>\n",
       "      <td>2</td>\n",
       "      <td>1</td>\n",
       "      <td>2</td>\n",
       "      <td>2</td>\n",
       "    </tr>\n",
       "    <tr>\n",
       "      <th>245376</th>\n",
       "      <td>245377</td>\n",
       "      <td>2</td>\n",
       "      <td>2</td>\n",
       "      <td>2</td>\n",
       "      <td>2</td>\n",
       "      <td>2</td>\n",
       "      <td>2</td>\n",
       "      <td>2</td>\n",
       "    </tr>\n",
       "    <tr>\n",
       "      <th>85564</th>\n",
       "      <td>85565</td>\n",
       "      <td>2</td>\n",
       "      <td>2</td>\n",
       "      <td>2</td>\n",
       "      <td>2</td>\n",
       "      <td>1</td>\n",
       "      <td>2</td>\n",
       "      <td>2</td>\n",
       "    </tr>\n",
       "    <tr>\n",
       "      <th>109188</th>\n",
       "      <td>109189</td>\n",
       "      <td>2</td>\n",
       "      <td>2</td>\n",
       "      <td>2</td>\n",
       "      <td>2</td>\n",
       "      <td>2</td>\n",
       "      <td>2</td>\n",
       "      <td>2</td>\n",
       "    </tr>\n",
       "    <tr>\n",
       "      <th>211494</th>\n",
       "      <td>211495</td>\n",
       "      <td>2</td>\n",
       "      <td>2</td>\n",
       "      <td>2</td>\n",
       "      <td>2</td>\n",
       "      <td>2</td>\n",
       "      <td>2</td>\n",
       "      <td>2</td>\n",
       "    </tr>\n",
       "    <tr>\n",
       "      <th>21712</th>\n",
       "      <td>21713</td>\n",
       "      <td>2</td>\n",
       "      <td>2</td>\n",
       "      <td>2</td>\n",
       "      <td>2</td>\n",
       "      <td>2</td>\n",
       "      <td>2</td>\n",
       "      <td>2</td>\n",
       "    </tr>\n",
       "    <tr>\n",
       "      <th>121686</th>\n",
       "      <td>121687</td>\n",
       "      <td>2</td>\n",
       "      <td>2</td>\n",
       "      <td>2</td>\n",
       "      <td>2</td>\n",
       "      <td>2</td>\n",
       "      <td>2</td>\n",
       "      <td>2</td>\n",
       "    </tr>\n",
       "    <tr>\n",
       "      <th>49112</th>\n",
       "      <td>49113</td>\n",
       "      <td>2</td>\n",
       "      <td>2</td>\n",
       "      <td>2</td>\n",
       "      <td>2</td>\n",
       "      <td>2</td>\n",
       "      <td>2</td>\n",
       "      <td>2</td>\n",
       "    </tr>\n",
       "    <tr>\n",
       "      <th>13202</th>\n",
       "      <td>13203</td>\n",
       "      <td>2</td>\n",
       "      <td>2</td>\n",
       "      <td>2</td>\n",
       "      <td>2</td>\n",
       "      <td>2</td>\n",
       "      <td>2</td>\n",
       "      <td>2</td>\n",
       "    </tr>\n",
       "    <tr>\n",
       "      <th>217565</th>\n",
       "      <td>217566</td>\n",
       "      <td>2</td>\n",
       "      <td>2</td>\n",
       "      <td>2</td>\n",
       "      <td>2</td>\n",
       "      <td>2</td>\n",
       "      <td>1</td>\n",
       "      <td>2</td>\n",
       "    </tr>\n",
       "    <tr>\n",
       "      <th>131238</th>\n",
       "      <td>131239</td>\n",
       "      <td>2</td>\n",
       "      <td>2</td>\n",
       "      <td>2</td>\n",
       "      <td>2</td>\n",
       "      <td>2</td>\n",
       "      <td>2</td>\n",
       "      <td>2</td>\n",
       "    </tr>\n",
       "    <tr>\n",
       "      <th>74118</th>\n",
       "      <td>74119</td>\n",
       "      <td>2</td>\n",
       "      <td>2</td>\n",
       "      <td>2</td>\n",
       "      <td>2</td>\n",
       "      <td>2</td>\n",
       "      <td>2</td>\n",
       "      <td>2</td>\n",
       "    </tr>\n",
       "    <tr>\n",
       "      <th>169870</th>\n",
       "      <td>169871</td>\n",
       "      <td>2</td>\n",
       "      <td>2</td>\n",
       "      <td>2</td>\n",
       "      <td>2</td>\n",
       "      <td>2</td>\n",
       "      <td>2</td>\n",
       "      <td>2</td>\n",
       "    </tr>\n",
       "    <tr>\n",
       "      <th>193399</th>\n",
       "      <td>193400</td>\n",
       "      <td>2</td>\n",
       "      <td>2</td>\n",
       "      <td>2</td>\n",
       "      <td>2</td>\n",
       "      <td>2</td>\n",
       "      <td>2</td>\n",
       "      <td>2</td>\n",
       "    </tr>\n",
       "    <tr>\n",
       "      <th>213329</th>\n",
       "      <td>213330</td>\n",
       "      <td>2</td>\n",
       "      <td>2</td>\n",
       "      <td>2</td>\n",
       "      <td>2</td>\n",
       "      <td>2</td>\n",
       "      <td>2</td>\n",
       "      <td>2</td>\n",
       "    </tr>\n",
       "    <tr>\n",
       "      <th>64532</th>\n",
       "      <td>64533</td>\n",
       "      <td>2</td>\n",
       "      <td>2</td>\n",
       "      <td>2</td>\n",
       "      <td>2</td>\n",
       "      <td>1</td>\n",
       "      <td>2</td>\n",
       "      <td>2</td>\n",
       "    </tr>\n",
       "  </tbody>\n",
       "</table>\n",
       "</div>"
      ],
      "text/plain": [
       "        notification_id diabetes hematological_diseases hepatopathies  \\\n",
       "120754           120755        2                      2             2   \n",
       "130776           130777        2                      2             2   \n",
       "19305             19306        2                      2             2   \n",
       "144174           144175        2                      2             2   \n",
       "180010           180011        2                      2             2   \n",
       "245376           245377        2                      2             2   \n",
       "85564             85565        2                      2             2   \n",
       "109188           109189        2                      2             2   \n",
       "211494           211495        2                      2             2   \n",
       "21712             21713        2                      2             2   \n",
       "121686           121687        2                      2             2   \n",
       "49112             49113        2                      2             2   \n",
       "13202             13203        2                      2             2   \n",
       "217565           217566        2                      2             2   \n",
       "131238           131239        2                      2             2   \n",
       "74118             74119        2                      2             2   \n",
       "169870           169871        2                      2             2   \n",
       "193399           193400        2                      2             2   \n",
       "213329           213330        2                      2             2   \n",
       "64532             64533        2                      2             2   \n",
       "\n",
       "       renal_diseases hypertension peptic_ulcer autoimmune_diseases  \n",
       "120754              2            2            2                   2  \n",
       "130776              2            2            2                   2  \n",
       "19305               2            2            2                   2  \n",
       "144174              2            2            2                   2  \n",
       "180010              2            1            2                   2  \n",
       "245376              2            2            2                   2  \n",
       "85564               2            1            2                   2  \n",
       "109188              2            2            2                   2  \n",
       "211494              2            2            2                   2  \n",
       "21712               2            2            2                   2  \n",
       "121686              2            2            2                   2  \n",
       "49112               2            2            2                   2  \n",
       "13202               2            2            2                   2  \n",
       "217565              2            2            1                   2  \n",
       "131238              2            2            2                   2  \n",
       "74118               2            2            2                   2  \n",
       "169870              2            2            2                   2  \n",
       "193399              2            2            2                   2  \n",
       "213329              2            2            2                   2  \n",
       "64532               2            1            2                   2  "
      ]
     },
     "execution_count": 37,
     "metadata": {},
     "output_type": "execute_result"
    }
   ],
   "source": [
    "df4.sample(20) # type: ignore"
   ]
  },
  {
   "cell_type": "code",
   "execution_count": 38,
   "metadata": {},
   "outputs": [
    {
     "name": "stderr",
     "output_type": "stream",
     "text": [
      "CHIKBR22.parquet: 100%|██████████| 459k/459k [00:14<00:00, 32.6kB/s]\n",
      "CHIKBR23.parquet: 100%|██████████| 416k/416k [00:12<00:00, 32.9kB/s]\n"
     ]
    },
    {
     "data": {
      "application/vnd.jupyter.widget-view+json": {
       "model_id": "a87ed1c7c44a468cbf687dca712c56df",
       "version_major": 2,
       "version_minor": 0
      },
      "text/plain": [
       "FloatProgress(value=0.0, layout=Layout(width='auto'), style=ProgressStyle(bar_color='black'))"
      ]
     },
     "metadata": {},
     "output_type": "display_data"
    },
    {
     "data": {
      "application/vnd.jupyter.widget-view+json": {
       "model_id": "25f7284545504cce937f782e87f795c6",
       "version_major": 2,
       "version_minor": 0
      },
      "text/plain": [
       "FloatProgress(value=0.0, layout=Layout(width='auto'), style=ProgressStyle(bar_color='black'))"
      ]
     },
     "metadata": {},
     "output_type": "display_data"
    },
    {
     "data": {
      "application/vnd.jupyter.widget-view+json": {
       "model_id": "5e200983e1584b93a2cbba9b8bad748d",
       "version_major": 2,
       "version_minor": 0
      },
      "text/plain": [
       "FloatProgress(value=0.0, layout=Layout(width='auto'), style=ProgressStyle(bar_color='black'))"
      ]
     },
     "metadata": {},
     "output_type": "display_data"
    }
   ],
   "source": [
    "df5 = get_exams(years=[2022, 2023], disease=\"CHIK\")"
   ]
  },
  {
   "cell_type": "code",
   "execution_count": 39,
   "metadata": {},
   "outputs": [
    {
     "name": "stderr",
     "output_type": "stream",
     "text": [
      "CHIKBR22.parquet: 100%|██████████| 459k/459k [00:13<00:00, 33.1kB/s]\n",
      "CHIKBR23.parquet: 100%|██████████| 416k/416k [00:12<00:00, 32.7kB/s]\n"
     ]
    },
    {
     "data": {
      "application/vnd.jupyter.widget-view+json": {
       "model_id": "e4fbf61093c545c4b6fedf9e2f5de061",
       "version_major": 2,
       "version_minor": 0
      },
      "text/plain": [
       "FloatProgress(value=0.0, layout=Layout(width='auto'), style=ProgressStyle(bar_color='black'))"
      ]
     },
     "metadata": {},
     "output_type": "display_data"
    },
    {
     "data": {
      "application/vnd.jupyter.widget-view+json": {
       "model_id": "6637cec3b99e41538d75244e81287386",
       "version_major": 2,
       "version_minor": 0
      },
      "text/plain": [
       "FloatProgress(value=0.0, layout=Layout(width='auto'), style=ProgressStyle(bar_color='black'))"
      ]
     },
     "metadata": {},
     "output_type": "display_data"
    },
    {
     "data": {
      "application/vnd.jupyter.widget-view+json": {
       "model_id": "1f21f9a2f42c483b815bb0a80799fb2c",
       "version_major": 2,
       "version_minor": 0
      },
      "text/plain": [
       "FloatProgress(value=0.0, layout=Layout(width='auto'), style=ProgressStyle(bar_color='black'))"
      ]
     },
     "metadata": {},
     "output_type": "display_data"
    }
   ],
   "source": [
    "df6 = get_hospital_info(years=[2022, 2023], disease=\"CHIK\")"
   ]
  },
  {
   "cell_type": "code",
   "execution_count": 40,
   "metadata": {},
   "outputs": [
    {
     "name": "stderr",
     "output_type": "stream",
     "text": [
      "CHIKBR22.parquet: 100%|██████████| 459k/459k [00:14<00:00, 32.5kB/s]\n",
      "CHIKBR23.parquet: 100%|██████████| 416k/416k [00:12<00:00, 32.8kB/s]\n"
     ]
    },
    {
     "data": {
      "application/vnd.jupyter.widget-view+json": {
       "model_id": "b0e43dfabbc4403c809d0b53b3ecbf86",
       "version_major": 2,
       "version_minor": 0
      },
      "text/plain": [
       "FloatProgress(value=0.0, layout=Layout(width='auto'), style=ProgressStyle(bar_color='black'))"
      ]
     },
     "metadata": {},
     "output_type": "display_data"
    },
    {
     "data": {
      "application/vnd.jupyter.widget-view+json": {
       "model_id": "20e99e82d6654baba1332c4bf62c148a",
       "version_major": 2,
       "version_minor": 0
      },
      "text/plain": [
       "FloatProgress(value=0.0, layout=Layout(width='auto'), style=ProgressStyle(bar_color='black'))"
      ]
     },
     "metadata": {},
     "output_type": "display_data"
    },
    {
     "data": {
      "application/vnd.jupyter.widget-view+json": {
       "model_id": "3d8955f1c0e74ef78f21a23e1bc94757",
       "version_major": 2,
       "version_minor": 0
      },
      "text/plain": [
       "FloatProgress(value=0.0, layout=Layout(width='auto'), style=ProgressStyle(bar_color='black'))"
      ]
     },
     "metadata": {},
     "output_type": "display_data"
    }
   ],
   "source": [
    "df7 = get_alarm_severities(years=[2022, 2023], disease=\"CHIK\")"
   ]
  },
  {
   "cell_type": "code",
   "execution_count": 41,
   "metadata": {},
   "outputs": [
    {
     "name": "stderr",
     "output_type": "stream",
     "text": [
      "CHIKBR22.parquet: 100%|██████████| 459k/459k [00:14<00:00, 32.5kB/s]\n",
      "CHIKBR23.parquet: 100%|██████████| 416k/416k [00:12<00:00, 32.5kB/s]\n"
     ]
    },
    {
     "data": {
      "application/vnd.jupyter.widget-view+json": {
       "model_id": "0895f28ac6924448a21e4a53c3648e23",
       "version_major": 2,
       "version_minor": 0
      },
      "text/plain": [
       "FloatProgress(value=0.0, layout=Layout(width='auto'), style=ProgressStyle(bar_color='black'))"
      ]
     },
     "metadata": {},
     "output_type": "display_data"
    },
    {
     "data": {
      "application/vnd.jupyter.widget-view+json": {
       "model_id": "25e6b16949304fdab85ddfc953ecaea2",
       "version_major": 2,
       "version_minor": 0
      },
      "text/plain": [
       "FloatProgress(value=0.0, layout=Layout(width='auto'), style=ProgressStyle(bar_color='black'))"
      ]
     },
     "metadata": {},
     "output_type": "display_data"
    },
    {
     "data": {
      "application/vnd.jupyter.widget-view+json": {
       "model_id": "b16b9c47251d41fabb948755486e0de0",
       "version_major": 2,
       "version_minor": 0
      },
      "text/plain": [
       "FloatProgress(value=0.0, layout=Layout(width='auto'), style=ProgressStyle(bar_color='black'))"
      ]
     },
     "metadata": {},
     "output_type": "display_data"
    }
   ],
   "source": [
    "df8 = get_sinan_info(years=[2022, 2023], disease=\"CHIK\")"
   ]
  },
  {
   "cell_type": "code",
   "execution_count": 2,
   "metadata": {},
   "outputs": [
    {
     "ename": "ValueError",
     "evalue": "Error processing data: The following years are not available for disease ZIKA: [2002]",
     "output_type": "error",
     "traceback": [
      "\u001b[0;31m---------------------------------------------------------------------------\u001b[0m",
      "\u001b[0;31mValueError\u001b[0m                                Traceback (most recent call last)",
      "File \u001b[0;32m~/Workspace/pyzdc/pyzdc/get_info/get_info.py:109\u001b[0m, in \u001b[0;36mget_data_from_table\u001b[0;34m(table_name, years, disease, limit, verbose)\u001b[0m\n\u001b[1;32m    108\u001b[0m \u001b[38;5;28;01mif\u001b[39;00m unavailable_years:\n\u001b[0;32m--> 109\u001b[0m     \u001b[38;5;28;01mraise\u001b[39;00m \u001b[38;5;167;01mValueError\u001b[39;00m(\n\u001b[1;32m    110\u001b[0m         \u001b[38;5;124mf\u001b[39m\u001b[38;5;124m\"\u001b[39m\u001b[38;5;124mThe following years are not available for disease \u001b[39m\u001b[38;5;132;01m{\u001b[39;00mdisease\u001b[38;5;132;01m}\u001b[39;00m\u001b[38;5;124m: \u001b[39m\u001b[38;5;124m\"\u001b[39m\n\u001b[1;32m    111\u001b[0m         \u001b[38;5;124mf\u001b[39m\u001b[38;5;124m\"\u001b[39m\u001b[38;5;132;01m{\u001b[39;00munavailable_years\u001b[38;5;132;01m}\u001b[39;00m\u001b[38;5;124m\"\u001b[39m\n\u001b[1;32m    112\u001b[0m     )\n\u001b[1;32m    114\u001b[0m files \u001b[38;5;241m=\u001b[39m extractor\u001b[38;5;241m.\u001b[39mextract_parquet(disease, years)\n",
      "\u001b[0;31mValueError\u001b[0m: The following years are not available for disease ZIKA: [2002]",
      "\nThe above exception was the direct cause of the following exception:\n",
      "\u001b[0;31mValueError\u001b[0m                                Traceback (most recent call last)",
      "Cell \u001b[0;32mIn[2], line 1\u001b[0m\n\u001b[0;32m----> 1\u001b[0m df9 \u001b[38;5;241m=\u001b[39m \u001b[43mget_sinan_info\u001b[49m\u001b[43m(\u001b[49m\u001b[43myears\u001b[49m\u001b[38;5;241;43m=\u001b[39;49m\u001b[43m[\u001b[49m\u001b[38;5;241;43m2002\u001b[39;49m\u001b[43m]\u001b[49m\u001b[43m,\u001b[49m\u001b[43m \u001b[49m\u001b[43mdisease\u001b[49m\u001b[38;5;241;43m=\u001b[39;49m\u001b[38;5;124;43m\"\u001b[39;49m\u001b[38;5;124;43mZIKA\u001b[39;49m\u001b[38;5;124;43m\"\u001b[39;49m\u001b[43m)\u001b[49m\n",
      "File \u001b[0;32m~/Workspace/pyzdc/pyzdc/utils/decorators.py:10\u001b[0m, in \u001b[0;36mvalidate_verbose.<locals>.wrapper\u001b[0;34m(*args, **kwargs)\u001b[0m\n\u001b[1;32m      8\u001b[0m \u001b[38;5;28;01mif\u001b[39;00m \u001b[38;5;129;01mnot\u001b[39;00m \u001b[38;5;28misinstance\u001b[39m(verbose, \u001b[38;5;28mbool\u001b[39m):\n\u001b[1;32m      9\u001b[0m     \u001b[38;5;28;01mraise\u001b[39;00m \u001b[38;5;167;01mTypeError\u001b[39;00m(\u001b[38;5;124m\"\u001b[39m\u001b[38;5;124mThe \u001b[39m\u001b[38;5;124m'\u001b[39m\u001b[38;5;124mverbose\u001b[39m\u001b[38;5;124m'\u001b[39m\u001b[38;5;124m parameter must be a boolean (True or False)\u001b[39m\u001b[38;5;124m\"\u001b[39m)\n\u001b[0;32m---> 10\u001b[0m \u001b[38;5;28;01mreturn\u001b[39;00m \u001b[43mfunc\u001b[49m\u001b[43m(\u001b[49m\u001b[38;5;241;43m*\u001b[39;49m\u001b[43margs\u001b[49m\u001b[43m,\u001b[49m\u001b[43m \u001b[49m\u001b[38;5;241;43m*\u001b[39;49m\u001b[38;5;241;43m*\u001b[39;49m\u001b[43mkwargs\u001b[49m\u001b[43m)\u001b[49m\n",
      "File \u001b[0;32m~/Workspace/pyzdc/pyzdc/get_info/get_info.py:373\u001b[0m, in \u001b[0;36mget_sinan_info\u001b[0;34m(years, disease, limit, verbose)\u001b[0m\n\u001b[1;32m    348\u001b[0m \u001b[38;5;129m@validate_verbose\u001b[39m\n\u001b[1;32m    349\u001b[0m \u001b[38;5;28;01mdef\u001b[39;00m\u001b[38;5;250m \u001b[39m\u001b[38;5;21mget_sinan_info\u001b[39m(\n\u001b[1;32m    350\u001b[0m     years: \u001b[38;5;28mlist\u001b[39m[\u001b[38;5;28mint\u001b[39m] \u001b[38;5;241m=\u001b[39m [\u001b[38;5;241m2022\u001b[39m, \u001b[38;5;241m2023\u001b[39m],\n\u001b[0;32m   (...)\u001b[0m\n\u001b[1;32m    353\u001b[0m     verbose: \u001b[38;5;28mbool\u001b[39m \u001b[38;5;241m=\u001b[39m \u001b[38;5;28;01mFalse\u001b[39;00m,\n\u001b[1;32m    354\u001b[0m ) \u001b[38;5;241m-\u001b[39m\u001b[38;5;241m>\u001b[39m pd\u001b[38;5;241m.\u001b[39mDataFrame:\n\u001b[1;32m    355\u001b[0m \u001b[38;5;250m    \u001b[39m\u001b[38;5;124;03m\"\"\"\u001b[39;00m\n\u001b[1;32m    356\u001b[0m \u001b[38;5;124;03m    Retrieve sinal internal info for a specified disease and years.\u001b[39;00m\n\u001b[1;32m    357\u001b[0m \n\u001b[0;32m   (...)\u001b[0m\n\u001b[1;32m    371\u001b[0m \u001b[38;5;124;03m        df = get_sinan_info([2021, 2022], \"DENG\", limit=100, verbose=True)\u001b[39;00m\n\u001b[1;32m    372\u001b[0m \u001b[38;5;124;03m    \"\"\"\u001b[39;00m\n\u001b[0;32m--> 373\u001b[0m     \u001b[38;5;28;01mreturn\u001b[39;00m \u001b[43mget_data_from_table\u001b[49m\u001b[43m(\u001b[49m\u001b[38;5;124;43m\"\u001b[39;49m\u001b[38;5;124;43msinan_internal_info\u001b[39;49m\u001b[38;5;124;43m\"\u001b[39;49m\u001b[43m,\u001b[49m\u001b[43m \u001b[49m\u001b[43myears\u001b[49m\u001b[43m,\u001b[49m\u001b[43m \u001b[49m\u001b[43mdisease\u001b[49m\u001b[43m,\u001b[49m\u001b[43m \u001b[49m\u001b[43mlimit\u001b[49m\u001b[43m,\u001b[49m\u001b[43m \u001b[49m\u001b[43mverbose\u001b[49m\u001b[43m)\u001b[49m\n",
      "File \u001b[0;32m~/Workspace/pyzdc/pyzdc/utils/decorators.py:10\u001b[0m, in \u001b[0;36mvalidate_verbose.<locals>.wrapper\u001b[0;34m(*args, **kwargs)\u001b[0m\n\u001b[1;32m      8\u001b[0m \u001b[38;5;28;01mif\u001b[39;00m \u001b[38;5;129;01mnot\u001b[39;00m \u001b[38;5;28misinstance\u001b[39m(verbose, \u001b[38;5;28mbool\u001b[39m):\n\u001b[1;32m      9\u001b[0m     \u001b[38;5;28;01mraise\u001b[39;00m \u001b[38;5;167;01mTypeError\u001b[39;00m(\u001b[38;5;124m\"\u001b[39m\u001b[38;5;124mThe \u001b[39m\u001b[38;5;124m'\u001b[39m\u001b[38;5;124mverbose\u001b[39m\u001b[38;5;124m'\u001b[39m\u001b[38;5;124m parameter must be a boolean (True or False)\u001b[39m\u001b[38;5;124m\"\u001b[39m)\n\u001b[0;32m---> 10\u001b[0m \u001b[38;5;28;01mreturn\u001b[39;00m \u001b[43mfunc\u001b[49m\u001b[43m(\u001b[49m\u001b[38;5;241;43m*\u001b[39;49m\u001b[43margs\u001b[49m\u001b[43m,\u001b[49m\u001b[43m \u001b[49m\u001b[38;5;241;43m*\u001b[39;49m\u001b[38;5;241;43m*\u001b[39;49m\u001b[43mkwargs\u001b[49m\u001b[43m)\u001b[49m\n",
      "File \u001b[0;32m~/Workspace/pyzdc/pyzdc/get_info/get_info.py:144\u001b[0m, in \u001b[0;36mget_data_from_table\u001b[0;34m(table_name, years, disease, limit, verbose)\u001b[0m\n\u001b[1;32m    142\u001b[0m     \u001b[38;5;28;01mraise\u001b[39;00m\n\u001b[1;32m    143\u001b[0m \u001b[38;5;28;01mexcept\u001b[39;00m \u001b[38;5;167;01mException\u001b[39;00m \u001b[38;5;28;01mas\u001b[39;00m e:\n\u001b[0;32m--> 144\u001b[0m     \u001b[38;5;28;01mraise\u001b[39;00m \u001b[38;5;167;01mValueError\u001b[39;00m(\u001b[38;5;124mf\u001b[39m\u001b[38;5;124m\"\u001b[39m\u001b[38;5;124mError processing data: \u001b[39m\u001b[38;5;132;01m{\u001b[39;00m\u001b[38;5;28mstr\u001b[39m(e)\u001b[38;5;132;01m}\u001b[39;00m\u001b[38;5;124m\"\u001b[39m) \u001b[38;5;28;01mfrom\u001b[39;00m\u001b[38;5;250m \u001b[39m\u001b[38;5;21;01me\u001b[39;00m\n\u001b[1;32m    145\u001b[0m \u001b[38;5;28;01mfinally\u001b[39;00m:\n\u001b[1;32m    146\u001b[0m     \u001b[38;5;28;01mif\u001b[39;00m \u001b[38;5;129;01mnot\u001b[39;00m verbose:\n",
      "\u001b[0;31mValueError\u001b[0m: Error processing data: The following years are not available for disease ZIKA: [2002]"
     ]
    }
   ],
   "source": [
    "df9 = get_sinan_info(years=[2002], disease=\"ZIKA\")"
   ]
  },
  {
   "cell_type": "code",
   "execution_count": 7,
   "metadata": {},
   "outputs": [
    {
     "ename": "NameError",
     "evalue": "name 'true' is not defined",
     "output_type": "error",
     "traceback": [
      "\u001b[0;31m---------------------------------------------------------------------------\u001b[0m",
      "\u001b[0;31mNameError\u001b[0m                                 Traceback (most recent call last)",
      "Cell \u001b[0;32mIn[7], line 1\u001b[0m\n\u001b[0;32m----> 1\u001b[0m \u001b[38;5;28mtype\u001b[39m(\u001b[43mtrue\u001b[49m)\n",
      "\u001b[0;31mNameError\u001b[0m: name 'true' is not defined"
     ]
    }
   ],
   "source": [
    "type(true)"
   ]
  },
  {
   "cell_type": "code",
   "execution_count": 3,
   "metadata": {},
   "outputs": [
    {
     "ename": "ValueError",
     "evalue": "The 'verbose' parameter must be a boolean. Use True or False (case-sensitive)",
     "output_type": "error",
     "traceback": [
      "\u001b[0;31m---------------------------------------------------------------------------\u001b[0m",
      "\u001b[0;31mValueError\u001b[0m                                Traceback (most recent call last)",
      "Cell \u001b[0;32mIn[3], line 1\u001b[0m\n\u001b[0;32m----> 1\u001b[0m df10 \u001b[38;5;241m=\u001b[39m \u001b[43mget_sinan_info\u001b[49m\u001b[43m(\u001b[49m\u001b[43myears\u001b[49m\u001b[38;5;241;43m=\u001b[39;49m\u001b[43m[\u001b[49m\u001b[38;5;241;43m2002\u001b[39;49m\u001b[43m,\u001b[49m\u001b[43m \u001b[49m\u001b[38;5;241;43m2023\u001b[39;49m\u001b[43m]\u001b[49m\u001b[43m,\u001b[49m\u001b[43m \u001b[49m\u001b[43mdisease\u001b[49m\u001b[38;5;241;43m=\u001b[39;49m\u001b[38;5;124;43m\"\u001b[39;49m\u001b[38;5;124;43mCHIK\u001b[39;49m\u001b[38;5;124;43m\"\u001b[39;49m\u001b[43m,\u001b[49m\u001b[43m \u001b[49m\u001b[43mverbose\u001b[49m\u001b[38;5;241;43m=\u001b[39;49m\u001b[38;5;124;43m'\u001b[39;49m\u001b[38;5;124;43mx\u001b[39;49m\u001b[38;5;124;43m'\u001b[39;49m\u001b[43m)\u001b[49m\n",
      "File \u001b[0;32m~/Workspace/pyzdc/pyzdc/utils/decorators.py:16\u001b[0m, in \u001b[0;36mvalidate_verbose.<locals>.wrapper\u001b[0;34m(*args, **kwargs)\u001b[0m\n\u001b[1;32m     14\u001b[0m         kwargs[\u001b[38;5;124m'\u001b[39m\u001b[38;5;124mverbose\u001b[39m\u001b[38;5;124m'\u001b[39m] \u001b[38;5;241m=\u001b[39m \u001b[38;5;28;01mFalse\u001b[39;00m\n\u001b[1;32m     15\u001b[0m     \u001b[38;5;28;01melse\u001b[39;00m:\n\u001b[0;32m---> 16\u001b[0m         \u001b[38;5;28;01mraise\u001b[39;00m \u001b[38;5;167;01mValueError\u001b[39;00m(\u001b[38;5;124m\"\u001b[39m\u001b[38;5;124mThe \u001b[39m\u001b[38;5;124m'\u001b[39m\u001b[38;5;124mverbose\u001b[39m\u001b[38;5;124m'\u001b[39m\u001b[38;5;124m parameter must be a boolean. Use True or False (case-sensitive)\u001b[39m\u001b[38;5;124m\"\u001b[39m)\n\u001b[1;32m     17\u001b[0m \u001b[38;5;28;01melif\u001b[39;00m \u001b[38;5;129;01mnot\u001b[39;00m \u001b[38;5;28misinstance\u001b[39m(verbose, \u001b[38;5;28mbool\u001b[39m):\n\u001b[1;32m     18\u001b[0m     \u001b[38;5;28;01mraise\u001b[39;00m \u001b[38;5;167;01mTypeError\u001b[39;00m(\u001b[38;5;124m\"\u001b[39m\u001b[38;5;124mThe \u001b[39m\u001b[38;5;124m'\u001b[39m\u001b[38;5;124mverbose\u001b[39m\u001b[38;5;124m'\u001b[39m\u001b[38;5;124m parameter must be a boolean (True or False)\u001b[39m\u001b[38;5;124m\"\u001b[39m)\n",
      "\u001b[0;31mValueError\u001b[0m: The 'verbose' parameter must be a boolean. Use True or False (case-sensitive)"
     ]
    }
   ],
   "source": [
    "df10 = get_sinan_info(years=[2002, 2023], disease=\"CHIK\", verbose='x')"
   ]
  },
  {
   "cell_type": "code",
   "execution_count": 2,
   "metadata": {},
   "outputs": [
    {
     "ename": "NameError",
     "evalue": "name 'true' is not defined",
     "output_type": "error",
     "traceback": [
      "\u001b[0;31m---------------------------------------------------------------------------\u001b[0m",
      "\u001b[0;31mNameError\u001b[0m                                 Traceback (most recent call last)",
      "Cell \u001b[0;32mIn[2], line 1\u001b[0m\n\u001b[0;32m----> 1\u001b[0m df11 \u001b[38;5;241m=\u001b[39m get_sinan_info(years\u001b[38;5;241m=\u001b[39m[\u001b[38;5;241m2002\u001b[39m, \u001b[38;5;241m2023\u001b[39m], disease\u001b[38;5;241m=\u001b[39m\u001b[38;5;124m\"\u001b[39m\u001b[38;5;124mCHIK\u001b[39m\u001b[38;5;124m\"\u001b[39m, verbose\u001b[38;5;241m=\u001b[39m\u001b[43mtrue\u001b[49m)\n",
      "\u001b[0;31mNameError\u001b[0m: name 'true' is not defined"
     ]
    }
   ],
   "source": [
    "df11 = get_sinan_info(years=[2002, 2023], disease=\"CHIK\", verbose=true)"
   ]
  },
  {
   "cell_type": "code",
   "execution_count": 4,
   "metadata": {},
   "outputs": [
    {
     "ename": "ValueError",
     "evalue": "Error processing data: Unknown disease(s): {'GRIPE'}",
     "output_type": "error",
     "traceback": [
      "\u001b[0;31m---------------------------------------------------------------------------\u001b[0m",
      "\u001b[0;31mValueError\u001b[0m                                Traceback (most recent call last)",
      "File \u001b[0;32m~/Workspace/pyzdc/pyzdc/get_info/get_info.py:103\u001b[0m, in \u001b[0;36mget_data_from_table\u001b[0;34m(table_name, years, disease, limit, verbose)\u001b[0m\n\u001b[1;32m    100\u001b[0m sinan \u001b[38;5;241m=\u001b[39m SINAN()\u001b[38;5;241m.\u001b[39mload()\n\u001b[1;32m    101\u001b[0m available_years \u001b[38;5;241m=\u001b[39m \u001b[38;5;28msorted\u001b[39m(\n\u001b[1;32m    102\u001b[0m     \u001b[38;5;28mint\u001b[39m(match\u001b[38;5;241m.\u001b[39mgroup(\u001b[38;5;241m1\u001b[39m)) \u001b[38;5;241m+\u001b[39m \u001b[38;5;241m2000\u001b[39m\n\u001b[0;32m--> 103\u001b[0m     \u001b[38;5;28;01mfor\u001b[39;00m file \u001b[38;5;129;01min\u001b[39;00m \u001b[43msinan\u001b[49m\u001b[38;5;241;43m.\u001b[39;49m\u001b[43mget_files\u001b[49m\u001b[43m(\u001b[49m\u001b[43mdis_code\u001b[49m\u001b[38;5;241;43m=\u001b[39;49m\u001b[43m[\u001b[49m\u001b[43mdisease\u001b[49m\u001b[43m]\u001b[49m\u001b[43m)\u001b[49m\n\u001b[1;32m    104\u001b[0m     \u001b[38;5;28;01mif\u001b[39;00m (match \u001b[38;5;241m:=\u001b[39m re\u001b[38;5;241m.\u001b[39msearch(\u001b[38;5;124mr\u001b[39m\u001b[38;5;124m\"\u001b[39m\u001b[38;5;124mBR(\u001b[39m\u001b[38;5;124m\\\u001b[39m\u001b[38;5;124md\u001b[39m\u001b[38;5;132;01m{2}\u001b[39;00m\u001b[38;5;124m)\u001b[39m\u001b[38;5;124m\"\u001b[39m, \u001b[38;5;28mstr\u001b[39m(file)))\n\u001b[1;32m    105\u001b[0m )\n\u001b[1;32m    107\u001b[0m unavailable_years \u001b[38;5;241m=\u001b[39m [year \u001b[38;5;28;01mfor\u001b[39;00m year \u001b[38;5;129;01min\u001b[39;00m years \u001b[38;5;28;01mif\u001b[39;00m year \u001b[38;5;129;01mnot\u001b[39;00m \u001b[38;5;129;01min\u001b[39;00m available_years]\n",
      "File \u001b[0;32m~/Workspace/pyzdc/.venv/lib/python3.12/site-packages/pysus/ftp/databases/sinan.py:134\u001b[0m, in \u001b[0;36mSINAN.get_files\u001b[0;34m(self, dis_code, year)\u001b[0m\n\u001b[1;32m    133\u001b[0m \u001b[38;5;28;01mif\u001b[39;00m codes \u001b[38;5;129;01mand\u001b[39;00m \u001b[38;5;129;01mnot\u001b[39;00m \u001b[38;5;28mall\u001b[39m(code \u001b[38;5;129;01min\u001b[39;00m \u001b[38;5;28mself\u001b[39m\u001b[38;5;241m.\u001b[39mdiseases \u001b[38;5;28;01mfor\u001b[39;00m code \u001b[38;5;129;01min\u001b[39;00m codes):\n\u001b[0;32m--> 134\u001b[0m     \u001b[38;5;28;01mraise\u001b[39;00m \u001b[38;5;167;01mValueError\u001b[39;00m(\n\u001b[1;32m    135\u001b[0m         \u001b[38;5;124m\"\u001b[39m\u001b[38;5;124mUnknown disease(s): \u001b[39m\u001b[38;5;124m\"\u001b[39m\n\u001b[1;32m    136\u001b[0m         \u001b[38;5;124mf\u001b[39m\u001b[38;5;124m\"\u001b[39m\u001b[38;5;132;01m{\u001b[39;00m\u001b[38;5;28mset\u001b[39m(codes)\u001b[38;5;241m.\u001b[39mdifference(\u001b[38;5;28mset\u001b[39m(\u001b[38;5;28mself\u001b[39m\u001b[38;5;241m.\u001b[39mdiseases))\u001b[38;5;132;01m}\u001b[39;00m\u001b[38;5;124m\"\u001b[39m\n\u001b[1;32m    137\u001b[0m     )\n\u001b[1;32m    139\u001b[0m files \u001b[38;5;241m=\u001b[39m \u001b[38;5;28mlist\u001b[39m(\u001b[38;5;28mfilter\u001b[39m(\u001b[38;5;28;01mlambda\u001b[39;00m f: \u001b[38;5;28mself\u001b[39m\u001b[38;5;241m.\u001b[39mformat(f)[\u001b[38;5;241m0\u001b[39m] \u001b[38;5;129;01min\u001b[39;00m codes, files))\n",
      "\u001b[0;31mValueError\u001b[0m: Unknown disease(s): {'GRIPE'}",
      "\nThe above exception was the direct cause of the following exception:\n",
      "\u001b[0;31mValueError\u001b[0m                                Traceback (most recent call last)",
      "Cell \u001b[0;32mIn[4], line 1\u001b[0m\n\u001b[0;32m----> 1\u001b[0m df11 \u001b[38;5;241m=\u001b[39m \u001b[43mget_sinan_info\u001b[49m\u001b[43m(\u001b[49m\u001b[43myears\u001b[49m\u001b[38;5;241;43m=\u001b[39;49m\u001b[43m[\u001b[49m\u001b[38;5;241;43m2022\u001b[39;49m\u001b[43m,\u001b[49m\u001b[43m \u001b[49m\u001b[38;5;241;43m2023\u001b[39;49m\u001b[43m]\u001b[49m\u001b[43m,\u001b[49m\u001b[43m \u001b[49m\u001b[43mdisease\u001b[49m\u001b[38;5;241;43m=\u001b[39;49m\u001b[38;5;124;43m\"\u001b[39;49m\u001b[38;5;124;43mGRIPE\u001b[39;49m\u001b[38;5;124;43m\"\u001b[39;49m\u001b[43m)\u001b[49m\n",
      "File \u001b[0;32m~/Workspace/pyzdc/pyzdc/utils/decorators.py:19\u001b[0m, in \u001b[0;36mvalidate_verbose.<locals>.wrapper\u001b[0;34m(*args, **kwargs)\u001b[0m\n\u001b[1;32m     17\u001b[0m         \u001b[38;5;28;01melif\u001b[39;00m \u001b[38;5;129;01mnot\u001b[39;00m \u001b[38;5;28misinstance\u001b[39m(verbose, \u001b[38;5;28mbool\u001b[39m):\n\u001b[1;32m     18\u001b[0m             \u001b[38;5;28;01mraise\u001b[39;00m \u001b[38;5;167;01mTypeError\u001b[39;00m(\u001b[38;5;124m\"\u001b[39m\u001b[38;5;124mThe \u001b[39m\u001b[38;5;124m'\u001b[39m\u001b[38;5;124mverbose\u001b[39m\u001b[38;5;124m'\u001b[39m\u001b[38;5;124m parameter must be a boolean (True or False)\u001b[39m\u001b[38;5;124m\"\u001b[39m)\n\u001b[0;32m---> 19\u001b[0m     \u001b[38;5;28;01mreturn\u001b[39;00m \u001b[43mfunc\u001b[49m\u001b[43m(\u001b[49m\u001b[38;5;241;43m*\u001b[39;49m\u001b[43margs\u001b[49m\u001b[43m,\u001b[49m\u001b[43m \u001b[49m\u001b[38;5;241;43m*\u001b[39;49m\u001b[38;5;241;43m*\u001b[39;49m\u001b[43mkwargs\u001b[49m\u001b[43m)\u001b[49m\n\u001b[1;32m     20\u001b[0m \u001b[38;5;28;01mexcept\u001b[39;00m \u001b[38;5;167;01mNameError\u001b[39;00m \u001b[38;5;28;01mas\u001b[39;00m e:\n\u001b[1;32m     21\u001b[0m     var_name \u001b[38;5;241m=\u001b[39m \u001b[38;5;28mstr\u001b[39m(e)\u001b[38;5;241m.\u001b[39msplit(\u001b[38;5;124m\"\u001b[39m\u001b[38;5;124m'\u001b[39m\u001b[38;5;124m\"\u001b[39m)[\u001b[38;5;241m1\u001b[39m]\n",
      "File \u001b[0;32m~/Workspace/pyzdc/pyzdc/get_info/get_info.py:373\u001b[0m, in \u001b[0;36mget_sinan_info\u001b[0;34m(years, disease, limit, verbose)\u001b[0m\n\u001b[1;32m    348\u001b[0m \u001b[38;5;129m@validate_verbose\u001b[39m\n\u001b[1;32m    349\u001b[0m \u001b[38;5;28;01mdef\u001b[39;00m\u001b[38;5;250m \u001b[39m\u001b[38;5;21mget_sinan_info\u001b[39m(\n\u001b[1;32m    350\u001b[0m     years: \u001b[38;5;28mlist\u001b[39m[\u001b[38;5;28mint\u001b[39m] \u001b[38;5;241m=\u001b[39m [\u001b[38;5;241m2022\u001b[39m, \u001b[38;5;241m2023\u001b[39m],\n\u001b[0;32m   (...)\u001b[0m\n\u001b[1;32m    353\u001b[0m     verbose: \u001b[38;5;28mbool\u001b[39m \u001b[38;5;241m=\u001b[39m \u001b[38;5;28;01mFalse\u001b[39;00m,\n\u001b[1;32m    354\u001b[0m ) \u001b[38;5;241m-\u001b[39m\u001b[38;5;241m>\u001b[39m pd\u001b[38;5;241m.\u001b[39mDataFrame:\n\u001b[1;32m    355\u001b[0m \u001b[38;5;250m    \u001b[39m\u001b[38;5;124;03m\"\"\"\u001b[39;00m\n\u001b[1;32m    356\u001b[0m \u001b[38;5;124;03m    Retrieve sinal internal info for a specified disease and years.\u001b[39;00m\n\u001b[1;32m    357\u001b[0m \n\u001b[0;32m   (...)\u001b[0m\n\u001b[1;32m    371\u001b[0m \u001b[38;5;124;03m        df = get_sinan_info([2021, 2022], \"DENG\", limit=100, verbose=True)\u001b[39;00m\n\u001b[1;32m    372\u001b[0m \u001b[38;5;124;03m    \"\"\"\u001b[39;00m\n\u001b[0;32m--> 373\u001b[0m     \u001b[38;5;28;01mreturn\u001b[39;00m \u001b[43mget_data_from_table\u001b[49m\u001b[43m(\u001b[49m\u001b[38;5;124;43m\"\u001b[39;49m\u001b[38;5;124;43msinan_internal_info\u001b[39;49m\u001b[38;5;124;43m\"\u001b[39;49m\u001b[43m,\u001b[49m\u001b[43m \u001b[49m\u001b[43myears\u001b[49m\u001b[43m,\u001b[49m\u001b[43m \u001b[49m\u001b[43mdisease\u001b[49m\u001b[43m,\u001b[49m\u001b[43m \u001b[49m\u001b[43mlimit\u001b[49m\u001b[43m,\u001b[49m\u001b[43m \u001b[49m\u001b[43mverbose\u001b[49m\u001b[43m)\u001b[49m\n",
      "File \u001b[0;32m~/Workspace/pyzdc/pyzdc/utils/decorators.py:19\u001b[0m, in \u001b[0;36mvalidate_verbose.<locals>.wrapper\u001b[0;34m(*args, **kwargs)\u001b[0m\n\u001b[1;32m     17\u001b[0m         \u001b[38;5;28;01melif\u001b[39;00m \u001b[38;5;129;01mnot\u001b[39;00m \u001b[38;5;28misinstance\u001b[39m(verbose, \u001b[38;5;28mbool\u001b[39m):\n\u001b[1;32m     18\u001b[0m             \u001b[38;5;28;01mraise\u001b[39;00m \u001b[38;5;167;01mTypeError\u001b[39;00m(\u001b[38;5;124m\"\u001b[39m\u001b[38;5;124mThe \u001b[39m\u001b[38;5;124m'\u001b[39m\u001b[38;5;124mverbose\u001b[39m\u001b[38;5;124m'\u001b[39m\u001b[38;5;124m parameter must be a boolean (True or False)\u001b[39m\u001b[38;5;124m\"\u001b[39m)\n\u001b[0;32m---> 19\u001b[0m     \u001b[38;5;28;01mreturn\u001b[39;00m \u001b[43mfunc\u001b[49m\u001b[43m(\u001b[49m\u001b[38;5;241;43m*\u001b[39;49m\u001b[43margs\u001b[49m\u001b[43m,\u001b[49m\u001b[43m \u001b[49m\u001b[38;5;241;43m*\u001b[39;49m\u001b[38;5;241;43m*\u001b[39;49m\u001b[43mkwargs\u001b[49m\u001b[43m)\u001b[49m\n\u001b[1;32m     20\u001b[0m \u001b[38;5;28;01mexcept\u001b[39;00m \u001b[38;5;167;01mNameError\u001b[39;00m \u001b[38;5;28;01mas\u001b[39;00m e:\n\u001b[1;32m     21\u001b[0m     var_name \u001b[38;5;241m=\u001b[39m \u001b[38;5;28mstr\u001b[39m(e)\u001b[38;5;241m.\u001b[39msplit(\u001b[38;5;124m\"\u001b[39m\u001b[38;5;124m'\u001b[39m\u001b[38;5;124m\"\u001b[39m)[\u001b[38;5;241m1\u001b[39m]\n",
      "File \u001b[0;32m~/Workspace/pyzdc/pyzdc/get_info/get_info.py:144\u001b[0m, in \u001b[0;36mget_data_from_table\u001b[0;34m(table_name, years, disease, limit, verbose)\u001b[0m\n\u001b[1;32m    142\u001b[0m     \u001b[38;5;28;01mraise\u001b[39;00m\n\u001b[1;32m    143\u001b[0m \u001b[38;5;28;01mexcept\u001b[39;00m \u001b[38;5;167;01mException\u001b[39;00m \u001b[38;5;28;01mas\u001b[39;00m e:\n\u001b[0;32m--> 144\u001b[0m     \u001b[38;5;28;01mraise\u001b[39;00m \u001b[38;5;167;01mValueError\u001b[39;00m(\u001b[38;5;124mf\u001b[39m\u001b[38;5;124m\"\u001b[39m\u001b[38;5;124mError processing data: \u001b[39m\u001b[38;5;132;01m{\u001b[39;00m\u001b[38;5;28mstr\u001b[39m(e)\u001b[38;5;132;01m}\u001b[39;00m\u001b[38;5;124m\"\u001b[39m) \u001b[38;5;28;01mfrom\u001b[39;00m\u001b[38;5;250m \u001b[39m\u001b[38;5;21;01me\u001b[39;00m\n\u001b[1;32m    145\u001b[0m \u001b[38;5;28;01mfinally\u001b[39;00m:\n\u001b[1;32m    146\u001b[0m     \u001b[38;5;28;01mif\u001b[39;00m \u001b[38;5;129;01mnot\u001b[39;00m verbose:\n",
      "\u001b[0;31mValueError\u001b[0m: Error processing data: Unknown disease(s): {'GRIPE'}"
     ]
    }
   ],
   "source": [
    "df11 = get_sinan_info(years=[2022, 2023], disease=\"GRIPE\")"
   ]
  },
  {
   "cell_type": "code",
   "execution_count": null,
   "metadata": {},
   "outputs": [],
   "source": [
    "df12 = get_sinan_info(years=[2002, 2023], disease=\"GRIPE\", verbose=y)"
   ]
  },
  {
   "cell_type": "code",
   "execution_count": null,
   "metadata": {},
   "outputs": [],
   "source": [
    "df13 = get_sinan_info(years=[2017], disease=\"ZIKA\")"
   ]
  },
  {
   "cell_type": "code",
   "execution_count": null,
   "metadata": {},
   "outputs": [],
   "source": []
  }
 ],
 "metadata": {
  "kernelspec": {
   "display_name": ".venv",
   "language": "python",
   "name": "python3"
  },
  "language_info": {
   "codemirror_mode": {
    "name": "ipython",
    "version": 3
   },
   "file_extension": ".py",
   "mimetype": "text/x-python",
   "name": "python",
   "nbconvert_exporter": "python",
   "pygments_lexer": "ipython3",
   "version": "3.12.7"
  }
 },
 "nbformat": 4,
 "nbformat_minor": 2
}
